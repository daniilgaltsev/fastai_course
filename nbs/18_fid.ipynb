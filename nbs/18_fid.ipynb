{
 "cells": [
  {
   "cell_type": "code",
   "execution_count": null,
   "id": "1d1de423-b515-45d6-9bfc-c883718f5d24",
   "metadata": {},
   "outputs": [],
   "source": [
    "#| default_exp fid"
   ]
  },
  {
   "cell_type": "markdown",
   "id": "085c6533-8088-44eb-84a1-e786f520bcae",
   "metadata": {},
   "source": [
    "# FID"
   ]
  },
  {
   "cell_type": "code",
   "execution_count": null,
   "id": "f05be868-c553-468f-8078-661916545a3e",
   "metadata": {},
   "outputs": [],
   "source": [
    "#| export\n",
    "import pickle,gzip,math,os,time,shutil,torch,random,logging\n",
    "import fastcore.all as fc,matplotlib as mpl,numpy as np,matplotlib.pyplot as plt\n",
    "from collections.abc import Mapping\n",
    "from pathlib import Path\n",
    "from operator import attrgetter,itemgetter\n",
    "from functools import partial\n",
    "from copy import copy\n",
    "from contextlib import contextmanager\n",
    "\n",
    "from diffusers import UNet2DModel\n",
    "from fastcore.foundation import L\n",
    "import torchvision.transforms.functional as TF,torch.nn.functional as F\n",
    "from torch import tensor,nn,optim\n",
    "from torch.utils.data import DataLoader,default_collate\n",
    "from torch.nn import init\n",
    "from torch.optim import lr_scheduler\n",
    "from torcheval.metrics import MulticlassAccuracy\n",
    "from datasets import load_dataset,load_dataset_builder\n",
    "\n",
    "from miniai.datasets import *\n",
    "from miniai.conv import *\n",
    "from miniai.learner import *\n",
    "from miniai.activations import *\n",
    "from miniai.init import *\n",
    "from miniai.sgd import *\n",
    "from miniai.resnet import *\n",
    "from miniai.augment import *\n",
    "from miniai.accel import *"
   ]
  },
  {
   "cell_type": "code",
   "execution_count": null,
   "id": "64cd60c1-8d34-4b3a-ac06-e6e1993f7578",
   "metadata": {},
   "outputs": [],
   "source": [
    "mpl.rcParams['image.cmap'] = 'gray'\n",
    "logging.disable(logging.WARNING)"
   ]
  },
  {
   "cell_type": "code",
   "execution_count": null,
   "id": "6bdbd3f9-408b-4c49-9d81-16fb56b8ec6f",
   "metadata": {},
   "outputs": [],
   "source": [
    "set_seed(1103, False)"
   ]
  },
  {
   "cell_type": "markdown",
   "id": "74a02084-c18e-4798-8ac1-b228a2195b21",
   "metadata": {},
   "source": [
    "## Classifier"
   ]
  },
  {
   "cell_type": "code",
   "execution_count": null,
   "id": "2228abe9-70a7-4ca2-bec5-f3d9dc10206e",
   "metadata": {},
   "outputs": [],
   "source": [
    "fm_x, fm_y = \"image\", \"label\"\n",
    "name = \"fashion_mnist\"\n",
    "ds = load_dataset(name)"
   ]
  },
  {
   "cell_type": "code",
   "execution_count": null,
   "id": "83d0702e-e28a-49bd-a3a4-3883455eb057",
   "metadata": {},
   "outputs": [
    {
     "name": "stdout",
     "output_type": "stream",
     "text": [
      "torch.Size([1, 32, 32])\n"
     ]
    },
    {
     "data": {
      "image/png": "[encoded data removed]",
      "text/plain": [
       "<Figure size 300x300 with 1 Axes>"
      ]
     },
     "metadata": {},
     "output_type": "display_data"
    }
   ],
   "source": [
    "img = ds[\"train\"][0][fm_x]\n",
    "img = TF.pad(TF.to_tensor(img), padding=2, fill=0, padding_mode=\"constant\")\n",
    "print(img.shape)\n",
    "show_image(img, figsize=(3,3));"
   ]
  },
  {
   "cell_type": "code",
   "execution_count": null,
   "id": "c64e0a52-dac8-472a-89db-fe233c661679",
   "metadata": {},
   "outputs": [],
   "source": [
    "@inplace\n",
    "def transformi(b):\n",
    "    b[\"image\"] = [TF.pad(TF.to_tensor(i), padding=2, fill=0, padding_mode=\"constant\") * 2 - 1 for i in b[\"image\"]]\n",
    "dst = ds.with_transform(transformi)\n",
    "\n",
    "bs = 64\n",
    "dls = DataLoaders.from_dd(dst, bs)\n",
    "xb, yb = next(iter(dls.train))"
   ]
  },
  {
   "cell_type": "code",
   "execution_count": null,
   "id": "9d76b275-0dc7-4420-a2b4-080ff830e900",
   "metadata": {},
   "outputs": [
    {
     "data": {
      "text/plain": [
       "()"
      ]
     },
     "execution_count": null,
     "metadata": {},
     "output_type": "execute_result"
    }
   ],
   "source": [
    "a = ()\n",
    "a"
   ]
  },
  {
   "cell_type": "code",
   "execution_count": null,
   "id": "70f1b99b-9a12-4d3a-8285-c4e2f542ad4f",
   "metadata": {},
   "outputs": [
    {
     "data": {
      "text/plain": [
       "(1,)"
      ]
     },
     "execution_count": null,
     "metadata": {},
     "output_type": "execute_result"
    }
   ],
   "source": [
    "a += (1,)\n",
    "a"
   ]
  },
  {
   "cell_type": "code",
   "execution_count": null,
   "id": "02ce619b-2804-44c5-8625-57d58fa463bb",
   "metadata": {},
   "outputs": [],
   "source": [
    "#| export\n",
    "@fc.patch\n",
    "def capture_preds(self: Learner, inputs=False, preds=True, targets=True, to_tensor=True):\n",
    "    cp = CapturePreds()\n",
    "    self.fit(1, train=False, cbs=[cp])\n",
    "    result = ()\n",
    "    if inputs:\n",
    "        result += (cp.captured_inps,)\n",
    "    if preds:\n",
    "        result += (cp.captured_preds,)\n",
    "    if targets:\n",
    "        result += (cp.captured_targets,)\n",
    "    del cp\n",
    "    if to_tensor:\n",
    "        result = list(map(torch.cat, result))\n",
    "    return result\n",
    "        "
   ]
  },
  {
   "cell_type": "code",
   "execution_count": null,
   "id": "e33b76ee-240a-42f9-a201-586721ebfb66",
   "metadata": {},
   "outputs": [],
   "source": [
    "model = torch.load('models/14_aug_for_fid.pkl')\n",
    "learn = TrainLearner(model, dls, F.cross_entropy, cbs=[DeviceCB()], opt_func=None)"
   ]
  },
  {
   "cell_type": "code",
   "execution_count": null,
   "id": "3279b3eb-0d88-452b-baaa-2bfd29850a47",
   "metadata": {},
   "outputs": [],
   "source": [
    "def append_outp(hook, mod, inp, outp):\n",
    "    if not hasattr(hook, \"out\"):\n",
    "        hook.out = []\n",
    "    hook.out.append(to_cpu(outp))"
   ]
  },
  {
   "cell_type": "code",
   "execution_count": null,
   "id": "e15811a6-7db8-47f4-bd74-b68fcec16a1a",
   "metadata": {},
   "outputs": [
    {
     "data": {
      "text/plain": [
       "Sequential(\n",
       "  (8): BatchNorm1d(10, eps=1e-05, momentum=0.1, affine=True, track_running_stats=True)\n",
       "  (7): Linear(in_features=512, out_features=10, bias=True)\n",
       "  (6): Flatten(start_dim=1, end_dim=-1)\n",
       "  (5): ResBlock(\n",
       "    (convs): Sequential(\n",
       "      (0): Sequential(\n",
       "        (0): Conv2d(256, 512, kernel_size=(3, 3), stride=(2, 2), padding=(1, 1))\n",
       "        (1): GeneralReLU()\n",
       "        (2): BatchNorm2d(512, eps=1e-05, momentum=0.1, affine=True, track_running_stats=True)\n",
       "      )\n",
       "      (1): Sequential(\n",
       "        (0): Conv2d(512, 512, kernel_size=(3, 3), stride=(1, 1), padding=(1, 1))\n",
       "        (1): BatchNorm2d(512, eps=1e-05, momentum=0.1, affine=True, track_running_stats=True)\n",
       "      )\n",
       "    )\n",
       "    (act): GeneralReLU()\n",
       "    (pool): AvgPool2d(kernel_size=2, stride=2, padding=0)\n",
       "    (id_conv): Sequential(\n",
       "      (0): Conv2d(256, 512, kernel_size=(1, 1), stride=(1, 1))\n",
       "    )\n",
       "  )\n",
       "  (4): ResBlock(\n",
       "    (convs): Sequential(\n",
       "      (0): Sequential(\n",
       "        (0): Conv2d(128, 256, kernel_size=(3, 3), stride=(2, 2), padding=(1, 1))\n",
       "        (1): GeneralReLU()\n",
       "        (2): BatchNorm2d(256, eps=1e-05, momentum=0.1, affine=True, track_running_stats=True)\n",
       "      )\n",
       "      (1): Sequential(\n",
       "        (0): Conv2d(256, 256, kernel_size=(3, 3), stride=(1, 1), padding=(1, 1))\n",
       "        (1): BatchNorm2d(256, eps=1e-05, momentum=0.1, affine=True, track_running_stats=True)\n",
       "      )\n",
       "    )\n",
       "    (act): GeneralReLU()\n",
       "    (pool): AvgPool2d(kernel_size=2, stride=2, padding=0)\n",
       "    (id_conv): Sequential(\n",
       "      (0): Conv2d(128, 256, kernel_size=(1, 1), stride=(1, 1))\n",
       "    )\n",
       "  )\n",
       ")"
      ]
     },
     "execution_count": null,
     "metadata": {},
     "output_type": "execute_result"
    }
   ],
   "source": [
    "model[:-6:-1]"
   ]
  },
  {
   "cell_type": "code",
   "execution_count": null,
   "id": "5790c466-34d4-4e19-ae6b-d32f868a8da4",
   "metadata": {},
   "outputs": [
    {
     "data": {
      "text/plain": [
       "Flatten(start_dim=1, end_dim=-1)"
      ]
     },
     "execution_count": null,
     "metadata": {},
     "output_type": "execute_result"
    }
   ],
   "source": [
    "model[6]"
   ]
  },
  {
   "cell_type": "code",
   "execution_count": null,
   "id": "7e819577-1e61-4eaa-b28b-76a7240e2a0e",
   "metadata": {},
   "outputs": [],
   "source": [
    "out_hook = HooksCallback(append_outp, lambda x: x == model[6])"
   ]
  },
  {
   "cell_type": "code",
   "execution_count": null,
   "id": "5e3f2a03-5d0d-42cd-8ced-6c970c131637",
   "metadata": {},
   "outputs": [],
   "source": [
    "learn.fit(1, train=False, cbs=[out_hook])"
   ]
  },
  {
   "cell_type": "code",
   "execution_count": null,
   "id": "2fe0b287-5401-4a0b-8840-aa76ab4d3a61",
   "metadata": {},
   "outputs": [
    {
     "data": {
      "text/plain": [
       "(torch.Size([64, 512]), torch.Size([64, 512]), torch.Size([16, 512]))"
      ]
     },
     "execution_count": null,
     "metadata": {},
     "output_type": "execute_result"
    }
   ],
   "source": [
    "out_hook.hooks[0].out[0].shape, out_hook.hooks[0].out[2].shape, out_hook.hooks[0].out[-1].shape"
   ]
  },
  {
   "cell_type": "code",
   "execution_count": null,
   "id": "5b9facd6-adb4-47e6-8226-7f99970bcbfe",
   "metadata": {},
   "outputs": [],
   "source": [
    "del model[8]\n",
    "del model[7]"
   ]
  },
  {
   "cell_type": "code",
   "execution_count": null,
   "id": "47868e04-a5e1-4fb2-abd2-9c55bc5f5172",
   "metadata": {},
   "outputs": [
    {
     "data": {
      "text/plain": [
       "(torch.Size([10000, 512]), torch.Size([10000]))"
      ]
     },
     "execution_count": null,
     "metadata": {},
     "output_type": "execute_result"
    }
   ],
   "source": [
    "preds, targets = learn.capture_preds()\n",
    "preds.shape, targets.shape"
   ]
  },
  {
   "cell_type": "markdown",
   "id": "d79756fd-d0ed-4d74-882c-5aafe020018d",
   "metadata": {},
   "source": [
    "## Calc FID"
   ]
  },
  {
   "cell_type": "code",
   "execution_count": null,
   "id": "c195b41a-04c3-49e4-b910-4448d94b8330",
   "metadata": {},
   "outputs": [],
   "source": [
    "class Schedule:\n",
    "    def __init__(self, alphas, betas, alphas_bar, sigmas, n_steps):\n",
    "        fc.store_attr()\n",
    "\n",
    "def linear_sched(beta_min=0.0001, beta_max=0.02, n_steps=1000):\n",
    "    betas = torch.linspace(beta_min, beta_max, n_steps)\n",
    "    alphas = 1 - betas\n",
    "    alphas_bar = torch.cumprod(alphas, 0)\n",
    "    sigmas = betas.sqrt()\n",
    "    return Schedule(alphas, betas, alphas_bar, sigmas, n_steps)\n",
    "\n",
    "schedule = linear_sched()\n",
    "\n",
    "def add_noise(x, schedule=schedule):\n",
    "    device = x.device\n",
    "    bs = x.shape[0]\n",
    "\n",
    "    t = torch.randint(0, schedule.n_steps, (bs,), dtype=torch.int64)\n",
    "    alpha_bar_t = schedule.alphas_bar[t][:, None, None, None].to(device)\n",
    "    \n",
    "    original_part = alpha_bar_t.sqrt() * x\n",
    "    epsilon = torch.randn(x.shape, device=device)\n",
    "    noise_part = (1 - alpha_bar_t).sqrt() * epsilon\n",
    "\n",
    "    xt = original_part + noise_part\n",
    "    return (xt, t.to(device)), epsilon\n",
    "\n",
    "def get_collate_ddpm(schedule=schedule):\n",
    "    def _collate_ddpm(b):\n",
    "        return add_noise(default_collate(b)[fm_x], schedule)\n",
    "    return _collate_ddpm\n",
    "\n",
    "collate_ddpm = get_collate_ddpm(schedule)\n",
    "\n",
    "def dl_ddpm(ds):\n",
    "    return DataLoader(ds, batch_size=bs*2, collate_fn=collate_ddpm, num_workers=4)\n",
    "\n",
    "def sample(model, sz, schedule=schedule):\n",
    "    device = next(model.parameters()).device\n",
    "    with torch.no_grad():\n",
    "        x = torch.randn(sz, device=device)\n",
    "        bs = x.shape[0]\n",
    "        process = []\n",
    "\n",
    "        for t in reversed(range(schedule.n_steps)):\n",
    "            t_batch = torch.full((bs,), t, dtype=torch.int64)\n",
    "\n",
    "            # Repametrized equation (4)\n",
    "            noise_pred = model((x, t_batch.to(device)))\n",
    "            alpha_bar_t = schedule.alphas_bar[t]\n",
    "            x0_est = (x - (1 - alpha_bar_t).sqrt() * noise_pred) * (1 / alpha_bar_t.sqrt())\n",
    "            x0_est = x0_est.clamp(0, 1)\n",
    "\n",
    "            # Equations (7) and (8)\n",
    "            alpha_bar_t_minus_1 = torch.tensor(1) if t == 0 else schedule.alphas_bar[t - 1]\n",
    "            x0_coef = alpha_bar_t_minus_1.sqrt() * schedule.betas[t] / (1 - alpha_bar_t)\n",
    "            xt_coef = schedule.alphas[t].sqrt() * (1 - alpha_bar_t_minus_1) / (1 - alpha_bar_t)\n",
    "            noise_sample = torch.zeros(x.shape, device=device) if t == 0 else torch.randn(x.shape, device=device)\n",
    "            x = x0_coef * x0_est + x * xt_coef + schedule.sigmas[t] * noise_sample\n",
    "\n",
    "            process.append(to_cpu(x))\n",
    "\n",
    "    return process\n",
    "\n",
    "class UNet(UNet2DModel):\n",
    "    def forward(self, x):\n",
    "        return super().forward(*x).sample"
   ]
  },
  {
   "cell_type": "code",
   "execution_count": null,
   "id": "7e02aaf3-4228-496a-93cb-565fa3fb65ee",
   "metadata": {},
   "outputs": [],
   "source": [
    "dls_fid = DataLoaders(dl_ddpm(dst[\"train\"]), dl_ddpm(dst[\"test\"]))"
   ]
  },
  {
   "cell_type": "code",
   "execution_count": null,
   "id": "46ef2494-bddf-490c-b285-0c5d3a917c2c",
   "metadata": {},
   "outputs": [],
   "source": [
    "diff_model = torch.load(\"models/17_ddpm_v2.pkl\").to(def_device)"
   ]
  },
  {
   "cell_type": "code",
   "execution_count": null,
   "id": "b45f09af-63f9-4c0c-b8df-0b40b29f6bde",
   "metadata": {},
   "outputs": [
    {
     "name": "stdout",
     "output_type": "stream",
     "text": [
      "CPU times: user 2min 3s, sys: 531 ms, total: 2min 3s\n",
      "Wall time: 2min 3s\n"
     ]
    }
   ],
   "source": [
    "set_seed(1103, False)\n",
    "%time samples = sample(diff_model, (bs, 1, 32, 32))"
   ]
  },
  {
   "cell_type": "code",
   "execution_count": null,
   "id": "19bf936a-1a1c-4e9f-a6dc-383878515acf",
   "metadata": {},
   "outputs": [
    {
     "data": {
      "text/plain": [
       "(tensor(0.), tensor(0.9998))"
      ]
     },
     "execution_count": null,
     "metadata": {},
     "output_type": "execute_result"
    }
   ],
   "source": [
    "samples[-1].min(), samples[-1].max()"
   ]
  },
  {
   "cell_type": "code",
   "execution_count": null,
   "id": "527d3722-9c6f-40ca-a5f3-c565cdc7ddd6",
   "metadata": {},
   "outputs": [],
   "source": [
    "final = samples[-1] * 2 - 1"
   ]
  },
  {
   "cell_type": "code",
   "execution_count": null,
   "id": "3a87ec6b-7f84-48b9-b0a0-b094c03904c4",
   "metadata": {},
   "outputs": [
    {
     "data": {
      "image/png": "[encoded data removed]",
      "text/plain": [
       "<Figure size 400x400 with 16 Axes>"
      ]
     },
     "metadata": {},
     "output_type": "display_data"
    }
   ],
   "source": [
    "show_images(final[:16], imsize=1);"
   ]
  },
  {
   "cell_type": "code",
   "execution_count": null,
   "id": "2fe539c6-6339-4711-b2ac-71dd622adc25",
   "metadata": {},
   "outputs": [
    {
     "data": {
      "text/plain": [
       "torch.Size([64, 512])"
      ]
     },
     "execution_count": null,
     "metadata": {},
     "output_type": "execute_result"
    }
   ],
   "source": [
    "diff_learn = TrainLearner(model, DataLoaders([], [(final,yb)]), F.cross_entropy, cbs=[DeviceCB()], opt_func=None)\n",
    "fid_preds, fid_targets = diff_learn.capture_preds()\n",
    "fid_preds.shape"
   ]
  },
  {
   "cell_type": "code",
   "execution_count": null,
   "id": "d7949bd4-5ecd-4e5b-912d-38f9bf0baaad",
   "metadata": {},
   "outputs": [
    {
     "data": {
      "text/plain": [
       "(torch.Size([64, 64]), torch.Size([512]))"
      ]
     },
     "execution_count": null,
     "metadata": {},
     "output_type": "execute_result"
    }
   ],
   "source": [
    "fid_preds.cov().shape, fid_preds.mean(0).shape"
   ]
  },
  {
   "cell_type": "code",
   "execution_count": null,
   "id": "6312ebf0-aed6-4edc-948d-0586bd5fe193",
   "metadata": {},
   "outputs": [],
   "source": [
    "#| export\n",
    "def _calc_stats(feats):\n",
    "    feats = feats.squeeze()\n",
    "    return feats.mean(0), feats.T.cov()"
   ]
  },
  {
   "attachments": {},
   "cell_type": "markdown",
   "id": "514017bc-701d-43ea-b95a-07dca9600551",
   "metadata": {},
   "source": [
    "https://en.wikipedia.org/wiki/Fr%C3%A9chet_inception_distance#Definition"
   ]
  },
  {
   "cell_type": "code",
   "execution_count": null,
   "id": "450fde9f-f2f1-4c6e-83aa-40309144b8c3",
   "metadata": {},
   "outputs": [],
   "source": [
    "#| export\n",
    "import scipy.linalg as linalg"
   ]
  },
  {
   "cell_type": "code",
   "execution_count": null,
   "id": "e51a2a89-6c0d-4756-b38c-c3889722e0d1",
   "metadata": {},
   "outputs": [
    {
     "data": {
      "text/plain": [
       "\u001b[0;31mSignature:\u001b[0m \u001b[0mlinalg\u001b[0m\u001b[0;34m.\u001b[0m\u001b[0msqrtm\u001b[0m\u001b[0;34m(\u001b[0m\u001b[0mA\u001b[0m\u001b[0;34m,\u001b[0m \u001b[0mdisp\u001b[0m\u001b[0;34m=\u001b[0m\u001b[0;32mTrue\u001b[0m\u001b[0;34m,\u001b[0m \u001b[0mblocksize\u001b[0m\u001b[0;34m=\u001b[0m\u001b[0;36m64\u001b[0m\u001b[0;34m)\u001b[0m\u001b[0;34m\u001b[0m\u001b[0;34m\u001b[0m\u001b[0m\n",
       "\u001b[0;31mDocstring:\u001b[0m\n",
       "Matrix square root.\n",
       "\n",
       "Parameters\n",
       "----------\n",
       "A : (N, N) array_like\n",
       "    Matrix whose square root to evaluate\n",
       "disp : bool, optional\n",
       "    Print warning if error in the result is estimated large\n",
       "    instead of returning estimated error. (Default: True)\n",
       "blocksize : integer, optional\n",
       "    If the blocksize is not degenerate with respect to the\n",
       "    size of the input array, then use a blocked algorithm. (Default: 64)\n",
       "\n",
       "Returns\n",
       "-------\n",
       "sqrtm : (N, N) ndarray\n",
       "    Value of the sqrt function at `A`. The dtype is float or complex.\n",
       "    The precision (data size) is determined based on the precision of\n",
       "    input `A`. When the dtype is float, the precision is the same as `A`.\n",
       "    When the dtype is complex, the precision is double that of `A`. The\n",
       "    precision might be clipped by each dtype precision range.\n",
       "\n",
       "errest : float\n",
       "    (if disp == False)\n",
       "\n",
       "    Frobenius norm of the estimated error, ||err||_F / ||A||_F\n",
       "\n",
       "References\n",
       "----------\n",
       ".. [1] Edvin Deadman, Nicholas J. Higham, Rui Ralha (2013)\n",
       "       \"Blocked Schur Algorithms for Computing the Matrix Square Root,\n",
       "       Lecture Notes in Computer Science, 7782. pp. 171-182.\n",
       "\n",
       "Examples\n",
       "--------\n",
       ">>> import numpy as np\n",
       ">>> from scipy.linalg import sqrtm\n",
       ">>> a = np.array([[1.0, 3.0], [1.0, 4.0]])\n",
       ">>> r = sqrtm(a)\n",
       ">>> r\n",
       "array([[ 0.75592895,  1.13389342],\n",
       "       [ 0.37796447,  1.88982237]])\n",
       ">>> r.dot(r)\n",
       "array([[ 1.,  3.],\n",
       "       [ 1.,  4.]])\n",
       "\u001b[0;31mFile:\u001b[0m      ~/miniforge3/envs/fastai/lib/python3.11/site-packages/scipy/linalg/_matfuncs_sqrtm.py\n",
       "\u001b[0;31mType:\u001b[0m      function"
      ]
     },
     "metadata": {},
     "output_type": "display_data"
    }
   ],
   "source": [
    "linalg.sqrtm?"
   ]
  },
  {
   "cell_type": "code",
   "execution_count": null,
   "id": "60fa590f-03ee-4dd0-9da1-5127a7a5b1a9",
   "metadata": {},
   "outputs": [
    {
     "data": {
      "text/plain": [
       "(numpy.ndarray, dtype('float32'), (512, 512))"
      ]
     },
     "execution_count": null,
     "metadata": {},
     "output_type": "execute_result"
    }
   ],
   "source": [
    "cov_sqrt = linalg.sqrtm(preds.T.cov())\n",
    "type(cov_sqrt.real), cov_sqrt.dtype, cov_sqrt.shape"
   ]
  },
  {
   "cell_type": "code",
   "execution_count": null,
   "id": "8e1f0895-c1cb-4970-88b5-4e7e66bed6d2",
   "metadata": {},
   "outputs": [],
   "source": [
    "#| export\n",
    "def _calc_fid(m1, c1, m2, c2):\n",
    "    cc =tensor(linalg.sqrtm(c1 @ c2).real)\n",
    "    return (\n",
    "        ((m1 - m2) ** 2).sum() +\n",
    "        c1.trace() + c2.trace() - 2 * cc.trace()  # (c1 + c2 - 2 * cc).trace()\n",
    "    ).item()"
   ]
  },
  {
   "cell_type": "code",
   "execution_count": null,
   "id": "6f98f762-4114-470e-a77a-1181139e3616",
   "metadata": {},
   "outputs": [
    {
     "data": {
      "text/plain": [
       "(torch.Size([10000, 512]), torch.Size([64, 512]))"
      ]
     },
     "execution_count": null,
     "metadata": {},
     "output_type": "execute_result"
    }
   ],
   "source": [
    "preds.shape, fid_preds.shape"
   ]
  },
  {
   "cell_type": "code",
   "execution_count": null,
   "id": "bc0892ca-97ee-42d7-b709-5a670595b310",
   "metadata": {},
   "outputs": [],
   "source": [
    "original_feats = preds\n",
    "sampled_feats = fid_preds"
   ]
  },
  {
   "cell_type": "code",
   "execution_count": null,
   "id": "a1f9d914-6ac7-4532-84ec-9f3ffe4a955e",
   "metadata": {},
   "outputs": [
    {
     "data": {
      "text/plain": [
       "(torch.Size([512, 512]), torch.Size([512, 512]))"
      ]
     },
     "execution_count": null,
     "metadata": {},
     "output_type": "execute_result"
    }
   ],
   "source": [
    "original_stats = _calc_stats(original_feats)\n",
    "sampled_stats = _calc_stats(sampled_feats)\n",
    "original_stats[1].shape, sampled_stats[1].shape"
   ]
  },
  {
   "cell_type": "code",
   "execution_count": null,
   "id": "69044fec-5544-491b-8983-adbfca0370c7",
   "metadata": {},
   "outputs": [
    {
     "data": {
      "text/plain": [
       "90.146240234375"
      ]
     },
     "execution_count": null,
     "metadata": {},
     "output_type": "execute_result"
    }
   ],
   "source": [
    "_calc_fid(*sampled_stats, *original_stats)"
   ]
  },
  {
   "cell_type": "code",
   "execution_count": null,
   "id": "53dfe0b4-abd5-47cd-905b-053a6136e4c9",
   "metadata": {},
   "outputs": [
    {
     "data": {
      "text/plain": [
       "-0.220458984375"
      ]
     },
     "execution_count": null,
     "metadata": {},
     "output_type": "execute_result"
    }
   ],
   "source": [
    "_calc_fid(*original_stats, *original_stats)"
   ]
  },
  {
   "cell_type": "markdown",
   "id": "133212ce-9d57-4f82-8e6a-49ab763d3861",
   "metadata": {},
   "source": [
    "https://arxiv.org/abs/1801.01401"
   ]
  },
  {
   "cell_type": "code",
   "execution_count": null,
   "id": "e95d08ec-b923-4b19-a2e5-327d3212dd6f",
   "metadata": {},
   "outputs": [],
   "source": [
    "#| export\n",
    "def _squared_mmd(x, y):\n",
    "    x = x.squeeze()\n",
    "    y = y.squeeze()\n",
    "    def k(_x, _y):\n",
    "        d = _x.shape[-1]\n",
    "        return (1 / d * _x @ _y.T + 1) ** 3\n",
    "    m = x.shape[0]\n",
    "    n = y.shape[0]\n",
    "    k_xx = k(x, x)\n",
    "    k_yy = k(y, y)\n",
    "    k_xy = k(x, y)\n",
    "    return (\n",
    "        ((1 / m / (m-1)) * (k_xx.sum() - k_xx.trace())) +\n",
    "        ((1 / n / (n-1)) * (k_yy.sum() - k_yy.trace())) -\n",
    "        ((2 / m / n) * k_xy.sum())\n",
    "    ).item()"
   ]
  },
  {
   "cell_type": "code",
   "execution_count": null,
   "id": "2001fae2-b925-4d5c-a316-0e3551844c3d",
   "metadata": {},
   "outputs": [
    {
     "data": {
      "text/plain": [
       "-21.29343605041504"
      ]
     },
     "execution_count": null,
     "metadata": {},
     "output_type": "execute_result"
    }
   ],
   "source": [
    "_squared_mmd(original_feats[:3, :3], sampled_feats[:6, :3])"
   ]
  },
  {
   "cell_type": "code",
   "execution_count": null,
   "id": "330e4433-d4c9-4a1f-b36b-99681ca6d66d",
   "metadata": {},
   "outputs": [
    {
     "data": {
      "text/plain": [
       "0.1663985252380371"
      ]
     },
     "execution_count": null,
     "metadata": {},
     "output_type": "execute_result"
    }
   ],
   "source": [
    "_squared_mmd(original_feats, sampled_feats)"
   ]
  },
  {
   "cell_type": "code",
   "execution_count": null,
   "id": "72a8647a-7078-4b2c-bb43-f91ca596305d",
   "metadata": {},
   "outputs": [],
   "source": [
    "#| export\n",
    "def _calc_kid(x, y, maxs=50):\n",
    "    return _squared_mmd(x, y)"
   ]
  },
  {
   "cell_type": "code",
   "execution_count": null,
   "id": "6dd96477-1536-44e3-a46a-a80b0fe45aa2",
   "metadata": {},
   "outputs": [
    {
     "data": {
      "text/plain": [
       "0.1663985252380371"
      ]
     },
     "execution_count": null,
     "metadata": {},
     "output_type": "execute_result"
    }
   ],
   "source": [
    "_calc_kid(original_feats, sampled_feats)"
   ]
  },
  {
   "cell_type": "code",
   "execution_count": null,
   "id": "942cef66-beb0-40d3-b982-d4228711a1e6",
   "metadata": {},
   "outputs": [
    {
     "data": {
      "text/plain": [
       "-0.0025343894958496094"
      ]
     },
     "execution_count": null,
     "metadata": {},
     "output_type": "execute_result"
    }
   ],
   "source": [
    "_calc_kid(original_feats, original_feats)"
   ]
  },
  {
   "cell_type": "markdown",
   "id": "6803490b-f4d7-4774-895d-43fc00272446",
   "metadata": {},
   "source": [
    "## FID Class"
   ]
  },
  {
   "cell_type": "code",
   "execution_count": null,
   "id": "b46262ec-41aa-49e7-9694-c1aa907bb9b6",
   "metadata": {},
   "outputs": [
    {
     "data": {
      "text/plain": [
       "(torch.Size([1]), torch.Size([1]))"
      ]
     },
     "execution_count": null,
     "metadata": {},
     "output_type": "execute_result"
    }
   ],
   "source": [
    "tensor([0]).shape, torch.empty(1).shape"
   ]
  },
  {
   "cell_type": "code",
   "execution_count": null,
   "id": "118a6097-3502-4163-9d9f-f99623a45974",
   "metadata": {},
   "outputs": [
    {
     "data": {
      "text/plain": [
       "\u001b[0;31mSignature:\u001b[0m \u001b[0mlearn\u001b[0m\u001b[0;34m.\u001b[0m\u001b[0mcapture_preds\u001b[0m\u001b[0;34m(\u001b[0m\u001b[0minputs\u001b[0m\u001b[0;34m=\u001b[0m\u001b[0;32mFalse\u001b[0m\u001b[0;34m,\u001b[0m \u001b[0mpreds\u001b[0m\u001b[0;34m=\u001b[0m\u001b[0;32mTrue\u001b[0m\u001b[0;34m,\u001b[0m \u001b[0mtargets\u001b[0m\u001b[0;34m=\u001b[0m\u001b[0;32mTrue\u001b[0m\u001b[0;34m,\u001b[0m \u001b[0mto_tensor\u001b[0m\u001b[0;34m=\u001b[0m\u001b[0;32mTrue\u001b[0m\u001b[0;34m)\u001b[0m\u001b[0;34m\u001b[0m\u001b[0;34m\u001b[0m\u001b[0m\n",
       "\u001b[0;31mDocstring:\u001b[0m <no docstring>\n",
       "\u001b[0;31mSource:\u001b[0m   \n",
       "\u001b[0;34m@\u001b[0m\u001b[0mfc\u001b[0m\u001b[0;34m.\u001b[0m\u001b[0mpatch\u001b[0m\u001b[0;34m\u001b[0m\n",
       "\u001b[0;34m\u001b[0m\u001b[0;32mdef\u001b[0m \u001b[0mcapture_preds\u001b[0m\u001b[0;34m(\u001b[0m\u001b[0mself\u001b[0m\u001b[0;34m:\u001b[0m \u001b[0mLearner\u001b[0m\u001b[0;34m,\u001b[0m \u001b[0minputs\u001b[0m\u001b[0;34m=\u001b[0m\u001b[0;32mFalse\u001b[0m\u001b[0;34m,\u001b[0m \u001b[0mpreds\u001b[0m\u001b[0;34m=\u001b[0m\u001b[0;32mTrue\u001b[0m\u001b[0;34m,\u001b[0m \u001b[0mtargets\u001b[0m\u001b[0;34m=\u001b[0m\u001b[0;32mTrue\u001b[0m\u001b[0;34m,\u001b[0m \u001b[0mto_tensor\u001b[0m\u001b[0;34m=\u001b[0m\u001b[0;32mTrue\u001b[0m\u001b[0;34m)\u001b[0m\u001b[0;34m:\u001b[0m\u001b[0;34m\u001b[0m\n",
       "\u001b[0;34m\u001b[0m    \u001b[0mcp\u001b[0m \u001b[0;34m=\u001b[0m \u001b[0mCapturePreds\u001b[0m\u001b[0;34m(\u001b[0m\u001b[0;34m)\u001b[0m\u001b[0;34m\u001b[0m\n",
       "\u001b[0;34m\u001b[0m    \u001b[0mself\u001b[0m\u001b[0;34m.\u001b[0m\u001b[0mfit\u001b[0m\u001b[0;34m(\u001b[0m\u001b[0;36m1\u001b[0m\u001b[0;34m,\u001b[0m \u001b[0mtrain\u001b[0m\u001b[0;34m=\u001b[0m\u001b[0;32mFalse\u001b[0m\u001b[0;34m,\u001b[0m \u001b[0mcbs\u001b[0m\u001b[0;34m=\u001b[0m\u001b[0;34m[\u001b[0m\u001b[0mcp\u001b[0m\u001b[0;34m]\u001b[0m\u001b[0;34m)\u001b[0m\u001b[0;34m\u001b[0m\n",
       "\u001b[0;34m\u001b[0m    \u001b[0mresult\u001b[0m \u001b[0;34m=\u001b[0m \u001b[0;34m(\u001b[0m\u001b[0;34m)\u001b[0m\u001b[0;34m\u001b[0m\n",
       "\u001b[0;34m\u001b[0m    \u001b[0;32mif\u001b[0m \u001b[0minputs\u001b[0m\u001b[0;34m:\u001b[0m\u001b[0;34m\u001b[0m\n",
       "\u001b[0;34m\u001b[0m        \u001b[0mresult\u001b[0m \u001b[0;34m+=\u001b[0m \u001b[0;34m(\u001b[0m\u001b[0mcp\u001b[0m\u001b[0;34m.\u001b[0m\u001b[0mcaptured_inps\u001b[0m\u001b[0;34m,\u001b[0m\u001b[0;34m)\u001b[0m\u001b[0;34m\u001b[0m\n",
       "\u001b[0;34m\u001b[0m    \u001b[0;32mif\u001b[0m \u001b[0mpreds\u001b[0m\u001b[0;34m:\u001b[0m\u001b[0;34m\u001b[0m\n",
       "\u001b[0;34m\u001b[0m        \u001b[0mresult\u001b[0m \u001b[0;34m+=\u001b[0m \u001b[0;34m(\u001b[0m\u001b[0mcp\u001b[0m\u001b[0;34m.\u001b[0m\u001b[0mcaptured_preds\u001b[0m\u001b[0;34m,\u001b[0m\u001b[0;34m)\u001b[0m\u001b[0;34m\u001b[0m\n",
       "\u001b[0;34m\u001b[0m    \u001b[0;32mif\u001b[0m \u001b[0mtargets\u001b[0m\u001b[0;34m:\u001b[0m\u001b[0;34m\u001b[0m\n",
       "\u001b[0;34m\u001b[0m        \u001b[0mresult\u001b[0m \u001b[0;34m+=\u001b[0m \u001b[0;34m(\u001b[0m\u001b[0mcp\u001b[0m\u001b[0;34m.\u001b[0m\u001b[0mcaptured_targets\u001b[0m\u001b[0;34m,\u001b[0m\u001b[0;34m)\u001b[0m\u001b[0;34m\u001b[0m\n",
       "\u001b[0;34m\u001b[0m    \u001b[0;32mdel\u001b[0m \u001b[0mcp\u001b[0m\u001b[0;34m\u001b[0m\n",
       "\u001b[0;34m\u001b[0m    \u001b[0;32mif\u001b[0m \u001b[0mto_tensor\u001b[0m\u001b[0;34m:\u001b[0m\u001b[0;34m\u001b[0m\n",
       "\u001b[0;34m\u001b[0m        \u001b[0mresult\u001b[0m \u001b[0;34m=\u001b[0m \u001b[0mlist\u001b[0m\u001b[0;34m(\u001b[0m\u001b[0mmap\u001b[0m\u001b[0;34m(\u001b[0m\u001b[0mtorch\u001b[0m\u001b[0;34m.\u001b[0m\u001b[0mcat\u001b[0m\u001b[0;34m,\u001b[0m \u001b[0mresult\u001b[0m\u001b[0;34m)\u001b[0m\u001b[0;34m)\u001b[0m\u001b[0;34m\u001b[0m\n",
       "\u001b[0;34m\u001b[0m    \u001b[0;32mreturn\u001b[0m \u001b[0mresult\u001b[0m\u001b[0;34m\u001b[0m\u001b[0;34m\u001b[0m\u001b[0m\n",
       "\u001b[0;31mFile:\u001b[0m      /tmp/ipykernel_2205/3369238615.py\n",
       "\u001b[0;31mType:\u001b[0m      method"
      ]
     },
     "metadata": {},
     "output_type": "display_data"
    }
   ],
   "source": [
    "learn.capture_preds??"
   ]
  },
  {
   "cell_type": "code",
   "execution_count": null,
   "id": "88391022-6b62-45b3-9fdc-796787d3510f",
   "metadata": {},
   "outputs": [],
   "source": [
    "#| export\n",
    "class ImageEval:\n",
    "    def __init__(self, model, dls, cbs=None):\n",
    "        self.learn = TrainLearner(model, dls, cbs=cbs, opt_func=None, loss_func=fc.noop)\n",
    "        self.feats = self._get_feats()\n",
    "        self.stats = _calc_stats(self.feats)\n",
    "\n",
    "    def _get_feats(self):\n",
    "        return to_cpu(self.learn.capture_preds()[0])\n",
    "            \n",
    "    def get_feats(self, samp):\n",
    "        self.learn.dls = DataLoaders([], [(samp, torch.empty(1))])\n",
    "        return self._get_feats()\n",
    "\n",
    "    def fid(self, samp):\n",
    "        return _calc_fid(*self.stats, *_calc_stats(self.get_feats(samp)))\n",
    "\n",
    "    def kid(self, samp):\n",
    "        return _calc_kid(self.feats, self.get_feats(samp))"
   ]
  },
  {
   "cell_type": "code",
   "execution_count": null,
   "id": "3be4fe9d-1d57-4fe4-89ea-cdc7872b05a9",
   "metadata": {},
   "outputs": [],
   "source": [
    "image_eval = ImageEval(model, learn.dls, cbs=[DeviceCB()])"
   ]
  },
  {
   "cell_type": "code",
   "execution_count": null,
   "id": "184fb407-d9ab-4007-8d50-e96bcbd528a0",
   "metadata": {},
   "outputs": [
    {
     "name": "stdout",
     "output_type": "stream",
     "text": [
      "CPU times: user 4.7 s, sys: 3.02 s, total: 7.72 s\n",
      "Wall time: 1.02 s\n"
     ]
    },
    {
     "data": {
      "text/plain": [
       "(90.168701171875, 0.1663985252380371)"
      ]
     },
     "execution_count": null,
     "metadata": {},
     "output_type": "execute_result"
    }
   ],
   "source": [
    "%time image_eval.fid(final), image_eval.kid(final)"
   ]
  },
  {
   "cell_type": "code",
   "execution_count": null,
   "id": "e00fb63f-3b74-413a-b3c7-9512945013fb",
   "metadata": {},
   "outputs": [
    {
     "data": {
      "text/plain": [
       "1000"
      ]
     },
     "execution_count": null,
     "metadata": {},
     "output_type": "execute_result"
    }
   ],
   "source": [
    "len(samples)"
   ]
  },
  {
   "cell_type": "code",
   "execution_count": null,
   "id": "a6b885be-5976-4268-9871-bbc9f2d70cef",
   "metadata": {},
   "outputs": [
    {
     "data": {
      "text/plain": [
       "30"
      ]
     },
     "execution_count": null,
     "metadata": {},
     "output_type": "execute_result"
    }
   ],
   "source": [
    "to_eval = list(range(0, 900, 50)) + list(range(900, 990, 10)) + [990, 995, 999]\n",
    "len(to_eval)"
   ]
  },
  {
   "cell_type": "code",
   "execution_count": null,
   "id": "011761b4-1a30-4206-810d-c6f1eb04b5ba",
   "metadata": {},
   "outputs": [
    {
     "name": "stdout",
     "output_type": "stream",
     "text": [
      "CPU times: user 1min 17s, sys: 58.9 s, total: 2min 16s\n",
      "Wall time: 13.8 s\n"
     ]
    }
   ],
   "source": [
    "%time fids = [image_eval.fid(samples[i] * 2 - 1) for i in to_eval]"
   ]
  },
  {
   "cell_type": "code",
   "execution_count": null,
   "id": "4d2c41be-638e-4dfe-84bb-37e21b8aa8af",
   "metadata": {},
   "outputs": [
    {
     "name": "stdout",
     "output_type": "stream",
     "text": [
      "CPU times: user 1min 4s, sys: 10.5 s, total: 1min 14s\n",
      "Wall time: 15.6 s\n"
     ]
    }
   ],
   "source": [
    "%time kids = [image_eval.kid(samples[i] * 2 - 1) for i in to_eval]"
   ]
  },
  {
   "cell_type": "code",
   "execution_count": null,
   "id": "66bc2746-fb68-4dee-b1c1-a0688437f0d0",
   "metadata": {},
   "outputs": [
    {
     "data": {
      "image/png": "[encoded data removed]",
      "text/plain": [
       "<Figure size 640x480 with 1 Axes>"
      ]
     },
     "metadata": {},
     "output_type": "display_data"
    }
   ],
   "source": [
    "plt.plot(to_eval, fids);"
   ]
  },
  {
   "cell_type": "code",
   "execution_count": null,
   "id": "39bfe33b-18fd-43ae-87a5-43130b9648d0",
   "metadata": {},
   "outputs": [
    {
     "data": {
      "image/png": "[encoded data removed]",
      "text/plain": [
       "<Figure size 640x480 with 1 Axes>"
      ]
     },
     "metadata": {},
     "output_type": "display_data"
    }
   ],
   "source": [
    "plt.plot(to_eval, kids);"
   ]
  },
  {
   "cell_type": "code",
   "execution_count": null,
   "id": "9a1a7175-165e-47d1-9995-3fb61ff74e94",
   "metadata": {},
   "outputs": [
    {
     "data": {
      "text/plain": [
       "(90.168701171875, 0.1663985252380371)"
      ]
     },
     "execution_count": null,
     "metadata": {},
     "output_type": "execute_result"
    }
   ],
   "source": [
    "image_eval.fid(samples[-1] * 2 - 1), image_eval.kid(samples[-1] * 2 - 1)"
   ]
  },
  {
   "cell_type": "code",
   "execution_count": null,
   "id": "6be54c1d-7ade-436d-84c2-19bb6d40dd1a",
   "metadata": {},
   "outputs": [
    {
     "data": {
      "text/plain": [
       "(64.5721435546875, 0.044045448303222656)"
      ]
     },
     "execution_count": null,
     "metadata": {},
     "output_type": "execute_result"
    }
   ],
   "source": [
    "image_eval.fid(xb), image_eval.kid(xb)"
   ]
  },
  {
   "cell_type": "markdown",
   "id": "eed7afcc-8c9b-4143-a038-7283d9f202bf",
   "metadata": {},
   "source": [
    "## Inception"
   ]
  },
  {
   "cell_type": "code",
   "execution_count": null,
   "id": "79b88783-7e06-4f1e-bb16-e900a75f2130",
   "metadata": {},
   "outputs": [],
   "source": [
    "from pytorch_fid.inception import InceptionV3"
   ]
  },
  {
   "cell_type": "code",
   "execution_count": null,
   "id": "a2337146-174a-40c6-bc65-5028b4e762dd",
   "metadata": {},
   "outputs": [
    {
     "data": {
      "text/plain": [
       "\u001b[0;31mInit signature:\u001b[0m\n",
       "\u001b[0mInceptionV3\u001b[0m\u001b[0;34m(\u001b[0m\u001b[0;34m\u001b[0m\n",
       "\u001b[0;34m\u001b[0m    \u001b[0moutput_blocks\u001b[0m\u001b[0;34m=\u001b[0m\u001b[0;34m(\u001b[0m\u001b[0;36m3\u001b[0m\u001b[0;34m,\u001b[0m\u001b[0;34m)\u001b[0m\u001b[0;34m,\u001b[0m\u001b[0;34m\u001b[0m\n",
       "\u001b[0;34m\u001b[0m    \u001b[0mresize_input\u001b[0m\u001b[0;34m=\u001b[0m\u001b[0;32mTrue\u001b[0m\u001b[0;34m,\u001b[0m\u001b[0;34m\u001b[0m\n",
       "\u001b[0;34m\u001b[0m    \u001b[0mnormalize_input\u001b[0m\u001b[0;34m=\u001b[0m\u001b[0;32mTrue\u001b[0m\u001b[0;34m,\u001b[0m\u001b[0;34m\u001b[0m\n",
       "\u001b[0;34m\u001b[0m    \u001b[0mrequires_grad\u001b[0m\u001b[0;34m=\u001b[0m\u001b[0;32mFalse\u001b[0m\u001b[0;34m,\u001b[0m\u001b[0;34m\u001b[0m\n",
       "\u001b[0;34m\u001b[0m    \u001b[0muse_fid_inception\u001b[0m\u001b[0;34m=\u001b[0m\u001b[0;32mTrue\u001b[0m\u001b[0;34m,\u001b[0m\u001b[0;34m\u001b[0m\n",
       "\u001b[0;34m\u001b[0m\u001b[0;34m)\u001b[0m\u001b[0;34m\u001b[0m\u001b[0;34m\u001b[0m\u001b[0m\n",
       "\u001b[0;31mDocstring:\u001b[0m      Pretrained InceptionV3 network returning feature maps\n",
       "\u001b[0;31mInit docstring:\u001b[0m\n",
       "Build pretrained InceptionV3\n",
       "\n",
       "Parameters\n",
       "----------\n",
       "output_blocks : list of int\n",
       "    Indices of blocks to return features of. Possible values are:\n",
       "        - 0: corresponds to output of first max pooling\n",
       "        - 1: corresponds to output of second max pooling\n",
       "        - 2: corresponds to output which is fed to aux classifier\n",
       "        - 3: corresponds to output of final average pooling\n",
       "resize_input : bool\n",
       "    If true, bilinearly resizes input to width and height 299 before\n",
       "    feeding input to model. As the network without fully connected\n",
       "    layers is fully convolutional, it should be able to handle inputs\n",
       "    of arbitrary size, so resizing might not be strictly needed\n",
       "normalize_input : bool\n",
       "    If true, scales the input from range (0, 1) to the range the\n",
       "    pretrained Inception network expects, namely (-1, 1)\n",
       "requires_grad : bool\n",
       "    If true, parameters of the model require gradients. Possibly useful\n",
       "    for finetuning the network\n",
       "use_fid_inception : bool\n",
       "    If true, uses the pretrained Inception model used in Tensorflow's\n",
       "    FID implementation. If false, uses the pretrained Inception model\n",
       "    available in torchvision. The FID Inception model has different\n",
       "    weights and a slightly different structure from torchvision's\n",
       "    Inception model. If you want to compute FID scores, you are\n",
       "    strongly advised to set this parameter to true to get comparable\n",
       "    results.\n",
       "\u001b[0;31mFile:\u001b[0m           ~/miniforge3/envs/fastai/lib/python3.11/site-packages/pytorch_fid/inception.py\n",
       "\u001b[0;31mType:\u001b[0m           type\n",
       "\u001b[0;31mSubclasses:\u001b[0m     "
      ]
     },
     "metadata": {},
     "output_type": "display_data"
    }
   ],
   "source": [
    "InceptionV3?"
   ]
  },
  {
   "cell_type": "code",
   "execution_count": null,
   "id": "67c3f50a-8ada-46d2-b7cb-8fb3e49011bd",
   "metadata": {},
   "outputs": [
    {
     "data": {
      "text/plain": [
       "torch.Size([3, 1, 2, 2])"
      ]
     },
     "execution_count": null,
     "metadata": {},
     "output_type": "execute_result"
    }
   ],
   "source": [
    "a = torch.zeros(3, 1, 2, 2)\n",
    "a.shape"
   ]
  },
  {
   "cell_type": "code",
   "execution_count": null,
   "id": "c8aa725f-2b13-42c4-9536-c955a78ba55c",
   "metadata": {},
   "outputs": [
    {
     "data": {
      "text/plain": [
       "torch.Size([3, 3, 2, 2])"
      ]
     },
     "execution_count": null,
     "metadata": {},
     "output_type": "execute_result"
    }
   ],
   "source": [
    "a.repeat(1, 3, 1, 1).shape"
   ]
  },
  {
   "cell_type": "code",
   "execution_count": null,
   "id": "57f92304-e4ff-4fd4-a1c9-a917b73448bf",
   "metadata": {},
   "outputs": [],
   "source": [
    "class IncepWrap(nn.Module):\n",
    "    def __init__(self):\n",
    "        super().__init__()\n",
    "        self.inception = InceptionV3()\n",
    "\n",
    "    def forward(self, x):\n",
    "        return self.inception(x.repeat(1, 3, 1, 1))[0]"
   ]
  },
  {
   "cell_type": "code",
   "execution_count": null,
   "id": "610732f9-cc68-456c-be99-efc1bf522aeb",
   "metadata": {},
   "outputs": [],
   "source": [
    "image_eval = ImageEval(IncepWrap(), dls, cbs=[DeviceCB()])"
   ]
  },
  {
   "cell_type": "code",
   "execution_count": null,
   "id": "a04b8c39-a19a-4fd9-8c84-84db3d5b2906",
   "metadata": {},
   "outputs": [
    {
     "name": "stdout",
     "output_type": "stream",
     "text": [
      "CPU times: user 38.8 s, sys: 14.7 s, total: 53.5 s\n",
      "Wall time: 8.69 s\n"
     ]
    },
    {
     "data": {
      "text/plain": [
       "(140.7357940673828, 0.03495073318481445)"
      ]
     },
     "execution_count": null,
     "metadata": {},
     "output_type": "execute_result"
    }
   ],
   "source": [
    "%time image_eval.fid(final), image_eval.kid(final)"
   ]
  },
  {
   "cell_type": "code",
   "execution_count": null,
   "id": "a5c7896e-af06-4dd4-93bb-f7cf708958cb",
   "metadata": {},
   "outputs": [
    {
     "data": {
      "text/plain": [
       "(98.23300170898438, -0.00020575523376464844)"
      ]
     },
     "execution_count": null,
     "metadata": {},
     "output_type": "execute_result"
    }
   ],
   "source": [
    "image_eval.fid(xb), image_eval.kid(xb)"
   ]
  },
  {
   "cell_type": "markdown",
   "id": "49a09f63-70ca-4b57-88f0-54b0a9ee971d",
   "metadata": {},
   "source": [
    "# Export"
   ]
  },
  {
   "cell_type": "code",
   "execution_count": null,
   "id": "b905efe9-4fae-47db-8087-00286aca94e1",
   "metadata": {},
   "outputs": [],
   "source": [
    "import nbdev; nbdev.nbdev_export()"
   ]
  },
  {
   "cell_type": "code",
   "execution_count": null,
   "id": "87687b79-2dfa-4c0b-9836-95bb3d90d2e0",
   "metadata": {},
   "outputs": [],
   "source": []
  }
 ],
 "metadata": {
  "kernelspec": {
   "display_name": "python3",
   "language": "python",
   "name": "python3"
  }
 },
 "nbformat": 4,
 "nbformat_minor": 5
}
