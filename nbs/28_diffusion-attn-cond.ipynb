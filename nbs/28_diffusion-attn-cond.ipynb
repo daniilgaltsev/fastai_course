{
 "cells": [
  {
   "cell_type": "code",
   "execution_count": null,
   "id": "d6329fb2-7076-4e6f-a78d-1f1f493fb2f6",
   "metadata": {},
   "outputs": [],
   "source": [
    "#| default_exp diffusion"
   ]
  },
  {
   "cell_type": "markdown",
   "id": "eaf54989-b802-4e8b-8709-896b92884d9c",
   "metadata": {},
   "source": [
    "# Diffusion Net"
   ]
  },
  {
   "cell_type": "code",
   "execution_count": null,
   "id": "2ca5f3da-34e9-4aa2-9422-af091d7066c5",
   "metadata": {},
   "outputs": [],
   "source": [
    "import pickle,gzip,math,os,time,shutil,torch,random,logging\n",
    "import fastcore.all as fc,matplotlib as mpl,numpy as np,matplotlib.pyplot as plt\n",
    "from collections.abc import Mapping\n",
    "from pathlib import Path\n",
    "from operator import attrgetter,itemgetter\n",
    "from functools import partial\n",
    "from copy import copy\n",
    "from contextlib import contextmanager\n",
    "\n",
    "from fastcore.foundation import L\n",
    "from fastprogress import progress_bar\n",
    "from PIL import Image\n",
    "import torchvision.transforms.functional as TF,torch.nn.functional as F\n",
    "import torchvision.transforms as transforms\n",
    "from torchvision.io import read_image, ImageReadMode\n",
    "from torch import tensor,nn,optim\n",
    "from torch.utils.data import DataLoader,default_collate\n",
    "from torch.nn import init\n",
    "from torch.optim import lr_scheduler\n",
    "from torcheval.metrics import MulticlassAccuracy\n",
    "from datasets import load_dataset,load_dataset_builder\n",
    "\n",
    "from miniai.datasets import *\n",
    "from miniai.conv import *\n",
    "from miniai.learner import *\n",
    "from miniai.activations import *\n",
    "from miniai.init import *\n",
    "from miniai.sgd import *\n",
    "from miniai.resnet import *\n",
    "from miniai.augment import *\n",
    "from miniai.fid import *"
   ]
  },
  {
   "cell_type": "code",
   "execution_count": null,
   "id": "b3d08e00-ed58-4f67-9385-18e8b2497e3d",
   "metadata": {},
   "outputs": [],
   "source": [
    "set_seed(1103, False)\n",
    "mpl.rcParams['image.cmap'] = 'gray'\n",
    "logging.disable(logging.WARNING)"
   ]
  },
  {
   "cell_type": "code",
   "execution_count": null,
   "id": "9354d6b0-c268-40ca-bec2-6c5ad041c77f",
   "metadata": {},
   "outputs": [],
   "source": [
    "#| export\n",
    "def abar(t):\n",
    "    return (t * (math.pi / 2)).cos() ** 2"
   ]
  },
  {
   "cell_type": "code",
   "execution_count": null,
   "id": "4f9ccba7-83ce-4a09-ad5d-6f0ffa8b7dd0",
   "metadata": {},
   "outputs": [],
   "source": [
    "#| export\n",
    "def inv_abar(x):\n",
    "    return x.sqrt().acos() * (2 / math.pi)"
   ]
  },
  {
   "cell_type": "code",
   "execution_count": null,
   "id": "14d5321e-d27c-411f-a8b5-1706774306ee",
   "metadata": {},
   "outputs": [],
   "source": [
    "#| export\n",
    "def add_noise(x):\n",
    "    device = x.device\n",
    "    bs = x.shape[0]\n",
    "\n",
    "    t = torch.rand((bs,), device=device)\n",
    "    alpha_bar_t = abar(t).reshape((bs,) + (1,) * (len(x.shape) - 1))\n",
    "    \n",
    "    original_part = alpha_bar_t.sqrt() * x\n",
    "    epsilon = torch.randn(x.shape, device=device)\n",
    "    noise_part = (1 - alpha_bar_t).sqrt() * epsilon\n",
    "\n",
    "    xt = original_part + noise_part\n",
    "    return (xt, t.to(device)), epsilon"
   ]
  },
  {
   "cell_type": "code",
   "execution_count": null,
   "id": "e630579c-25a2-49b0-aa8b-9397b36ae101",
   "metadata": {},
   "outputs": [],
   "source": [
    "#| export\n",
    "def collate_ddpm(b, fm_x=\"image\"):\n",
    "    return add_noise(default_collate(b)[fm_x])"
   ]
  },
  {
   "cell_type": "code",
   "execution_count": null,
   "id": "db165054-ada4-4820-b6b5-9434cccd02ce",
   "metadata": {},
   "outputs": [],
   "source": [
    "#| export\n",
    "def dl_ddpm(ds, bs):\n",
    "    return DataLoader(ds, batch_size=bs, collate_fn=collate_ddpm, num_workers=4)"
   ]
  },
  {
   "cell_type": "code",
   "execution_count": null,
   "id": "31e4a45e-89a3-4ea4-82e2-a11bd7e89819",
   "metadata": {},
   "outputs": [],
   "source": [
    "fm_x, fm_y = \"image\", \"label\"\n",
    "name = \"fashion_mnist\"\n",
    "ds = load_dataset(name)"
   ]
  },
  {
   "cell_type": "code",
   "execution_count": null,
   "id": "65c4faef-a112-43db-9343-c200b7e15979",
   "metadata": {},
   "outputs": [],
   "source": [
    "@inplace\n",
    "def transformi(b):\n",
    "    b[\"image\"] = [TF.pad(TF.to_tensor(i), padding=2, fill=0, padding_mode=\"constant\") * 2 - 1 for i in b[\"image\"]]\n",
    "dst = ds.with_transform(transformi)\n",
    "\n",
    "bs = 64\n",
    "dls = DataLoaders(dl_ddpm(dst[\"train\"], bs), dl_ddpm(dst[\"test\"], bs))\n",
    "xb, yb = next(iter(dls.train))"
   ]
  },
  {
   "cell_type": "markdown",
   "id": "44ac99c8-42c7-4e68-bccf-7071aac99728",
   "metadata": {},
   "source": [
    "## Train"
   ]
  },
  {
   "cell_type": "code",
   "execution_count": null,
   "id": "c7e471a8-edf6-4f3a-9f22-b33b66c5db9e",
   "metadata": {},
   "outputs": [],
   "source": [
    "#| export\n",
    "def timestamp_embedding(tsteps, emb_dim, max_period=1000):\n",
    "    mult = 1 / max_period ** torch.linspace(0, 1, emb_dim // 2, device=tsteps.device)\n",
    "    emb_t = tsteps[:, None] * mult[None]\n",
    "    emb = torch.cat((torch.sin(emb_t), torch.cos(emb_t)), dim=1)\n",
    "    return emb"
   ]
  },
  {
   "cell_type": "code",
   "execution_count": null,
   "id": "dfa7420b-414f-4f07-8b34-4d95e8b22589",
   "metadata": {},
   "outputs": [
    {
     "data": {
      "text/plain": [
       "torch.Size([5, 16])"
      ]
     },
     "execution_count": null,
     "metadata": {},
     "output_type": "execute_result"
    }
   ],
   "source": [
    "timestamp_embedding(torch.empty(5), 16).shape"
   ]
  },
  {
   "cell_type": "code",
   "execution_count": null,
   "id": "725ccfdb-d0b7-4f62-b423-611fc377624b",
   "metadata": {},
   "outputs": [],
   "source": [
    "#| export\n",
    "def pre_conv(ni, nf, ks=3, stride=1, act=nn.SiLU, norm=None, bias=True):\n",
    "    layers = []\n",
    "\n",
    "    if act:\n",
    "        layers.append(act())\n",
    "    if norm:\n",
    "        layers.append(norm(ni))\n",
    "    layers.append(nn.Conv2d(ni, nf, kernel_size=ks, stride=stride, bias=bias, padding=ks//2))\n",
    "\n",
    "    return nn.Sequential(*layers)"
   ]
  },
  {
   "cell_type": "code",
   "execution_count": null,
   "id": "28b678e4-9fb9-46e4-9419-99dbad48afb4",
   "metadata": {},
   "outputs": [
    {
     "data": {
      "text/plain": [
       "torch.Size([1, 2, 2, 2])"
      ]
     },
     "execution_count": null,
     "metadata": {},
     "output_type": "execute_result"
    }
   ],
   "source": [
    "pre_conv(1,2)(torch.empty(1,1,2,2)).shape"
   ]
  },
  {
   "cell_type": "code",
   "execution_count": null,
   "id": "cf8118af-d964-49d8-ab11-9cb14010dfe8",
   "metadata": {},
   "outputs": [],
   "source": [
    "#| export\n",
    "def upsample(nf):\n",
    "    return nn.Sequential(\n",
    "        nn.UpsamplingNearest2d(scale_factor=2),\n",
    "        nn.Conv2d(nf, nf, kernel_size=3, padding=1)\n",
    "    )"
   ]
  },
  {
   "cell_type": "code",
   "execution_count": null,
   "id": "13a4d69c-3b1c-4bf9-ac92-bca00c3c8de8",
   "metadata": {},
   "outputs": [
    {
     "data": {
      "text/plain": [
       "torch.Size([1, 1, 2, 2])"
      ]
     },
     "execution_count": null,
     "metadata": {},
     "output_type": "execute_result"
    }
   ],
   "source": [
    "upsample(1)(torch.empty(1,1,1,1)).shape"
   ]
  },
  {
   "cell_type": "code",
   "execution_count": null,
   "id": "5beec371-5fe0-4bde-8a65-a119ea0c1884",
   "metadata": {},
   "outputs": [],
   "source": [
    "#| export\n",
    "def heads_to_batch(x, heads):\n",
    "    bs, c, d = x.shape\n",
    "    x = x.reshape(bs, c, heads, -1)  # (bs, c, heads, dh)\n",
    "    x = x.transpose(1, 2)  # (bs, heads, c, dh)\n",
    "    return x.reshape(bs * heads, c, -1)\n",
    "\n",
    "def batch_to_heads(x, heads):\n",
    "    n, c, dh = x.shape\n",
    "    x = x.reshape(-1, heads, c, dh)  # (bs, heads, c, dh)\n",
    "    x = x.transpose(1, 2)  # (bs, c, heads, dh)\n",
    "    bs = n // heads\n",
    "    return x.reshape(bs, c, heads * dh)\n",
    "\n",
    "class SelfAttention(nn.Module):\n",
    "    def __init__(self, n_dim, attn_channels):\n",
    "        super().__init__()\n",
    "\n",
    "        self.nheads = nheads = n_dim // attn_channels\n",
    "        self.scale = 1 / math.sqrt(n_dim / nheads)\n",
    "        self.qkv = nn.Linear(n_dim, 3 * n_dim)\n",
    "        self.norm = nn.LayerNorm(n_dim)\n",
    "        self.lin = nn.Linear(n_dim, n_dim)\n",
    "        \n",
    "    def forward(self, x):\n",
    "        x = x.transpose(1, 2)\n",
    "        init_x = x\n",
    "        x = self.qkv(x)\n",
    "        x = heads_to_batch(x, self.nheads)\n",
    "        n_dim = x.shape[-1] // 3\n",
    "        q, k, v = x[..., :n_dim], x[..., n_dim: 2 * n_dim], x[..., 2 * n_dim: 3 * n_dim]\n",
    "        x = (q @ k.transpose(1, 2) * self.scale).softmax(dim=-1) @ v\n",
    "        x = batch_to_heads(x, self.nheads)\n",
    "        x = self.lin(x)\n",
    "        return self.norm(init_x + x).transpose(1, 2)"
   ]
  },
  {
   "cell_type": "code",
   "execution_count": null,
   "id": "19a0c676-f1d6-4b24-b3bc-07be1ffe408f",
   "metadata": {},
   "outputs": [
    {
     "data": {
      "text/plain": [
       "torch.Size([1, 8, 4])"
      ]
     },
     "execution_count": null,
     "metadata": {},
     "output_type": "execute_result"
    }
   ],
   "source": [
    "SelfAttention(8, 4)(torch.empty(1,8,4)).shape"
   ]
  },
  {
   "cell_type": "code",
   "execution_count": null,
   "id": "632fd42b-31d5-4a98-b3dc-ec9b49e2cad5",
   "metadata": {},
   "outputs": [],
   "source": [
    "#| export\n",
    "\n",
    "class SelfAttention2D(SelfAttention):\n",
    "    def forward(self, x):\n",
    "        bs, c, h, w = x.shape\n",
    "        return super().forward(x.reshape(bs, c, -1)).reshape(bs, c, h, w)"
   ]
  },
  {
   "cell_type": "code",
   "execution_count": null,
   "id": "afeb752f-5672-4c2c-87a2-05cf2aad88c0",
   "metadata": {},
   "outputs": [
    {
     "data": {
      "text/plain": [
       "torch.Size([1, 8, 4, 4])"
      ]
     },
     "execution_count": null,
     "metadata": {},
     "output_type": "execute_result"
    }
   ],
   "source": [
    "SelfAttention2D(8, 4)(torch.empty(1,8,4,4)).shape"
   ]
  },
  {
   "cell_type": "code",
   "execution_count": null,
   "id": "5a0c1138-452f-41e8-b900-ae2c90ae5f76",
   "metadata": {},
   "outputs": [],
   "source": [
    "#| export\n",
    "def lin(ni, nf, act=nn.SiLU, norm=None, bias=True):\n",
    "    layers = []\n",
    "\n",
    "    if act:\n",
    "        layers.append(act())\n",
    "    if norm:\n",
    "        layers.append(norm(ni))\n",
    "    layers.append(nn.Linear(ni, nf, bias=bias))\n",
    "    return nn.Sequential(*layers)"
   ]
  },
  {
   "cell_type": "code",
   "execution_count": null,
   "id": "0ff2fb2f-74ec-4769-af98-d3bc6a7d8263",
   "metadata": {},
   "outputs": [],
   "source": [
    "#| export\n",
    "\n",
    "class EmbResBlock(nn.Module):\n",
    "    def __init__(self, n_emb, ni, nf=None, ks=3, act=nn.SiLU, norm=nn.BatchNorm2d, attn_channels=0):\n",
    "        super().__init__()\n",
    "        if nf is None:\n",
    "            nf = ni\n",
    "\n",
    "        self.emb_layer = lin(n_emb, nf * 2)\n",
    "        self.nf = nf\n",
    "        self.convs = nn.Sequential(\n",
    "            pre_conv(ni, nf, ks=ks, act=act, norm=norm),\n",
    "            pre_conv(nf, nf, ks=ks, act=act, norm=norm)\n",
    "        )\n",
    "        if ni == nf:\n",
    "            self.id_conv = fc.noop\n",
    "        else:\n",
    "            self.id_conv = pre_conv(ni, nf, ks=1, act=None)\n",
    "\n",
    "        self.attention = fc.noop\n",
    "        if attn_channels:\n",
    "            self.attention = SelfAttention2D(nf, attn_channels)\n",
    "\n",
    "    def forward(self, x):\n",
    "        x, t = x\n",
    "        init_x = x\n",
    "        x = self.convs[0](x)\n",
    "        emb = self.emb_layer(t)[..., None, None]\n",
    "        x = x * (1 + emb[:, :self.nf])  + emb[:, self.nf:]\n",
    "        x = self.convs[1](x)\n",
    "        x = x + self.id_conv(init_x)\n",
    "        return x + self.attention(x)"
   ]
  },
  {
   "cell_type": "code",
   "execution_count": null,
   "id": "be7bf535-b4c4-4405-81f9-0119b9b2ce64",
   "metadata": {},
   "outputs": [
    {
     "data": {
      "text/plain": [
       "torch.Size([1, 3, 4, 4])"
      ]
     },
     "execution_count": null,
     "metadata": {},
     "output_type": "execute_result"
    }
   ],
   "source": [
    "EmbResBlock(8, 2, 3)((torch.empty(1, 2, 4, 4), torch.empty(1, 8))).shape"
   ]
  },
  {
   "cell_type": "code",
   "execution_count": null,
   "id": "f1880bbf-dcef-477c-bcbb-1c8f2bfc633e",
   "metadata": {},
   "outputs": [],
   "source": [
    "#| export\n",
    "\n",
    "class SaveModule:\n",
    "    def forward(self, x, *args, **kwargs):\n",
    "        self.output = super().forward(x, *args, **kwargs)\n",
    "        return self.output\n",
    "\n",
    "class SaveEmbResBlock(SaveModule, EmbResBlock):\n",
    "    ...\n",
    "\n",
    "class SaveConv(SaveModule, nn.Conv2d):\n",
    "    ..."
   ]
  },
  {
   "cell_type": "code",
   "execution_count": null,
   "id": "399c7ded-ca21-47db-9203-ff67c70c3ce2",
   "metadata": {},
   "outputs": [
    {
     "name": "stdout",
     "output_type": "stream",
     "text": [
      "torch.Size([1, 3, 4, 4])\n",
      "torch.Size([1, 3, 4, 4])\n"
     ]
    }
   ],
   "source": [
    "_ = SaveEmbResBlock(8, 2, 3)\n",
    "print(_((torch.empty(1, 2, 4, 4), torch.empty(1, 8))).shape)\n",
    "print(_.output.shape)\n",
    "del _"
   ]
  },
  {
   "cell_type": "code",
   "execution_count": null,
   "id": "a02d7839-2d9f-49ab-8e12-a3f6c72f8eee",
   "metadata": {},
   "outputs": [],
   "source": [
    "#| export\n",
    "\n",
    "class DownBlock(nn.Module):\n",
    "    def __init__(self, n_emb, ni, nf, add_down=True, num_layers=1, attn_channels=0):\n",
    "        super().__init__()\n",
    "\n",
    "        layers = [SaveEmbResBlock(n_emb, ni, nf)]\n",
    "        for i in range(1, num_layers):\n",
    "            layers.append(SaveEmbResBlock(n_emb, nf, nf, attn_channels=attn_channels))\n",
    "        self.layers = nn.Sequential(*layers)\n",
    "\n",
    "        self.add_down = add_down\n",
    "        if add_down:\n",
    "            self.down = SaveConv(nf, nf, kernel_size=3, stride=2, padding=1)\n",
    "\n",
    "    def forward(self, x):\n",
    "        x, t = x\n",
    "        self.output = []\n",
    "        for l in self.layers:\n",
    "            x = l((x, t))\n",
    "            self.output.append(l.output)\n",
    "        if self.add_down:\n",
    "            x = self.down(x)\n",
    "            self.output.append(self.down.output)\n",
    "        return x"
   ]
  },
  {
   "cell_type": "code",
   "execution_count": null,
   "id": "86999ee9-ca24-448d-9342-035ccd4e719b",
   "metadata": {},
   "outputs": [
    {
     "name": "stdout",
     "output_type": "stream",
     "text": [
      "torch.Size([1, 8, 3, 3])\n",
      "torch.Size([1, 8, 6, 6])\n",
      "torch.Size([1, 8, 6, 6])\n",
      "torch.Size([1, 8, 3, 3])\n"
     ]
    }
   ],
   "source": [
    "_ = DownBlock(5, 4, 8, num_layers=2, attn_channels=1)\n",
    "print(_((torch.empty(1,4,6,6), torch.empty(1,5))).shape)\n",
    "for o in _.output:\n",
    "    print(o.shape)\n",
    "del _"
   ]
  },
  {
   "cell_type": "code",
   "execution_count": null,
   "id": "0f01aac0-48f3-4574-87a7-520a2c16938f",
   "metadata": {},
   "outputs": [],
   "source": [
    "#| export\n",
    "\n",
    "class UpBlock(nn.Module):\n",
    "    def __init__(self, n_emb, ni, prev_nf, nf, add_up=True, num_layers=2, attn_channels=0):\n",
    "        super().__init__()\n",
    "        blocks = [EmbResBlock(n_emb, prev_nf + nf, nf, attn_channels=attn_channels)]\n",
    "        for i in range(1, num_layers - 1):\n",
    "            blocks.append(EmbResBlock(n_emb, nf + nf, nf, attn_channels=attn_channels))\n",
    "        blocks.append(EmbResBlock(n_emb, nf + ni, nf, attn_channels=attn_channels))\n",
    "        self.blocks = nn.Sequential(*blocks)\n",
    "        \n",
    "        if add_up:\n",
    "            self.up = upsample(nf)\n",
    "        else:\n",
    "            self.up = fc.noop\n",
    "\n",
    "    def forward(self, x, ups):\n",
    "        x, t = x\n",
    "        for i, block in enumerate(self.blocks):\n",
    "            x = block((torch.cat((x, ups[i]), dim=1), t))\n",
    "        return self.up(x)"
   ]
  },
  {
   "cell_type": "code",
   "execution_count": null,
   "id": "ef229600-ffe8-4ca6-a20a-c628fa720b57",
   "metadata": {},
   "outputs": [
    {
     "data": {
      "text/plain": [
       "torch.Size([1, 4, 2, 2])"
      ]
     },
     "execution_count": null,
     "metadata": {},
     "output_type": "execute_result"
    }
   ],
   "source": [
    "UpBlock(8,3,2,4, True, 3, attn_channels=4).eval()(\n",
    "    (torch.empty(1,4,1,1), torch.empty(1, 8)),\n",
    "    [torch.empty(1,2,1,1), torch.empty(1,4,1,1), torch.empty(1,3,1,1)]\n",
    ").shape"
   ]
  },
  {
   "cell_type": "code",
   "execution_count": null,
   "id": "36d92b4c-b707-45b8-86c0-6458e69414c3",
   "metadata": {},
   "outputs": [],
   "source": [
    "#| export\n",
    "\n",
    "class EmbUNetModel(nn.Module):\n",
    "    def __init__(self, in_channels=3, out_channels=3, nfs=(224, 448, 672, 896), num_layers=1, attn_channels=8, attn_start=1):\n",
    "        super().__init__()\n",
    "\n",
    "        self.n_emb_t = n_emb_t = nfs[0]\n",
    "        self.n_emb = n_emb = nfs[0]\n",
    "\n",
    "        self.pre_down = nn.Conv2d(in_channels, nfs[0], kernel_size=3, padding=1)\n",
    "        self.pre_down_emb = nn.Sequential(\n",
    "            lin(n_emb_t, n_emb, norm=nn.BatchNorm1d),\n",
    "            lin(n_emb, n_emb, norm=nn.BatchNorm1d)\n",
    "        )\n",
    "        self.down = nn.Sequential(*[\n",
    "            DownBlock(\n",
    "                n_emb,\n",
    "                nfs[max(0, i - 1)], nfs[i], \n",
    "                add_down=(i != len(nfs) - 1), num_layers=num_layers,\n",
    "                attn_channels=(attn_channels if i > attn_start else 0)\n",
    "            ) for i in range(len(nfs))\n",
    "        ])\n",
    "\n",
    "        self.pre_up = EmbResBlock(n_emb, nfs[-1])\n",
    "        self.up = nn.Sequential(*[\n",
    "            UpBlock(\n",
    "                n_emb,\n",
    "                nfs[max(0, i - 1)], nfs[min(len(nfs) - 1, i + 1)], nfs[i],\n",
    "                add_up=(i != 0), num_layers=num_layers+1,\n",
    "                attn_channels=attn_channels\n",
    "            ) for i in range(len(nfs) - 1, -1, -1)\n",
    "        ])\n",
    "        self.post_up = pre_conv(nfs[0], out_channels, norm=nn.BatchNorm2d)\n",
    "\n",
    "    def forward(self, x):\n",
    "        x, t = x\n",
    "        emb_t = timestamp_embedding(t, self.n_emb_t, 1000)\n",
    "        \n",
    "        x = self.pre_down(x)\n",
    "        emb = self.pre_down_emb(emb_t)\n",
    "        down_act = []\n",
    "        new = [x]\n",
    "\n",
    "        for b in self.down:\n",
    "            x = b((x, emb))\n",
    "        for b in self.down:\n",
    "            new = [new[0], *b.output[:-1]]\n",
    "            down_act.append(new)\n",
    "            new = [b.output[-1]]\n",
    "        down_act[-1].append(new[0])\n",
    "\n",
    "        x = self.pre_up((x, emb))\n",
    "        for i, b in enumerate(self.up):\n",
    "            x = b((x, emb), down_act[-i - 1][::-1])\n",
    "        x = self.post_up(x)\n",
    "\n",
    "        return x"
   ]
  },
  {
   "cell_type": "code",
   "execution_count": null,
   "id": "cef49ecd-a061-4276-abbb-e4d9b9473cb4",
   "metadata": {},
   "outputs": [
    {
     "data": {
      "text/plain": [
       "torch.Size([64, 1, 32, 32])"
      ]
     },
     "execution_count": null,
     "metadata": {},
     "output_type": "execute_result"
    }
   ],
   "source": [
    "xb[0].shape"
   ]
  },
  {
   "cell_type": "code",
   "execution_count": null,
   "id": "ed345b9f-f917-4b22-ac29-0485aaff8c0b",
   "metadata": {},
   "outputs": [
    {
     "data": {
      "text/plain": [
       "torch.Size([8, 1, 32, 32])"
      ]
     },
     "execution_count": null,
     "metadata": {},
     "output_type": "execute_result"
    }
   ],
   "source": [
    "EmbUNetModel(in_channels=1, out_channels=1, nfs=(16,32,32,32), num_layers=2)((xb[0][:8], xb[1][:8])).shape"
   ]
  },
  {
   "cell_type": "code",
   "execution_count": null,
   "id": "b8ef9cac-53bb-4bcf-9dc9-1c220b9893da",
   "metadata": {},
   "outputs": [],
   "source": [
    "init_w = partial(init_weights, leak=0.1)\n",
    "cbs = [DeviceCB(), ProgressCB(plot=True), MetricsCB()]\n",
    "opt_func = partial(optim.AdamW, eps=1e-4)"
   ]
  },
  {
   "cell_type": "code",
   "execution_count": null,
   "id": "72ff743d-1f9a-40cc-866b-2eeda9f050d7",
   "metadata": {},
   "outputs": [
    {
     "data": {
      "image/png": "[encoded data removed]",
      "text/plain": [
       "<Figure size 640x480 with 1 Axes>"
      ]
     },
     "metadata": {},
     "output_type": "display_data"
    }
   ],
   "source": [
    "set_seed(1103, False)\n",
    "TrainLearner(\n",
    "    EmbUNetModel(in_channels=1, out_channels=1, nfs=(32, 64, 128, 256), num_layers=2, attn_channels=32),#.apply(init_w),\n",
    "    dls, F.mse_loss, lr=0.1, cbs=[DeviceCB()], opt_func=opt_func\n",
    ").lr_find()"
   ]
  },
  {
   "cell_type": "code",
   "execution_count": null,
   "id": "5c5791c6-294b-4cbb-ae16-fe6a4e6afe8a",
   "metadata": {},
   "outputs": [
    {
     "data": {
      "text/html": [
       "\n",
       "<style>\n",
       "    /* Turns off some styling */\n",
       "    progress {\n",
       "        /* gets rid of default border in Firefox and Opera. */\n",
       "        border: none;\n",
       "        /* Needs to be in here for Safari polyfill so background images work as expected. */\n",
       "        background-size: auto;\n",
       "    }\n",
       "    progress:not([value]), progress:not([value])::-webkit-progress-bar {\n",
       "        background: repeating-linear-gradient(45deg, #7e7e7e, #7e7e7e 10px, #5c5c5c 10px, #5c5c5c 20px);\n",
       "    }\n",
       "    .progress-bar-interrupted, .progress-bar-interrupted::-webkit-progress-bar {\n",
       "        background: #F44336;\n",
       "    }\n",
       "</style>\n"
      ],
      "text/plain": [
       "<IPython.core.display.HTML object>"
      ]
     },
     "metadata": {},
     "output_type": "display_data"
    },
    {
     "data": {
      "text/html": [
       "<table border=\"1\" class=\"dataframe\">\n",
       "  <thead>\n",
       "    <tr style=\"text-align: left;\">\n",
       "      <th>loss</th>\n",
       "      <th>epoch</th>\n",
       "      <th>train</th>\n",
       "    </tr>\n",
       "  </thead>\n",
       "  <tbody>\n",
       "    <tr>\n",
       "      <td>0.140</td>\n",
       "      <td>0</td>\n",
       "      <td>train</td>\n",
       "    </tr>\n",
       "    <tr>\n",
       "      <td>0.088</td>\n",
       "      <td>0</td>\n",
       "      <td>valid</td>\n",
       "    </tr>\n",
       "    <tr>\n",
       "      <td>0.076</td>\n",
       "      <td>1</td>\n",
       "      <td>train</td>\n",
       "    </tr>\n",
       "    <tr>\n",
       "      <td>0.069</td>\n",
       "      <td>1</td>\n",
       "      <td>valid</td>\n",
       "    </tr>\n",
       "    <tr>\n",
       "      <td>0.067</td>\n",
       "      <td>2</td>\n",
       "      <td>train</td>\n",
       "    </tr>\n",
       "    <tr>\n",
       "      <td>0.066</td>\n",
       "      <td>2</td>\n",
       "      <td>valid</td>\n",
       "    </tr>\n",
       "    <tr>\n",
       "      <td>0.062</td>\n",
       "      <td>3</td>\n",
       "      <td>train</td>\n",
       "    </tr>\n",
       "    <tr>\n",
       "      <td>0.065</td>\n",
       "      <td>3</td>\n",
       "      <td>valid</td>\n",
       "    </tr>\n",
       "    <tr>\n",
       "      <td>0.060</td>\n",
       "      <td>4</td>\n",
       "      <td>train</td>\n",
       "    </tr>\n",
       "    <tr>\n",
       "      <td>0.061</td>\n",
       "      <td>4</td>\n",
       "      <td>valid</td>\n",
       "    </tr>\n",
       "    <tr>\n",
       "      <td>0.057</td>\n",
       "      <td>5</td>\n",
       "      <td>train</td>\n",
       "    </tr>\n",
       "    <tr>\n",
       "      <td>0.057</td>\n",
       "      <td>5</td>\n",
       "      <td>valid</td>\n",
       "    </tr>\n",
       "    <tr>\n",
       "      <td>0.056</td>\n",
       "      <td>6</td>\n",
       "      <td>train</td>\n",
       "    </tr>\n",
       "    <tr>\n",
       "      <td>0.058</td>\n",
       "      <td>6</td>\n",
       "      <td>valid</td>\n",
       "    </tr>\n",
       "    <tr>\n",
       "      <td>0.055</td>\n",
       "      <td>7</td>\n",
       "      <td>train</td>\n",
       "    </tr>\n",
       "    <tr>\n",
       "      <td>0.055</td>\n",
       "      <td>7</td>\n",
       "      <td>valid</td>\n",
       "    </tr>\n",
       "    <tr>\n",
       "      <td>0.053</td>\n",
       "      <td>8</td>\n",
       "      <td>train</td>\n",
       "    </tr>\n",
       "    <tr>\n",
       "      <td>0.052</td>\n",
       "      <td>8</td>\n",
       "      <td>valid</td>\n",
       "    </tr>\n",
       "    <tr>\n",
       "      <td>0.053</td>\n",
       "      <td>9</td>\n",
       "      <td>train</td>\n",
       "    </tr>\n",
       "    <tr>\n",
       "      <td>0.055</td>\n",
       "      <td>9</td>\n",
       "      <td>valid</td>\n",
       "    </tr>\n",
       "  </tbody>\n",
       "</table>"
      ],
      "text/plain": [
       "<IPython.core.display.HTML object>"
      ]
     },
     "metadata": {},
     "output_type": "display_data"
    },
    {
     "data": {
      "image/png": "[encoded data removed]",
      "text/plain": [
       "<Figure size 600x400 with 1 Axes>"
      ]
     },
     "metadata": {},
     "output_type": "display_data"
    }
   ],
   "source": [
    "set_seed(1103, False)\n",
    "lr = 0.002\n",
    "epochs = 10\n",
    "tmax = epochs * len(dls.train)\n",
    "sched = BatchSchedCB(partial(lr_scheduler.OneCycleLR, max_lr=lr, total_steps=tmax))\n",
    "cbs = [DeviceCB(), ProgressCB(True), MetricsCB(), sched]\n",
    "\n",
    "model = EmbUNetModel(in_channels=1, out_channels=1, nfs=(32, 64, 128, 256), num_layers=2, attn_channels=32)#.apply(init_w)\n",
    "\n",
    "opt_func = partial(optim.AdamW, eps=1e-4)\n",
    "\n",
    "learn = TrainLearner(model, dls, F.mse_loss, lr=lr, cbs=cbs, opt_func=opt_func)\n",
    "learn.fit(epochs)"
   ]
  },
  {
   "cell_type": "code",
   "execution_count": null,
   "id": "045c9016-5ad1-4dcf-9034-465292efe69a",
   "metadata": {},
   "outputs": [],
   "source": [
    "model_path = Path(\"models\")\n",
    "model_path.mkdir(exist_ok=True)\n",
    "torch.save(learn.model, model_path / \"28_diffusion_attn-uncond_10.pkl\")"
   ]
  },
  {
   "cell_type": "markdown",
   "id": "fba9d165-6322-4ac3-b979-b0de9b6b97b2",
   "metadata": {},
   "source": [
    "## Sampling"
   ]
  },
  {
   "cell_type": "code",
   "execution_count": null,
   "id": "352a39a1-6d00-46c2-af01-6487ac985161",
   "metadata": {},
   "outputs": [],
   "source": [
    "model_path = Path(\"models\")\n",
    "model = torch.load(model_path / \"28_diffusion_attn-uncond_10.pkl\").cuda()"
   ]
  },
  {
   "cell_type": "code",
   "execution_count": null,
   "id": "19b15b7f-2565-4c3a-af93-bc8df41e2bb3",
   "metadata": {},
   "outputs": [],
   "source": [
    "#| export\n",
    "\n",
    "def ddim_step(x_t, noise, alpha_bar_t, alpha_bar_t_minus_1, beta_bar_t, beta_bar_t_minus_1, eta, clipv=2):\n",
    "    # Equation (12)\n",
    "    predicted_coef = alpha_bar_t_minus_1.sqrt()\n",
    "    predicted_x0 = ((x_t - beta_bar_t.sqrt() * noise) * (1 / alpha_bar_t.sqrt())).clip(-clipv, clipv)\n",
    "    sigma_t = (beta_bar_t_minus_1 / beta_bar_t).sqrt() * (1 - alpha_bar_t / alpha_bar_t_minus_1).sqrt() * eta\n",
    "    if sigma_t.isnan().item():\n",
    "        sigma_t = 0\n",
    "    noise_coef = beta_bar_t_minus_1 - sigma_t ** 2\n",
    "    if noise_coef < 1e-5:\n",
    "        noise_coef = beta_bar_t_minus_1\n",
    "    direction_to_x_t = (beta_bar_t_minus_1 - sigma_t ** 2).sqrt() * noise\n",
    "    random_noise = sigma_t * torch.randn(x_t.shape, device=x_t.device)\n",
    "    x_t_minus_1 = predicted_coef * predicted_x0 + direction_to_x_t + random_noise\n",
    "    return x_t_minus_1"
   ]
  },
  {
   "cell_type": "code",
   "execution_count": null,
   "id": "f1cb7057-7e39-47cf-aa62-718528c1d048",
   "metadata": {},
   "outputs": [],
   "source": [
    "#| export\n",
    "\n",
    "def sample(f, model, sz, steps, eta=1., return_process=False):\n",
    "    ts = torch.linspace(0.99, 0, steps)\n",
    "    device = next(model.parameters()).device\n",
    "    with torch.no_grad():\n",
    "        x = torch.randn(sz, device=device)\n",
    "        bs = x.shape[0]\n",
    "        if return_process: process = []\n",
    "\n",
    "        for idx, t in enumerate(progress_bar(ts)):\n",
    "            t_batch = torch.full((bs,), t, dtype=torch.float, device=device)\n",
    "            noise_pred = model((x, t_batch))\n",
    "\n",
    "            alpha_bar_t = abar(t)\n",
    "            alpha_bar_t_minus_1 = abar(t - 1 / steps) if t >= 1 / steps else tensor(1)\n",
    "            beta_bar_t = 1 - alpha_bar_t\n",
    "            beta_bar_t_minus_1 = 1 - alpha_bar_t_minus_1\n",
    "            x = f(x, noise_pred, alpha_bar_t, alpha_bar_t_minus_1, beta_bar_t, beta_bar_t_minus_1, eta)\n",
    "\n",
    "            if return_process: process.append(to_cpu(x))\n",
    "    if return_process: return process\n",
    "    return to_cpu(x)"
   ]
  },
  {
   "cell_type": "code",
   "execution_count": null,
   "id": "d088ee6d-aebe-4bff-8a13-78a0d48c74f5",
   "metadata": {},
   "outputs": [],
   "source": [
    "bs2 = 256"
   ]
  },
  {
   "cell_type": "code",
   "execution_count": null,
   "id": "042de037-64e3-4cf4-90ce-e2ff53a89486",
   "metadata": {},
   "outputs": [
    {
     "data": {
      "text/html": [
       "\n",
       "<style>\n",
       "    /* Turns off some styling */\n",
       "    progress {\n",
       "        /* gets rid of default border in Firefox and Opera. */\n",
       "        border: none;\n",
       "        /* Needs to be in here for Safari polyfill so background images work as expected. */\n",
       "        background-size: auto;\n",
       "    }\n",
       "    progress:not([value]), progress:not([value])::-webkit-progress-bar {\n",
       "        background: repeating-linear-gradient(45deg, #7e7e7e, #7e7e7e 10px, #5c5c5c 10px, #5c5c5c 20px);\n",
       "    }\n",
       "    .progress-bar-interrupted, .progress-bar-interrupted::-webkit-progress-bar {\n",
       "        background: #F44336;\n",
       "    }\n",
       "</style>\n"
      ],
      "text/plain": [
       "<IPython.core.display.HTML object>"
      ]
     },
     "metadata": {},
     "output_type": "display_data"
    },
    {
     "data": {
      "text/html": [
       "\n",
       "    <div>\n",
       "      <progress value='100' class='' max='100' style='width:300px; height:20px; vertical-align: middle;'></progress>\n",
       "      100.00% [100/100 02:47&lt;00:00]\n",
       "    </div>\n",
       "    "
      ],
      "text/plain": [
       "<IPython.core.display.HTML object>"
      ]
     },
     "metadata": {},
     "output_type": "display_data"
    },
    {
     "data": {
      "text/plain": [
       "(tensor(-1.0461), tensor(1.5909))"
      ]
     },
     "execution_count": null,
     "metadata": {},
     "output_type": "execute_result"
    }
   ],
   "source": [
    "set_seed(1103, False)\n",
    "samples = sample(ddim_step, model, (bs2, 1, 32, 32), 100)\n",
    "samples.min(), samples.max()"
   ]
  },
  {
   "cell_type": "code",
   "execution_count": null,
   "id": "08d37128-5196-4e1b-8801-f24f46914a88",
   "metadata": {},
   "outputs": [
    {
     "data": {
      "image/png": "[encoded data removed]",
      "text/plain": [
       "<Figure size 400x400 with 16 Axes>"
      ]
     },
     "metadata": {},
     "output_type": "display_data"
    }
   ],
   "source": [
    "show_images(samples[:16], imsize=1);"
   ]
  },
  {
   "cell_type": "code",
   "execution_count": null,
   "id": "3098b6a5-1b7d-4a49-8eb3-71e047602e88",
   "metadata": {},
   "outputs": [
    {
     "data": {
      "text/plain": [
       "(tensor(-1.), tensor(1.))"
      ]
     },
     "execution_count": null,
     "metadata": {},
     "output_type": "execute_result"
    }
   ],
   "source": [
    "@inplace\n",
    "def transformi2(b):\n",
    "    b[\"image\"] = [TF.pad(TF.to_tensor(i), padding=2, fill=0, padding_mode=\"constant\") * 2 - 1 for i in b[\"image\"]]\n",
    "dst2 = ds.with_transform(transformi2)\n",
    "\n",
    "dls2 = DataLoaders.from_dd(dst2, bs2)\n",
    "xb, yb = next(iter(dls2.train))\n",
    "\n",
    "fid_model = torch.load('models/14_aug_for_fid.pkl')\n",
    "del fid_model[8]\n",
    "del fid_model[7]\n",
    "\n",
    "image_eval = ImageEval(fid_model, dls2, cbs=[DeviceCB()])\n",
    "xb.min(), xb.max()"
   ]
  },
  {
   "cell_type": "code",
   "execution_count": null,
   "id": "ace5f651-105d-4486-91ac-ad814e3fa3d9",
   "metadata": {},
   "outputs": [
    {
     "data": {
      "text/plain": [
       "(33.993896484375, 0.15245914459228516)"
      ]
     },
     "execution_count": null,
     "metadata": {},
     "output_type": "execute_result"
    }
   ],
   "source": [
    "image_eval.fid(samples), image_eval.kid(samples)"
   ]
  },
  {
   "cell_type": "code",
   "execution_count": null,
   "id": "6628d769-cba6-4a78-9eff-a333c2684331",
   "metadata": {},
   "outputs": [
    {
     "data": {
      "text/plain": [
       "(33.5345458984375, 0.1479034423828125)"
      ]
     },
     "execution_count": null,
     "metadata": {},
     "output_type": "execute_result"
    }
   ],
   "source": [
    "samples = samples.clip(-1, 1)\n",
    "image_eval.fid(samples), image_eval.kid(samples)"
   ]
  },
  {
   "cell_type": "code",
   "execution_count": null,
   "id": "e06d992c-95c7-459b-9de7-7b77f87065b6",
   "metadata": {},
   "outputs": [
    {
     "data": {
      "text/plain": [
       "(15.4024658203125, -0.006153106689453125)"
      ]
     },
     "execution_count": null,
     "metadata": {},
     "output_type": "execute_result"
    }
   ],
   "source": [
    "image_eval.fid(xb), image_eval.kid(xb)"
   ]
  },
  {
   "cell_type": "markdown",
   "id": "7d7b6294-ff7a-421a-83e9-4299fd42cab3",
   "metadata": {},
   "source": [
    "## Conditional Model"
   ]
  },
  {
   "cell_type": "code",
   "execution_count": null,
   "id": "b61566a9-a861-4756-be61-645156abb74d",
   "metadata": {},
   "outputs": [],
   "source": [
    "def collate_ddpm(b, fm_x=\"image\", fm_y=\"label\"):\n",
    "    b = default_collate(b)\n",
    "    (x, t), y = add_noise(b[fm_x])\n",
    "    l = b[fm_y]\n",
    "    return (x, t, l), y"
   ]
  },
  {
   "cell_type": "code",
   "execution_count": null,
   "id": "f0f27d8e-2cfc-4c1c-9ca3-e49daa95f9bb",
   "metadata": {},
   "outputs": [],
   "source": [
    "@inplace\n",
    "def transformi(b):\n",
    "    b[\"image\"] = [TF.pad(TF.to_tensor(i), padding=2, fill=0, padding_mode=\"constant\") * 2 - 1 for i in b[\"image\"]]\n",
    "dst = ds.with_transform(transformi)\n",
    "\n",
    "bs = 64\n",
    "dls = DataLoaders(dl_ddpm(dst[\"train\"], bs), dl_ddpm(dst[\"test\"], bs))\n",
    "xb, yb = next(iter(dls.train))"
   ]
  },
  {
   "cell_type": "code",
   "execution_count": null,
   "id": "bca91ae9-ef11-4fc5-a247-c36d901aa711",
   "metadata": {},
   "outputs": [],
   "source": [
    "class CondUNetModel(nn.Module):\n",
    "    def __init__(self, n_classes, in_channels=3, out_channels=3, nfs=(224, 448, 672, 896), num_layers=1, attn_channels=8, attn_start=1):\n",
    "        super().__init__()\n",
    "\n",
    "        self.n_emb_t = n_emb_t = nfs[0]\n",
    "        self.n_emb = n_emb = nfs[0]\n",
    "\n",
    "        self.class_emb = nn.Embedding(n_classes, n_emb)\n",
    "\n",
    "        self.pre_down = nn.Conv2d(in_channels, nfs[0], kernel_size=3, padding=1)\n",
    "        self.pre_down_emb = nn.Sequential(\n",
    "            lin(n_emb_t, n_emb, norm=nn.BatchNorm1d),\n",
    "            lin(n_emb, n_emb, norm=nn.BatchNorm1d)\n",
    "        )\n",
    "        self.pre_down_class = lin(n_emb, n_emb)\n",
    "        self.down = nn.Sequential(*[\n",
    "            DownBlock(\n",
    "                n_emb,\n",
    "                nfs[max(0, i - 1)], nfs[i], \n",
    "                add_down=(i != len(nfs) - 1), num_layers=num_layers,\n",
    "                attn_channels=(attn_channels if i > attn_start else 0)\n",
    "            ) for i in range(len(nfs))\n",
    "        ])\n",
    "\n",
    "        self.pre_up = EmbResBlock(n_emb, nfs[-1])\n",
    "        self.up = nn.Sequential(*[\n",
    "            UpBlock(\n",
    "                n_emb,\n",
    "                nfs[max(0, i - 1)], nfs[min(len(nfs) - 1, i + 1)], nfs[i],\n",
    "                add_up=(i != 0), num_layers=num_layers+1,\n",
    "                attn_channels=attn_channels\n",
    "            ) for i in range(len(nfs) - 1, -1, -1)\n",
    "        ])\n",
    "        self.post_up = pre_conv(nfs[0], out_channels, norm=nn.BatchNorm2d)\n",
    "\n",
    "    def forward(self, x):\n",
    "        x, t, l = x\n",
    "        emb_t = timestamp_embedding(t, self.n_emb_t, 1000)\n",
    "\n",
    "        emb_class = self.class_emb(l)\n",
    "        x = self.pre_down(x)\n",
    "        emb = self.pre_down_emb(emb_t) + self.pre_down_class(emb_class)\n",
    "        down_act = []\n",
    "        new = [x]\n",
    "\n",
    "        for b in self.down:\n",
    "            x = b((x, emb))\n",
    "        for b in self.down:\n",
    "            new = [new[0], *b.output[:-1]]\n",
    "            down_act.append(new)\n",
    "            new = [b.output[-1]]\n",
    "        down_act[-1].append(new[0])\n",
    "\n",
    "        x = self.pre_up((x, emb))\n",
    "        for i, b in enumerate(self.up):\n",
    "            x = b((x, emb), down_act[-i - 1][::-1])\n",
    "        x = self.post_up(x)\n",
    "\n",
    "        return x"
   ]
  },
  {
   "cell_type": "code",
   "execution_count": null,
   "id": "179a20e0-120c-44fe-81d6-9fb28847e62c",
   "metadata": {},
   "outputs": [
    {
     "data": {
      "text/plain": [
       "torch.Size([8, 1, 32, 32])"
      ]
     },
     "execution_count": null,
     "metadata": {},
     "output_type": "execute_result"
    }
   ],
   "source": [
    "CondUNetModel(n_classes=10, in_channels=1, out_channels=1, nfs=(16,32,32,32), num_layers=2)((xb[0][:8], xb[1][:8], xb[2][:8])).shape"
   ]
  },
  {
   "cell_type": "code",
   "execution_count": null,
   "id": "c2365297-5aa3-4b19-b3d4-a5221c126928",
   "metadata": {},
   "outputs": [
    {
     "data": {
      "text/html": [
       "\n",
       "<style>\n",
       "    /* Turns off some styling */\n",
       "    progress {\n",
       "        /* gets rid of default border in Firefox and Opera. */\n",
       "        border: none;\n",
       "        /* Needs to be in here for Safari polyfill so background images work as expected. */\n",
       "        background-size: auto;\n",
       "    }\n",
       "    progress:not([value]), progress:not([value])::-webkit-progress-bar {\n",
       "        background: repeating-linear-gradient(45deg, #7e7e7e, #7e7e7e 10px, #5c5c5c 10px, #5c5c5c 20px);\n",
       "    }\n",
       "    .progress-bar-interrupted, .progress-bar-interrupted::-webkit-progress-bar {\n",
       "        background: #F44336;\n",
       "    }\n",
       "</style>\n"
      ],
      "text/plain": [
       "<IPython.core.display.HTML object>"
      ]
     },
     "metadata": {},
     "output_type": "display_data"
    },
    {
     "data": {
      "text/html": [
       "<table border=\"1\" class=\"dataframe\">\n",
       "  <thead>\n",
       "    <tr style=\"text-align: left;\">\n",
       "      <th>loss</th>\n",
       "      <th>epoch</th>\n",
       "      <th>train</th>\n",
       "    </tr>\n",
       "  </thead>\n",
       "  <tbody>\n",
       "    <tr>\n",
       "      <td>0.137</td>\n",
       "      <td>0</td>\n",
       "      <td>train</td>\n",
       "    </tr>\n",
       "    <tr>\n",
       "      <td>0.092</td>\n",
       "      <td>0</td>\n",
       "      <td>valid</td>\n",
       "    </tr>\n",
       "    <tr>\n",
       "      <td>0.076</td>\n",
       "      <td>1</td>\n",
       "      <td>train</td>\n",
       "    </tr>\n",
       "    <tr>\n",
       "      <td>0.073</td>\n",
       "      <td>1</td>\n",
       "      <td>valid</td>\n",
       "    </tr>\n",
       "    <tr>\n",
       "      <td>0.066</td>\n",
       "      <td>2</td>\n",
       "      <td>train</td>\n",
       "    </tr>\n",
       "    <tr>\n",
       "      <td>0.065</td>\n",
       "      <td>2</td>\n",
       "      <td>valid</td>\n",
       "    </tr>\n",
       "    <tr>\n",
       "      <td>0.062</td>\n",
       "      <td>3</td>\n",
       "      <td>train</td>\n",
       "    </tr>\n",
       "    <tr>\n",
       "      <td>0.063</td>\n",
       "      <td>3</td>\n",
       "      <td>valid</td>\n",
       "    </tr>\n",
       "    <tr>\n",
       "      <td>0.060</td>\n",
       "      <td>4</td>\n",
       "      <td>train</td>\n",
       "    </tr>\n",
       "    <tr>\n",
       "      <td>0.060</td>\n",
       "      <td>4</td>\n",
       "      <td>valid</td>\n",
       "    </tr>\n",
       "    <tr>\n",
       "      <td>0.057</td>\n",
       "      <td>5</td>\n",
       "      <td>train</td>\n",
       "    </tr>\n",
       "    <tr>\n",
       "      <td>0.056</td>\n",
       "      <td>5</td>\n",
       "      <td>valid</td>\n",
       "    </tr>\n",
       "    <tr>\n",
       "      <td>0.055</td>\n",
       "      <td>6</td>\n",
       "      <td>train</td>\n",
       "    </tr>\n",
       "    <tr>\n",
       "      <td>0.054</td>\n",
       "      <td>6</td>\n",
       "      <td>valid</td>\n",
       "    </tr>\n",
       "    <tr>\n",
       "      <td>0.054</td>\n",
       "      <td>7</td>\n",
       "      <td>train</td>\n",
       "    </tr>\n",
       "    <tr>\n",
       "      <td>0.054</td>\n",
       "      <td>7</td>\n",
       "      <td>valid</td>\n",
       "    </tr>\n",
       "    <tr>\n",
       "      <td>0.053</td>\n",
       "      <td>8</td>\n",
       "      <td>train</td>\n",
       "    </tr>\n",
       "    <tr>\n",
       "      <td>0.053</td>\n",
       "      <td>8</td>\n",
       "      <td>valid</td>\n",
       "    </tr>\n",
       "    <tr>\n",
       "      <td>0.052</td>\n",
       "      <td>9</td>\n",
       "      <td>train</td>\n",
       "    </tr>\n",
       "    <tr>\n",
       "      <td>0.052</td>\n",
       "      <td>9</td>\n",
       "      <td>valid</td>\n",
       "    </tr>\n",
       "  </tbody>\n",
       "</table>"
      ],
      "text/plain": [
       "<IPython.core.display.HTML object>"
      ]
     },
     "metadata": {},
     "output_type": "display_data"
    },
    {
     "data": {
      "image/png": "[encoded data removed]",
      "text/plain": [
       "<Figure size 600x400 with 1 Axes>"
      ]
     },
     "metadata": {},
     "output_type": "display_data"
    }
   ],
   "source": [
    "set_seed(1103, False)\n",
    "lr = 0.002\n",
    "epochs = 10\n",
    "tmax = epochs * len(dls.train)\n",
    "sched = BatchSchedCB(partial(lr_scheduler.OneCycleLR, max_lr=lr, total_steps=tmax))\n",
    "cbs = [DeviceCB(), ProgressCB(True), MetricsCB(), sched]\n",
    "\n",
    "model = CondUNetModel(n_classes=10, in_channels=1, out_channels=1, nfs=(32, 64, 128, 256), num_layers=2, attn_channels=32)#.apply(init_w)\n",
    "\n",
    "opt_func = partial(optim.AdamW, eps=1e-4)\n",
    "\n",
    "learn = TrainLearner(model, dls, F.mse_loss, lr=lr, cbs=cbs, opt_func=opt_func)\n",
    "learn.fit(epochs)"
   ]
  },
  {
   "cell_type": "code",
   "execution_count": null,
   "id": "ba0b9adc-2fbc-4847-8d23-d509351c6129",
   "metadata": {},
   "outputs": [],
   "source": [
    "model_path = Path(\"models\")\n",
    "model_path.mkdir(exist_ok=True)\n",
    "torch.save(learn.model, model_path / \"28_diffusion_attn-cond_10.pkl\")"
   ]
  },
  {
   "cell_type": "code",
   "execution_count": null,
   "id": "d7776cb4-c965-4bba-96b4-083917e7aa49",
   "metadata": {},
   "outputs": [],
   "source": [
    "model_path = Path(\"models\")\n",
    "model = torch.load(model_path / \"28_diffusion_attn-cond_10.pkl\").cuda()"
   ]
  },
  {
   "cell_type": "code",
   "execution_count": null,
   "id": "d0edc13a-2207-4083-b149-3e0e3df2e26c",
   "metadata": {},
   "outputs": [],
   "source": [
    "#| export\n",
    "def cond_sample(c, f, model, sz, steps, eta=1., return_process=False):\n",
    "    ts = torch.linspace(0.99, 0, steps)\n",
    "    device = next(model.parameters()).device\n",
    "    with torch.no_grad():\n",
    "        x = torch.randn(sz, device=device)\n",
    "        bs = x.shape[0]\n",
    "        if return_process: process = []\n",
    "\n",
    "        c_batch = torch.full((bs,), c, dtype=torch.long, device=device)\n",
    "        for idx, t in enumerate(progress_bar(ts)):\n",
    "            t_batch = torch.full((bs,), t, dtype=torch.float, device=device)\n",
    "            noise_pred = model((x, t_batch, c_batch))\n",
    "\n",
    "            alpha_bar_t = abar(t)\n",
    "            alpha_bar_t_minus_1 = abar(t - 1 / steps) if t >= 1 / steps else tensor(1)\n",
    "            beta_bar_t = 1 - alpha_bar_t\n",
    "            beta_bar_t_minus_1 = 1 - alpha_bar_t_minus_1\n",
    "            x = f(x, noise_pred, alpha_bar_t, alpha_bar_t_minus_1, beta_bar_t, beta_bar_t_minus_1, eta)\n",
    "\n",
    "            if return_process: process.append(to_cpu(x))\n",
    "    if return_process: return process\n",
    "    return to_cpu(x)"
   ]
  },
  {
   "cell_type": "code",
   "execution_count": null,
   "id": "7270d87a-3573-488d-a2b9-b5bab184c4c0",
   "metadata": {},
   "outputs": [
    {
     "data": {
      "text/plain": [
       "['T - shirt / top',\n",
       " 'Trouser',\n",
       " 'Pullover',\n",
       " 'Dress',\n",
       " 'Coat',\n",
       " 'Sandal',\n",
       " 'Shirt',\n",
       " 'Sneaker',\n",
       " 'Bag',\n",
       " 'Ankle boot']"
      ]
     },
     "execution_count": null,
     "metadata": {},
     "output_type": "execute_result"
    }
   ],
   "source": [
    "class2name = dst[\"train\"].features[fm_y].names\n",
    "class2name"
   ]
  },
  {
   "cell_type": "code",
   "execution_count": null,
   "id": "9fac50cd-0a2d-4d1d-9828-1e55a34a4253",
   "metadata": {},
   "outputs": [
    {
     "data": {
      "text/html": [
       "\n",
       "<style>\n",
       "    /* Turns off some styling */\n",
       "    progress {\n",
       "        /* gets rid of default border in Firefox and Opera. */\n",
       "        border: none;\n",
       "        /* Needs to be in here for Safari polyfill so background images work as expected. */\n",
       "        background-size: auto;\n",
       "    }\n",
       "    progress:not([value]), progress:not([value])::-webkit-progress-bar {\n",
       "        background: repeating-linear-gradient(45deg, #7e7e7e, #7e7e7e 10px, #5c5c5c 10px, #5c5c5c 20px);\n",
       "    }\n",
       "    .progress-bar-interrupted, .progress-bar-interrupted::-webkit-progress-bar {\n",
       "        background: #F44336;\n",
       "    }\n",
       "</style>\n"
      ],
      "text/plain": [
       "<IPython.core.display.HTML object>"
      ]
     },
     "metadata": {},
     "output_type": "display_data"
    },
    {
     "data": {
      "text/html": [
       "\n",
       "    <div>\n",
       "      <progress value='100' class='' max='100' style='width:300px; height:20px; vertical-align: middle;'></progress>\n",
       "      100.00% [100/100 00:09&lt;00:00]\n",
       "    </div>\n",
       "    "
      ],
      "text/plain": [
       "<IPython.core.display.HTML object>"
      ]
     },
     "metadata": {},
     "output_type": "display_data"
    },
    {
     "data": {
      "image/png": "[encoded data removed]",
      "text/plain": [
       "<Figure size 400x400 with 16 Axes>"
      ]
     },
     "metadata": {},
     "output_type": "display_data"
    }
   ],
   "source": [
    "set_seed(1103, False)\n",
    "c = 1\n",
    "samples = cond_sample(c, ddim_step, model, (16, 1, 32, 32), 100)\n",
    "show_images(samples[:16], imsize=1, suptitle=class2name[c]);"
   ]
  },
  {
   "cell_type": "code",
   "execution_count": null,
   "id": "e0db5b4b-d662-4521-83a0-5f384ef655f7",
   "metadata": {},
   "outputs": [
    {
     "data": {
      "text/html": [
       "\n",
       "<style>\n",
       "    /* Turns off some styling */\n",
       "    progress {\n",
       "        /* gets rid of default border in Firefox and Opera. */\n",
       "        border: none;\n",
       "        /* Needs to be in here for Safari polyfill so background images work as expected. */\n",
       "        background-size: auto;\n",
       "    }\n",
       "    progress:not([value]), progress:not([value])::-webkit-progress-bar {\n",
       "        background: repeating-linear-gradient(45deg, #7e7e7e, #7e7e7e 10px, #5c5c5c 10px, #5c5c5c 20px);\n",
       "    }\n",
       "    .progress-bar-interrupted, .progress-bar-interrupted::-webkit-progress-bar {\n",
       "        background: #F44336;\n",
       "    }\n",
       "</style>\n"
      ],
      "text/plain": [
       "<IPython.core.display.HTML object>"
      ]
     },
     "metadata": {},
     "output_type": "display_data"
    },
    {
     "data": {
      "text/html": [
       "\n",
       "    <div>\n",
       "      <progress value='100' class='' max='100' style='width:300px; height:20px; vertical-align: middle;'></progress>\n",
       "      100.00% [100/100 00:08&lt;00:00]\n",
       "    </div>\n",
       "    "
      ],
      "text/plain": [
       "<IPython.core.display.HTML object>"
      ]
     },
     "metadata": {},
     "output_type": "display_data"
    },
    {
     "data": {
      "image/png": "[encoded data removed]",
      "text/plain": [
       "<Figure size 400x400 with 16 Axes>"
      ]
     },
     "metadata": {},
     "output_type": "display_data"
    }
   ],
   "source": [
    "set_seed(1103, False)\n",
    "c = 3\n",
    "samples = cond_sample(c, ddim_step, model, (16, 1, 32, 32), 100)\n",
    "show_images(samples[:16], imsize=1, suptitle=class2name[c]);"
   ]
  },
  {
   "cell_type": "markdown",
   "id": "fc1036fe-504f-48bf-8883-25935e0eef8e",
   "metadata": {},
   "source": [
    "# Export"
   ]
  },
  {
   "cell_type": "code",
   "execution_count": null,
   "id": "b1462fd1-b48b-4457-b417-d25847c1abe6",
   "metadata": {},
   "outputs": [],
   "source": [
    "import nbdev; nbdev.nbdev_export()"
   ]
  },
  {
   "cell_type": "code",
   "execution_count": null,
   "id": "ddb27ec5-30b2-486d-8c47-8c4a5b15a472",
   "metadata": {},
   "outputs": [],
   "source": []
  }
 ],
 "metadata": {
  "kernelspec": {
   "display_name": "python3",
   "language": "python",
   "name": "python3"
  }
 },
 "nbformat": 4,
 "nbformat_minor": 5
}
