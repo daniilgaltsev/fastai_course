{
 "cells": [
  {
   "cell_type": "markdown",
   "id": "c7a9eb40-1dd8-4d81-a6a3-e9fae2913bc7",
   "metadata": {},
   "source": [
    "## Get data"
   ]
  },
  {
   "cell_type": "code",
   "execution_count": null,
   "id": "908514bc-c50c-4dda-962d-6a1ab1e22bdf",
   "metadata": {},
   "outputs": [],
   "source": [
    "mnist_url = \"https://github.com/mnielsen/neural-networks-and-deep-learning/raw/master/data/mnist.pkl.gz\""
   ]
  },
  {
   "cell_type": "code",
   "execution_count": null,
   "id": "7fa7fe62-9dc6-4ea7-9011-fb2270b1d227",
   "metadata": {},
   "outputs": [],
   "source": [
    "from pathlib import Path"
   ]
  },
  {
   "cell_type": "code",
   "execution_count": null,
   "id": "a792e318-78ad-4e10-a78c-0cd761c428e0",
   "metadata": {},
   "outputs": [],
   "source": [
    "data_dir = Path(\"data\")\n",
    "data_dir.mkdir(exist_ok=True)"
   ]
  },
  {
   "cell_type": "code",
   "execution_count": null,
   "id": "6abc6c33-49fc-4894-9312-f88bbfd07b70",
   "metadata": {},
   "outputs": [],
   "source": [
    "import urllib"
   ]
  },
  {
   "cell_type": "code",
   "execution_count": null,
   "id": "dcbc975c-7161-47a9-b778-7c64c3f26b5c",
   "metadata": {},
   "outputs": [],
   "source": [
    "mnist_filepath = data_dir / \"mnist.pkl.gz\""
   ]
  },
  {
   "cell_type": "code",
   "execution_count": null,
   "id": "10224f43-9665-4d91-a810-53e8d4a147db",
   "metadata": {},
   "outputs": [],
   "source": [
    "if not mnist_filepath.exists():\n",
    "    urllib.request.urlretrieve(mnist_url, mnist_filepath)"
   ]
  },
  {
   "cell_type": "code",
   "execution_count": null,
   "id": "27f434da-aa40-4354-95c4-0495f24ac9e3",
   "metadata": {},
   "outputs": [],
   "source": [
    "import gzip\n",
    "import pickle"
   ]
  },
  {
   "cell_type": "code",
   "execution_count": null,
   "id": "b446f3ec-b122-4e56-afd8-e2cbd1651588",
   "metadata": {},
   "outputs": [
    {
     "data": {
      "text/plain": [
       "\u001b[0;31mSignature:\u001b[0m\n",
       "\u001b[0mgzip\u001b[0m\u001b[0;34m.\u001b[0m\u001b[0mopen\u001b[0m\u001b[0;34m(\u001b[0m\u001b[0;34m\u001b[0m\n",
       "\u001b[0;34m\u001b[0m    \u001b[0mfilename\u001b[0m\u001b[0;34m,\u001b[0m\u001b[0;34m\u001b[0m\n",
       "\u001b[0;34m\u001b[0m    \u001b[0mmode\u001b[0m\u001b[0;34m=\u001b[0m\u001b[0;34m'rb'\u001b[0m\u001b[0;34m,\u001b[0m\u001b[0;34m\u001b[0m\n",
       "\u001b[0;34m\u001b[0m    \u001b[0mcompresslevel\u001b[0m\u001b[0;34m=\u001b[0m\u001b[0;36m9\u001b[0m\u001b[0;34m,\u001b[0m\u001b[0;34m\u001b[0m\n",
       "\u001b[0;34m\u001b[0m    \u001b[0mencoding\u001b[0m\u001b[0;34m=\u001b[0m\u001b[0;32mNone\u001b[0m\u001b[0;34m,\u001b[0m\u001b[0;34m\u001b[0m\n",
       "\u001b[0;34m\u001b[0m    \u001b[0merrors\u001b[0m\u001b[0;34m=\u001b[0m\u001b[0;32mNone\u001b[0m\u001b[0;34m,\u001b[0m\u001b[0;34m\u001b[0m\n",
       "\u001b[0;34m\u001b[0m    \u001b[0mnewline\u001b[0m\u001b[0;34m=\u001b[0m\u001b[0;32mNone\u001b[0m\u001b[0;34m,\u001b[0m\u001b[0;34m\u001b[0m\n",
       "\u001b[0;34m\u001b[0m\u001b[0;34m)\u001b[0m\u001b[0;34m\u001b[0m\u001b[0;34m\u001b[0m\u001b[0m\n",
       "\u001b[0;31mDocstring:\u001b[0m\n",
       "Open a gzip-compressed file in binary or text mode.\n",
       "\n",
       "The filename argument can be an actual filename (a str or bytes object), or\n",
       "an existing file object to read from or write to.\n",
       "\n",
       "The mode argument can be \"r\", \"rb\", \"w\", \"wb\", \"x\", \"xb\", \"a\" or \"ab\" for\n",
       "binary mode, or \"rt\", \"wt\", \"xt\" or \"at\" for text mode. The default mode is\n",
       "\"rb\", and the default compresslevel is 9.\n",
       "\n",
       "For binary mode, this function is equivalent to the GzipFile constructor:\n",
       "GzipFile(filename, mode, compresslevel). In this case, the encoding, errors\n",
       "and newline arguments must not be provided.\n",
       "\n",
       "For text mode, a GzipFile object is created, and wrapped in an\n",
       "io.TextIOWrapper instance with the specified encoding, error handling\n",
       "behavior, and line ending(s).\n",
       "\u001b[0;31mFile:\u001b[0m      ~/miniforge3/envs/fastai/lib/python3.11/gzip.py\n",
       "\u001b[0;31mType:\u001b[0m      function"
      ]
     },
     "metadata": {},
     "output_type": "display_data"
    }
   ],
   "source": [
    "gzip.open?"
   ]
  },
  {
   "cell_type": "code",
   "execution_count": null,
   "id": "50fc0500-7b21-493b-84c4-286680874c03",
   "metadata": {},
   "outputs": [
    {
     "data": {
      "text/plain": [
       "\u001b[0;31mSignature:\u001b[0m\n",
       "\u001b[0mpickle\u001b[0m\u001b[0;34m.\u001b[0m\u001b[0mload\u001b[0m\u001b[0;34m(\u001b[0m\u001b[0;34m\u001b[0m\n",
       "\u001b[0;34m\u001b[0m    \u001b[0mfile\u001b[0m\u001b[0;34m,\u001b[0m\u001b[0;34m\u001b[0m\n",
       "\u001b[0;34m\u001b[0m    \u001b[0;34m*\u001b[0m\u001b[0;34m,\u001b[0m\u001b[0;34m\u001b[0m\n",
       "\u001b[0;34m\u001b[0m    \u001b[0mfix_imports\u001b[0m\u001b[0;34m=\u001b[0m\u001b[0;32mTrue\u001b[0m\u001b[0;34m,\u001b[0m\u001b[0;34m\u001b[0m\n",
       "\u001b[0;34m\u001b[0m    \u001b[0mencoding\u001b[0m\u001b[0;34m=\u001b[0m\u001b[0;34m'ASCII'\u001b[0m\u001b[0;34m,\u001b[0m\u001b[0;34m\u001b[0m\n",
       "\u001b[0;34m\u001b[0m    \u001b[0merrors\u001b[0m\u001b[0;34m=\u001b[0m\u001b[0;34m'strict'\u001b[0m\u001b[0;34m,\u001b[0m\u001b[0;34m\u001b[0m\n",
       "\u001b[0;34m\u001b[0m    \u001b[0mbuffers\u001b[0m\u001b[0;34m=\u001b[0m\u001b[0;34m(\u001b[0m\u001b[0;34m)\u001b[0m\u001b[0;34m,\u001b[0m\u001b[0;34m\u001b[0m\n",
       "\u001b[0;34m\u001b[0m\u001b[0;34m)\u001b[0m\u001b[0;34m\u001b[0m\u001b[0;34m\u001b[0m\u001b[0m\n",
       "\u001b[0;31mDocstring:\u001b[0m\n",
       "Read and return an object from the pickle data stored in a file.\n",
       "\n",
       "This is equivalent to ``Unpickler(file).load()``, but may be more\n",
       "efficient.\n",
       "\n",
       "The protocol version of the pickle is detected automatically, so no\n",
       "protocol argument is needed.  Bytes past the pickled object's\n",
       "representation are ignored.\n",
       "\n",
       "The argument *file* must have two methods, a read() method that takes\n",
       "an integer argument, and a readline() method that requires no\n",
       "arguments.  Both methods should return bytes.  Thus *file* can be a\n",
       "binary file object opened for reading, an io.BytesIO object, or any\n",
       "other custom object that meets this interface.\n",
       "\n",
       "Optional keyword arguments are *fix_imports*, *encoding* and *errors*,\n",
       "which are used to control compatibility support for pickle stream\n",
       "generated by Python 2.  If *fix_imports* is True, pickle will try to\n",
       "map the old Python 2 names to the new names used in Python 3.  The\n",
       "*encoding* and *errors* tell pickle how to decode 8-bit string\n",
       "instances pickled by Python 2; these default to 'ASCII' and 'strict',\n",
       "respectively.  The *encoding* can be 'bytes' to read these 8-bit\n",
       "string instances as bytes objects.\n",
       "\u001b[0;31mType:\u001b[0m      builtin_function_or_method"
      ]
     },
     "metadata": {},
     "output_type": "display_data"
    }
   ],
   "source": [
    "pickle.load?"
   ]
  },
  {
   "cell_type": "code",
   "execution_count": null,
   "id": "7bdccfa0-096c-43b3-824c-07bd9acb2427",
   "metadata": {},
   "outputs": [],
   "source": [
    "with gzip.open(mnist_filepath) as f:\n",
    "    mnist = pickle.load(f, encoding=\"bytes\")\n",
    "        "
   ]
  },
  {
   "cell_type": "code",
   "execution_count": null,
   "id": "445dc755-c045-40d5-81d6-d9b71aff6ad4",
   "metadata": {},
   "outputs": [
    {
     "data": {
      "text/plain": [
       "(tuple, 3)"
      ]
     },
     "execution_count": null,
     "metadata": {},
     "output_type": "execute_result"
    }
   ],
   "source": [
    "type(mnist), len(mnist)"
   ]
  },
  {
   "cell_type": "code",
   "execution_count": null,
   "id": "19940f7d-f493-4dc2-8a4f-ddb4aa381499",
   "metadata": {},
   "outputs": [
    {
     "data": {
      "text/plain": [
       "(tuple, 2)"
      ]
     },
     "execution_count": null,
     "metadata": {},
     "output_type": "execute_result"
    }
   ],
   "source": [
    "type(mnist[0]), len(mnist[0])"
   ]
  },
  {
   "cell_type": "code",
   "execution_count": null,
   "id": "d46910bf-5859-4ed4-9207-47d1c4d9c302",
   "metadata": {},
   "outputs": [
    {
     "name": "stdout",
     "output_type": "stream",
     "text": [
      "(50000, 784) (50000,)\n",
      "(10000, 784) (10000,)\n",
      "(10000, 784) (10000,)\n"
     ]
    }
   ],
   "source": [
    "for i in range(3):\n",
    "    print(mnist[i][0].shape, mnist[i][1].shape)"
   ]
  },
  {
   "cell_type": "code",
   "execution_count": null,
   "id": "a44a4fef-f603-42af-abe6-c7191b3b14cf",
   "metadata": {},
   "outputs": [],
   "source": [
    "x_train = mnist[0][0]\n",
    "y_train = mnist[0][1]"
   ]
  },
  {
   "cell_type": "code",
   "execution_count": null,
   "id": "d528dff9-a80b-4540-9ed7-a7896ee49371",
   "metadata": {},
   "outputs": [],
   "source": [
    "def chunks(x, size):\n",
    "    for i in range(0, len(x), size):\n",
    "        yield x[i:i+size]"
   ]
  },
  {
   "cell_type": "code",
   "execution_count": null,
   "id": "b90f4f1c-6db8-434f-860f-891bec392eff",
   "metadata": {},
   "outputs": [
    {
     "data": {
      "text/plain": [
       "28.0"
      ]
     },
     "execution_count": null,
     "metadata": {},
     "output_type": "execute_result"
    }
   ],
   "source": [
    "784**(1/2)"
   ]
  },
  {
   "cell_type": "code",
   "execution_count": null,
   "id": "67d1ab3f-0864-470f-8911-48c5f099542b",
   "metadata": {},
   "outputs": [],
   "source": [
    "sz = 28"
   ]
  },
  {
   "cell_type": "code",
   "execution_count": null,
   "id": "96a7572a-2568-4e41-a6b7-de99afa8a4d5",
   "metadata": {},
   "outputs": [
    {
     "data": {
      "text/plain": [
       "28"
      ]
     },
     "execution_count": null,
     "metadata": {},
     "output_type": "execute_result"
    }
   ],
   "source": [
    "len(list(chunks(x_train[0], sz)))"
   ]
  },
  {
   "cell_type": "code",
   "execution_count": null,
   "id": "bebfa93e-e511-4e6c-b8d8-c0564934995d",
   "metadata": {},
   "outputs": [],
   "source": [
    "import matplotlib.pyplot as plt"
   ]
  },
  {
   "cell_type": "code",
   "execution_count": null,
   "id": "2f80dbc6-7d6b-4608-ad99-b98bf236b2c6",
   "metadata": {},
   "outputs": [
    {
     "name": "stdout",
     "output_type": "stream",
     "text": [
      "5\n"
     ]
    },
    {
     "data": {
      "image/png": "[encoded data removed]",
      "text/plain": [
       "<Figure size 640x480 with 1 Axes>"
      ]
     },
     "metadata": {},
     "output_type": "display_data"
    }
   ],
   "source": [
    "print(y_train[0])\n",
    "plt.imshow(list(chunks(x_train[0], sz)), cmap=\"gray\")\n",
    "plt.show()"
   ]
  },
  {
   "cell_type": "code",
   "execution_count": null,
   "id": "edb8271f-ff1f-4fb2-8eda-053120f8d9d4",
   "metadata": {},
   "outputs": [],
   "source": [
    "import itertools"
   ]
  },
  {
   "cell_type": "code",
   "execution_count": null,
   "id": "31b5501f-0101-4611-aac8-43fed29e215e",
   "metadata": {},
   "outputs": [
    {
     "name": "stdout",
     "output_type": "stream",
     "text": [
      "['__doc__', '__loader__', '__name__', '__package__', '__spec__', '_grouper', '_tee', '_tee_dataobject', 'accumulate', 'chain', 'combinations', 'combinations_with_replacement', 'compress', 'count', 'cycle', 'dropwhile', 'filterfalse', 'groupby', 'islice', 'pairwise', 'permutations', 'product', 'repeat', 'starmap', 'takewhile', 'tee', 'zip_longest']\n"
     ]
    }
   ],
   "source": [
    "print(dir(itertools))"
   ]
  },
  {
   "cell_type": "code",
   "execution_count": null,
   "id": "430be424-92b2-4f1f-83ba-0dc53429875f",
   "metadata": {},
   "outputs": [
    {
     "data": {
      "text/plain": [
       "\u001b[0;31mInit signature:\u001b[0m \u001b[0mitertools\u001b[0m\u001b[0;34m.\u001b[0m\u001b[0mislice\u001b[0m\u001b[0;34m(\u001b[0m\u001b[0mself\u001b[0m\u001b[0;34m,\u001b[0m \u001b[0;34m/\u001b[0m\u001b[0;34m,\u001b[0m \u001b[0;34m*\u001b[0m\u001b[0margs\u001b[0m\u001b[0;34m,\u001b[0m \u001b[0;34m**\u001b[0m\u001b[0mkwargs\u001b[0m\u001b[0;34m)\u001b[0m\u001b[0;34m\u001b[0m\u001b[0;34m\u001b[0m\u001b[0m\n",
       "\u001b[0;31mDocstring:\u001b[0m     \n",
       "islice(iterable, stop) --> islice object\n",
       "islice(iterable, start, stop[, step]) --> islice object\n",
       "\n",
       "Return an iterator whose next() method returns selected values from an\n",
       "iterable.  If start is specified, will skip all preceding elements;\n",
       "otherwise, start defaults to zero.  Step defaults to one.  If\n",
       "specified as another value, step determines how many values are\n",
       "skipped between successive calls.  Works like a slice() on a list\n",
       "but returns an iterator.\n",
       "\u001b[0;31mType:\u001b[0m           type\n",
       "\u001b[0;31mSubclasses:\u001b[0m     "
      ]
     },
     "metadata": {},
     "output_type": "display_data"
    }
   ],
   "source": [
    "itertools.islice?"
   ]
  },
  {
   "cell_type": "code",
   "execution_count": null,
   "id": "39087706-3c9e-4f78-a9a6-980031502268",
   "metadata": {},
   "outputs": [],
   "source": [
    "from itertools import islice"
   ]
  },
  {
   "cell_type": "code",
   "execution_count": null,
   "id": "a204317d-bb86-4394-8874-593ddc04e2b1",
   "metadata": {},
   "outputs": [
    {
     "name": "stdout",
     "output_type": "stream",
     "text": [
      "1\n",
      "2\n"
     ]
    }
   ],
   "source": [
    "for i in islice([1, 2, 3, 4, 5], 2):\n",
    "    print(i)"
   ]
  },
  {
   "cell_type": "code",
   "execution_count": null,
   "id": "98eed084-d003-431a-a23a-279c53c8d5a7",
   "metadata": {},
   "outputs": [
    {
     "name": "stdout",
     "output_type": "stream",
     "text": [
      "[1, 2]\n",
      "[3, 4]\n",
      "[5]\n",
      "[]\n"
     ]
    }
   ],
   "source": [
    "it = iter([1,2,3,4,5])\n",
    "print(list(islice(it, 2)))\n",
    "print(list(islice(it, 2)))\n",
    "print(list(islice(it, 2)))\n",
    "print(list(islice(it, 2)))"
   ]
  },
  {
   "cell_type": "code",
   "execution_count": null,
   "id": "c8c9de86-3f1e-4908-a16e-845a11b87360",
   "metadata": {},
   "outputs": [
    {
     "data": {
      "text/plain": [
       "\u001b[0;31mDocstring:\u001b[0m\n",
       "iter(iterable) -> iterator\n",
       "iter(callable, sentinel) -> iterator\n",
       "\n",
       "Get an iterator from an object.  In the first form, the argument must\n",
       "supply its own iterator, or be a sequence.\n",
       "In the second form, the callable is called until it returns the sentinel.\n",
       "\u001b[0;31mType:\u001b[0m      builtin_function_or_method"
      ]
     },
     "metadata": {},
     "output_type": "display_data"
    }
   ],
   "source": [
    "iter?"
   ]
  },
  {
   "cell_type": "code",
   "execution_count": null,
   "id": "05ffdcc1-ec0a-4155-b218-ced9623a3112",
   "metadata": {},
   "outputs": [
    {
     "data": {
      "image/png": "[encoded data removed]",
      "text/plain": [
       "<Figure size 640x480 with 1 Axes>"
      ]
     },
     "metadata": {},
     "output_type": "display_data"
    }
   ],
   "source": [
    "def squarify(x, size):\n",
    "    it = iter(x)\n",
    "    return list(iter(lambda: list(islice(it, size)), list()))\n",
    "\n",
    "example = squarify(x_train[0], sz)\n",
    "plt.imshow(example, cmap=\"gray\")\n",
    "plt.show()"
   ]
  },
  {
   "cell_type": "markdown",
   "id": "d4e52904-a6b1-45ab-8f97-1040a47771f5",
   "metadata": {},
   "source": [
    "## Matrix and tensor"
   ]
  },
  {
   "cell_type": "code",
   "execution_count": null,
   "id": "af782259-24fa-4a6d-a202-59e28b492fdf",
   "metadata": {},
   "outputs": [
    {
     "data": {
      "text/plain": [
       "0.0"
      ]
     },
     "execution_count": null,
     "metadata": {},
     "output_type": "execute_result"
    }
   ],
   "source": [
    "example[0][0]"
   ]
  },
  {
   "cell_type": "code",
   "execution_count": null,
   "id": "da45a07c-06c7-40d8-842b-7c4200c2adb4",
   "metadata": {},
   "outputs": [],
   "source": [
    "class Matrix:\n",
    "    def __init__(self, data):\n",
    "        self.data = data\n",
    "\n",
    "    def __getitem__(self, idxs):\n",
    "        return self.data[idxs[0]][idxs[1]]"
   ]
  },
  {
   "cell_type": "code",
   "execution_count": null,
   "id": "a04cf1fa-02f1-41f7-ba49-5098187e58b2",
   "metadata": {},
   "outputs": [],
   "source": [
    "m = Matrix(example)"
   ]
  },
  {
   "cell_type": "code",
   "execution_count": null,
   "id": "9572c227-b5fb-4761-8bdb-acd0b4b7ae4a",
   "metadata": {},
   "outputs": [
    {
     "data": {
      "text/plain": [
       "0.0"
      ]
     },
     "execution_count": null,
     "metadata": {},
     "output_type": "execute_result"
    }
   ],
   "source": [
    "m[0, 0]"
   ]
  },
  {
   "cell_type": "code",
   "execution_count": null,
   "id": "66096de0-3444-46b5-8b80-c0e66bef5001",
   "metadata": {},
   "outputs": [],
   "source": [
    "import torch"
   ]
  },
  {
   "cell_type": "code",
   "execution_count": null,
   "id": "98daacf9-550d-4ebe-9fda-daecd589acfc",
   "metadata": {},
   "outputs": [
    {
     "data": {
      "text/plain": [
       "(torch.Size([50000, 784]),\n",
       " torch.Size([50000]),\n",
       " torch.Size([10000, 784]),\n",
       " torch.Size([10000]))"
      ]
     },
     "execution_count": null,
     "metadata": {},
     "output_type": "execute_result"
    }
   ],
   "source": [
    "x_train, y_train, x_val, y_val = map(torch.tensor, (x_train, y_train, mnist[1][0], mnist[1][1]))\n",
    "x_train.shape, y_train.shape, x_val.shape, y_val.shape"
   ]
  },
  {
   "cell_type": "code",
   "execution_count": null,
   "id": "1868e10c-7bd2-4131-aa31-5c4d970396ec",
   "metadata": {},
   "outputs": [],
   "source": [
    "imgs = x_train.reshape(-1, sz, sz)"
   ]
  },
  {
   "cell_type": "code",
   "execution_count": null,
   "id": "23fcd34a-d01b-4c4f-9d7c-1ee55a9bcc9b",
   "metadata": {},
   "outputs": [
    {
     "data": {
      "image/png": "[encoded data removed]",
      "text/plain": [
       "<Figure size 640x480 with 1 Axes>"
      ]
     },
     "metadata": {},
     "output_type": "display_data"
    }
   ],
   "source": [
    "plt.imshow(imgs[0], cmap=\"gray\"); plt.show()"
   ]
  },
  {
   "cell_type": "markdown",
   "id": "331184ef-3b69-48e6-a9d7-b9638537ad8a",
   "metadata": {},
   "source": [
    "## Random numbers"
   ]
  },
  {
   "cell_type": "code",
   "execution_count": null,
   "id": "a2999272-83d7-42a1-8f5b-570951b41197",
   "metadata": {},
   "outputs": [],
   "source": [
    "# from https://en.wikipedia.org/wiki/Wichmann%E2%80%93Hill\n",
    "\n",
    "random_state = [21431, 7631, 634]\n",
    "def seed(r):\n",
    "    global random_state\n",
    "    s1 = r % 30269\n",
    "    s2 = r % 30307\n",
    "    s3 = r % 30323\n",
    "    random_state = [s1, s2, s3]\n",
    "\n",
    "def rand():\n",
    "    global random_state\n",
    "    s1 = (random_state[0] * 171) % 30269\n",
    "    s2 = (random_state[1] * 172) % 30307\n",
    "    s3 = (random_state[2] * 170) % 30323\n",
    "    random_state = [s1, s2, s3]\n",
    "\n",
    "    return (s1/30269.0 + s2/30307.0 + s3/30323.0) % 1.0"
   ]
  },
  {
   "cell_type": "code",
   "execution_count": null,
   "id": "09e8d8f1-c5f6-4573-a866-14bda868d080",
   "metadata": {},
   "outputs": [],
   "source": [
    "from time import perf_counter"
   ]
  },
  {
   "cell_type": "code",
   "execution_count": null,
   "id": "52ae5ce0-a596-4e51-a82e-0a9eb48b5c68",
   "metadata": {},
   "outputs": [],
   "source": [
    "# seed(int(perf_counter()))\n",
    "seed(8765432134565)"
   ]
  },
  {
   "cell_type": "code",
   "execution_count": null,
   "id": "592ecb40-f6ec-4627-837d-7f99dd5b09a0",
   "metadata": {},
   "outputs": [
    {
     "name": "stdout",
     "output_type": "stream",
     "text": [
      "0.7777685224328588\n",
      "0.5608034337793862\n",
      "0.15722909467262935\n",
      "0.5826127628075546\n",
      "0.030738730537231085\n"
     ]
    }
   ],
   "source": [
    "for i in range(5): print(rand())"
   ]
  },
  {
   "cell_type": "code",
   "execution_count": null,
   "id": "63dd7ee8-c4e6-4923-9dfa-d39695ab194a",
   "metadata": {},
   "outputs": [],
   "source": [
    "import os"
   ]
  },
  {
   "cell_type": "code",
   "execution_count": null,
   "id": "c7d35db1-4aee-423a-86c8-fa2831080288",
   "metadata": {},
   "outputs": [
    {
     "data": {
      "text/plain": [
       "\u001b[0;31mSignature:\u001b[0m \u001b[0mos\u001b[0m\u001b[0;34m.\u001b[0m\u001b[0mfork\u001b[0m\u001b[0;34m(\u001b[0m\u001b[0;34m)\u001b[0m\u001b[0;34m\u001b[0m\u001b[0;34m\u001b[0m\u001b[0m\n",
       "\u001b[0;31mDocstring:\u001b[0m\n",
       "Fork a child process.\n",
       "\n",
       "Return 0 to child process and PID of child to parent process.\n",
       "\u001b[0;31mType:\u001b[0m      builtin_function_or_method"
      ]
     },
     "metadata": {},
     "output_type": "display_data"
    }
   ],
   "source": [
    "os.fork?"
   ]
  },
  {
   "cell_type": "code",
   "execution_count": null,
   "id": "2b70fd61-66a6-45f8-a7b5-06861b90de79",
   "metadata": {},
   "outputs": [],
   "source": [
    "from time import sleep"
   ]
  },
  {
   "cell_type": "code",
   "execution_count": null,
   "id": "a21255ec-f204-4d8d-985e-27004d403e17",
   "metadata": {},
   "outputs": [
    {
     "name": "stdout",
     "output_type": "stream",
     "text": [
      "Child 0.5747166945894608\n",
      "Main 0.5747166945894608\n"
     ]
    }
   ],
   "source": [
    "if os.fork():\n",
    "    sleep(0.5)\n",
    "    print(\"Main\", rand())\n",
    "else:\n",
    "    print(\"Child\", rand())\n",
    "    os._exit(os.EX_OK)"
   ]
  },
  {
   "cell_type": "code",
   "execution_count": null,
   "id": "51a5ffbf-7aca-4132-98a3-60a2c1fb7484",
   "metadata": {},
   "outputs": [
    {
     "name": "stdout",
     "output_type": "stream",
     "text": [
      "Child tensor([0.5891])\n",
      "Main tensor([0.5891])\n"
     ]
    }
   ],
   "source": [
    "if os.fork():\n",
    "    sleep(0.5)\n",
    "    print(\"Main\", torch.rand(1))\n",
    "else:\n",
    "    print(\"Child\", torch.rand(1))\n",
    "    os._exit(os.EX_OK)"
   ]
  },
  {
   "cell_type": "code",
   "execution_count": null,
   "id": "e5f1ec29-2ab3-4e71-8aaa-5751512728a6",
   "metadata": {},
   "outputs": [],
   "source": [
    "values = [rand() for i in range(200)]"
   ]
  },
  {
   "cell_type": "code",
   "execution_count": null,
   "id": "a99f4de8-5e42-4c36-a03e-13704d1a495a",
   "metadata": {},
   "outputs": [
    {
     "data": {
      "image/png": "[encoded data removed]",
      "text/plain": [
       "<Figure size 640x480 with 1 Axes>"
      ]
     },
     "metadata": {},
     "output_type": "display_data"
    }
   ],
   "source": [
    "plt.plot(range(200), values)\n",
    "plt.show()"
   ]
  },
  {
   "cell_type": "code",
   "execution_count": null,
   "id": "a2c10fad-53ec-4033-98b4-a83003da7e6b",
   "metadata": {},
   "outputs": [
    {
     "data": {
      "image/png": "[encoded data removed]",
      "text/plain": [
       "<Figure size 640x480 with 1 Axes>"
      ]
     },
     "metadata": {},
     "output_type": "display_data"
    }
   ],
   "source": [
    "plt.hist(values); plt.show()"
   ]
  },
  {
   "cell_type": "code",
   "execution_count": null,
   "id": "446b3ab7-b76d-4788-a3f7-94607ddf27f1",
   "metadata": {},
   "outputs": [
    {
     "data": {
      "image/png": "[encoded data removed]",
      "text/plain": [
       "<Figure size 640x480 with 1 Axes>"
      ]
     },
     "metadata": {},
     "output_type": "display_data"
    }
   ],
   "source": [
    "plt.hist([rand() for i in range(10000)]); plt.show()"
   ]
  },
  {
   "cell_type": "code",
   "execution_count": null,
   "id": "84db7dea-6d27-4334-b9c1-ea5ceee5c51c",
   "metadata": {},
   "outputs": [
    {
     "data": {
      "text/plain": [
       "\u001b[0;31mDocstring:\u001b[0m\n",
       "Time execution of a Python statement or expression\n",
       "\n",
       "Usage, in line mode:\n",
       "  %timeit [-n<N> -r<R> [-t|-c] -q -p<P> -o] statement\n",
       "or in cell mode:\n",
       "  %%timeit [-n<N> -r<R> [-t|-c] -q -p<P> -o] setup_code\n",
       "  code\n",
       "  code...\n",
       "\n",
       "Time execution of a Python statement or expression using the timeit\n",
       "module.  This function can be used both as a line and cell magic:\n",
       "\n",
       "- In line mode you can time a single-line statement (though multiple\n",
       "  ones can be chained with using semicolons).\n",
       "\n",
       "- In cell mode, the statement in the first line is used as setup code\n",
       "  (executed but not timed) and the body of the cell is timed.  The cell\n",
       "  body has access to any variables created in the setup code.\n",
       "\n",
       "Options:\n",
       "-n<N>: execute the given statement <N> times in a loop. If <N> is not\n",
       "provided, <N> is determined so as to get sufficient accuracy.\n",
       "\n",
       "-r<R>: number of repeats <R>, each consisting of <N> loops, and take the\n",
       "average result.\n",
       "Default: 7\n",
       "\n",
       "-t: use time.time to measure the time, which is the default on Unix.\n",
       "This function measures wall time.\n",
       "\n",
       "-c: use time.clock to measure the time, which is the default on\n",
       "Windows and measures wall time. On Unix, resource.getrusage is used\n",
       "instead and returns the CPU user time.\n",
       "\n",
       "-p<P>: use a precision of <P> digits to display the timing result.\n",
       "Default: 3\n",
       "\n",
       "-q: Quiet, do not print result.\n",
       "\n",
       "-o: return a TimeitResult that can be stored in a variable to inspect\n",
       "    the result in more details.\n",
       "\n",
       ".. versionchanged:: 7.3\n",
       "    User variables are no longer expanded,\n",
       "    the magic line is always left unmodified.\n",
       "\n",
       "Examples\n",
       "--------\n",
       "::\n",
       "\n",
       "  In [1]: %timeit pass\n",
       "  8.26 ns ± 0.12 ns per loop (mean ± std. dev. of 7 runs, 100000000 loops each)\n",
       "\n",
       "  In [2]: u = None\n",
       "\n",
       "  In [3]: %timeit u is None\n",
       "  29.9 ns ± 0.643 ns per loop (mean ± std. dev. of 7 runs, 10000000 loops each)\n",
       "\n",
       "  In [4]: %timeit -r 4 u == None\n",
       "\n",
       "  In [5]: import time\n",
       "\n",
       "  In [6]: %timeit -n1 time.sleep(2)\n",
       "\n",
       "The times reported by %timeit will be slightly higher than those\n",
       "reported by the timeit.py script when variables are accessed. This is\n",
       "due to the fact that %timeit executes the statement in the namespace\n",
       "of the shell, compared with timeit.py, which uses a single setup\n",
       "statement to import function or create variables. Generally, the bias\n",
       "does not matter as long as results from timeit.py are not mixed with\n",
       "those from %timeit.\n",
       "\u001b[0;31mFile:\u001b[0m      ~/miniforge3/envs/fastai/lib/python3.11/site-packages/IPython/core/magics/execution.py"
      ]
     },
     "metadata": {},
     "output_type": "display_data"
    }
   ],
   "source": [
    "%timeit?"
   ]
  },
  {
   "cell_type": "code",
   "execution_count": null,
   "id": "e8d72253-d124-4e81-9b7b-ef75d8602ea1",
   "metadata": {},
   "outputs": [
    {
     "name": "stdout",
     "output_type": "stream",
     "text": [
      "2.75 ms ± 50.1 µs per loop (mean ± std. dev. of 7 runs, 5 loops each)\n",
      "46.5 µs ± 20.3 µs per loop (mean ± std. dev. of 7 runs, 5 loops each)\n"
     ]
    }
   ],
   "source": [
    "%timeit -n 5 [[rand() for _ in range(784)] for _ in range(10)]\n",
    "%timeit -n 5 torch.rand((784, 10))"
   ]
  },
  {
   "cell_type": "markdown",
   "id": "329a68cb-2f0f-40a8-be7f-f6d031507786",
   "metadata": {},
   "source": [
    "## Matrix multiplication"
   ]
  },
  {
   "cell_type": "code",
   "execution_count": null,
   "id": "9394d885-af0f-4de7-a753-99f8d1b28576",
   "metadata": {},
   "outputs": [
    {
     "data": {
      "text/plain": [
       "<torch._C.Generator>"
      ]
     },
     "execution_count": null,
     "metadata": {},
     "output_type": "execute_result"
    }
   ],
   "source": [
    "torch.manual_seed(1103)"
   ]
  },
  {
   "cell_type": "code",
   "execution_count": null,
   "id": "7d07d621-0987-4cfb-94fc-55d98c6841c7",
   "metadata": {},
   "outputs": [
    {
     "data": {
      "text/plain": [
       "(torch.Size([784, 10]), torch.Size([10]))"
      ]
     },
     "execution_count": null,
     "metadata": {},
     "output_type": "execute_result"
    }
   ],
   "source": [
    "w = torch.randn((784, 10))\n",
    "b = torch.zeros(10)\n",
    "w.shape, b.shape"
   ]
  },
  {
   "cell_type": "code",
   "execution_count": null,
   "id": "68295d58-733b-464a-b8cc-31c48c20cffc",
   "metadata": {},
   "outputs": [
    {
     "data": {
      "text/plain": [
       "torch.Size([5, 784])"
      ]
     },
     "execution_count": null,
     "metadata": {},
     "output_type": "execute_result"
    }
   ],
   "source": [
    "m = x_train[:5]\n",
    "m.shape"
   ]
  },
  {
   "cell_type": "code",
   "execution_count": null,
   "id": "5bb09cc9-5967-4d9f-a9dc-8262bcd24460",
   "metadata": {},
   "outputs": [],
   "source": [
    "result = torch.zeros(m.shape[0], w.shape[1])\n",
    "for i in range(result.shape[0]):\n",
    "    for j in range(result.shape[1]):\n",
    "        for k in range(m.shape[1]):\n",
    "            result[i][j] += m[i, k] * w[k, j]"
   ]
  },
  {
   "cell_type": "code",
   "execution_count": null,
   "id": "581db91f-859d-4982-af84-06875a76ecf3",
   "metadata": {},
   "outputs": [
    {
     "data": {
      "text/plain": [
       "tensor([[ -0.7215,  -4.5665, -21.0250,  -0.4281,   1.4521,  -8.2872,  -1.0804,\n",
       "           0.1370, -25.5540,  -3.2380],\n",
       "        [  4.2790,  -6.4928,  -7.4115,   3.6243,   0.5892,  -4.4752,   2.3418,\n",
       "          -4.8072, -17.5455,   2.5698],\n",
       "        [  3.0545,   3.2306,  -1.2660,  -3.0757,  10.4760,   2.1747,   1.9288,\n",
       "          -5.3326,  -1.1477,   1.0585],\n",
       "        [ -0.4721,   3.0316,  12.0594,   2.9842,  -5.3094,  -1.5481, -10.7299,\n",
       "           5.4374,  -5.7825,  -5.9126],\n",
       "        [ -3.6298,   0.4382,  10.2078, -11.9693,  -0.7163,   4.1653,  -7.3586,\n",
       "          -7.6137,  -8.4538, -12.5987]])"
      ]
     },
     "execution_count": null,
     "metadata": {},
     "output_type": "execute_result"
    }
   ],
   "source": [
    "result"
   ]
  },
  {
   "cell_type": "code",
   "execution_count": null,
   "id": "6ecbb22f-bd78-4c58-8172-940ed791557c",
   "metadata": {},
   "outputs": [],
   "source": [
    "torch.set_printoptions(precision=2, linewidth=160)"
   ]
  },
  {
   "cell_type": "code",
   "execution_count": null,
   "id": "bd34b9ac-78c4-4833-84fc-1717a48cee84",
   "metadata": {},
   "outputs": [
    {
     "data": {
      "text/plain": [
       "tensor([[ -0.72,  -4.57, -21.03,  -0.43,   1.45,  -8.29,  -1.08,   0.14, -25.55,  -3.24],\n",
       "        [  4.28,  -6.49,  -7.41,   3.62,   0.59,  -4.48,   2.34,  -4.81, -17.55,   2.57],\n",
       "        [  3.05,   3.23,  -1.27,  -3.08,  10.48,   2.17,   1.93,  -5.33,  -1.15,   1.06],\n",
       "        [ -0.47,   3.03,  12.06,   2.98,  -5.31,  -1.55, -10.73,   5.44,  -5.78,  -5.91],\n",
       "        [ -3.63,   0.44,  10.21, -11.97,  -0.72,   4.17,  -7.36,  -7.61,  -8.45, -12.60]])"
      ]
     },
     "execution_count": null,
     "metadata": {},
     "output_type": "execute_result"
    }
   ],
   "source": [
    "result"
   ]
  },
  {
   "cell_type": "code",
   "execution_count": null,
   "id": "3c614208-5b06-4f34-9789-d096fb60f45e",
   "metadata": {},
   "outputs": [],
   "source": [
    "import numpy as np"
   ]
  },
  {
   "cell_type": "code",
   "execution_count": null,
   "id": "e6bdf343-7b75-4420-a88f-4db73f893739",
   "metadata": {},
   "outputs": [],
   "source": [
    "np.set_printoptions(precision=2, linewidth=160)"
   ]
  },
  {
   "cell_type": "code",
   "execution_count": null,
   "id": "cab033b5-1329-46db-8f2a-584983e3cf25",
   "metadata": {},
   "outputs": [],
   "source": [
    "def matmul(a, b):\n",
    "    result = torch.zeros(a.shape[0], b.shape[1])\n",
    "    for i in range(result.shape[0]):\n",
    "        for j in range(result.shape[1]):\n",
    "            for k in range(a.shape[1]):\n",
    "                result[i][j] += a[i, k] * b[k, j]\n",
    "    return result"
   ]
  },
  {
   "cell_type": "code",
   "execution_count": null,
   "id": "60ae379f-62e2-4986-99ff-2a16aa6d0146",
   "metadata": {},
   "outputs": [
    {
     "data": {
      "text/plain": [
       "\u001b[0;31mDocstring:\u001b[0m\n",
       "Time execution of a Python statement or expression.\n",
       "\n",
       "The CPU and wall clock times are printed, and the value of the\n",
       "expression (if any) is returned.  Note that under Win32, system time\n",
       "is always reported as 0, since it can not be measured.\n",
       "\n",
       "This function can be used both as a line and cell magic:\n",
       "\n",
       "- In line mode you can time a single-line statement (though multiple\n",
       "  ones can be chained with using semicolons).\n",
       "\n",
       "- In cell mode, you can time the cell body (a directly\n",
       "  following statement raises an error).\n",
       "\n",
       "This function provides very basic timing functionality.  Use the timeit\n",
       "magic for more control over the measurement.\n",
       "\n",
       ".. versionchanged:: 7.3\n",
       "    User variables are no longer expanded,\n",
       "    the magic line is always left unmodified.\n",
       "\n",
       "Examples\n",
       "--------\n",
       "::\n",
       "\n",
       "  In [1]: %time 2**128\n",
       "  CPU times: user 0.00 s, sys: 0.00 s, total: 0.00 s\n",
       "  Wall time: 0.00\n",
       "  Out[1]: 340282366920938463463374607431768211456L\n",
       "\n",
       "  In [2]: n = 1000000\n",
       "\n",
       "  In [3]: %time sum(range(n))\n",
       "  CPU times: user 1.20 s, sys: 0.05 s, total: 1.25 s\n",
       "  Wall time: 1.37\n",
       "  Out[3]: 499999500000L\n",
       "\n",
       "  In [4]: %time print 'hello world'\n",
       "  hello world\n",
       "  CPU times: user 0.00 s, sys: 0.00 s, total: 0.00 s\n",
       "  Wall time: 0.00\n",
       "\n",
       ".. note::\n",
       "    The time needed by Python to compile the given expression will be\n",
       "    reported if it is more than 0.1s.\n",
       "\n",
       "    In the example below, the actual exponentiation is done by Python\n",
       "    at compilation time, so while the expression can take a noticeable\n",
       "    amount of time to compute, that time is purely due to the\n",
       "    compilation::\n",
       "\n",
       "        In [5]: %time 3**9999;\n",
       "        CPU times: user 0.00 s, sys: 0.00 s, total: 0.00 s\n",
       "        Wall time: 0.00 s\n",
       "\n",
       "        In [6]: %time 3**999999;\n",
       "        CPU times: user 0.00 s, sys: 0.00 s, total: 0.00 s\n",
       "        Wall time: 0.00 s\n",
       "        Compiler : 0.78 s\n",
       "\u001b[0;31mFile:\u001b[0m      ~/miniforge3/envs/fastai/lib/python3.11/site-packages/IPython/core/magics/execution.py"
      ]
     },
     "metadata": {},
     "output_type": "display_data"
    }
   ],
   "source": [
    "%time?"
   ]
  },
  {
   "cell_type": "code",
   "execution_count": null,
   "id": "a11269d0-a240-4a6b-a1b2-0d48e30d0ec5",
   "metadata": {},
   "outputs": [
    {
     "name": "stdout",
     "output_type": "stream",
     "text": [
      "CPU times: user 591 ms, sys: 3.33 ms, total: 595 ms\n",
      "Wall time: 595 ms\n"
     ]
    }
   ],
   "source": [
    "%time _ = matmul(m, w)"
   ]
  },
  {
   "cell_type": "code",
   "execution_count": null,
   "id": "ff51c5ea-8e33-4275-b491-6fd5e5f78771",
   "metadata": {},
   "outputs": [
    {
     "data": {
      "text/plain": [
       "39200"
      ]
     },
     "execution_count": null,
     "metadata": {},
     "output_type": "execute_result"
    }
   ],
   "source": [
    "np.prod(m.shape) * w.shape[1]"
   ]
  },
  {
   "cell_type": "markdown",
   "id": "f6224fd0-fbd4-4e0e-a8a7-4194b48da43d",
   "metadata": {},
   "source": [
    "## Numba"
   ]
  },
  {
   "cell_type": "code",
   "execution_count": null,
   "id": "d3135dde-54cf-4f81-9f2f-b45fff5d4ddf",
   "metadata": {},
   "outputs": [],
   "source": [
    "from numba import njit"
   ]
  },
  {
   "cell_type": "code",
   "execution_count": null,
   "id": "09ea90ec-aaf3-47e9-a333-14589da0c992",
   "metadata": {},
   "outputs": [],
   "source": [
    "@njit\n",
    "def dot(a, b):\n",
    "    result = 0\n",
    "    for i in range(len(a)):\n",
    "        result += a[i] * b[i]\n",
    "    return result"
   ]
  },
  {
   "cell_type": "code",
   "execution_count": null,
   "id": "68215e77-a82e-4afd-a248-144966f8c050",
   "metadata": {},
   "outputs": [
    {
     "name": "stdout",
     "output_type": "stream",
     "text": [
      "CPU times: user 225 ms, sys: 22.4 ms, total: 248 ms\n",
      "Wall time: 247 ms\n",
      "CPU times: user 11 µs, sys: 5 µs, total: 16 µs\n",
      "Wall time: 18.8 µs\n",
      "CPU times: user 7 µs, sys: 2 µs, total: 9 µs\n",
      "Wall time: 12.2 µs\n",
      "CPU times: user 9 µs, sys: 0 ns, total: 9 µs\n",
      "Wall time: 11.2 µs\n"
     ]
    }
   ],
   "source": [
    "%time _ = dot(np.array([1,2,3,4,5]),np.array([6,7,8,9,-1]))\n",
    "%time _ = dot(np.array([1,2,3,4,5]),np.array([6,7,8,9,-1]))\n",
    "%time _ = dot(np.array([1,2,3,4,5]),np.array([6,7,8,9,-1]))\n",
    "%time _ = dot(np.array([1,2,3,4,5]),np.array([6,7,8,9,-1]))"
   ]
  },
  {
   "cell_type": "code",
   "execution_count": null,
   "id": "e3284dd1-d5f4-4ee5-83ad-74acb226dcdd",
   "metadata": {},
   "outputs": [],
   "source": [
    "def matmul(a, b):\n",
    "    result = torch.zeros(a.shape[0], b.shape[1])\n",
    "    for i in range(result.shape[0]):\n",
    "        for j in range(result.shape[1]):\n",
    "            result[i][j] = dot(a[i, :], b[:, j])\n",
    "    return result"
   ]
  },
  {
   "cell_type": "code",
   "execution_count": null,
   "id": "831cff08-5bf5-4d45-a1fc-884396fedfea",
   "metadata": {},
   "outputs": [],
   "source": [
    "from fastcore.test import *"
   ]
  },
  {
   "cell_type": "code",
   "execution_count": null,
   "id": "92f951a7-c518-4eec-9b91-ac523cb053d0",
   "metadata": {},
   "outputs": [],
   "source": [
    "mn = m.numpy()\n",
    "wn = w.numpy()"
   ]
  },
  {
   "cell_type": "code",
   "execution_count": null,
   "id": "87b93e00-8882-4d5b-b752-1e8eaa4aad1b",
   "metadata": {},
   "outputs": [],
   "source": [
    "test_close(result, matmul(mn, wn))"
   ]
  },
  {
   "cell_type": "code",
   "execution_count": null,
   "id": "c5c0772b-6e5b-4c35-835b-c96a0a2b0c21",
   "metadata": {},
   "outputs": [
    {
     "name": "stdout",
     "output_type": "stream",
     "text": [
      "424 µs ± 24.2 µs per loop (mean ± std. dev. of 7 runs, 50 loops each)\n"
     ]
    }
   ],
   "source": [
    "%timeit -n 50 _=matmul(mn, wn)"
   ]
  },
  {
   "cell_type": "code",
   "execution_count": null,
   "id": "9145e712-fd3a-441f-8522-0855e9f9b5c4",
   "metadata": {},
   "outputs": [
    {
     "data": {
      "text/plain": [
       "1448.1132075471698"
      ]
     },
     "execution_count": null,
     "metadata": {},
     "output_type": "execute_result"
    }
   ],
   "source": [
    "614 / 0.424"
   ]
  },
  {
   "cell_type": "markdown",
   "id": "f7033bf7-5e89-4add-a0ab-2e6e96a6f8ee",
   "metadata": {},
   "source": [
    "## Elementwise ops"
   ]
  },
  {
   "cell_type": "code",
   "execution_count": null,
   "id": "f3d5efbf-665e-4871-8823-d94564baa831",
   "metadata": {},
   "outputs": [
    {
     "data": {
      "text/plain": [
       "tensor([[-1.27,  0.62, -0.91, -0.36],\n",
       "        [-1.06, -1.18, -0.23,  0.90],\n",
       "        [-0.06, -0.72, -0.54,  0.07]])"
      ]
     },
     "execution_count": null,
     "metadata": {},
     "output_type": "execute_result"
    }
   ],
   "source": [
    "a = torch.randn(3, 4)\n",
    "a"
   ]
  },
  {
   "cell_type": "code",
   "execution_count": null,
   "id": "32011026-7cd1-4f21-a296-8cd61e1555cb",
   "metadata": {},
   "outputs": [
    {
     "data": {
      "text/plain": [
       "tensor(-0.40)"
      ]
     },
     "execution_count": null,
     "metadata": {},
     "output_type": "execute_result"
    }
   ],
   "source": [
    "a.mean()"
   ]
  },
  {
   "cell_type": "code",
   "execution_count": null,
   "id": "1793e39d-5997-4d2f-8386-a263e9f9211c",
   "metadata": {},
   "outputs": [],
   "source": [
    "b = torch.randn(3, 4)"
   ]
  },
  {
   "cell_type": "code",
   "execution_count": null,
   "id": "88837ab7-dd24-4017-ab9a-39c94dd99bf5",
   "metadata": {},
   "outputs": [
    {
     "data": {
      "text/plain": [
       "tensor([[-0.39,  1.05, -1.66, -0.26],\n",
       "        [ 0.59, -1.13, -0.27,  2.52],\n",
       "        [ 1.06,  0.45,  0.33,  0.04]])"
      ]
     },
     "execution_count": null,
     "metadata": {},
     "output_type": "execute_result"
    }
   ],
   "source": [
    "a+b"
   ]
  },
  {
   "cell_type": "code",
   "execution_count": null,
   "id": "8fb6282e-9958-4eb1-83b6-dbe7154cd2fd",
   "metadata": {},
   "outputs": [
    {
     "name": "stdout",
     "output_type": "stream",
     "text": [
      "mean(): could not infer output dtype. Input dtype must be either a floating point or complex dtype. Got: Bool\n"
     ]
    }
   ],
   "source": [
    "try:\n",
    "    (a<b).mean()\n",
    "except Exception as e:\n",
    "    print(e)"
   ]
  },
  {
   "cell_type": "code",
   "execution_count": null,
   "id": "5d75ac37-6880-4b60-90b8-31a0bf951e65",
   "metadata": {},
   "outputs": [
    {
     "data": {
      "text/plain": [
       "tensor(0.83)"
      ]
     },
     "execution_count": null,
     "metadata": {},
     "output_type": "execute_result"
    }
   ],
   "source": [
    "(a < b).float().mean()"
   ]
  },
  {
   "cell_type": "code",
   "execution_count": null,
   "id": "86fa7934-81b0-4284-9421-0e9bf69237ca",
   "metadata": {},
   "outputs": [
    {
     "data": {
      "text/plain": [
       "tensor(2.67)"
      ]
     },
     "execution_count": null,
     "metadata": {},
     "output_type": "execute_result"
    }
   ],
   "source": [
    "(a*a).sum().sqrt()"
   ]
  },
  {
   "cell_type": "code",
   "execution_count": null,
   "id": "52dd1e08-d413-4be7-9e56-197584b00209",
   "metadata": {},
   "outputs": [
    {
     "data": {
      "text/plain": [
       "(torch.Size([784]), torch.Size([784]))"
      ]
     },
     "execution_count": null,
     "metadata": {},
     "output_type": "execute_result"
    }
   ],
   "source": [
    "m[2, :].shape, w[:, 2].shape"
   ]
  },
  {
   "cell_type": "code",
   "execution_count": null,
   "id": "58e116bf-480b-444b-aebb-2ecd3ddc8b4f",
   "metadata": {},
   "outputs": [],
   "source": [
    "def matmul(a, b):\n",
    "    result = torch.zeros(a.shape[0], b.shape[1])\n",
    "    for i in range(result.shape[0]):\n",
    "        for j in range(result.shape[1]):\n",
    "            result[i][j] = (a[i, :] * b[:, j]).sum()\n",
    "    return result"
   ]
  },
  {
   "cell_type": "code",
   "execution_count": null,
   "id": "f46edca0-8e48-4729-aed7-ca2ca73b3d73",
   "metadata": {},
   "outputs": [],
   "source": [
    "test_close(result, matmul(m, w))"
   ]
  },
  {
   "cell_type": "code",
   "execution_count": null,
   "id": "bfac6d78-d7b1-4e4f-ab67-54c2550c9335",
   "metadata": {},
   "outputs": [
    {
     "name": "stdout",
     "output_type": "stream",
     "text": [
      "1.06 ms ± 12.9 µs per loop (mean ± std. dev. of 7 runs, 50 loops each)\n"
     ]
    }
   ],
   "source": [
    "%timeit -n 50 _=matmul(m, w)"
   ]
  },
  {
   "cell_type": "markdown",
   "id": "ec7fd77b-9f17-47d5-895d-aaea8640d531",
   "metadata": {},
   "source": [
    "## Broadcasting"
   ]
  },
  {
   "cell_type": "markdown",
   "id": "b98717a4-0730-4924-8627-6e7c68bfb8fe",
   "metadata": {},
   "source": [
    "### Broadcasting with a scalar"
   ]
  },
  {
   "cell_type": "code",
   "execution_count": null,
   "id": "68cdd14c-ef78-4050-870b-970c0ee3bda3",
   "metadata": {},
   "outputs": [
    {
     "data": {
      "text/plain": [
       "tensor([[-0.27,  1.62,  0.09,  0.64],\n",
       "        [-0.06, -0.18,  0.77,  1.90],\n",
       "        [ 0.94,  0.28,  0.46,  1.07]])"
      ]
     },
     "execution_count": null,
     "metadata": {},
     "output_type": "execute_result"
    }
   ],
   "source": [
    "a + 1"
   ]
  },
  {
   "cell_type": "code",
   "execution_count": null,
   "id": "e7fadc1e-b52b-4ef8-976a-145ae6435c53",
   "metadata": {},
   "outputs": [
    {
     "data": {
      "text/plain": [
       "tensor([[ True, False,  True,  True],\n",
       "        [ True,  True,  True, False],\n",
       "        [ True,  True,  True, False]])"
      ]
     },
     "execution_count": null,
     "metadata": {},
     "output_type": "execute_result"
    }
   ],
   "source": [
    "a < 0"
   ]
  },
  {
   "cell_type": "code",
   "execution_count": null,
   "id": "ad6c24bc-6e02-4e0d-9ed5-a046e19af041",
   "metadata": {},
   "outputs": [
    {
     "data": {
      "text/plain": [
       "tensor([[-0., 0., -0., -0.],\n",
       "        [-0., -0., -0., 0.],\n",
       "        [-0., -0., -0., 0.]])"
      ]
     },
     "execution_count": null,
     "metadata": {},
     "output_type": "execute_result"
    }
   ],
   "source": [
    "a * 0"
   ]
  },
  {
   "cell_type": "markdown",
   "id": "41cecb59-7acf-48de-9d82-34d5568f402f",
   "metadata": {},
   "source": [
    "### Broadcasting a vector to a matrix"
   ]
  },
  {
   "cell_type": "code",
   "execution_count": null,
   "id": "bb9fcc9e-a148-4a3c-b41b-e42fb8a3665c",
   "metadata": {},
   "outputs": [
    {
     "data": {
      "text/plain": [
       "(torch.Size([3, 3]), torch.Size([3]))"
      ]
     },
     "execution_count": null,
     "metadata": {},
     "output_type": "execute_result"
    }
   ],
   "source": [
    "a = torch.tensor([[1,2,3],[2,3,4],[3,4,5]])\n",
    "b = torch.tensor([1,-1,2])\n",
    "a.shape, b.shape"
   ]
  },
  {
   "cell_type": "code",
   "execution_count": null,
   "id": "c7cf7fd8-11f5-4717-96b8-2c0af1161127",
   "metadata": {},
   "outputs": [
    {
     "data": {
      "text/plain": [
       "tensor([[2, 1, 5],\n",
       "        [3, 2, 6],\n",
       "        [4, 3, 7]])"
      ]
     },
     "execution_count": null,
     "metadata": {},
     "output_type": "execute_result"
    }
   ],
   "source": [
    "a+b"
   ]
  },
  {
   "cell_type": "code",
   "execution_count": null,
   "id": "5aa4ba2f-f73c-466c-89e3-4d41340dbd5b",
   "metadata": {},
   "outputs": [
    {
     "data": {
      "text/plain": [
       "tensor([[2, 1, 5],\n",
       "        [3, 2, 6],\n",
       "        [4, 3, 7]])"
      ]
     },
     "execution_count": null,
     "metadata": {},
     "output_type": "execute_result"
    }
   ],
   "source": [
    "b+a"
   ]
  },
  {
   "cell_type": "code",
   "execution_count": null,
   "id": "bfc3c1e1-4422-49d7-a61e-53f510c4590e",
   "metadata": {},
   "outputs": [
    {
     "data": {
      "text/plain": [
       "tensor([[ 1, -1,  2],\n",
       "        [ 1, -1,  2],\n",
       "        [ 1, -1,  2]])"
      ]
     },
     "execution_count": null,
     "metadata": {},
     "output_type": "execute_result"
    }
   ],
   "source": [
    "c = b.expand_as(a)\n",
    "c"
   ]
  },
  {
   "cell_type": "code",
   "execution_count": null,
   "id": "6b21b5f3-854e-40ba-bd2f-210361027495",
   "metadata": {},
   "outputs": [
    {
     "name": "stderr",
     "output_type": "stream",
     "text": [
      "/tmp/ipykernel_2703/1226304414.py:1: UserWarning: TypedStorage is deprecated. It will be removed in the future and UntypedStorage will be the only storage class. This should only matter to you if you are using storages directly.  To access UntypedStorage directly, use tensor.untyped_storage() instead of tensor.storage()\n",
      "  c.storage()\n"
     ]
    },
    {
     "data": {
      "text/plain": [
       " 1\n",
       " -1\n",
       " 2\n",
       "[torch.storage.TypedStorage(dtype=torch.int64, device=cpu) of size 3]"
      ]
     },
     "execution_count": null,
     "metadata": {},
     "output_type": "execute_result"
    }
   ],
   "source": [
    "c.storage()"
   ]
  },
  {
   "cell_type": "code",
   "execution_count": null,
   "id": "808ae5ed-bbd5-4c43-8fc1-2a62b99fc3fb",
   "metadata": {},
   "outputs": [
    {
     "data": {
      "text/plain": [
       " 1\n",
       " 0\n",
       " 0\n",
       " 0\n",
       " 0\n",
       " 0\n",
       " 0\n",
       " 0\n",
       " 255\n",
       " 255\n",
       " 255\n",
       " 255\n",
       " 255\n",
       " 255\n",
       " 255\n",
       " 255\n",
       " 2\n",
       " 0\n",
       " 0\n",
       " 0\n",
       " 0\n",
       " 0\n",
       " 0\n",
       " 0\n",
       "[torch.storage.UntypedStorage(device=cpu) of size 24]"
      ]
     },
     "execution_count": null,
     "metadata": {},
     "output_type": "execute_result"
    }
   ],
   "source": [
    "c.untyped_storage()"
   ]
  },
  {
   "cell_type": "code",
   "execution_count": null,
   "id": "009b34bd-7d9e-4dc2-95c2-f5f44910fcbc",
   "metadata": {},
   "outputs": [
    {
     "data": {
      "text/plain": [
       " 1\n",
       " -1\n",
       " 2\n",
       "[torch.storage.TypedStorage(dtype=torch.int64, device=cpu) of size 3]"
      ]
     },
     "execution_count": null,
     "metadata": {},
     "output_type": "execute_result"
    }
   ],
   "source": [
    "b.storage()"
   ]
  },
  {
   "cell_type": "code",
   "execution_count": null,
   "id": "925f83da-2ab2-4065-bf1f-29766fdcdfb7",
   "metadata": {},
   "outputs": [
    {
     "data": {
      "text/plain": [
       "(1,)"
      ]
     },
     "execution_count": null,
     "metadata": {},
     "output_type": "execute_result"
    }
   ],
   "source": [
    "b.stride()"
   ]
  },
  {
   "cell_type": "code",
   "execution_count": null,
   "id": "341294d8-165c-474b-bb35-ffba32600b5f",
   "metadata": {},
   "outputs": [
    {
     "data": {
      "text/plain": [
       "(0, 1)"
      ]
     },
     "execution_count": null,
     "metadata": {},
     "output_type": "execute_result"
    }
   ],
   "source": [
    "c.stride()"
   ]
  },
  {
   "cell_type": "code",
   "execution_count": null,
   "id": "54ea3cf7-8ec0-4015-ba8b-29138809d79d",
   "metadata": {},
   "outputs": [
    {
     "data": {
      "text/plain": [
       "tensor([[ 1, -1,  2]])"
      ]
     },
     "execution_count": null,
     "metadata": {},
     "output_type": "execute_result"
    }
   ],
   "source": [
    "b[None, :]"
   ]
  },
  {
   "cell_type": "code",
   "execution_count": null,
   "id": "af1df36d-aacf-4175-99df-2b897c0c6b76",
   "metadata": {},
   "outputs": [
    {
     "data": {
      "text/plain": [
       "tensor([[[1, 2, 3]],\n",
       "\n",
       "        [[2, 3, 4]],\n",
       "\n",
       "        [[3, 4, 5]]])"
      ]
     },
     "execution_count": null,
     "metadata": {},
     "output_type": "execute_result"
    }
   ],
   "source": [
    "a[..., None, :]"
   ]
  },
  {
   "cell_type": "code",
   "execution_count": null,
   "id": "14334fd1-c348-4b64-9935-6b502279de64",
   "metadata": {},
   "outputs": [
    {
     "data": {
      "text/plain": [
       "tensor([[[1],\n",
       "         [2],\n",
       "         [3]],\n",
       "\n",
       "        [[2],\n",
       "         [3],\n",
       "         [4]],\n",
       "\n",
       "        [[3],\n",
       "         [4],\n",
       "         [5]]])"
      ]
     },
     "execution_count": null,
     "metadata": {},
     "output_type": "execute_result"
    }
   ],
   "source": [
    "a[..., None]"
   ]
  },
  {
   "cell_type": "code",
   "execution_count": null,
   "id": "16d6f9ab-2e42-4b2a-b47e-c90837279840",
   "metadata": {},
   "outputs": [
    {
     "data": {
      "text/plain": [
       "tensor([[[1],\n",
       "         [2],\n",
       "         [3]],\n",
       "\n",
       "        [[2],\n",
       "         [3],\n",
       "         [4]],\n",
       "\n",
       "        [[3],\n",
       "         [4],\n",
       "         [5]]])"
      ]
     },
     "execution_count": null,
     "metadata": {},
     "output_type": "execute_result"
    }
   ],
   "source": [
    "a.unsqueeze(-1)"
   ]
  },
  {
   "cell_type": "code",
   "execution_count": null,
   "id": "61f7e3c3-598d-4c4e-ab00-f00576c716ea",
   "metadata": {},
   "outputs": [
    {
     "data": {
      "text/plain": [
       "tensor([[2, 1, 5],\n",
       "        [3, 2, 6],\n",
       "        [4, 3, 7]])"
      ]
     },
     "execution_count": null,
     "metadata": {},
     "output_type": "execute_result"
    }
   ],
   "source": [
    "a+b"
   ]
  },
  {
   "cell_type": "code",
   "execution_count": null,
   "id": "923e8d36-fbf1-42d7-aa62-6712af196a06",
   "metadata": {},
   "outputs": [
    {
     "data": {
      "text/plain": [
       "tensor([[2, 3, 4],\n",
       "        [1, 2, 3],\n",
       "        [5, 6, 7]])"
      ]
     },
     "execution_count": null,
     "metadata": {},
     "output_type": "execute_result"
    }
   ],
   "source": [
    "a+b[:, None]"
   ]
  },
  {
   "cell_type": "code",
   "execution_count": null,
   "id": "9cc08bc0-e4d7-4fe8-a9b9-3216124d403c",
   "metadata": {},
   "outputs": [
    {
     "data": {
      "text/plain": [
       "tensor([[2, 1, 5],\n",
       "        [3, 2, 6],\n",
       "        [4, 3, 7]])"
      ]
     },
     "execution_count": null,
     "metadata": {},
     "output_type": "execute_result"
    }
   ],
   "source": [
    "a+b[None, :]"
   ]
  },
  {
   "cell_type": "markdown",
   "id": "0f4cfbfb-5f34-4d3d-96df-e3854d079196",
   "metadata": {},
   "source": [
    "### Broadcasting rules"
   ]
  },
  {
   "cell_type": "markdown",
   "id": "4488b333-5cbc-4dd7-9098-a3421c7e39c6",
   "metadata": {},
   "source": [
    "I think the rules go something like this:\n",
    "\n",
    "- can ignore the trailing dimensions in the beginning by expanding the other tensor\n",
    "- the rest should be either equal or one of them should be `1`"
   ]
  },
  {
   "cell_type": "code",
   "execution_count": null,
   "id": "f5779ed7-4196-41aa-9246-dc1e11c27182",
   "metadata": {},
   "outputs": [],
   "source": [
    "def check(s1, s2):\n",
    "    a = torch.empty(s1)\n",
    "    b = torch.empty(s2)\n",
    "    try:\n",
    "        print((a+b).shape)\n",
    "    except Exception as e:\n",
    "        print(\"not allowed\")"
   ]
  },
  {
   "cell_type": "code",
   "execution_count": null,
   "id": "da828d5f-5a71-4667-b774-8b8136637f68",
   "metadata": {},
   "outputs": [
    {
     "name": "stdout",
     "output_type": "stream",
     "text": [
      "torch.Size([1, 2, 3])\n"
     ]
    }
   ],
   "source": [
    "check((1,2,3),(2,3))"
   ]
  },
  {
   "cell_type": "code",
   "execution_count": null,
   "id": "38156258-978b-4470-9c04-6f2dd8026d92",
   "metadata": {},
   "outputs": [
    {
     "name": "stdout",
     "output_type": "stream",
     "text": [
      "torch.Size([1, 2, 3])\n"
     ]
    }
   ],
   "source": [
    "check((2,3),(1,2,3))"
   ]
  },
  {
   "cell_type": "code",
   "execution_count": null,
   "id": "334c4b3c-c251-4490-867e-58faf63dbf3a",
   "metadata": {},
   "outputs": [
    {
     "name": "stdout",
     "output_type": "stream",
     "text": [
      "torch.Size([1, 2, 3])\n"
     ]
    }
   ],
   "source": [
    "check((1,2,3),(1,3))"
   ]
  },
  {
   "cell_type": "code",
   "execution_count": null,
   "id": "d0fe3cc6-e175-4d42-acb7-92567645d1b5",
   "metadata": {},
   "outputs": [
    {
     "name": "stdout",
     "output_type": "stream",
     "text": [
      "torch.Size([2, 1, 3])\n"
     ]
    }
   ],
   "source": [
    "check((1,3),(2,1,3))"
   ]
  },
  {
   "cell_type": "code",
   "execution_count": null,
   "id": "907f3c59-c6b5-4eb1-9f0f-cfc59e96495a",
   "metadata": {},
   "outputs": [
    {
     "name": "stdout",
     "output_type": "stream",
     "text": [
      "torch.Size([1, 2, 3])\n"
     ]
    }
   ],
   "source": [
    "check((2,3),(1,2,3))"
   ]
  },
  {
   "cell_type": "code",
   "execution_count": null,
   "id": "b9a12254-bd98-480d-bafb-14964fc24adb",
   "metadata": {},
   "outputs": [
    {
     "name": "stdout",
     "output_type": "stream",
     "text": [
      "not allowed\n"
     ]
    }
   ],
   "source": [
    "check((1,2,3,1),(2,3))"
   ]
  },
  {
   "cell_type": "code",
   "execution_count": null,
   "id": "1dfe0dd1-42a2-4d69-bd17-f419857d9c83",
   "metadata": {},
   "outputs": [
    {
     "name": "stdout",
     "output_type": "stream",
     "text": [
      "not allowed\n"
     ]
    }
   ],
   "source": [
    "check((2,3,1),(2,3))"
   ]
  },
  {
   "cell_type": "code",
   "execution_count": null,
   "id": "a610131d-8a40-4165-a9b0-ba3cb667df4c",
   "metadata": {},
   "outputs": [
    {
     "name": "stdout",
     "output_type": "stream",
     "text": [
      "torch.Size([5, 4, 3, 2, 2])\n"
     ]
    }
   ],
   "source": [
    "check((5,4,3,2,1),(2,))"
   ]
  },
  {
   "cell_type": "code",
   "execution_count": null,
   "id": "5ea330f8-14a4-484f-8334-752e0ffbb626",
   "metadata": {},
   "outputs": [
    {
     "name": "stdout",
     "output_type": "stream",
     "text": [
      "torch.Size([5, 4, 3, 2, 2])\n"
     ]
    }
   ],
   "source": [
    "check((5,4,3,2,2),(2,))"
   ]
  },
  {
   "cell_type": "code",
   "execution_count": null,
   "id": "f30664e0-8597-4ca3-a789-e82cc6936482",
   "metadata": {},
   "outputs": [
    {
     "name": "stdout",
     "output_type": "stream",
     "text": [
      "not allowed\n"
     ]
    }
   ],
   "source": [
    "check((5,4,3,2,3),(2,))"
   ]
  },
  {
   "cell_type": "code",
   "execution_count": null,
   "id": "7543b6e9-8b95-46d6-bd06-0bfa81b62d98",
   "metadata": {},
   "outputs": [
    {
     "name": "stdout",
     "output_type": "stream",
     "text": [
      "torch.Size([5, 4, 3, 2, 2])\n"
     ]
    }
   ],
   "source": [
    "check((5,4,3,2,1),(2,2))"
   ]
  },
  {
   "cell_type": "code",
   "execution_count": null,
   "id": "44e8b473-336f-4afd-935f-d2e80d1eefd8",
   "metadata": {},
   "outputs": [
    {
     "name": "stdout",
     "output_type": "stream",
     "text": [
      "torch.Size([5, 4, 3, 2, 3])\n"
     ]
    }
   ],
   "source": [
    "check((5,4,3,2,1),(2,3))"
   ]
  },
  {
   "cell_type": "code",
   "execution_count": null,
   "id": "423e5b0e-6bb7-4080-96fa-cfeb1653034d",
   "metadata": {},
   "outputs": [
    {
     "name": "stdout",
     "output_type": "stream",
     "text": [
      "not allowed\n"
     ]
    }
   ],
   "source": [
    "check((5,4,3,2,1),(3,2,))"
   ]
  },
  {
   "cell_type": "markdown",
   "id": "c8f670e8-306e-4b7f-a01a-8b71277eeb99",
   "metadata": {},
   "source": [
    "## Matmul with broadcasting"
   ]
  },
  {
   "cell_type": "code",
   "execution_count": null,
   "id": "da6f75f3-96c7-4473-8367-c5ba960304f2",
   "metadata": {},
   "outputs": [
    {
     "data": {
      "text/plain": [
       "(torch.Size([5, 784]), torch.Size([784, 10]))"
      ]
     },
     "execution_count": null,
     "metadata": {},
     "output_type": "execute_result"
    }
   ],
   "source": [
    "m.shape,w.shape"
   ]
  },
  {
   "cell_type": "code",
   "execution_count": null,
   "id": "e376d267-1f1e-41ec-afd2-3b350fe11fbf",
   "metadata": {},
   "outputs": [
    {
     "name": "stdout",
     "output_type": "stream",
     "text": [
      "expand(torch.FloatTensor{[5, 784, 1]}, size=[784, 10]): the number of sizes provided (2) must be greater or equal to the number of dimensions in the tensor (3)\n"
     ]
    }
   ],
   "source": [
    "try:\n",
    "    m[..., None].expand_as(w).shape\n",
    "except Exception as e:\n",
    "    print(e)"
   ]
  },
  {
   "cell_type": "code",
   "execution_count": null,
   "id": "790c9f27-c4e0-4226-a118-bbcb2bd358e5",
   "metadata": {},
   "outputs": [
    {
     "data": {
      "text/plain": [
       "torch.Size([784, 10])"
      ]
     },
     "execution_count": null,
     "metadata": {},
     "output_type": "execute_result"
    }
   ],
   "source": [
    "m[0, ..., None].expand_as(w).shape"
   ]
  },
  {
   "cell_type": "code",
   "execution_count": null,
   "id": "c66fc226-c041-4a6b-aabf-aeb2ebfd9883",
   "metadata": {},
   "outputs": [
    {
     "data": {
      "text/plain": [
       "torch.Size([784])"
      ]
     },
     "execution_count": null,
     "metadata": {},
     "output_type": "execute_result"
    }
   ],
   "source": [
    "(m[0, ..., None] * w).sum(dim=1).shape"
   ]
  },
  {
   "cell_type": "code",
   "execution_count": null,
   "id": "e1201439-381e-465b-b985-28248fe617a5",
   "metadata": {},
   "outputs": [],
   "source": [
    "def matmul(a, b):\n",
    "    result = torch.zeros(a.shape[0], b.shape[1])\n",
    "    for i in range(result.shape[0]):\n",
    "        result[i] = (a[i, ..., None] * b).sum(dim=0)\n",
    "    return result"
   ]
  },
  {
   "cell_type": "code",
   "execution_count": null,
   "id": "09b9d800-eac7-47eb-8e9f-c32d791f0072",
   "metadata": {},
   "outputs": [],
   "source": [
    "test_close(result, matmul(m, w))"
   ]
  },
  {
   "cell_type": "code",
   "execution_count": null,
   "id": "d5abfd4e-a586-4f46-bbda-6b50d0cf3ebf",
   "metadata": {},
   "outputs": [
    {
     "name": "stdout",
     "output_type": "stream",
     "text": [
      "142 µs ± 49.3 µs per loop (mean ± std. dev. of 7 runs, 50 loops each)\n"
     ]
    }
   ],
   "source": [
    "%timeit -n 50 _=matmul(m, w)"
   ]
  },
  {
   "cell_type": "code",
   "execution_count": null,
   "id": "a3915d92-6098-419d-9bef-337d76b63ed4",
   "metadata": {},
   "outputs": [
    {
     "name": "stdout",
     "output_type": "stream",
     "text": [
      "CPU times: user 1.01 s, sys: 3.82 ms, total: 1.01 s\n",
      "Wall time: 1 s\n"
     ]
    }
   ],
   "source": [
    "%time _=matmul(x_train,w)"
   ]
  },
  {
   "cell_type": "code",
   "execution_count": null,
   "id": "5efae91a-9df7-4109-98d8-7bd1829aad03",
   "metadata": {},
   "outputs": [
    {
     "data": {
      "text/plain": [
       "torch.Size([50000, 10])"
      ]
     },
     "execution_count": null,
     "metadata": {},
     "output_type": "execute_result"
    }
   ],
   "source": [
    "matmul(x_train,w).shape"
   ]
  },
  {
   "cell_type": "markdown",
   "id": "6ede6852-e654-4de4-b201-0b1e166164d7",
   "metadata": {},
   "source": [
    "## Einstein summation"
   ]
  },
  {
   "cell_type": "markdown",
   "id": "bc4aaaf9-8348-4b8b-b3c8-792fcb408959",
   "metadata": {},
   "source": [
    "- If the column name is the same, then multiply across that dimension\n",
    "- If the column is removed, sum across that dimension"
   ]
  },
  {
   "cell_type": "code",
   "execution_count": null,
   "id": "fd886514-2e66-4325-aaa5-4f4a693b662d",
   "metadata": {},
   "outputs": [],
   "source": [
    "a = torch.ones((2, 3)) * -2\n",
    "b = torch.ones((3, 2)) * 3"
   ]
  },
  {
   "cell_type": "code",
   "execution_count": null,
   "id": "968f395c-a3a0-42d3-8947-d68b258030db",
   "metadata": {},
   "outputs": [
    {
     "data": {
      "text/plain": [
       "tensor([[-18., -18.],\n",
       "        [-18., -18.]])"
      ]
     },
     "execution_count": null,
     "metadata": {},
     "output_type": "execute_result"
    }
   ],
   "source": [
    "torch.einsum(\"ij,jk->ik\", a, b)"
   ]
  },
  {
   "cell_type": "code",
   "execution_count": null,
   "id": "54a92ad6-cd66-444e-9e9b-2a0f9e0fca4f",
   "metadata": {},
   "outputs": [
    {
     "data": {
      "text/plain": [
       "tensor([[-18., -18.],\n",
       "        [-18., -18.]])"
      ]
     },
     "execution_count": null,
     "metadata": {},
     "output_type": "execute_result"
    }
   ],
   "source": [
    "a@b"
   ]
  },
  {
   "cell_type": "code",
   "execution_count": null,
   "id": "f7188bd9-bc7a-49ab-a12f-83cd247d65dd",
   "metadata": {},
   "outputs": [
    {
     "data": {
      "text/plain": [
       "tensor([-6., -6.])"
      ]
     },
     "execution_count": null,
     "metadata": {},
     "output_type": "execute_result"
    }
   ],
   "source": [
    "torch.einsum(\"ij->i\", a)"
   ]
  },
  {
   "cell_type": "code",
   "execution_count": null,
   "id": "25f2b57d-6553-42cc-a7dc-cca205beff79",
   "metadata": {},
   "outputs": [
    {
     "data": {
      "text/plain": [
       "tensor([[[-6., -6.],\n",
       "         [-6., -6.],\n",
       "         [-6., -6.]],\n",
       "\n",
       "        [[-6., -6.],\n",
       "         [-6., -6.],\n",
       "         [-6., -6.]]])"
      ]
     },
     "execution_count": null,
     "metadata": {},
     "output_type": "execute_result"
    }
   ],
   "source": [
    "torch.einsum(\"ij,jk->ijk\", a, b)"
   ]
  },
  {
   "cell_type": "code",
   "execution_count": null,
   "id": "d9907c26-7927-44c1-883a-dd99d1a6b20e",
   "metadata": {},
   "outputs": [],
   "source": [
    "def matmul(a, b):\n",
    "    return torch.einsum(\"ij,jk->ik\", a, b)"
   ]
  },
  {
   "cell_type": "code",
   "execution_count": null,
   "id": "027807cb-7164-4e9b-9af4-df95dedff24e",
   "metadata": {},
   "outputs": [],
   "source": [
    "test_close(result, matmul(m, w))"
   ]
  },
  {
   "cell_type": "code",
   "execution_count": null,
   "id": "ce32c15d-aaa2-4d6c-b7cc-8a290763e5ce",
   "metadata": {},
   "outputs": [
    {
     "name": "stdout",
     "output_type": "stream",
     "text": [
      "8.72 ms ± 466 µs per loop (mean ± std. dev. of 7 runs, 5 loops each)\n"
     ]
    }
   ],
   "source": [
    "%timeit -n 5 _=matmul(x_train, w)"
   ]
  },
  {
   "cell_type": "markdown",
   "id": "5817c248-b740-451a-84ab-e5874551004a",
   "metadata": {},
   "source": [
    "## PyTorch op"
   ]
  },
  {
   "cell_type": "code",
   "execution_count": null,
   "id": "f2bff03e-be37-4b18-be55-a6dd803c8c71",
   "metadata": {},
   "outputs": [],
   "source": [
    "test_close(result, m@w)"
   ]
  },
  {
   "cell_type": "code",
   "execution_count": null,
   "id": "1e39fa6d-7181-45bb-8ece-b6f80fbb6927",
   "metadata": {},
   "outputs": [
    {
     "name": "stdout",
     "output_type": "stream",
     "text": [
      "7.42 ms ± 369 µs per loop (mean ± std. dev. of 7 runs, 5 loops each)\n"
     ]
    }
   ],
   "source": [
    "%timeit -n 5 _=x_train@w"
   ]
  },
  {
   "cell_type": "markdown",
   "id": "e8b1be18-a553-456e-a7c4-ad85ec19155c",
   "metadata": {},
   "source": [
    "## CUDA"
   ]
  },
  {
   "cell_type": "code",
   "execution_count": null,
   "id": "475ea985-7b2f-43c2-912a-f51020d162cb",
   "metadata": {},
   "outputs": [],
   "source": [
    "def matmul(grid, a, b, c):\n",
    "    x, y = grid[0], grid[1]\n",
    "    if y < c.shape[0] and x < c.shape[1]:\n",
    "        tmp = 0\n",
    "        for k in range(a.shape[1]):\n",
    "            tmp += a[y, k] * b[k, x]\n",
    "        c[y, x] = tmp"
   ]
  },
  {
   "cell_type": "code",
   "execution_count": null,
   "id": "59668c4a-a010-49c3-8428-58b958ee6b41",
   "metadata": {},
   "outputs": [
    {
     "data": {
      "text/plain": [
       "tensor([[-0.72,  0.00,  0.00,  0.00,  0.00,  0.00,  0.00,  0.00,  0.00,  0.00],\n",
       "        [ 0.00,  0.00,  0.00,  0.00,  0.00,  0.00,  0.00,  0.00,  0.00,  0.00],\n",
       "        [ 0.00,  0.00,  0.00,  0.00,  0.00,  0.00,  0.00,  0.00,  0.00,  0.00],\n",
       "        [ 0.00,  0.00,  0.00,  0.00,  0.00,  0.00,  0.00,  0.00,  0.00,  0.00],\n",
       "        [ 0.00,  0.00,  0.00,  0.00,  0.00,  0.00,  0.00,  0.00,  0.00,  0.00]])"
      ]
     },
     "execution_count": null,
     "metadata": {},
     "output_type": "execute_result"
    }
   ],
   "source": [
    "res = torch.zeros(m.shape[0], w.shape[1])\n",
    "matmul((0, 0), m, w, res)\n",
    "res"
   ]
  },
  {
   "cell_type": "code",
   "execution_count": null,
   "id": "2a1de802-47d3-405a-8e49-a991319a5f27",
   "metadata": {},
   "outputs": [],
   "source": [
    "def launch_kernel(kernel, grid_x, grid_y, *args, **kwargs):\n",
    "    for x in range(grid_x):\n",
    "        for y in range(grid_y):\n",
    "            kernel((x, y), *args, **kwargs)"
   ]
  },
  {
   "cell_type": "code",
   "execution_count": null,
   "id": "1b747aa0-f260-4e54-8728-186b23deee4c",
   "metadata": {},
   "outputs": [
    {
     "data": {
      "text/plain": [
       "tensor([[ -0.72,  -4.57, -21.03,  -0.43,   1.45,  -8.29,  -1.08,   0.14, -25.55,  -3.24],\n",
       "        [  4.28,  -6.49,  -7.41,   3.62,   0.59,  -4.48,   2.34,  -4.81, -17.55,   2.57],\n",
       "        [  3.05,   3.23,  -1.27,  -3.08,  10.48,   2.17,   1.93,  -5.33,  -1.15,   1.06],\n",
       "        [ -0.47,   3.03,  12.06,   2.98,  -5.31,  -1.55, -10.73,   5.44,  -5.78,  -5.91],\n",
       "        [ -3.63,   0.44,  10.21, -11.97,  -0.72,   4.17,  -7.36,  -7.61,  -8.45, -12.60]])"
      ]
     },
     "execution_count": null,
     "metadata": {},
     "output_type": "execute_result"
    }
   ],
   "source": [
    "res = torch.zeros(m.shape[0], w.shape[1])\n",
    "launch_kernel(matmul, res.shape[1], res.shape[0], m, w, res)\n",
    "res"
   ]
  },
  {
   "cell_type": "code",
   "execution_count": null,
   "id": "c4647df1-cf5f-4e15-bfd0-a8e768c00b9e",
   "metadata": {},
   "outputs": [],
   "source": [
    "test_close(result, res)"
   ]
  },
  {
   "cell_type": "code",
   "execution_count": null,
   "id": "536c4d87-90ca-42c0-ab98-68114df40836",
   "metadata": {},
   "outputs": [],
   "source": [
    "from numba import cuda"
   ]
  },
  {
   "cell_type": "code",
   "execution_count": null,
   "id": "1b0010fb-9ba3-447d-92f6-2d11d2122e3b",
   "metadata": {},
   "outputs": [],
   "source": [
    "@cuda.jit\n",
    "def matmul(a, b, c):\n",
    "    y, x = cuda.grid(2)\n",
    "    if y < c.shape[0] and x < c.shape[1]:\n",
    "        tmp = 0.0\n",
    "        for k in range(a.shape[1]):\n",
    "            tmp += a[y, k] * b[k, x]\n",
    "        c[y, x] = tmp"
   ]
  },
  {
   "cell_type": "code",
   "execution_count": null,
   "id": "4d635080-b73a-464a-9639-1ed930c47dcc",
   "metadata": {},
   "outputs": [],
   "source": [
    "res_cuda = np.zeros((x_train.shape[0], w.shape[1]))\n",
    "x_train_g, w_g, res_cuda_g = map(cuda.to_device, (x_train, w, res_cuda))"
   ]
  },
  {
   "cell_type": "code",
   "execution_count": null,
   "id": "07f37247-3da0-47e1-81fa-50516962935c",
   "metadata": {},
   "outputs": [],
   "source": [
    "import math"
   ]
  },
  {
   "cell_type": "code",
   "execution_count": null,
   "id": "f646d265-3345-491b-9733-8c1ae27294e2",
   "metadata": {},
   "outputs": [
    {
     "data": {
      "text/plain": [
       "(3125, 1)"
      ]
     },
     "execution_count": null,
     "metadata": {},
     "output_type": "execute_result"
    }
   ],
   "source": [
    "TPB = 16\n",
    "blockspergrid = math.ceil(res_cuda.shape[0] / TPB), math.ceil(res_cuda.shape[1] / TPB)\n",
    "blockspergrid"
   ]
  },
  {
   "cell_type": "code",
   "execution_count": null,
   "id": "fa4b8e0a-b40b-48af-8980-005b1a77650b",
   "metadata": {},
   "outputs": [],
   "source": [
    "matmul[blockspergrid, (TPB, TPB)](x_train_g, w_g, res_cuda_g)"
   ]
  },
  {
   "cell_type": "code",
   "execution_count": null,
   "id": "6b37292b-8a1c-41e3-bf1d-c03a495b71d8",
   "metadata": {},
   "outputs": [],
   "source": [
    "res_cuda = res_cuda_g.copy_to_host()"
   ]
  },
  {
   "cell_type": "code",
   "execution_count": null,
   "id": "8a04764d-72b7-4f17-8227-f3899e03ef22",
   "metadata": {},
   "outputs": [],
   "source": [
    "test_close(x_train@w, res_cuda, eps=1e-4)"
   ]
  },
  {
   "cell_type": "code",
   "execution_count": null,
   "id": "b7d79194-6261-486c-bd73-29c1c0287174",
   "metadata": {},
   "outputs": [
    {
     "name": "stdout",
     "output_type": "stream",
     "text": [
      "55.2 ms ± 474 µs per loop (mean ± std. dev. of 7 runs, 5 loops each)\n"
     ]
    }
   ],
   "source": [
    "%%timeit -n 5\n",
    "res_cuda = np.zeros((x_train.shape[0], w.shape[1]))\n",
    "x_train_g, w_g, res_cuda_g = map(cuda.to_device, (x_train, w, res_cuda))\n",
    "matmul[blockspergrid, (TPB, TPB)](x_train_g, w_g, res_cuda_g)\n",
    "res_cuda = res_cuda_g.copy_to_host()"
   ]
  },
  {
   "cell_type": "code",
   "execution_count": null,
   "id": "f33cac93-8fce-4c74-bab5-b495471b69d8",
   "metadata": {},
   "outputs": [
    {
     "name": "stdout",
     "output_type": "stream",
     "text": [
      "18.7 ms ± 63.9 µs per loop (mean ± std. dev. of 7 runs, 5 loops each)\n"
     ]
    }
   ],
   "source": [
    "%%timeit -n 5\n",
    "matmul[blockspergrid, (TPB, TPB)](x_train_g, w_g, res_cuda_g)\n",
    "res_cuda = res_cuda_g.copy_to_host()"
   ]
  },
  {
   "cell_type": "code",
   "execution_count": null,
   "id": "957b3368-40bf-4288-b0e7-3056b380c263",
   "metadata": {},
   "outputs": [
    {
     "name": "stdout",
     "output_type": "stream",
     "text": [
      "The slowest run took 7.46 times longer than the fastest. This could mean that an intermediate result is being cached.\n",
      "104 µs ± 95.2 µs per loop (mean ± std. dev. of 7 runs, 5 loops each)\n"
     ]
    }
   ],
   "source": [
    "%%timeit -n 5\n",
    "matmul[blockspergrid, (TPB, TPB)](x_train_g, w_g, res_cuda_g)"
   ]
  },
  {
   "cell_type": "code",
   "execution_count": null,
   "id": "470ec393-8128-4011-b148-2d8b60358b7e",
   "metadata": {},
   "outputs": [],
   "source": [
    "x_train_c, w_c = x_train.cuda(), w.cuda()"
   ]
  },
  {
   "cell_type": "code",
   "execution_count": null,
   "id": "a20c2f00-2334-4545-a0fb-9b26c9423079",
   "metadata": {},
   "outputs": [],
   "source": [
    "r_c = x_train_c@w_c\n",
    "r_c = r_c.cpu()"
   ]
  },
  {
   "cell_type": "code",
   "execution_count": null,
   "id": "f2e63c8e-add3-4e4d-9550-0e76293c45cf",
   "metadata": {},
   "outputs": [],
   "source": [
    "test_close(res_cuda, r_c.numpy())"
   ]
  },
  {
   "cell_type": "code",
   "execution_count": null,
   "id": "6a75f2a2-6412-414d-baf7-e15850ed6caa",
   "metadata": {},
   "outputs": [
    {
     "name": "stdout",
     "output_type": "stream",
     "text": [
      "27.4 ms ± 1.35 ms per loop (mean ± std. dev. of 7 runs, 5 loops each)\n"
     ]
    }
   ],
   "source": [
    "%%timeit -n 5\n",
    "x_train_c, w_c = x_train.cuda(), w.cuda()\n",
    "r_c = x_train_c@w_c\n",
    "r_c = r_c.cpu()"
   ]
  },
  {
   "cell_type": "code",
   "execution_count": null,
   "id": "1e3a166b-ef9f-423c-87dc-8f2cb28fa68a",
   "metadata": {},
   "outputs": [
    {
     "name": "stdout",
     "output_type": "stream",
     "text": [
      "2.82 ms ± 288 µs per loop (mean ± std. dev. of 7 runs, 5 loops each)\n"
     ]
    }
   ],
   "source": [
    "%%timeit -n 5\n",
    "r_c = x_train_c@w_c\n",
    "r_c = r_c.cpu()"
   ]
  },
  {
   "cell_type": "code",
   "execution_count": null,
   "id": "2126ca5d-65a8-4407-8d23-d375aa61ea32",
   "metadata": {},
   "outputs": [
    {
     "name": "stdout",
     "output_type": "stream",
     "text": [
      "The slowest run took 38.94 times longer than the fastest. This could mean that an intermediate result is being cached.\n",
      "42.3 µs ± 85.1 µs per loop (mean ± std. dev. of 7 runs, 5 loops each)\n"
     ]
    }
   ],
   "source": [
    "%%timeit -n 5\n",
    "r_c = x_train_c@w_c"
   ]
  },
  {
   "cell_type": "code",
   "execution_count": null,
   "id": "0e19f5bc-a714-4142-af21-c956e2a1b0c9",
   "metadata": {},
   "outputs": [],
   "source": []
  }
 ],
 "metadata": {
  "kernelspec": {
   "display_name": "python3",
   "language": "python",
   "name": "python3"
  }
 },
 "nbformat": 4,
 "nbformat_minor": 5
}
