{
 "cells": [
  {
   "cell_type": "code",
   "execution_count": null,
   "id": "9fffa8f1-5f05-4406-bb47-173af951a38e",
   "metadata": {},
   "outputs": [],
   "source": [
    "import math\n",
    "\n",
    "import torch\n",
    "import torch.nn as nn"
   ]
  },
  {
   "cell_type": "code",
   "execution_count": null,
   "id": "2d28b031-63bc-4823-9685-49bbe9062406",
   "metadata": {},
   "outputs": [],
   "source": [
    "from diffusers.models.attention import Attention"
   ]
  },
  {
   "cell_type": "code",
   "execution_count": null,
   "id": "e71cd28d-8787-410e-a5a6-3424ebce9842",
   "metadata": {},
   "outputs": [],
   "source": [
    "from miniai.activations import set_seed"
   ]
  },
  {
   "cell_type": "code",
   "execution_count": null,
   "id": "7c241ac4-17ff-4109-8292-ece3ff0c5548",
   "metadata": {},
   "outputs": [],
   "source": [
    "set_seed(1103)"
   ]
  },
  {
   "cell_type": "markdown",
   "id": "3b32e832-512a-449a-aa3b-6efe612452e4",
   "metadata": {},
   "source": [
    "https://arxiv.org/abs/1706.03762"
   ]
  },
  {
   "cell_type": "code",
   "execution_count": null,
   "id": "2b7c1de3-352e-43ad-9ec9-ff49d6df50f9",
   "metadata": {},
   "outputs": [],
   "source": [
    "x = torch.randn(32, 8, 4, 4)"
   ]
  },
  {
   "cell_type": "code",
   "execution_count": null,
   "id": "5d9ad897-dc2f-457f-9e2a-62d12827548c",
   "metadata": {},
   "outputs": [
    {
     "data": {
      "text/plain": [
       "torch.Size([32, 8, 16])"
      ]
     },
     "execution_count": null,
     "metadata": {},
     "output_type": "execute_result"
    }
   ],
   "source": [
    "inp = x.reshape(x.shape[0], x.shape[1], -1)\n",
    "inp.shape"
   ]
  },
  {
   "cell_type": "code",
   "execution_count": null,
   "id": "9382c59b-2a7b-4c0a-9c2d-ede483d1da7e",
   "metadata": {},
   "outputs": [
    {
     "data": {
      "text/plain": [
       "torch.Size([32, 16, 8])"
      ]
     },
     "execution_count": null,
     "metadata": {},
     "output_type": "execute_result"
    }
   ],
   "source": [
    "inp = inp.transpose(1, 2)\n",
    "inp.shape"
   ]
  },
  {
   "cell_type": "code",
   "execution_count": null,
   "id": "11ccb093-1d2b-4a65-864b-cd6b37cee7d1",
   "metadata": {},
   "outputs": [],
   "source": [
    "n_dim = inp.shape[-1]"
   ]
  },
  {
   "cell_type": "code",
   "execution_count": null,
   "id": "ab188761-a831-436a-bf13-85d78035f53e",
   "metadata": {},
   "outputs": [],
   "source": [
    "lin_q = nn.Linear(n_dim, n_dim)\n",
    "lin_k = nn.Linear(n_dim, n_dim)\n",
    "lin_v = nn.Linear(n_dim, n_dim)"
   ]
  },
  {
   "cell_type": "code",
   "execution_count": null,
   "id": "4ce64e34-48ae-44f1-be0f-2ff08eda0398",
   "metadata": {},
   "outputs": [
    {
     "data": {
      "text/plain": [
       "torch.Size([32, 16, 8])"
      ]
     },
     "execution_count": null,
     "metadata": {},
     "output_type": "execute_result"
    }
   ],
   "source": [
    "q, k, v = lin_q(inp), lin_k(inp), lin_v(inp)\n",
    "q.shape"
   ]
  },
  {
   "cell_type": "code",
   "execution_count": null,
   "id": "ac1d088a-6943-41da-b380-f72aec3a879f",
   "metadata": {},
   "outputs": [
    {
     "data": {
      "text/plain": [
       "torch.Size([32, 16, 16])"
      ]
     },
     "execution_count": null,
     "metadata": {},
     "output_type": "execute_result"
    }
   ],
   "source": [
    "scores = (q @ k.transpose(1,2) * (1 / math.sqrt(n_dim)))\n",
    "scores.shape"
   ]
  },
  {
   "cell_type": "code",
   "execution_count": null,
   "id": "1bda7212-5679-41da-b272-2c7ca6e9bded",
   "metadata": {},
   "outputs": [
    {
     "data": {
      "text/plain": [
       "torch.Size([32, 16, 8])"
      ]
     },
     "execution_count": null,
     "metadata": {},
     "output_type": "execute_result"
    }
   ],
   "source": [
    "out = scores.softmax(dim=-1) @ v\n",
    "out.shape"
   ]
  },
  {
   "cell_type": "code",
   "execution_count": null,
   "id": "4ae5e5e8-f40d-4199-a31a-a6b448e6ee27",
   "metadata": {},
   "outputs": [],
   "source": [
    "class SelfAttention(nn.Module):\n",
    "    def __init__(self, n_dim):\n",
    "        super().__init__()\n",
    "        self.scale = 1 / math.sqrt(n_dim)\n",
    "        self.q = nn.Linear(n_dim, n_dim)\n",
    "        self.k = nn.Linear(n_dim, n_dim)\n",
    "        self.v = nn.Linear(n_dim, n_dim)\n",
    "        self.norm = nn.GroupNorm(1, n_dim)\n",
    "        self.lin = nn.Linear(n_dim, n_dim)\n",
    "\n",
    "    def forward(self, x):\n",
    "        init_x = x\n",
    "        bs, c, h, w = x.shape\n",
    "        x = x.reshape(bs, c, -1).transpose(1, 2)\n",
    "        q, k, v = self.q(x), self.k(x), self.v(x)\n",
    "        x = (q @ k.transpose(1, 2) * self.scale).softmax(dim=-1) @ v\n",
    "        x = self.lin(x).transpose(1, 2).reshape(bs, c, h, w)\n",
    "        return self.norm(init_x + x)"
   ]
  },
  {
   "cell_type": "code",
   "execution_count": null,
   "id": "a54f7c36-4375-4932-8df9-a1d3b33660eb",
   "metadata": {},
   "outputs": [
    {
     "data": {
      "text/plain": [
       "torch.Size([32, 8, 4, 4])"
      ]
     },
     "execution_count": null,
     "metadata": {},
     "output_type": "execute_result"
    }
   ],
   "source": [
    "sa = SelfAttention(n_dim)\n",
    "o1 = sa(x)\n",
    "o1.shape"
   ]
  },
  {
   "cell_type": "code",
   "execution_count": null,
   "id": "fa5e4f4d-27c9-48df-858c-e0a582f22616",
   "metadata": {},
   "outputs": [],
   "source": [
    "def cp_params(a, b):\n",
    "    a.weight, a.bias = b.weight, b.bias"
   ]
  },
  {
   "cell_type": "code",
   "execution_count": null,
   "id": "44b75cd9-eae3-4bad-ac2e-3c7d7f6e45ca",
   "metadata": {},
   "outputs": [
    {
     "data": {
      "text/plain": [
       "tensor(True)"
      ]
     },
     "execution_count": null,
     "metadata": {},
     "output_type": "execute_result"
    }
   ],
   "source": [
    "sa2 = SelfAttention(n_dim)\n",
    "for fr, to in (\n",
    "    (sa.q, sa2.q), (sa.k, sa2.k), (sa.v, sa2.v), (sa.norm, sa2.norm), (sa.lin, sa2.lin),\n",
    "):\n",
    "    cp_params(to, fr)\n",
    "o2 = sa2(x)\n",
    "(o1 == o2).all()"
   ]
  },
  {
   "cell_type": "code",
   "execution_count": null,
   "id": "494f0e4b-5a4b-4873-835f-1e2f038d24fd",
   "metadata": {},
   "outputs": [
    {
     "data": {
      "text/plain": [
       "torch.Size([32, 16, 24])"
      ]
     },
     "execution_count": null,
     "metadata": {},
     "output_type": "execute_result"
    }
   ],
   "source": [
    "lin_qkv = nn.Linear(n_dim, 3 * n_dim)\n",
    "qkv = lin_qkv(inp)\n",
    "qkv.shape"
   ]
  },
  {
   "cell_type": "code",
   "execution_count": null,
   "id": "c5d74035-ad97-4155-8737-2d0fc2f241a2",
   "metadata": {},
   "outputs": [
    {
     "data": {
      "text/plain": [
       "(torch.Size([32, 16, 8]), torch.Size([32, 16, 8]), torch.Size([32, 16, 8]))"
      ]
     },
     "execution_count": null,
     "metadata": {},
     "output_type": "execute_result"
    }
   ],
   "source": [
    "q, k, v = qkv[..., :n_dim], qkv[..., n_dim: 2 * n_dim], qkv[..., 2 * n_dim: 3 * n_dim]\n",
    "q.shape, k.shape, v.shape"
   ]
  },
  {
   "cell_type": "code",
   "execution_count": null,
   "id": "323a2cbc-56e4-41b9-aa9f-fae8de2a4ed1",
   "metadata": {},
   "outputs": [],
   "source": [
    "def heads_to_batch(x, heads):\n",
    "    bs, c, d = x.shape\n",
    "    x = x.reshape(bs, c, heads, -1)  # (bs, c, heads, dh)\n",
    "    x = x.transpose(1, 2)  # (bs, heads, c, dh)\n",
    "    return x.reshape(bs * heads, c, -1)"
   ]
  },
  {
   "cell_type": "code",
   "execution_count": null,
   "id": "e3d3b82a-c7f3-4c2f-9fb0-668544e30217",
   "metadata": {},
   "outputs": [
    {
     "name": "stdout",
     "output_type": "stream",
     "text": [
      "torch.Size([64, 16, 4])\n",
      "torch.Size([128, 16, 2])\n",
      "torch.Size([256, 16, 1])\n"
     ]
    }
   ],
   "source": [
    "x = torch.empty((32, 16, 8))\n",
    "print(heads_to_batch(x, 2).shape)\n",
    "print(heads_to_batch(x, 4).shape)\n",
    "print(heads_to_batch(x, 8).shape)"
   ]
  },
  {
   "cell_type": "code",
   "execution_count": null,
   "id": "46d4717b-fb6c-42ae-afd0-a140eb384f77",
   "metadata": {},
   "outputs": [],
   "source": [
    "def batch_to_heads(x, heads):\n",
    "    _, c, dh = x.shape\n",
    "    x = x.reshape(-1, heads, c, dh)  # (bs, heads, c, dh)\n",
    "    x = x.transpose(1, 2)  # (bs, c, heads, dh)\n",
    "    return x.reshape(-1, c, heads * dh)"
   ]
  },
  {
   "cell_type": "code",
   "execution_count": null,
   "id": "d2613252-5f79-4fd6-93dc-b1a80367c669",
   "metadata": {},
   "outputs": [
    {
     "name": "stdout",
     "output_type": "stream",
     "text": [
      "torch.Size([32, 16, 8])\n",
      "torch.Size([32, 16, 8])\n",
      "torch.Size([32, 16, 8])\n"
     ]
    }
   ],
   "source": [
    "print(batch_to_heads(heads_to_batch(x, 2), 2).shape)\n",
    "print(batch_to_heads(heads_to_batch(x, 4), 4).shape)\n",
    "print(batch_to_heads(heads_to_batch(x, 8), 8).shape)"
   ]
  },
  {
   "cell_type": "code",
   "execution_count": null,
   "id": "6b152eab-1119-4dd8-a197-78e3baebb011",
   "metadata": {},
   "outputs": [],
   "source": [
    "class SelfAttentionMultihead(nn.Module):\n",
    "    def __init__(self, n_dim, nheads):\n",
    "        super().__init__()\n",
    "        \n",
    "        self.nheads = nheads\n",
    "        self.scale = 1 / math.sqrt(n_dim / nheads)\n",
    "        self.qkv = nn.Linear(n_dim, 3 * n_dim)\n",
    "        self.norm = nn.GroupNorm(1, n_dim)\n",
    "        self.lin = nn.Linear(n_dim, n_dim)\n",
    "        \n",
    "    def forward(self, x):\n",
    "        init_x = x\n",
    "        bs, c, h, w = x.shape\n",
    "        x = x.reshape(bs, c, -1).transpose(1, 2)\n",
    "        qkv = self.qkv(x)\n",
    "        qkv = heads_to_batch(qkv, self.nheads)\n",
    "        n_dim = qkv.shape[-1] // 3\n",
    "        q, k, v = qkv[..., :n_dim], qkv[..., n_dim: 2 * n_dim], qkv[..., 2 * n_dim: 3 * n_dim]\n",
    "        x = (q @ k.transpose(1, 2) * self.scale).softmax(dim=-1) @ v\n",
    "        x = batch_to_heads(x, self.nheads)\n",
    "        x = self.lin(x).transpose(1, 2).reshape(bs, c, h, w)\n",
    "        return self.norm(init_x + x)"
   ]
  },
  {
   "cell_type": "code",
   "execution_count": null,
   "id": "bd24add5-6b7f-4107-9986-06f1b0da719b",
   "metadata": {},
   "outputs": [
    {
     "name": "stdout",
     "output_type": "stream",
     "text": [
      "torch.Size([32, 8, 4, 4])\n",
      "torch.Size([32, 8, 4, 4])\n",
      "torch.Size([32, 8, 4, 4])\n"
     ]
    }
   ],
   "source": [
    "x = torch.randn(32, 8, 4, 4)\n",
    "print(SelfAttentionMultihead(8, 4)(x).shape)\n",
    "print(SelfAttentionMultihead(8, 2)(x).shape)\n",
    "print(SelfAttentionMultihead(8, 8)(x).shape)"
   ]
  },
  {
   "cell_type": "code",
   "execution_count": null,
   "id": "545e0022-d79e-4be2-a4a5-db292611ae74",
   "metadata": {},
   "outputs": [],
   "source": []
  }
 ],
 "metadata": {
  "kernelspec": {
   "display_name": "python3",
   "language": "python",
   "name": "python3"
  }
 },
 "nbformat": 4,
 "nbformat_minor": 5
}
