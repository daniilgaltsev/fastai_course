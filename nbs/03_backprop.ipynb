{
 "cells": [
  {
   "cell_type": "markdown",
   "id": "9995b055-e994-46d5-8ccf-2a0f774d0d0a",
   "metadata": {},
   "source": [
    "# The forward and backward passes"
   ]
  },
  {
   "cell_type": "code",
   "execution_count": null,
   "id": "ec39c1c3-0733-49f8-acf7-5e755cfb9974",
   "metadata": {},
   "outputs": [],
   "source": [
    "from pathlib import Path\n",
    "import pickle\n",
    "import gzip\n",
    "\n",
    "from fastcore.test import test_close\n",
    "import matplotlib\n",
    "import matplotlib.pyplot as plt\n",
    "import numpy as np\n",
    "import torch\n",
    "\n",
    "torch.manual_seed(1103)\n",
    "\n",
    "matplotlib.rcParams[\"image.cmap\"] = \"gray\"\n",
    "torch.set_printoptions(precision=2, linewidth=160, sci_mode=False)\n",
    "np.set_printoptions(precision=2, linewidth=160)\n",
    "\n",
    "data_path = Path(\"data\")\n",
    "mnist_path = data_path / \"mnist.pkl.gz\"\n",
    "with gzip.open(mnist_path) as f:\n",
    "    ((x_train, y_train), (x_valid, y_valid), _) = pickle.load(f, encoding=\"bytes\")\n",
    "x_train, y_train, x_valid, y_valid = map(torch.tensor, (x_train, y_train, x_valid, y_valid))"
   ]
  },
  {
   "cell_type": "markdown",
   "id": "a24a8172-acbb-422e-99fa-ac96ae07807b",
   "metadata": {},
   "source": [
    "# Foundations version"
   ]
  },
  {
   "cell_type": "markdown",
   "id": "24eca9b4-24c7-427c-90b3-cf45faa3cc7f",
   "metadata": {},
   "source": [
    "## Basic architecture"
   ]
  },
  {
   "cell_type": "code",
   "execution_count": null,
   "id": "6fa3db6b-de08-425b-955b-18157c83019f",
   "metadata": {},
   "outputs": [
    {
     "data": {
      "text/plain": [
       "torch.Size([50000, 784])"
      ]
     },
     "execution_count": null,
     "metadata": {},
     "output_type": "execute_result"
    }
   ],
   "source": [
    "x_train.shape"
   ]
  },
  {
   "cell_type": "code",
   "execution_count": null,
   "id": "1be62059-bdf7-4cfc-b0d7-0e4cbf4f9adc",
   "metadata": {},
   "outputs": [
    {
     "data": {
      "text/plain": [
       "10"
      ]
     },
     "execution_count": null,
     "metadata": {},
     "output_type": "execute_result"
    }
   ],
   "source": [
    "nh = 50\n",
    "c = y_train.max().item() + 1\n",
    "c"
   ]
  },
  {
   "cell_type": "code",
   "execution_count": null,
   "id": "a70ba527-dac2-4544-9006-6d9734e4fc48",
   "metadata": {},
   "outputs": [],
   "source": [
    "w1 = torch.randn(784, nh)\n",
    "b1 = torch.zeros(nh)\n",
    "w2 = torch.randn(nh, 1)\n",
    "b2 = torch.zeros(1)"
   ]
  },
  {
   "cell_type": "code",
   "execution_count": null,
   "id": "d11ae39f-9bf8-4390-ac64-c605b3f49c10",
   "metadata": {},
   "outputs": [],
   "source": [
    "def lin(x, w, b):\n",
    "    return x@w + b"
   ]
  },
  {
   "cell_type": "code",
   "execution_count": null,
   "id": "3000ec76-5f05-4e72-8146-609f250c63f3",
   "metadata": {},
   "outputs": [
    {
     "data": {
      "text/plain": [
       "torch.Size([50000, 50])"
      ]
     },
     "execution_count": null,
     "metadata": {},
     "output_type": "execute_result"
    }
   ],
   "source": [
    "l1_out = lin(x_train, w1, b1)\n",
    "l1_out.shape"
   ]
  },
  {
   "cell_type": "code",
   "execution_count": null,
   "id": "ac248b78-3400-4093-88f8-186ba8a20407",
   "metadata": {},
   "outputs": [],
   "source": [
    "def relu(x):\n",
    "    return x.clamp_min(0.)"
   ]
  },
  {
   "cell_type": "code",
   "execution_count": null,
   "id": "3574c9a8-c62f-492e-9952-b7cf695b3c38",
   "metadata": {},
   "outputs": [
    {
     "data": {
      "text/plain": [
       "(torch.Size([50000, 50]), tensor(0))"
      ]
     },
     "execution_count": null,
     "metadata": {},
     "output_type": "execute_result"
    }
   ],
   "source": [
    "a1_out = relu(l1_out)\n",
    "a1_out.shape, (a1_out < 0).sum()"
   ]
  },
  {
   "cell_type": "code",
   "execution_count": null,
   "id": "c5cf5dae-88af-4a14-816c-05333d367e0d",
   "metadata": {},
   "outputs": [],
   "source": [
    "def model(xb):\n",
    "    l1 = lin(xb, w1, b1)\n",
    "    a1 = relu(l1)\n",
    "    l2 = lin(a1, w2, b2)\n",
    "    return l2"
   ]
  },
  {
   "cell_type": "code",
   "execution_count": null,
   "id": "8d28cf16-9172-444b-b5ea-c487904d7fa6",
   "metadata": {},
   "outputs": [
    {
     "data": {
      "text/plain": [
       "torch.Size([50000, 1])"
      ]
     },
     "execution_count": null,
     "metadata": {},
     "output_type": "execute_result"
    }
   ],
   "source": [
    "out = model(x_train)\n",
    "out.shape"
   ]
  },
  {
   "cell_type": "markdown",
   "id": "878fddd2-83c4-4e99-b584-c5b018d0177f",
   "metadata": {},
   "source": [
    "## Loss function: MSE"
   ]
  },
  {
   "cell_type": "code",
   "execution_count": null,
   "id": "afa20b10-3fdd-4c51-859b-c7e7f7bc8cf3",
   "metadata": {},
   "outputs": [
    {
     "data": {
      "text/plain": [
       "(torch.Size([50000, 1]), torch.Size([50000]))"
      ]
     },
     "execution_count": null,
     "metadata": {},
     "output_type": "execute_result"
    }
   ],
   "source": [
    "out.shape, y_train.shape"
   ]
  },
  {
   "cell_type": "code",
   "execution_count": null,
   "id": "2399e809-8293-47c2-bfb1-8937a0a65bb3",
   "metadata": {},
   "outputs": [],
   "source": [
    "def mse(output, target):\n",
    "    return ((output - target[:, None])**2).mean()"
   ]
  },
  {
   "cell_type": "code",
   "execution_count": null,
   "id": "99f74e3a-cf8c-41c7-9b19-cae8f26aa15b",
   "metadata": {},
   "outputs": [
    {
     "data": {
      "text/plain": [
       "tensor(849.00)"
      ]
     },
     "execution_count": null,
     "metadata": {},
     "output_type": "execute_result"
    }
   ],
   "source": [
    "mse(out, y_train)"
   ]
  },
  {
   "cell_type": "markdown",
   "id": "ed7336e6-5de7-43e6-bb24-df5b94481291",
   "metadata": {},
   "source": [
    "## Gradients and backward pass"
   ]
  },
  {
   "cell_type": "code",
   "execution_count": null,
   "id": "13e86be6-9b55-404c-90e4-ef5fede8fe14",
   "metadata": {},
   "outputs": [],
   "source": [
    "import sympy"
   ]
  },
  {
   "cell_type": "code",
   "execution_count": null,
   "id": "6c943723-e7cb-4ba9-a479-e4341ac869fb",
   "metadata": {},
   "outputs": [
    {
     "data": {
      "text/latex": [
       "$\\displaystyle 2 x$"
      ],
      "text/plain": [
       "2*x"
      ]
     },
     "execution_count": null,
     "metadata": {},
     "output_type": "execute_result"
    }
   ],
   "source": [
    "x, y = sympy.symbols(\"x y\")\n",
    "sympy.diff(x**2+y, x)"
   ]
  },
  {
   "cell_type": "code",
   "execution_count": null,
   "id": "bedabc38-7046-411b-b47f-9b6f096e8b49",
   "metadata": {},
   "outputs": [
    {
     "data": {
      "text/latex": [
       "$\\displaystyle 2 x - 2 y$"
      ],
      "text/plain": [
       "2*x - 2*y"
      ]
     },
     "execution_count": null,
     "metadata": {},
     "output_type": "execute_result"
    }
   ],
   "source": [
    "sympy.diff((x-y)**2, x)"
   ]
  },
  {
   "cell_type": "code",
   "execution_count": null,
   "id": "a62a5b3b-5498-41ea-bdee-9d61c62b1402",
   "metadata": {},
   "outputs": [
    {
     "name": "stdout",
     "output_type": "stream",
     "text": [
      "('out', torch.Size([50000, 50]))\n",
      "('inp', torch.Size([50000, 784]))\n",
      "('w', torch.Size([784, 50]))\n",
      "('b', torch.Size([50]))\n"
     ]
    }
   ],
   "source": [
    "for i in ((\"out\", l1_out.shape), (\"inp\", x_train.shape), (\"w\", w1.shape), (\"b\", b1.shape)):\n",
    "    print(i)"
   ]
  },
  {
   "cell_type": "code",
   "execution_count": null,
   "id": "a58f63ad-5721-42ab-a307-4d9c30a657fa",
   "metadata": {},
   "outputs": [
    {
     "data": {
      "text/plain": [
       "(torch.Size([50000, 784, 1]), torch.Size([50000, 1, 50]))"
      ]
     },
     "execution_count": null,
     "metadata": {},
     "output_type": "execute_result"
    }
   ],
   "source": [
    "x_train.unsqueeze(-1).shape, l1_out.unsqueeze(1).shape"
   ]
  },
  {
   "cell_type": "code",
   "execution_count": null,
   "id": "1956abb3-8d0a-4b94-81a0-469fd7cc2858",
   "metadata": {},
   "outputs": [
    {
     "data": {
      "text/plain": [
       "(torch.Size([50000, 50]), torch.Size([50, 784]))"
      ]
     },
     "execution_count": null,
     "metadata": {},
     "output_type": "execute_result"
    }
   ],
   "source": [
    "l1_out.shape, w1.T.shape"
   ]
  },
  {
   "cell_type": "code",
   "execution_count": null,
   "id": "a7a01a95-dbc6-415b-ac69-e6c91bd0b95d",
   "metadata": {},
   "outputs": [],
   "source": [
    "# out = inp @ w + b\n",
    "# db/dl = sum(dout_k/dl)\n",
    "# dw_ij/dl = sum_k(dout_kj/dl * inp_ki)\n",
    "# dinp_ki/dl = sum_j(dout_kj/dl * w_ij) \n",
    "def lin_grad(inp, out, w, b):\n",
    "    b.g = out.g.sum(0)\n",
    "    w.g = (out.g.unsqueeze(1) * inp.unsqueeze(-1)).sum(0)\n",
    "    inp.g = out.g @ w.T"
   ]
  },
  {
   "cell_type": "code",
   "execution_count": null,
   "id": "ed5d77c9-6fb5-4fd3-a05d-b5ce5f346c0a",
   "metadata": {},
   "outputs": [],
   "source": [
    "def forward_and_backward(inp, targ):\n",
    "    l1 = lin(inp, w1, b1)\n",
    "    a1 = relu(l1)\n",
    "    l2 = lin(a1, w2, b2)\n",
    "    diff = l2[:, 0] - targ\n",
    "\n",
    "    l2.g = 2*diff[:, None] / inp.shape[0]\n",
    "    lin_grad(a1, l2, w2, b2)\n",
    "    l1.g = (l1 > 0) * a1.g\n",
    "    lin_grad(inp, l1, w1, b1)"
   ]
  },
  {
   "cell_type": "code",
   "execution_count": null,
   "id": "a615fa7f-0bff-4d41-85e2-2bd1c4e04026",
   "metadata": {},
   "outputs": [],
   "source": [
    "forward_and_backward(x_train, y_train)"
   ]
  },
  {
   "cell_type": "code",
   "execution_count": null,
   "id": "f8d1fa6e-23f1-411c-97bc-ba14d674799f",
   "metadata": {},
   "outputs": [],
   "source": [
    "def get_grad(x):\n",
    "    return x.g.clone()\n",
    "\n",
    "inter = (b2, w2, b1, w1, x_train)\n",
    "grads = (b2g, w2g, b1g, w1g, x_traing) = list(map(get_grad, inter))"
   ]
  },
  {
   "cell_type": "code",
   "execution_count": null,
   "id": "d1c1b2e8-694a-4b87-ac14-b2110d2f8038",
   "metadata": {},
   "outputs": [
    {
     "data": {
      "text/plain": [
       "(torch.Size([1]), torch.Size([1]))"
      ]
     },
     "execution_count": null,
     "metadata": {},
     "output_type": "execute_result"
    }
   ],
   "source": [
    "b2g.shape, b2.shape"
   ]
  },
  {
   "cell_type": "code",
   "execution_count": null,
   "id": "e57ee6ef-c61e-4e2b-b213-a708e4e0094c",
   "metadata": {},
   "outputs": [],
   "source": [
    "def mkgrad(x):\n",
    "    return x.clone().requires_grad_(True)"
   ]
  },
  {
   "cell_type": "code",
   "execution_count": null,
   "id": "357818c6-ded0-4332-a8f8-3a6e3ef0c70e",
   "metadata": {},
   "outputs": [],
   "source": [
    "gradst = (b2t, w2t, b1t, w1t, x_traint) = list(map(mkgrad, inter))"
   ]
  },
  {
   "cell_type": "code",
   "execution_count": null,
   "id": "6fb8973e-8640-47e7-83fb-df58ae478bc6",
   "metadata": {},
   "outputs": [],
   "source": [
    "def forward(inp, targ):\n",
    "    l1 = lin(inp, w1t, b1t)\n",
    "    a1 = relu(l1)\n",
    "    l2 = lin(a1, w2t, b2t)\n",
    "    return mse(l2, targ)"
   ]
  },
  {
   "cell_type": "code",
   "execution_count": null,
   "id": "961e1d81-d09a-4542-bca9-eb337d541c27",
   "metadata": {},
   "outputs": [
    {
     "data": {
      "text/plain": [
       "tensor(849.00, grad_fn=<MeanBackward0>)"
      ]
     },
     "execution_count": null,
     "metadata": {},
     "output_type": "execute_result"
    }
   ],
   "source": [
    "loss = forward(x_traint, y_train)\n",
    "loss"
   ]
  },
  {
   "cell_type": "code",
   "execution_count": null,
   "id": "070d3791-dd3d-4cb9-9c7e-9251a191ba0e",
   "metadata": {},
   "outputs": [],
   "source": [
    "loss.backward()"
   ]
  },
  {
   "cell_type": "code",
   "execution_count": null,
   "id": "7721671c-1650-4e62-9097-c94b6854c9af",
   "metadata": {},
   "outputs": [],
   "source": [
    "for g, t in zip(grads, gradst):\n",
    "    test_close(g, t.grad, eps=1e-3)"
   ]
  },
  {
   "cell_type": "markdown",
   "id": "74a2e100-968a-47ea-a9f2-c96bf62853a1",
   "metadata": {},
   "source": [
    "## Refactor model"
   ]
  },
  {
   "cell_type": "markdown",
   "id": "46dd7e86-b0bd-4b58-ae48-3d78c983b800",
   "metadata": {},
   "source": [
    "### Layers as classes"
   ]
  },
  {
   "cell_type": "code",
   "execution_count": null,
   "id": "2a0bc54c-1283-4a24-9c4a-5597cecfd33a",
   "metadata": {},
   "outputs": [],
   "source": [
    "class Relu:\n",
    "    def __call__(self, inp):\n",
    "        self.inp = inp\n",
    "        self.out = inp.clamp_min(0)\n",
    "        return self.out\n",
    "\n",
    "    def backward(self):\n",
    "        self.inp.g = (self.inp > 0) * self.out.g"
   ]
  },
  {
   "cell_type": "code",
   "execution_count": null,
   "id": "32958994-b255-4a2e-b352-8aa381bb6df5",
   "metadata": {},
   "outputs": [],
   "source": [
    "class Lin:\n",
    "    def __init__(self, w, b):\n",
    "        self.w = w\n",
    "        self.b = b\n",
    "\n",
    "    def __call__(self, inp):\n",
    "        self.inp = inp\n",
    "        self.out = inp @ self.w + self.b\n",
    "        return self.out\n",
    "\n",
    "    def backward(self):\n",
    "        self.b.g = self.out.g.sum(0)\n",
    "        self.w.g = (self.out.g.unsqueeze(1) * self.inp.unsqueeze(-1)).sum(0)\n",
    "        self.inp.g = self.out.g @ self.w.T"
   ]
  },
  {
   "cell_type": "code",
   "execution_count": null,
   "id": "56d26b76-46b6-42e0-8de2-02cbb5bc24c5",
   "metadata": {},
   "outputs": [],
   "source": [
    "class Mse:\n",
    "    def __call__(self, inp, targ):\n",
    "        self.inp = inp\n",
    "        self.targ = targ\n",
    "        self.out = ((inp - targ[:, None])**2).mean()\n",
    "        return self.out\n",
    "\n",
    "    def backward(self):\n",
    "        diff = self.inp[:, 0] - self.targ\n",
    "        self.inp.g = diff[:, None] * (2 / self.inp.shape[0])"
   ]
  },
  {
   "cell_type": "code",
   "execution_count": null,
   "id": "2feaa34d-2520-40ed-8e5c-a26f459366e2",
   "metadata": {},
   "outputs": [],
   "source": [
    "class Model:\n",
    "    def __init__(self, w1, b1, w2, b2):\n",
    "        self.layers = [Lin(w1, b1), Relu(), Lin(w2, b2)]\n",
    "        self.loss = Mse()\n",
    "\n",
    "    def __call__(self, x, targ):\n",
    "        for l in self.layers:\n",
    "            x = l(x)\n",
    "        loss = self.loss(x, targ)\n",
    "        return loss\n",
    "\n",
    "    def backward(self):\n",
    "        self.loss.backward()\n",
    "        for l in self.layers[::-1]:\n",
    "            l.backward()"
   ]
  },
  {
   "cell_type": "code",
   "execution_count": null,
   "id": "d5258201-35c5-45a6-afa9-04c5153a9973",
   "metadata": {},
   "outputs": [],
   "source": [
    "model = Model(w1, b1, w2, b2)"
   ]
  },
  {
   "cell_type": "code",
   "execution_count": null,
   "id": "20b59d85-b366-4338-8a09-74c93032cd7f",
   "metadata": {},
   "outputs": [
    {
     "data": {
      "text/plain": [
       "tensor(849.00)"
      ]
     },
     "execution_count": null,
     "metadata": {},
     "output_type": "execute_result"
    }
   ],
   "source": [
    "model(x_train, y_train)"
   ]
  },
  {
   "cell_type": "code",
   "execution_count": null,
   "id": "3ea0ef58-0cc2-42ee-98f6-9453060313b7",
   "metadata": {},
   "outputs": [],
   "source": [
    "model.backward()"
   ]
  },
  {
   "cell_type": "code",
   "execution_count": null,
   "id": "9ebbe949-92e3-423d-aca4-a8b46691a30e",
   "metadata": {},
   "outputs": [],
   "source": [
    "for g, gc in zip(grads, inter):\n",
    "    test_close(g, gc.g, eps=1e-3)"
   ]
  },
  {
   "cell_type": "markdown",
   "id": "6f1e1cbe-d95f-4c41-ab96-666839cad694",
   "metadata": {},
   "source": [
    "### Module.forward()"
   ]
  },
  {
   "cell_type": "code",
   "execution_count": null,
   "id": "e30583fa-3955-4758-9629-731f8ec77931",
   "metadata": {},
   "outputs": [],
   "source": [
    "class Module:\n",
    "    def __call__(self, *args):\n",
    "        self.args = args\n",
    "        self.out = self.forward(*args)\n",
    "        return self.out\n",
    "\n",
    "    def forward(self):\n",
    "        raise NotImplementedError\n",
    "\n",
    "    def backward(self):\n",
    "        self.bwd(self.out, *self.args)\n",
    "\n",
    "    def bwd(self, *args):\n",
    "        raise NotImplementedError"
   ]
  },
  {
   "cell_type": "code",
   "execution_count": null,
   "id": "b6e9410f-d681-47a3-a254-65a25f48ad03",
   "metadata": {},
   "outputs": [],
   "source": [
    "class Relu(Module):\n",
    "    def forward(self, inp):\n",
    "        return inp.clamp_min(0)\n",
    "\n",
    "    def bwd(self, out, inp):\n",
    "        inp.g = (inp > 0) * out.g"
   ]
  },
  {
   "cell_type": "code",
   "execution_count": null,
   "id": "fc7042e3-0023-422b-91ed-41a017f9c90b",
   "metadata": {},
   "outputs": [],
   "source": [
    "class Lin(Module):\n",
    "    def __init__(self, w, b):\n",
    "        self.w = w\n",
    "        self.b = b\n",
    "\n",
    "    def forward(self, inp):\n",
    "        return inp @ self.w + self.b\n",
    "\n",
    "    def bwd(self, out, inp):\n",
    "        inp.g = out.g @ self.w.T\n",
    "        self.w.g = (out.g.unsqueeze(1) * inp.unsqueeze(-1)).sum(0)\n",
    "        self.b.g = out.g.sum(0)"
   ]
  },
  {
   "cell_type": "code",
   "execution_count": null,
   "id": "97d60d02-f69b-4d48-9465-650c26578f0a",
   "metadata": {},
   "outputs": [],
   "source": [
    "class Mse(Module):\n",
    "    def forward(self, inp, targ):\n",
    "        return ((inp - targ[:, None])**2).mean()\n",
    "\n",
    "    def bwd(self, out, inp, targ):\n",
    "        diff = inp[:, 0] - targ\n",
    "        inp.g = diff[:, None] * (2 / inp.shape[0])"
   ]
  },
  {
   "cell_type": "code",
   "execution_count": null,
   "id": "40c21ab0-7e69-4cf5-ab5d-e959e4dc53a7",
   "metadata": {},
   "outputs": [],
   "source": [
    "model = Model(w1, b1, w2, b2)"
   ]
  },
  {
   "cell_type": "code",
   "execution_count": null,
   "id": "c85f6001-a668-43eb-b6e1-1df31fc1af67",
   "metadata": {},
   "outputs": [
    {
     "data": {
      "text/plain": [
       "tensor(849.00)"
      ]
     },
     "execution_count": null,
     "metadata": {},
     "output_type": "execute_result"
    }
   ],
   "source": [
    "model(x_train, y_train)"
   ]
  },
  {
   "cell_type": "code",
   "execution_count": null,
   "id": "b9dae183-3572-444b-b263-fb88ef1a0b35",
   "metadata": {},
   "outputs": [],
   "source": [
    "model.backward()"
   ]
  },
  {
   "cell_type": "code",
   "execution_count": null,
   "id": "1c565836-404a-411a-a74b-9a17e56535e8",
   "metadata": {},
   "outputs": [],
   "source": [
    "for g, gc in zip(grads, inter):\n",
    "    test_close(g, gc.g, eps=1e-3)"
   ]
  },
  {
   "cell_type": "markdown",
   "id": "7f018491-992c-4e58-8232-904e85ea3d65",
   "metadata": {},
   "source": [
    "### Autograd"
   ]
  },
  {
   "cell_type": "code",
   "execution_count": null,
   "id": "baab7f96-e3af-432f-b0f7-b30d3008d10c",
   "metadata": {},
   "outputs": [],
   "source": [
    "import torch.nn as nn\n",
    "import torch.nn.functional as F"
   ]
  },
  {
   "cell_type": "code",
   "execution_count": null,
   "id": "f2ad075f-cfbf-46e4-b156-3acefb791830",
   "metadata": {},
   "outputs": [],
   "source": [
    "class Linear(nn.Module):\n",
    "    def __init__(self, n_in, n_out):\n",
    "        super().__init__()\n",
    "        self.w = torch.randn((n_in, n_out)).requires_grad_(True)\n",
    "        self.b = torch.randn((n_out,)).requires_grad_(True)\n",
    "\n",
    "    def forward(self, x):\n",
    "        return x @ self.w + self.b"
   ]
  },
  {
   "cell_type": "code",
   "execution_count": null,
   "id": "ceaa1aba-1188-4b20-aed8-7f4c76ea6a24",
   "metadata": {},
   "outputs": [],
   "source": [
    "class Model(nn.Module):\n",
    "    def __init__(self, n_in, n_h, n_out):\n",
    "        super().__init__()\n",
    "        self.layers = [Linear(n_in, n_h), nn.ReLU(), Linear(n_h, n_out)]\n",
    "        self.loss = F.mse_loss\n",
    "\n",
    "    def __call__(self, x, target):\n",
    "        for l in self.layers:\n",
    "            x = l(x)\n",
    "        return self.loss(x, target[:, None])"
   ]
  },
  {
   "cell_type": "code",
   "execution_count": null,
   "id": "754ab65a-d4e6-4cb6-9bff-f966030fa8b0",
   "metadata": {},
   "outputs": [],
   "source": [
    "model = Model(x_train.shape[1], nh, 1)"
   ]
  },
  {
   "cell_type": "code",
   "execution_count": null,
   "id": "57f10a1a-3e70-46e9-b725-c95fdb736e3c",
   "metadata": {},
   "outputs": [],
   "source": [
    "loss = model(x_train, y_train.float())"
   ]
  },
  {
   "cell_type": "code",
   "execution_count": null,
   "id": "3849721f-3043-41c5-bc23-003c01226295",
   "metadata": {},
   "outputs": [],
   "source": [
    "loss.backward()"
   ]
  },
  {
   "cell_type": "code",
   "execution_count": null,
   "id": "86ea6983-d304-4bc9-9f7e-31cfda7dd7ae",
   "metadata": {},
   "outputs": [
    {
     "data": {
      "text/plain": [
       "tensor([  6.52, -16.68,  -4.91,  -3.79,   3.37,  -2.61,  71.67,  25.06,   2.80,   7.05,  10.40,   1.85,   0.48,  14.24,  -2.76,  41.66,   9.50, -34.44, -18.58,\n",
       "        -23.73,  -5.00,  -5.86, -20.66,  -1.03,  12.93, -17.48, -19.33,  40.95,  -1.49,  47.68,   1.25, -30.78,  72.18,  20.41, -30.57,  -0.11,  -4.71,   0.64,\n",
       "         -1.50,  -4.80,  -4.95,  85.04,  19.27,   2.65,  -6.14, -15.47,  -2.61,   4.11,  -2.93,   6.86])"
      ]
     },
     "execution_count": null,
     "metadata": {},
     "output_type": "execute_result"
    }
   ],
   "source": [
    "model.layers[0].b.grad"
   ]
  },
  {
   "cell_type": "code",
   "execution_count": null,
   "id": "89476b28-1ee0-4896-bc72-f738da332fc7",
   "metadata": {},
   "outputs": [],
   "source": []
  }
 ],
 "metadata": {
  "kernelspec": {
   "display_name": "python3",
   "language": "python",
   "name": "python3"
  }
 },
 "nbformat": 4,
 "nbformat_minor": 5
}
