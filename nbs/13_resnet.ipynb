{
 "cells": [
  {
   "cell_type": "code",
   "execution_count": null,
   "id": "1524cc42-cd10-46eb-8957-c8bb4d7768f4",
   "metadata": {},
   "outputs": [],
   "source": [
    "#| default_exp resnet"
   ]
  },
  {
   "cell_type": "markdown",
   "id": "c3ff7265-7f10-4e20-92da-4a11cddb132f",
   "metadata": {},
   "source": [
    "# ResNets"
   ]
  },
  {
   "cell_type": "code",
   "execution_count": null,
   "id": "2fba8afc-835f-406e-9ef2-6357943713b0",
   "metadata": {},
   "outputs": [],
   "source": [
    "#|export\n",
    "import pickle,gzip,math,os,time,shutil,torch,matplotlib as mpl,numpy as np,matplotlib.pyplot as plt\n",
    "import fastcore.all as fc\n",
    "from collections.abc import Mapping\n",
    "from pathlib import Path\n",
    "from operator import attrgetter,itemgetter\n",
    "from functools import partial\n",
    "from copy import copy\n",
    "from contextlib import contextmanager\n",
    "\n",
    "import torchvision.transforms.functional as TF,torch.nn.functional as F\n",
    "from torch import tensor,nn,optim\n",
    "from torch.utils.data import DataLoader,default_collate\n",
    "from torch.nn import init\n",
    "from torch.optim import lr_scheduler\n",
    "from torcheval.metrics import MulticlassAccuracy\n",
    "from datasets import load_dataset,load_dataset_builder\n",
    "\n",
    "from miniai.datasets import *\n",
    "from miniai.conv import *\n",
    "from miniai.learner import *\n",
    "from miniai.activations import *\n",
    "from miniai.init import *\n",
    "from miniai.sgd import *"
   ]
  },
  {
   "cell_type": "code",
   "execution_count": null,
   "id": "ff13d1cb-add0-48bc-8fe3-1f006a446b8a",
   "metadata": {},
   "outputs": [],
   "source": [
    "from fastcore.test import test_close\n",
    "\n",
    "torch.set_printoptions(precision=2, linewidth=160, sci_mode=False)\n",
    "mpl.rcParams['image.cmap'] = 'gray'\n",
    "\n",
    "import logging\n",
    "logging.disable(logging.WARNING)\n",
    "\n",
    "set_seed(1103)"
   ]
  },
  {
   "cell_type": "code",
   "execution_count": null,
   "id": "e2670bfa-933f-4dfd-9513-e2117592be65",
   "metadata": {},
   "outputs": [],
   "source": [
    "fm_x, fm_y = \"image\", \"label\"\n",
    "name = \"fashion_mnist\"\n",
    "ds = load_dataset(name)\n",
    "\n",
    "xmean = tensor(0.28)\n",
    "xstd = tensor(0.35)\n",
    "\n",
    "@inplace\n",
    "def transformi(b):\n",
    "    b[\"image\"] = [(TF.to_tensor(i) - xmean) / xstd for i in b[\"image\"]]\n",
    "dst = ds.with_transform(transformi)\n",
    "\n",
    "bs = 1024\n",
    "dls = DataLoaders.from_dd(dst, bs)\n",
    "xb, yb = next(iter(dls.train))"
   ]
  },
  {
   "cell_type": "code",
   "execution_count": null,
   "id": "6744a710-62b2-4f5a-80df-2919396f5dfb",
   "metadata": {},
   "outputs": [],
   "source": [
    "#| export\n",
    "act_gr = partial(GeneralReLU, leak=0.1, sub=0.5)"
   ]
  },
  {
   "cell_type": "code",
   "execution_count": null,
   "id": "bd6b712f-ca7b-4408-8a75-a063d3cdd826",
   "metadata": {},
   "outputs": [],
   "source": [
    "stats = ActivationStats(lambda x: isinstance(x, GeneralReLU))\n",
    "cbs = [DeviceCB(), stats, ProgressCB(plot=True), MetricsCB(accuracy=MulticlassAccuracy())]\n",
    "init_w = partial(init_weights, leak=0.1)"
   ]
  },
  {
   "cell_type": "markdown",
   "id": "f1b5d18e-bca0-413a-9f9c-93f94c94ea05",
   "metadata": {},
   "source": [
    "## Going deeper"
   ]
  },
  {
   "cell_type": "code",
   "execution_count": null,
   "id": "40c2b329-7bcd-4a60-a48d-2678a86e0433",
   "metadata": {},
   "outputs": [],
   "source": [
    "def get_model(act=act_gr, nfs=[8,16,32,64,128], norm=nn.BatchNorm2d):\n",
    "    layers = [conv(nfs[i], nfs[i+1], act=act, norm=norm, bias=False) for i in range(len(nfs)-1)]\n",
    "    model = nn.Sequential(conv(1, 8, ks=5, stride=1, act=act, norm=norm), *layers, conv(128, 10, act=False), nn.Flatten())\n",
    "    return model"
   ]
  },
  {
   "cell_type": "code",
   "execution_count": null,
   "id": "2742ca7c-cb64-40e0-a4e6-c290daa51cc8",
   "metadata": {},
   "outputs": [
    {
     "data": {
      "text/plain": [
       "torch.Size([4, 10])"
      ]
     },
     "execution_count": null,
     "metadata": {},
     "output_type": "execute_result"
    }
   ],
   "source": [
    "get_model()(xb[:4]).shape"
   ]
  },
  {
   "cell_type": "code",
   "execution_count": null,
   "id": "9716390b-8422-4f0a-a998-7dafdeab786a",
   "metadata": {},
   "outputs": [
    {
     "data": {
      "text/html": [
       "\n",
       "<style>\n",
       "    /* Turns off some styling */\n",
       "    progress {\n",
       "        /* gets rid of default border in Firefox and Opera. */\n",
       "        border: none;\n",
       "        /* Needs to be in here for Safari polyfill so background images work as expected. */\n",
       "        background-size: auto;\n",
       "    }\n",
       "    progress:not([value]), progress:not([value])::-webkit-progress-bar {\n",
       "        background: repeating-linear-gradient(45deg, #7e7e7e, #7e7e7e 10px, #5c5c5c 10px, #5c5c5c 20px);\n",
       "    }\n",
       "    .progress-bar-interrupted, .progress-bar-interrupted::-webkit-progress-bar {\n",
       "        background: #F44336;\n",
       "    }\n",
       "</style>\n"
      ],
      "text/plain": [
       "<IPython.core.display.HTML object>"
      ]
     },
     "metadata": {},
     "output_type": "display_data"
    },
    {
     "data": {
      "text/html": [
       "<table border=\"1\" class=\"dataframe\">\n",
       "  <thead>\n",
       "    <tr style=\"text-align: left;\">\n",
       "      <th>accuracy</th>\n",
       "      <th>loss</th>\n",
       "      <th>epoch</th>\n",
       "      <th>train</th>\n",
       "    </tr>\n",
       "  </thead>\n",
       "  <tbody>\n",
       "    <tr>\n",
       "      <td>0.802</td>\n",
       "      <td>0.553</td>\n",
       "      <td>0</td>\n",
       "      <td>train</td>\n",
       "    </tr>\n",
       "    <tr>\n",
       "      <td>0.817</td>\n",
       "      <td>0.776</td>\n",
       "      <td>0</td>\n",
       "      <td>valid</td>\n",
       "    </tr>\n",
       "    <tr>\n",
       "      <td>0.866</td>\n",
       "      <td>0.366</td>\n",
       "      <td>1</td>\n",
       "      <td>train</td>\n",
       "    </tr>\n",
       "    <tr>\n",
       "      <td>0.869</td>\n",
       "      <td>0.375</td>\n",
       "      <td>1</td>\n",
       "      <td>valid</td>\n",
       "    </tr>\n",
       "    <tr>\n",
       "      <td>0.895</td>\n",
       "      <td>0.283</td>\n",
       "      <td>2</td>\n",
       "      <td>train</td>\n",
       "    </tr>\n",
       "    <tr>\n",
       "      <td>0.882</td>\n",
       "      <td>0.322</td>\n",
       "      <td>2</td>\n",
       "      <td>valid</td>\n",
       "    </tr>\n",
       "    <tr>\n",
       "      <td>0.913</td>\n",
       "      <td>0.236</td>\n",
       "      <td>3</td>\n",
       "      <td>train</td>\n",
       "    </tr>\n",
       "    <tr>\n",
       "      <td>0.897</td>\n",
       "      <td>0.287</td>\n",
       "      <td>3</td>\n",
       "      <td>valid</td>\n",
       "    </tr>\n",
       "    <tr>\n",
       "      <td>0.930</td>\n",
       "      <td>0.188</td>\n",
       "      <td>4</td>\n",
       "      <td>train</td>\n",
       "    </tr>\n",
       "    <tr>\n",
       "      <td>0.912</td>\n",
       "      <td>0.242</td>\n",
       "      <td>4</td>\n",
       "      <td>valid</td>\n",
       "    </tr>\n",
       "    <tr>\n",
       "      <td>0.947</td>\n",
       "      <td>0.146</td>\n",
       "      <td>5</td>\n",
       "      <td>train</td>\n",
       "    </tr>\n",
       "    <tr>\n",
       "      <td>0.916</td>\n",
       "      <td>0.232</td>\n",
       "      <td>5</td>\n",
       "      <td>valid</td>\n",
       "    </tr>\n",
       "  </tbody>\n",
       "</table>"
      ],
      "text/plain": [
       "<IPython.core.display.HTML object>"
      ]
     },
     "metadata": {},
     "output_type": "display_data"
    },
    {
     "data": {
      "image/png": "[encoded data removed]",
      "text/plain": [
       "<Figure size 600x400 with 1 Axes>"
      ]
     },
     "metadata": {},
     "output_type": "display_data"
    }
   ],
   "source": [
    "epochs = 6\n",
    "lr = 0.07\n",
    "tmax = epochs * len(dls.train)\n",
    "sched = BatchSchedCB(partial(lr_scheduler.OneCycleLR, max_lr=lr, total_steps=tmax))\n",
    "\n",
    "set_seed(1103)\n",
    "model = get_model()\n",
    "model = model.apply(init_w)\n",
    "learn = TrainLearner(model, dls, F.cross_entropy, lr=lr, cbs=cbs+[sched], opt_func=optim.AdamW)\n",
    "learn.fit(epochs)"
   ]
  },
  {
   "cell_type": "markdown",
   "id": "322f6d95-388a-459c-aafa-23612abcaf16",
   "metadata": {},
   "source": [
    "## Skip connections"
   ]
  },
  {
   "cell_type": "code",
   "execution_count": null,
   "id": "2bf925b1-f6f7-4dc1-9543-44baa4eb85ff",
   "metadata": {},
   "outputs": [],
   "source": [
    "#|export\n",
    "def _conv_block(ni, nf, stride, act=act_gr, norm=None, ks=3):\n",
    "    return nn.Sequential(\n",
    "        conv(ni, nf, stride=stride, ks=ks, act=act, norm=norm),\n",
    "        conv(nf, nf, stride=1, ks=ks, act=False, norm=norm)\n",
    "    )"
   ]
  },
  {
   "cell_type": "code",
   "execution_count": null,
   "id": "ec2ff4a4-dc21-452a-9b00-30dee415ee24",
   "metadata": {},
   "outputs": [],
   "source": [
    "#|export\n",
    "class ResBlock(nn.Module):\n",
    "    def __init__(self, ni, nf, stride=1, ks=3, act=act_gr, norm=None):\n",
    "        super().__init__()\n",
    "        self.convs = _conv_block(ni=ni, nf=nf, stride=stride, ks=ks, act=act, norm=norm)\n",
    "        self.act = act() if act else fc.noop\n",
    "        self.pool = fc.noop if stride == 1 else nn.AvgPool2d(2, ceil_mode=True)\n",
    "        self.id_conv = fc.noop if ni == nf else conv(ni, nf, stride=1, ks=1, act=None, norm=None)\n",
    "\n",
    "    def forward(self, x):\n",
    "        return self.act(self.convs(x) + self.id_conv(self.pool(x)))"
   ]
  },
  {
   "cell_type": "code",
   "execution_count": null,
   "id": "05ece705-59f0-406a-a705-5c4b840ec562",
   "metadata": {},
   "outputs": [
    {
     "data": {
      "text/plain": [
       "(torch.Size([4, 1, 28, 28]),\n",
       " torch.Size([4, 1, 28, 28]),\n",
       " torch.Size([4, 2, 28, 28]),\n",
       " torch.Size([4, 1, 14, 14]),\n",
       " torch.Size([4, 2, 14, 14]))"
      ]
     },
     "execution_count": null,
     "metadata": {},
     "output_type": "execute_result"
    }
   ],
   "source": [
    "xb[:4].shape, ResBlock(1, 1)(xb[:4]).shape, ResBlock(1, 2)(xb[:4]).shape, ResBlock(1, 1, 2)(xb[:4]).shape, ResBlock(1, 2, 2, 5)(xb[:4]).shape"
   ]
  },
  {
   "cell_type": "code",
   "execution_count": null,
   "id": "ff3adec7-0d35-4c02-9ff4-ab9211f0f796",
   "metadata": {},
   "outputs": [],
   "source": [
    "def get_model(act=act_gr, nfs=[8,16,32,64,128,256], norm=nn.BatchNorm2d):\n",
    "    layers = [ResBlock(nfs[i], nfs[i+1], act=act, stride=2, norm=norm) for i in range(len(nfs)-1)]\n",
    "    model = nn.Sequential(\n",
    "        ResBlock(1, 8, ks=5, stride=1, act=act, norm=norm), *layers,\n",
    "        nn.Flatten(), nn.Linear(nfs[-1], 10)\n",
    "    )\n",
    "    return model"
   ]
  },
  {
   "cell_type": "code",
   "execution_count": null,
   "id": "f6eba47d-9c45-4cfb-897a-1d6cc78b236c",
   "metadata": {},
   "outputs": [
    {
     "data": {
      "text/plain": [
       "torch.Size([4, 10])"
      ]
     },
     "execution_count": null,
     "metadata": {},
     "output_type": "execute_result"
    }
   ],
   "source": [
    "get_model()(xb[:4]).shape"
   ]
  },
  {
   "cell_type": "code",
   "execution_count": null,
   "id": "703b568d-e747-4505-94d6-b09d4bdf5783",
   "metadata": {},
   "outputs": [
    {
     "data": {
      "text/plain": [
       "'[1024, 1, 28, 28]'"
      ]
     },
     "execution_count": null,
     "metadata": {},
     "output_type": "execute_result"
    }
   ],
   "source": [
    "str(xb.shape)[11:-1]"
   ]
  },
  {
   "cell_type": "code",
   "execution_count": null,
   "id": "447e2ff5-b562-47f5-8508-af3dd30b6cec",
   "metadata": {},
   "outputs": [],
   "source": [
    "def _print_shape(hook, mod, inp, outp):\n",
    "    print(f\"{type(mod).__name__:12}:  {str(inp[0].shape)[11:-1]:18}\\t->\\t{str(outp.shape)[11:-1]:18}\")"
   ]
  },
  {
   "cell_type": "code",
   "execution_count": null,
   "id": "5a7e07d6-0ada-447c-a370-6f803421573d",
   "metadata": {},
   "outputs": [
    {
     "name": "stdout",
     "output_type": "stream",
     "text": [
      "ResBlock    :  [1024, 1, 28, 28] \t->\t[1024, 8, 28, 28] \n",
      "ResBlock    :  [1024, 8, 28, 28] \t->\t[1024, 16, 14, 14]\n",
      "ResBlock    :  [1024, 16, 14, 14]\t->\t[1024, 32, 7, 7]  \n",
      "ResBlock    :  [1024, 32, 7, 7]  \t->\t[1024, 64, 4, 4]  \n",
      "ResBlock    :  [1024, 64, 4, 4]  \t->\t[1024, 128, 2, 2] \n",
      "ResBlock    :  [1024, 128, 2, 2] \t->\t[1024, 256, 1, 1] \n",
      "Flatten     :  [1024, 256, 1, 1] \t->\t[1024, 256]       \n",
      "Linear      :  [1024, 256]       \t->\t[1024, 10]        \n"
     ]
    }
   ],
   "source": [
    "model = get_model()\n",
    "learn = TrainLearner(\n",
    "    model, dls, F.cross_entropy,\n",
    "    cbs=[\n",
    "        DeviceCB(),\n",
    "        HooksCallback(_print_shape, lambda x: isinstance(x, (ResBlock, nn.Linear, nn.Flatten))),\n",
    "        SingleBatchCB()]\n",
    ")\n",
    "learn.fit(1, train=False)"
   ]
  },
  {
   "cell_type": "code",
   "execution_count": null,
   "id": "eb18bd31-1939-4031-9e99-d906cbfcab8d",
   "metadata": {},
   "outputs": [
    {
     "name": "stdout",
     "output_type": "stream",
     "text": [
      "ResBlock    :  [1024, 1, 28, 28] \t->\t[1024, 8, 28, 28] \n",
      "ResBlock    :  [1024, 8, 28, 28] \t->\t[1024, 16, 14, 14]\n",
      "ResBlock    :  [1024, 16, 14, 14]\t->\t[1024, 32, 7, 7]  \n",
      "ResBlock    :  [1024, 32, 7, 7]  \t->\t[1024, 64, 4, 4]  \n",
      "ResBlock    :  [1024, 64, 4, 4]  \t->\t[1024, 128, 2, 2] \n",
      "ResBlock    :  [1024, 128, 2, 2] \t->\t[1024, 256, 1, 1] \n",
      "Flatten     :  [1024, 256, 1, 1] \t->\t[1024, 256]       \n",
      "Linear      :  [1024, 256]       \t->\t[1024, 10]        \n"
     ]
    }
   ],
   "source": [
    "model = get_model()\n",
    "learn = TrainLearner(\n",
    "    model, dls, F.cross_entropy,\n",
    "    cbs=[\n",
    "        DeviceCB(),\n",
    "        SingleBatchCB()]\n",
    ")\n",
    "with Hooks(model, _print_shape) as hooks:\n",
    "    learn.fit(1, train=False)"
   ]
  },
  {
   "cell_type": "code",
   "execution_count": null,
   "id": "785135fc-710e-4cae-8af0-b8907ed28218",
   "metadata": {},
   "outputs": [
    {
     "name": "stdout",
     "output_type": "stream",
     "text": [
      "200\n",
      "8\n"
     ]
    }
   ],
   "source": [
    "for i in model[0].convs[0][0].parameters():\n",
    "    print(i.numel())"
   ]
  },
  {
   "cell_type": "code",
   "execution_count": null,
   "id": "4aead030-3345-42d3-b1ab-c1cc4a1a7649",
   "metadata": {},
   "outputs": [],
   "source": [
    "def summary(learner):\n",
    "    result = \"|Module|Input|Output|Num params|\\n|-|-|-|-|\\n\"\n",
    "    total = 0\n",
    "    def _summary(hook, mod, inp, outp):\n",
    "        nonlocal total, result\n",
    "        num = sum(i.numel() for i in mod.parameters())\n",
    "        result += f\"|{type(mod).__name__}|{str(inp[0].shape)[11:-1]}|{str(outp.shape)[11:-1]}|{num}|\\n\"\n",
    "        total += num\n",
    "\n",
    "    with Hooks(learner.model, _summary) as hooks:\n",
    "        learner.fit(1, train=False, cbs=[SingleBatchCB()])\n",
    "    return result"
   ]
  },
  {
   "cell_type": "code",
   "execution_count": null,
   "id": "ee8c2ea5-1e08-40e2-a1a3-8e90847f476f",
   "metadata": {},
   "outputs": [],
   "source": [
    "sum_str = summary(TrainLearner(model, dls, F.cross_entropy, cbs=[DeviceCB()]))\n",
    "if fc.IN_NOTEBOOK:\n",
    "    from IPython.display import Markdown\n",
    "    Markdown(sum_str)"
   ]
  },
  {
   "cell_type": "code",
   "execution_count": null,
   "id": "a026fb9d-6eca-4cdf-9cb5-75761bd786b7",
   "metadata": {},
   "outputs": [
    {
     "data": {
      "text/markdown": [
       "|Module|Input|Output|Num params|\n",
       "|-|-|-|-|\n",
       "|ResBlock|[1024, 1, 28, 28]|[1024, 8, 28, 28]|1864|\n",
       "|ResBlock|[1024, 8, 28, 28]|[1024, 16, 14, 14]|3696|\n",
       "|ResBlock|[1024, 16, 14, 14]|[1024, 32, 7, 7]|14560|\n",
       "|ResBlock|[1024, 32, 7, 7]|[1024, 64, 4, 4]|57792|\n",
       "|ResBlock|[1024, 64, 4, 4]|[1024, 128, 2, 2]|230272|\n",
       "|ResBlock|[1024, 128, 2, 2]|[1024, 256, 1, 1]|919296|\n",
       "|Flatten|[1024, 256, 1, 1]|[1024, 256]|0|\n",
       "|Linear|[1024, 256]|[1024, 10]|2570|\n"
      ],
      "text/plain": [
       "<IPython.core.display.Markdown object>"
      ]
     },
     "execution_count": null,
     "metadata": {},
     "output_type": "execute_result"
    }
   ],
   "source": [
    "Markdown(sum_str)"
   ]
  },
  {
   "cell_type": "code",
   "execution_count": null,
   "id": "21f1b534-42ee-4f54-a3cf-72ae37883ffb",
   "metadata": {},
   "outputs": [],
   "source": [
    "@fc.patch\n",
    "def summary(self:Learner):\n",
    "    result = \"|Module|Input|Output|Num params|\\n|-|-|-|-|\\n\"\n",
    "    total = 0\n",
    "    def _summary(hook, mod, inp, outp):\n",
    "        nonlocal total, result\n",
    "        num = sum(i.numel() for i in mod.parameters())\n",
    "        result += f\"|{type(mod).__name__}|{str(inp[0].shape)[11:-1]}|{str(outp.shape)[11:-1]}|{num}|\\n\"\n",
    "        total += num\n",
    "\n",
    "    with Hooks(self.model, _summary) as hooks:\n",
    "        self.fit(1, train=False, cbs=[SingleBatchCB()])\n",
    "    if fc.IN_NOTEBOOK:\n",
    "        from IPython.display import Markdown\n",
    "        result = Markdown(result)\n",
    "    return result"
   ]
  },
  {
   "cell_type": "code",
   "execution_count": null,
   "id": "d9b702fa-fc28-4293-97d8-e0a9d20b62bc",
   "metadata": {},
   "outputs": [
    {
     "data": {
      "text/markdown": [
       "|Module|Input|Output|Num params|\n",
       "|-|-|-|-|\n",
       "|ResBlock|[1024, 1, 28, 28]|[1024, 8, 28, 28]|1864|\n",
       "|ResBlock|[1024, 8, 28, 28]|[1024, 16, 14, 14]|3696|\n",
       "|ResBlock|[1024, 16, 14, 14]|[1024, 32, 7, 7]|14560|\n",
       "|ResBlock|[1024, 32, 7, 7]|[1024, 64, 4, 4]|57792|\n",
       "|ResBlock|[1024, 64, 4, 4]|[1024, 128, 2, 2]|230272|\n",
       "|ResBlock|[1024, 128, 2, 2]|[1024, 256, 1, 1]|919296|\n",
       "|Flatten|[1024, 256, 1, 1]|[1024, 256]|0|\n",
       "|Linear|[1024, 256]|[1024, 10]|2570|\n"
      ],
      "text/plain": [
       "<IPython.core.display.Markdown object>"
      ]
     },
     "execution_count": null,
     "metadata": {},
     "output_type": "execute_result"
    }
   ],
   "source": [
    "TrainLearner(model, dls, F.cross_entropy, cbs=[DeviceCB()]).summary()"
   ]
  },
  {
   "cell_type": "code",
   "execution_count": null,
   "id": "51393d61-ea4d-4b09-82dc-83e36265d52f",
   "metadata": {},
   "outputs": [
    {
     "data": {
      "image/png": "[encoded data removed]",
      "text/plain": [
       "<Figure size 640x480 with 1 Axes>"
      ]
     },
     "metadata": {},
     "output_type": "display_data"
    }
   ],
   "source": [
    "set_seed(1103, False)\n",
    "model = get_model()\n",
    "model = model.apply(init_w)\n",
    "TrainLearner(model, dls, F.cross_entropy, cbs=[DeviceCB()], opt_func=optim.AdamW).lr_find()"
   ]
  },
  {
   "cell_type": "code",
   "execution_count": null,
   "id": "e2d8afbb-981f-49b8-995c-5fee5b806a8e",
   "metadata": {},
   "outputs": [
    {
     "data": {
      "text/html": [
       "\n",
       "<style>\n",
       "    /* Turns off some styling */\n",
       "    progress {\n",
       "        /* gets rid of default border in Firefox and Opera. */\n",
       "        border: none;\n",
       "        /* Needs to be in here for Safari polyfill so background images work as expected. */\n",
       "        background-size: auto;\n",
       "    }\n",
       "    progress:not([value]), progress:not([value])::-webkit-progress-bar {\n",
       "        background: repeating-linear-gradient(45deg, #7e7e7e, #7e7e7e 10px, #5c5c5c 10px, #5c5c5c 20px);\n",
       "    }\n",
       "    .progress-bar-interrupted, .progress-bar-interrupted::-webkit-progress-bar {\n",
       "        background: #F44336;\n",
       "    }\n",
       "</style>\n"
      ],
      "text/plain": [
       "<IPython.core.display.HTML object>"
      ]
     },
     "metadata": {},
     "output_type": "display_data"
    },
    {
     "data": {
      "text/html": [
       "<table border=\"1\" class=\"dataframe\">\n",
       "  <thead>\n",
       "    <tr style=\"text-align: left;\">\n",
       "      <th>accuracy</th>\n",
       "      <th>loss</th>\n",
       "      <th>epoch</th>\n",
       "      <th>train</th>\n",
       "    </tr>\n",
       "  </thead>\n",
       "  <tbody>\n",
       "    <tr>\n",
       "      <td>0.795</td>\n",
       "      <td>0.566</td>\n",
       "      <td>0</td>\n",
       "      <td>train</td>\n",
       "    </tr>\n",
       "    <tr>\n",
       "      <td>0.827</td>\n",
       "      <td>0.597</td>\n",
       "      <td>0</td>\n",
       "      <td>valid</td>\n",
       "    </tr>\n",
       "    <tr>\n",
       "      <td>0.872</td>\n",
       "      <td>0.346</td>\n",
       "      <td>1</td>\n",
       "      <td>train</td>\n",
       "    </tr>\n",
       "    <tr>\n",
       "      <td>0.865</td>\n",
       "      <td>0.403</td>\n",
       "      <td>1</td>\n",
       "      <td>valid</td>\n",
       "    </tr>\n",
       "    <tr>\n",
       "      <td>0.897</td>\n",
       "      <td>0.280</td>\n",
       "      <td>2</td>\n",
       "      <td>train</td>\n",
       "    </tr>\n",
       "    <tr>\n",
       "      <td>0.879</td>\n",
       "      <td>0.363</td>\n",
       "      <td>2</td>\n",
       "      <td>valid</td>\n",
       "    </tr>\n",
       "    <tr>\n",
       "      <td>0.916</td>\n",
       "      <td>0.225</td>\n",
       "      <td>3</td>\n",
       "      <td>train</td>\n",
       "    </tr>\n",
       "    <tr>\n",
       "      <td>0.905</td>\n",
       "      <td>0.266</td>\n",
       "      <td>3</td>\n",
       "      <td>valid</td>\n",
       "    </tr>\n",
       "    <tr>\n",
       "      <td>0.935</td>\n",
       "      <td>0.173</td>\n",
       "      <td>4</td>\n",
       "      <td>train</td>\n",
       "    </tr>\n",
       "    <tr>\n",
       "      <td>0.917</td>\n",
       "      <td>0.233</td>\n",
       "      <td>4</td>\n",
       "      <td>valid</td>\n",
       "    </tr>\n",
       "    <tr>\n",
       "      <td>0.951</td>\n",
       "      <td>0.131</td>\n",
       "      <td>5</td>\n",
       "      <td>train</td>\n",
       "    </tr>\n",
       "    <tr>\n",
       "      <td>0.922</td>\n",
       "      <td>0.217</td>\n",
       "      <td>5</td>\n",
       "      <td>valid</td>\n",
       "    </tr>\n",
       "  </tbody>\n",
       "</table>"
      ],
      "text/plain": [
       "<IPython.core.display.HTML object>"
      ]
     },
     "metadata": {},
     "output_type": "display_data"
    },
    {
     "data": {
      "image/png": "[encoded data removed]",
      "text/plain": [
       "<Figure size 600x400 with 1 Axes>"
      ]
     },
     "metadata": {},
     "output_type": "display_data"
    }
   ],
   "source": [
    "epochs = 6\n",
    "lr = 0.02\n",
    "tmax = epochs * len(dls.train)\n",
    "sched = BatchSchedCB(partial(lr_scheduler.OneCycleLR, max_lr=lr, total_steps=tmax))\n",
    "\n",
    "set_seed(1103, False)\n",
    "model = get_model()\n",
    "model = model.apply(init_w)\n",
    "learn = TrainLearner(model, dls, F.cross_entropy, lr=lr, cbs=cbs+[sched], opt_func=optim.AdamW)\n",
    "learn.fit(epochs)"
   ]
  },
  {
   "cell_type": "markdown",
   "id": "8cca5ebc-4131-4749-8e5d-4685cfe4a708",
   "metadata": {},
   "source": [
    "# Export"
   ]
  },
  {
   "cell_type": "code",
   "execution_count": null,
   "id": "840c7730-715f-4cc7-8180-d1548c009c64",
   "metadata": {},
   "outputs": [],
   "source": [
    "import nbdev; nbdev.nbdev_export()"
   ]
  },
  {
   "cell_type": "code",
   "execution_count": null,
   "id": "e68be376-9f5d-4eb5-8e92-0825acd65971",
   "metadata": {},
   "outputs": [],
   "source": []
  }
 ],
 "metadata": {
  "kernelspec": {
   "display_name": "python3",
   "language": "python",
   "name": "python3"
  }
 },
 "nbformat": 4,
 "nbformat_minor": 5
}
