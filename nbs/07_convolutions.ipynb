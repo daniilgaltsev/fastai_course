{
 "cells": [
  {
   "cell_type": "code",
   "execution_count": null,
   "id": "22ee93b9-38cb-42fa-b444-139d1cc92988",
   "metadata": {},
   "outputs": [],
   "source": [
    "#| default_exp conv"
   ]
  },
  {
   "cell_type": "markdown",
   "id": "a98d396e-cc14-4c85-bbe4-92542f625558",
   "metadata": {},
   "source": [
    "# Convolutions"
   ]
  },
  {
   "cell_type": "markdown",
   "id": "fcce0faa-d779-4a2f-9456-00c40092b379",
   "metadata": {},
   "source": [
    "These were _almost_ directly copied from the corresponding notebook."
   ]
  },
  {
   "cell_type": "code",
   "execution_count": null,
   "id": "4ee4dfda-f736-47db-a76d-d865148abeec",
   "metadata": {},
   "outputs": [],
   "source": [
    "#|export\n",
    "import torch\n",
    "from torch import nn\n",
    "\n",
    "from torch.utils.data import default_collate\n",
    "from typing import Mapping\n",
    "\n",
    "from miniai.training import *\n",
    "from miniai.datasets import *"
   ]
  },
  {
   "cell_type": "code",
   "execution_count": null,
   "id": "d152e6ec-c092-4464-b27f-cdd4bab0b4b0",
   "metadata": {},
   "outputs": [],
   "source": [
    "import pickle,gzip,math,os,time,shutil,torch,matplotlib as mpl, numpy as np\n",
    "import pandas as pd,matplotlib.pyplot as plt\n",
    "from pathlib import Path\n",
    "from torch import tensor\n",
    "\n",
    "from torch.utils.data import DataLoader\n",
    "from typing import Mapping\n",
    "\n",
    "from fastcore.test import test_close\n",
    "import torch.nn.functional as F"
   ]
  },
  {
   "cell_type": "code",
   "execution_count": null,
   "id": "23d1421d-c40a-426e-b08b-d5701ed6b29a",
   "metadata": {},
   "outputs": [],
   "source": [
    "mpl.rcParams['image.cmap'] = 'gray'\n",
    "torch.manual_seed(1103);"
   ]
  },
  {
   "cell_type": "code",
   "execution_count": null,
   "id": "ddb02afe-b7c8-4c03-ab9e-1d6e918e6428",
   "metadata": {},
   "outputs": [],
   "source": [
    "path_data = Path('data')\n",
    "path_gz = path_data/'mnist.pkl.gz'\n",
    "with gzip.open(path_gz, 'rb') as f: ((x_train, y_train), (x_valid, y_valid), _) = pickle.load(f, encoding='latin-1')\n",
    "x_train, y_train, x_valid, y_valid = map(tensor, [x_train, y_train, x_valid, y_valid])"
   ]
  },
  {
   "cell_type": "markdown",
   "id": "27d91c5d-7f94-45ee-a26f-8b302b94c7cb",
   "metadata": {},
   "source": [
    "## Understanding the convolution equations"
   ]
  },
  {
   "cell_type": "markdown",
   "id": "b10df9e7-4b8d-4659-b989-c1126bb44214",
   "metadata": {},
   "source": [
    "If we have tensor A and tensor B, we can tile B over with overlaps. For each such tiling we can calculate the dot product and store in the resulting matrix C. C will be of the size equal to how B was tiled over A."
   ]
  },
  {
   "cell_type": "code",
   "execution_count": null,
   "id": "3bd293b2-0bf9-4efb-a346-3599d75258a7",
   "metadata": {},
   "outputs": [],
   "source": [
    "x_train = x_train.reshape(-1, 28, 28)\n",
    "x_valid = x_valid.reshape(-1, 28, 28)"
   ]
  },
  {
   "cell_type": "code",
   "execution_count": null,
   "id": "b44e39eb-714a-4faf-8c1f-55048b70677d",
   "metadata": {},
   "outputs": [
    {
     "data": {
      "image/png": "[encoded data removed]",
      "text/plain": [
       "<Figure size 640x480 with 1 Axes>"
      ]
     },
     "metadata": {},
     "output_type": "display_data"
    }
   ],
   "source": [
    "img = x_train[0]\n",
    "show_image(img);"
   ]
  },
  {
   "cell_type": "code",
   "execution_count": null,
   "id": "81879ac0-9020-43b4-b4cd-c7fb9acaa74a",
   "metadata": {},
   "outputs": [],
   "source": [
    "top_edge = torch.tensor([\n",
    "    [-1, -1, -1,],\n",
    "    [0, 0, 0,],\n",
    "    [1, 1, 1]\n",
    "], dtype=torch.float)"
   ]
  },
  {
   "cell_type": "code",
   "execution_count": null,
   "id": "bdb31abf-37d9-42a4-a0aa-23fbf64ec1e4",
   "metadata": {},
   "outputs": [
    {
     "data": {
      "image/png": "[encoded data removed]",
      "text/plain": [
       "<Figure size 640x480 with 1 Axes>"
      ]
     },
     "metadata": {},
     "output_type": "display_data"
    }
   ],
   "source": [
    "show_image(top_edge);"
   ]
  },
  {
   "cell_type": "code",
   "execution_count": null,
   "id": "f9502f4c-0508-43b8-a5e8-c99b1bb0e90a",
   "metadata": {},
   "outputs": [],
   "source": [
    "def apply_kernel(row, col, kernel):\n",
    "    return (img[row-1:row+2, col-1:col+2] * kernel).sum()"
   ]
  },
  {
   "cell_type": "code",
   "execution_count": null,
   "id": "e7dc06f0-26fb-431d-b2f6-0c149c7da5f6",
   "metadata": {},
   "outputs": [
    {
     "data": {
      "image/png": "[encoded data removed]",
      "text/plain": [
       "<Figure size 640x480 with 1 Axes>"
      ]
     },
     "metadata": {},
     "output_type": "display_data"
    }
   ],
   "source": [
    "result = [[apply_kernel(i, j, top_edge) for j in range(1, 27)] for i in range(1, 27)]\n",
    "show_image(result);"
   ]
  },
  {
   "cell_type": "code",
   "execution_count": null,
   "id": "60574395-c773-4ae5-aaad-e155190f0cc3",
   "metadata": {},
   "outputs": [
    {
     "data": {
      "image/png": "[encoded data removed]",
      "text/plain": [
       "<Figure size 640x480 with 1 Axes>"
      ]
     },
     "metadata": {},
     "output_type": "display_data"
    }
   ],
   "source": [
    "left_edge = torch.tensor([\n",
    "    [-1, 0, 1],\n",
    "    [-1, 0, 1],\n",
    "    [-1, 0, 1]\n",
    "], dtype=torch.float)\n",
    "show_image([[apply_kernel(i, j, left_edge) for j in range(1, 27)] for i in range(1, 27)]);"
   ]
  },
  {
   "cell_type": "markdown",
   "id": "66d33f87-3c2b-4132-8efd-1082c0e71814",
   "metadata": {},
   "source": [
    "## Convolutions in PyTorch"
   ]
  },
  {
   "cell_type": "markdown",
   "id": "d9b1a2e2-b86c-4bdd-96e7-f2584bd6f352",
   "metadata": {},
   "source": [
    "- $W$ - image width\n",
    "- $H$ - image height\n",
    "- $D$ - image depth\n",
    "- $K$ - kernel size\n",
    "- $N$ - number of filters\n",
    "\n",
    "We got $W*H$ patches of size $K*K*D$. We need to calculate $M$ filters. If we layout all the patch x kernel calculations as 2 matrices, we'll get: $A=(W*H, K*K*D)$ and $B=(N, K*K*D)$. Now, $AB^\\intercal = C = (W*H, N)$. And $C^\\intercal$ is what we want. We can get this layout by 'extracting' each patch in the image and putting them into a matrix $A$ (rows are concatenations of patches with the same row and col but different depths) and by unrolling filters into columns of $B$. This works if we assume zero padding around the image."
   ]
  },
  {
   "cell_type": "code",
   "execution_count": null,
   "id": "45766148-010f-48f8-8c0b-85d58bba3d65",
   "metadata": {},
   "outputs": [
    {
     "data": {
      "text/plain": [
       "tensor([-1., -1., -1.,  0.,  0.,  0.,  1.,  1.,  1.])"
      ]
     },
     "execution_count": null,
     "metadata": {},
     "output_type": "execute_result"
    }
   ],
   "source": [
    "top_edge.view(-1)"
   ]
  },
  {
   "cell_type": "code",
   "execution_count": null,
   "id": "2b283f5a-dae4-45db-8902-9235c9751684",
   "metadata": {},
   "outputs": [
    {
     "data": {
      "text/plain": [
       "<function Tensor.numel>"
      ]
     },
     "execution_count": null,
     "metadata": {},
     "output_type": "execute_result"
    }
   ],
   "source": [
    "top_edge.numel"
   ]
  },
  {
   "cell_type": "code",
   "execution_count": null,
   "id": "d841b465-f8c5-4eb9-8c29-0913fc56856e",
   "metadata": {},
   "outputs": [
    {
     "data": {
      "text/plain": [
       "torch.Size([26, 26])"
      ]
     },
     "execution_count": null,
     "metadata": {},
     "output_type": "execute_result"
    }
   ],
   "source": [
    "torch.tensor(result).shape"
   ]
  },
  {
   "cell_type": "code",
   "execution_count": null,
   "id": "977ee22a-46ee-436e-9f27-98e31166f3a9",
   "metadata": {},
   "outputs": [
    {
     "data": {
      "text/plain": [
       "tensor([[[ 0,  1,  2,  3],\n",
       "         [ 4,  5,  6,  7],\n",
       "         [ 8,  9, 10, 11]],\n",
       "\n",
       "        [[12, 13, 14, 15],\n",
       "         [16, 17, 18, 19],\n",
       "         [20, 21, 22, 23]]])"
      ]
     },
     "execution_count": null,
     "metadata": {},
     "output_type": "execute_result"
    }
   ],
   "source": [
    "a = torch.tensor(range(24)).reshape(2, 3, 4)\n",
    "a"
   ]
  },
  {
   "cell_type": "code",
   "execution_count": null,
   "id": "3f08420d-1cbb-4be9-a6c7-e310c26c28a3",
   "metadata": {},
   "outputs": [
    {
     "data": {
      "text/plain": [
       "tensor([[ 0.,  1.,  2.,  4.,  5.,  6.,  8.,  9., 10., 12., 13., 14., 16., 17.,\n",
       "         18., 20., 21., 22.],\n",
       "        [ 1.,  2.,  3.,  5.,  6.,  7.,  9., 10., 11., 13., 14., 15., 17., 18.,\n",
       "         19., 21., 22., 23.]])"
      ]
     },
     "execution_count": null,
     "metadata": {},
     "output_type": "execute_result"
    }
   ],
   "source": [
    "k = 3\n",
    "nw = 1\n",
    "nh = 2\n",
    "d = 2\n",
    "acol = torch.ones(nh*nw, k*k*2) * -1\n",
    "r = 0\n",
    "for i in range(nw):\n",
    "    for j in range(nh):\n",
    "        c = 0\n",
    "        for di in range(k):\n",
    "            for dj in range(k):\n",
    "                # print((i + di, j + dj), \"->\", (r, c))\n",
    "                # acol[r, c] = a[0, i + di, j + dj] \n",
    "\n",
    "                acol[r, c::k*k] = a[:, i + di, j + dj] \n",
    "                c += 1\n",
    "        r += 1\n",
    "acol"
   ]
  },
  {
   "cell_type": "code",
   "execution_count": null,
   "id": "6588682e-f5bb-4b53-9656-f8c7493eac4b",
   "metadata": {},
   "outputs": [],
   "source": [
    "def im2col_conv(img, kernels):\n",
    "    d, w, h = img.shape\n",
    "    n, d2, k, k = kernels.shape\n",
    "    assert d == d2\n",
    "    nw, nh = w - k + 1, h - k + 1\n",
    "\n",
    "    A = torch.empty((nw*nh, k*k*d))\n",
    "    r = 0\n",
    "    for i in range(nw):\n",
    "        for j in range(nh):\n",
    "            c = 0\n",
    "            for di in range(k):\n",
    "                for dj in range(k):\n",
    "                    A[r, c::k*k] = img[:, i + di, j + dj] \n",
    "                    c += 1\n",
    "            r += 1\n",
    "    \n",
    "    B = torch.empty((k*k*d, n))\n",
    "    for idx, kernel in enumerate(kernels):\n",
    "        B[:, idx] = kernel.view(-1)\n",
    "    return (A@B).T.reshape(n, nw, nh)\n",
    "\n",
    "\n",
    "got = im2col_conv(img.unsqueeze(0), top_edge.unsqueeze(0).unsqueeze(0))\n",
    "test_close(torch.tensor(result), got)"
   ]
  },
  {
   "cell_type": "code",
   "execution_count": null,
   "id": "fea1ca24-889a-44df-81c4-258a50204187",
   "metadata": {},
   "outputs": [],
   "source": [
    "k = 3\n",
    "d = 1\n",
    "n = 1"
   ]
  },
  {
   "cell_type": "code",
   "execution_count": null,
   "id": "5526aec2-4190-4767-bd2d-c2f6bdcbf70c",
   "metadata": {},
   "outputs": [],
   "source": [
    "kernels = top_edge.unsqueeze(0).unsqueeze(0)\n",
    "B = torch.empty((k*k*d, n))\n",
    "for idx, kernel in enumerate(kernels):\n",
    "    B[:, idx] = kernel.view(-1)\n",
    "test_close(B, kernels.reshape(n, -1).T)"
   ]
  },
  {
   "cell_type": "code",
   "execution_count": null,
   "id": "6e9fcb3e-ef17-43e5-9b15-b91526b89121",
   "metadata": {},
   "outputs": [
    {
     "data": {
      "text/plain": [
       "tensor([[0.7422, 0.9883, 0.2734, 0.1367, 0.9414, 0.8789, 0.0000, 0.3164, 0.9375]])"
      ]
     },
     "execution_count": null,
     "metadata": {},
     "output_type": "execute_result"
    }
   ],
   "source": [
    "imgb = img.unsqueeze(0)\n",
    "A = torch.empty((1, k*k*d))\n",
    "r = 0\n",
    "i = 12\n",
    "j = 12\n",
    "c = 0\n",
    "# A[r, 0::k*k] = img[:, i, j], A[r, 1::k*k] = img[:, i, j + 1], ...\n",
    "# A[r, k::k*k] = img[:, i + 1, j], ...\n",
    "# ...\n",
    "# A[r, k*(k-1):k*k] = img[:, i + (k - 1), j], ...\n",
    "for di in range(k):\n",
    "    for dj in range(k):\n",
    "        A[r, c::k*k] = imgb[:, i + di, j + dj] \n",
    "        c += 1\n",
    "r += 1\n",
    "A"
   ]
  },
  {
   "cell_type": "code",
   "execution_count": null,
   "id": "d2ebffd6-e502-4f1a-b4ac-4187db4b8224",
   "metadata": {},
   "outputs": [
    {
     "data": {
      "text/plain": [
       "tensor([[[0.7422, 0.9883, 0.2734],\n",
       "         [0.1367, 0.9414, 0.8789],\n",
       "         [0.0000, 0.3164, 0.9375]]])"
      ]
     },
     "execution_count": null,
     "metadata": {},
     "output_type": "execute_result"
    }
   ],
   "source": [
    "imgb[:, i:i+k, j:j+k]"
   ]
  },
  {
   "cell_type": "code",
   "execution_count": null,
   "id": "f70f22dc-52c7-4ec8-9a35-d6c0399b8132",
   "metadata": {},
   "outputs": [],
   "source": [
    "test_close(A, imgb[:, i:i+k, j:j+k].flatten())"
   ]
  },
  {
   "cell_type": "code",
   "execution_count": null,
   "id": "1d1bbe56-d095-4f09-9e02-eb4173a2dc21",
   "metadata": {},
   "outputs": [],
   "source": [
    "def im2col_conv(img, kernels):\n",
    "    d, w, h = img.shape\n",
    "    n, d2, k, k = kernels.shape\n",
    "    assert d == d2\n",
    "    nw, nh = w - k + 1, h - k + 1\n",
    "\n",
    "    A = torch.empty((nw*nh, k*k*d))\n",
    "    r = 0\n",
    "    for i in range(nw):\n",
    "        for j in range(nh):\n",
    "            A[r] = img[:, i:i+k, j:j+k].flatten()\n",
    "            r += 1\n",
    "\n",
    "    B = kernels.reshape(n, -1).T\n",
    "    return (A@B).T.reshape(n, nw, nh)\n",
    "\n",
    "got = im2col_conv(img.unsqueeze(0), top_edge.unsqueeze(0).unsqueeze(0))\n",
    "test_close(torch.tensor(result), got)"
   ]
  },
  {
   "cell_type": "code",
   "execution_count": null,
   "id": "e1ca691c-745f-4347-909e-2e8b21c20c6b",
   "metadata": {},
   "outputs": [],
   "source": [
    "# k = 2, n = 4, h = 3, d = 1\n",
    "# img\n",
    "# 1     2/5        6/9         10\n",
    "# 3/13  4/7/14/17  8/11/18/21  12/22\n",
    "# 15    16/19      20/23       24\n",
    "# A\n",
    "# 1  2  3  4\n",
    "# 5  6  7  8\n",
    "# 9  10 11 12\n",
    "# 13 14 15 16\n",
    "# 17 18 19 20\n",
    "# 21 22 23 24"
   ]
  },
  {
   "cell_type": "code",
   "execution_count": null,
   "id": "ae9a07e8-180f-4c76-897b-e7ef6ce03bc6",
   "metadata": {},
   "outputs": [
    {
     "name": "stdout",
     "output_type": "stream",
     "text": [
      "torch.Size([3, 28, 28]) torch.Size([2, 3, 3, 3])\n"
     ]
    },
    {
     "data": {
      "text/plain": [
       "torch.Size([2, 26, 26])"
      ]
     },
     "execution_count": null,
     "metadata": {},
     "output_type": "execute_result"
    }
   ],
   "source": [
    "inp = torch.stack([x_train[0], x_train[1], x_train[2]])\n",
    "kernels = torch.stack([torch.stack([top_edge]*3), torch.stack([left_edge]*3)])\n",
    "got = im2col_conv(inp, kernels)\n",
    "print(inp.shape, kernels.shape)\n",
    "got.shape"
   ]
  },
  {
   "cell_type": "code",
   "execution_count": null,
   "id": "6e2d7853-8e9b-4c8b-b5e3-29eb4184c9f1",
   "metadata": {},
   "outputs": [
    {
     "data": {
      "text/plain": [
       "\u001b[0;31mSignature:\u001b[0m\n",
       "\u001b[0mF\u001b[0m\u001b[0;34m.\u001b[0m\u001b[0munfold\u001b[0m\u001b[0;34m(\u001b[0m\u001b[0;34m\u001b[0m\n",
       "\u001b[0;34m\u001b[0m    \u001b[0minput\u001b[0m\u001b[0;34m:\u001b[0m \u001b[0mtorch\u001b[0m\u001b[0;34m.\u001b[0m\u001b[0mTensor\u001b[0m\u001b[0;34m,\u001b[0m\u001b[0;34m\u001b[0m\n",
       "\u001b[0;34m\u001b[0m    \u001b[0mkernel_size\u001b[0m\u001b[0;34m:\u001b[0m \u001b[0;32mNone\u001b[0m\u001b[0;34m,\u001b[0m\u001b[0;34m\u001b[0m\n",
       "\u001b[0;34m\u001b[0m    \u001b[0mdilation\u001b[0m\u001b[0;34m:\u001b[0m \u001b[0;32mNone\u001b[0m \u001b[0;34m=\u001b[0m \u001b[0;36m1\u001b[0m\u001b[0;34m,\u001b[0m\u001b[0;34m\u001b[0m\n",
       "\u001b[0;34m\u001b[0m    \u001b[0mpadding\u001b[0m\u001b[0;34m:\u001b[0m \u001b[0;32mNone\u001b[0m \u001b[0;34m=\u001b[0m \u001b[0;36m0\u001b[0m\u001b[0;34m,\u001b[0m\u001b[0;34m\u001b[0m\n",
       "\u001b[0;34m\u001b[0m    \u001b[0mstride\u001b[0m\u001b[0;34m:\u001b[0m \u001b[0;32mNone\u001b[0m \u001b[0;34m=\u001b[0m \u001b[0;36m1\u001b[0m\u001b[0;34m,\u001b[0m\u001b[0;34m\u001b[0m\n",
       "\u001b[0;34m\u001b[0m\u001b[0;34m)\u001b[0m \u001b[0;34m->\u001b[0m \u001b[0mtorch\u001b[0m\u001b[0;34m.\u001b[0m\u001b[0mTensor\u001b[0m\u001b[0;34m\u001b[0m\u001b[0;34m\u001b[0m\u001b[0m\n",
       "\u001b[0;31mDocstring:\u001b[0m\n",
       "Extracts sliding local blocks from a batched input tensor.\n",
       "\n",
       ".. warning::\n",
       "    Currently, only 4-D input tensors (batched image-like tensors) are\n",
       "    supported.\n",
       "\n",
       ".. warning::\n",
       "\n",
       "    More than one element of the unfolded tensor may refer to a single\n",
       "    memory location. As a result, in-place operations (especially ones that\n",
       "    are vectorized) may result in incorrect behavior. If you need to write\n",
       "    to the tensor, please clone it first.\n",
       "\n",
       "\n",
       "See :class:`torch.nn.Unfold` for details\n",
       "\u001b[0;31mFile:\u001b[0m      ~/miniforge3/envs/fastai/lib/python3.11/site-packages/torch/nn/functional.py\n",
       "\u001b[0;31mType:\u001b[0m      function"
      ]
     },
     "metadata": {},
     "output_type": "display_data"
    }
   ],
   "source": [
    "F.unfold?"
   ]
  },
  {
   "cell_type": "code",
   "execution_count": null,
   "id": "802c4ea3-de99-4ef9-a21e-2d1c996f068a",
   "metadata": {},
   "outputs": [
    {
     "data": {
      "text/plain": [
       "torch.Size([1, 9, 676])"
      ]
     },
     "execution_count": null,
     "metadata": {},
     "output_type": "execute_result"
    }
   ],
   "source": [
    "F.unfold(img[None, None], top_edge.shape).shape"
   ]
  },
  {
   "cell_type": "code",
   "execution_count": null,
   "id": "e5956980-3c7d-472c-b0c9-9794b88df029",
   "metadata": {},
   "outputs": [
    {
     "data": {
      "image/png": "[encoded data removed]",
      "text/plain": [
       "<Figure size 640x480 with 1 Axes>"
      ]
     },
     "metadata": {},
     "output_type": "display_data"
    }
   ],
   "source": [
    "show_image((top_edge.view(-1)@F.unfold(img[None, None], top_edge.shape)[0]).view(26, 26));"
   ]
  },
  {
   "cell_type": "code",
   "execution_count": null,
   "id": "6054a08e-0a58-4db3-9c1b-2c3a381afa7d",
   "metadata": {},
   "outputs": [
    {
     "name": "stdout",
     "output_type": "stream",
     "text": [
      "8.99 ms ± 1.7 ms per loop (mean ± std. dev. of 7 runs, 5 loops each)\n"
     ]
    }
   ],
   "source": [
    "%timeit -n 5 _=[[apply_kernel(i, j, top_edge) for j in range(1, 27)] for i in range(1, 27)]"
   ]
  },
  {
   "cell_type": "code",
   "execution_count": null,
   "id": "53c62596-09a5-4a8a-aa69-96ebee7510d9",
   "metadata": {},
   "outputs": [
    {
     "name": "stdout",
     "output_type": "stream",
     "text": [
      "77.1 ms ± 15.5 ms per loop (mean ± std. dev. of 7 runs, 5 loops each)\n"
     ]
    }
   ],
   "source": [
    "%timeit -n 5 _=im2col_conv(img.unsqueeze(0), top_edge.unsqueeze(0).unsqueeze(0))"
   ]
  },
  {
   "cell_type": "code",
   "execution_count": null,
   "id": "5b38d75f-06b2-474f-a317-dea0860be79f",
   "metadata": {},
   "outputs": [
    {
     "name": "stdout",
     "output_type": "stream",
     "text": [
      "36.4 µs ± 7.98 µs per loop (mean ± std. dev. of 7 runs, 100 loops each)\n"
     ]
    }
   ],
   "source": [
    "%timeit -n 100 _=(top_edge.view(-1)@F.unfold(img[None, None], top_edge.shape)[0]).view(26, 26)"
   ]
  },
  {
   "cell_type": "code",
   "execution_count": null,
   "id": "588cae76-61c4-4be6-b4a9-a2d4bb6481f3",
   "metadata": {},
   "outputs": [
    {
     "name": "stdout",
     "output_type": "stream",
     "text": [
      "19.8 µs ± 8.92 µs per loop (mean ± std. dev. of 7 runs, 100 loops each)\n"
     ]
    }
   ],
   "source": [
    "%timeit -n 100 _=F.conv2d(img[None, None], top_edge[None, None])"
   ]
  },
  {
   "cell_type": "code",
   "execution_count": null,
   "id": "c1533b51-eb41-4af0-b5f8-7f68b6615172",
   "metadata": {},
   "outputs": [
    {
     "data": {
      "image/png": "[encoded data removed]",
      "text/plain": [
       "<Figure size 640x480 with 1 Axes>"
      ]
     },
     "metadata": {},
     "output_type": "display_data"
    },
    {
     "data": {
      "image/png": "[encoded data removed]",
      "text/plain": [
       "<Figure size 640x480 with 1 Axes>"
      ]
     },
     "metadata": {},
     "output_type": "display_data"
    }
   ],
   "source": [
    "diag_primary_right = torch.tensor([\n",
    "    [1, -1, 0],\n",
    "    [0, 1, -1],\n",
    "    [0, 0, 1]\n",
    "], dtype=torch.float)\n",
    "diag_minor_left = torch.tensor([\n",
    "    [0, -1, 1],\n",
    "    [-1, 1, 0],\n",
    "    [1, 0, 0]\n",
    "], dtype=torch.float)\n",
    "show_image(diag_primary_right);\n",
    "show_image(diag_minor_left);"
   ]
  },
  {
   "cell_type": "code",
   "execution_count": null,
   "id": "a3f259d2-22c7-4c1b-8542-032564f3dff1",
   "metadata": {},
   "outputs": [
    {
     "data": {
      "text/plain": [
       "(torch.Size([8, 1, 28, 28]), torch.Size([4, 1, 3, 3]))"
      ]
     },
     "execution_count": null,
     "metadata": {},
     "output_type": "execute_result"
    }
   ],
   "source": [
    "xb = x_train[:8][:, None]\n",
    "edges = torch.stack([top_edge, left_edge, diag_primary_right, diag_minor_left])[:, None]\n",
    "xb.shape, edges.shape"
   ]
  },
  {
   "cell_type": "code",
   "execution_count": null,
   "id": "43191bf0-2521-4814-a240-2542c920deae",
   "metadata": {},
   "outputs": [
    {
     "data": {
      "text/plain": [
       "torch.Size([8, 4, 26, 26])"
      ]
     },
     "execution_count": null,
     "metadata": {},
     "output_type": "execute_result"
    }
   ],
   "source": [
    "got = F.conv2d(xb, edges)\n",
    "got.shape"
   ]
  },
  {
   "cell_type": "code",
   "execution_count": null,
   "id": "e473f670-81a8-4dd0-b72a-bf9c010f5e9f",
   "metadata": {},
   "outputs": [
    {
     "data": {
      "image/png": "[encoded data removed]",
      "text/plain": [
       "<Figure size 600x600 with 4 Axes>"
      ]
     },
     "metadata": {},
     "output_type": "display_data"
    }
   ],
   "source": [
    "show_images(got[0]);"
   ]
  },
  {
   "cell_type": "markdown",
   "id": "81be9c3a-1c64-4e70-b201-a7c1be98de3b",
   "metadata": {},
   "source": [
    "## Strides and padding"
   ]
  },
  {
   "cell_type": "markdown",
   "id": "8b547849-c1e0-49d6-9a80-1c16a8c6a6e7",
   "metadata": {},
   "source": [
    "When tiling over an image, we can jump over some elements instead of going over each possible position. The length of the jump is called stride.\n",
    "\n",
    "If kernel size is larger than 1, then the resulting image is going to be smaller (assuming a stride of 1, by \\<kernel size\\> - 1). In order to control that, we can add padding (zero, reflect, nn, etc.) around the image. This will allow to apply the kernel near the edges."
   ]
  },
  {
   "cell_type": "markdown",
   "id": "75eed208-7e60-4e8a-99df-ae0a99644746",
   "metadata": {},
   "source": [
    "# Creating the CNN"
   ]
  },
  {
   "cell_type": "code",
   "execution_count": null,
   "id": "9b0a8b26-5427-44be-9b9f-57d26141ff87",
   "metadata": {},
   "outputs": [
    {
     "data": {
      "text/plain": [
       "(torch.Size([50000, 28, 28]), torch.Size([8, 1, 28, 28]))"
      ]
     },
     "execution_count": null,
     "metadata": {},
     "output_type": "execute_result"
    }
   ],
   "source": [
    "x_train.shape, xb.shape"
   ]
  },
  {
   "cell_type": "code",
   "execution_count": null,
   "id": "3219db1b-655c-453b-a89f-11a40c10ec2d",
   "metadata": {},
   "outputs": [
    {
     "data": {
      "text/plain": [
       "(50000, tensor(10))"
      ]
     },
     "execution_count": null,
     "metadata": {},
     "output_type": "execute_result"
    }
   ],
   "source": [
    "n = x_train.shape[0]\n",
    "c = y_train.max() + 1\n",
    "n, c"
   ]
  },
  {
   "cell_type": "code",
   "execution_count": null,
   "id": "b3a4aca2-1e99-481c-8f3f-f6942627bc7e",
   "metadata": {},
   "outputs": [
    {
     "data": {
      "text/plain": [
       "torch.Size([8, 10, 24, 24])"
      ]
     },
     "execution_count": null,
     "metadata": {},
     "output_type": "execute_result"
    }
   ],
   "source": [
    "model = nn.Sequential(\n",
    "    nn.Conv2d(1, 30, 3),\n",
    "    nn.ReLU(),\n",
    "    nn.Conv2d(30, 10, 3)\n",
    ")\n",
    "model(xb).shape"
   ]
  },
  {
   "cell_type": "code",
   "execution_count": null,
   "id": "06642479-6e03-4348-97cc-ed581fe5f86b",
   "metadata": {},
   "outputs": [],
   "source": [
    "#| export\n",
    "def conv(ni, nf, ks=3, stride=2, act=True):\n",
    "    result = nn.Conv2d(ni, nf, kernel_size=ks, stride=stride, padding=ks//2)\n",
    "    if act:\n",
    "        result = nn.Sequential(result, nn.ReLU())\n",
    "    return result"
   ]
  },
  {
   "cell_type": "code",
   "execution_count": null,
   "id": "d59ad7d8-3273-456b-ba9f-b874c980caba",
   "metadata": {},
   "outputs": [],
   "source": [
    "simple_cnn = nn.Sequential( # 28x28\n",
    "    conv(1, 8),             # 14x14\n",
    "    conv(8, 16),            #  7x7\n",
    "    conv(16, 32),           #  4x4\n",
    "    conv(32, 64),           #  2x2\n",
    "    conv(64, 10, act=False),#  1x1\n",
    "    nn.Flatten()\n",
    ")"
   ]
  },
  {
   "cell_type": "code",
   "execution_count": null,
   "id": "68ee01ce-c6fb-489c-8660-0db17ff04ca7",
   "metadata": {},
   "outputs": [
    {
     "data": {
      "text/plain": [
       "torch.Size([8, 10])"
      ]
     },
     "execution_count": null,
     "metadata": {},
     "output_type": "execute_result"
    }
   ],
   "source": [
    "simple_cnn(xb).shape"
   ]
  },
  {
   "cell_type": "code",
   "execution_count": null,
   "id": "d68a2238-de43-4de0-b219-aee8bae88865",
   "metadata": {},
   "outputs": [
    {
     "data": {
      "text/plain": [
       "(torch.Size([50000, 1, 28, 28]), torch.Size([10000, 1, 28, 28]))"
      ]
     },
     "execution_count": null,
     "metadata": {},
     "output_type": "execute_result"
    }
   ],
   "source": [
    "x_train = x_train[:, None]\n",
    "x_valid = x_valid[:, None]\n",
    "x_train.shape, x_valid.shape"
   ]
  },
  {
   "cell_type": "code",
   "execution_count": null,
   "id": "8a5a5bdb-70eb-45cc-8c8d-9ea606ea33d4",
   "metadata": {},
   "outputs": [],
   "source": [
    "ds_train = Dataset(x_train, y_train)\n",
    "ds_valid = Dataset(x_valid, y_valid)"
   ]
  },
  {
   "cell_type": "code",
   "execution_count": null,
   "id": "d4c683a7-3bc7-4188-a40a-bd7c4f7d6ddd",
   "metadata": {},
   "outputs": [],
   "source": [
    "#|export\n",
    "def_device = \"cuda\" if torch.cuda.is_available() else \"cpu\""
   ]
  },
  {
   "cell_type": "code",
   "execution_count": null,
   "id": "e185d2a1-189a-4af9-96cb-d49f187dd2ca",
   "metadata": {},
   "outputs": [],
   "source": [
    "#|export\n",
    "def to_device(x, device=def_device):\n",
    "    if isinstance(x, torch.Tensor):\n",
    "        return x.to(device=device)\n",
    "    if isinstance(x, Mapping):\n",
    "        return {k: to_device(v, device) for k, v in x.items()}\n",
    "    return type(x)(to_device(i, device) for i in x)"
   ]
  },
  {
   "cell_type": "code",
   "execution_count": null,
   "id": "e81575e7-7b7e-40ca-abb2-15ed4c30be03",
   "metadata": {},
   "outputs": [],
   "source": [
    "#|export\n",
    "def collate_device(b):\n",
    "    return to_device(default_collate(b))"
   ]
  },
  {
   "cell_type": "code",
   "execution_count": null,
   "id": "b319884f-2cc4-4649-b881-6b322ddcfad9",
   "metadata": {},
   "outputs": [],
   "source": [
    "bs = 64\n",
    "lr = 0.5\n",
    "dl_train, dl_valid = get_dls(ds_train, ds_valid, bs, collate_fn=collate_device)\n",
    "opt = torch.optim.SGD(simple_cnn.parameters(), lr=lr)\n",
    "simple_cnn = simple_cnn.to(def_device)"
   ]
  },
  {
   "cell_type": "code",
   "execution_count": null,
   "id": "39fb3f9f-2397-462a-8e3a-aa85cd4d5fc6",
   "metadata": {},
   "outputs": [
    {
     "name": "stdout",
     "output_type": "stream",
     "text": [
      "Epoch 0: loss=0.1018, accuracy=0.97\n",
      "Epoch 1: loss=0.0742, accuracy=0.98\n",
      "Epoch 2: loss=0.0642, accuracy=0.98\n",
      "Epoch 3: loss=0.2224, accuracy=0.94\n",
      "Epoch 4: loss=0.0894, accuracy=0.98\n"
     ]
    },
    {
     "data": {
      "text/plain": [
       "(0.08937944243252277, 0.9759)"
      ]
     },
     "execution_count": null,
     "metadata": {},
     "output_type": "execute_result"
    }
   ],
   "source": [
    "loss, acc = fit(5, simple_cnn, opt, F.cross_entropy, dl_train, dl_valid)\n",
    "loss, acc"
   ]
  },
  {
   "cell_type": "code",
   "execution_count": null,
   "id": "4498ca3f-aff1-4686-82dc-99518ff56eff",
   "metadata": {},
   "outputs": [
    {
     "name": "stdout",
     "output_type": "stream",
     "text": [
      "Epoch 0: loss=0.0522, accuracy=0.99\n",
      "Epoch 1: loss=0.0537, accuracy=0.99\n",
      "Epoch 2: loss=0.0561, accuracy=0.99\n"
     ]
    },
    {
     "data": {
      "text/plain": [
       "(0.05605212048176909, 0.9874)"
      ]
     },
     "execution_count": null,
     "metadata": {},
     "output_type": "execute_result"
    }
   ],
   "source": [
    "opt = torch.optim.SGD(simple_cnn.parameters(), lr=lr/10)\n",
    "loss, acc = fit(3, simple_cnn, opt, F.cross_entropy, dl_train, dl_valid)\n",
    "loss, acc"
   ]
  },
  {
   "cell_type": "markdown",
   "id": "cdb9d34f-a7ee-4ba5-b024-b7bbe7728368",
   "metadata": {},
   "source": [
    "In the original linear model, we had:\n",
    "- 768 * 50 + 50\n",
    "- 50 * 10 + 10\n",
    "- total: 38960\n",
    "    \n",
    "        linear(768, 50)\n",
    "        linear(50, 10)\n",
    "\n",
    "In CNN:\n",
    "- 3 * 3 * 1 * 8 + 8\n",
    "- 3 * 3 * 8 * 16 + 16\n",
    "- 3 * 3 * 16 * 32 + 32\n",
    "- 3 * 3 * 32 * 64 + 64\n",
    "- 3 * 3 * 64 * 10 + 10\n",
    "- total: 30154\n",
    "\n",
    "        conv(1, 8),             # 14x14\n",
    "        conv(8, 16),            #  7x7\n",
    "        conv(16, 32),           #  4x4\n",
    "        conv(32, 64),           #  2x2\n",
    "        conv(64, 10, act=False) #  1x1"
   ]
  },
  {
   "cell_type": "markdown",
   "id": "0c49a471-b6d4-4d88-908f-bbc89a5ed121",
   "metadata": {},
   "source": [
    "## Understanding convolution arithmetic"
   ]
  },
  {
   "cell_type": "markdown",
   "id": "b77e7fd8-6a45-4dd5-b9a2-158f5d8798f0",
   "metadata": {},
   "source": [
    "In PyTorch, a batch of images has 4 dimensions: Batch x Channels x Height x Width. Another representation is channels-last: BHWC. "
   ]
  },
  {
   "cell_type": "markdown",
   "id": "4a1f7684-bf29-46ba-b5d1-0cf28b95af2b",
   "metadata": {},
   "source": [
    "The receptive field is all the values in the original image that were used in the calculation of the output of a convolution."
   ]
  },
  {
   "cell_type": "markdown",
   "id": "93b75e37-01d0-4c4c-a6bb-f2ba6e0d38e8",
   "metadata": {},
   "source": [
    "# Export"
   ]
  },
  {
   "cell_type": "code",
   "execution_count": null,
   "id": "aa531862-dfef-4ac6-bee6-3abd355c48f6",
   "metadata": {},
   "outputs": [],
   "source": [
    "import nbdev; nbdev.nbdev_export()"
   ]
  },
  {
   "cell_type": "code",
   "execution_count": null,
   "id": "69efcb4c-dd9e-47ca-9456-c42519a95067",
   "metadata": {},
   "outputs": [],
   "source": []
  }
 ],
 "metadata": {
  "kernelspec": {
   "display_name": "python3",
   "language": "python",
   "name": "python3"
  }
 },
 "nbformat": 4,
 "nbformat_minor": 5
}
