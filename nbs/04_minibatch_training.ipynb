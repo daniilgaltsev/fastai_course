{
 "cells": [
  {
   "cell_type": "markdown",
   "id": "3a747713-fd1c-49b5-8175-e1c1c457eb87",
   "metadata": {},
   "source": [
    "# Initial setup"
   ]
  },
  {
   "cell_type": "code",
   "execution_count": null,
   "id": "34b19a45-2d7f-4700-be45-83555de051ad",
   "metadata": {},
   "outputs": [],
   "source": [
    "from pathlib import Path\n",
    "import pickle\n",
    "import gzip\n",
    "\n",
    "from fastcore.test import test_close\n",
    "import matplotlib\n",
    "import matplotlib.pyplot as plt\n",
    "import numpy as np\n",
    "import torch\n",
    "\n",
    "torch.manual_seed(1103)\n",
    "\n",
    "matplotlib.rcParams[\"image.cmap\"] = \"gray\"\n",
    "torch.set_printoptions(precision=2, linewidth=160, sci_mode=False)\n",
    "np.set_printoptions(precision=2, linewidth=160)\n",
    "\n",
    "data_path = Path(\"data\")\n",
    "mnist_path = data_path / \"mnist.pkl.gz\"\n",
    "with gzip.open(mnist_path) as f:\n",
    "    ((x_train, y_train), (x_valid, y_valid), _) = pickle.load(f, encoding=\"bytes\")\n",
    "x_train, y_train, x_valid, y_valid = map(torch.tensor, (x_train, y_train, x_valid, y_valid))"
   ]
  },
  {
   "cell_type": "code",
   "execution_count": null,
   "id": "dfe6b888-9ff6-4607-95c1-043f282c170d",
   "metadata": {},
   "outputs": [],
   "source": [
    "import torch.nn as nn\n",
    "import torch.nn.functional as F"
   ]
  },
  {
   "cell_type": "code",
   "execution_count": null,
   "id": "a1edc3d1-406e-4bdb-881a-765eb5f906ef",
   "metadata": {},
   "outputs": [],
   "source": [
    "class Model(nn.Module):\n",
    "    def __init__(self, n_in, n_h, n_out):\n",
    "        super().__init__()\n",
    "        self.layers = [nn.Linear(n_in, n_h), nn.ReLU(), nn.Linear(n_h, n_out)]\n",
    "\n",
    "    def __call__(self, x, target):\n",
    "        for l in self.layers:\n",
    "            x = l(x)\n",
    "        return x"
   ]
  },
  {
   "cell_type": "code",
   "execution_count": null,
   "id": "ef070010-62dc-4719-bb37-91412fb85d17",
   "metadata": {},
   "outputs": [
    {
     "data": {
      "text/plain": [
       "10"
      ]
     },
     "execution_count": null,
     "metadata": {},
     "output_type": "execute_result"
    }
   ],
   "source": [
    "nh = 50\n",
    "c = y_train.max().item() + 1\n",
    "c"
   ]
  },
  {
   "cell_type": "code",
   "execution_count": null,
   "id": "43cd6821-3ca1-4fb5-a565-166bc4af1ffc",
   "metadata": {},
   "outputs": [],
   "source": [
    "model = Model(x_train.shape[1], nh, c)"
   ]
  },
  {
   "cell_type": "code",
   "execution_count": null,
   "id": "6619595d-9f82-43ce-8fb8-b92e5b45164b",
   "metadata": {},
   "outputs": [],
   "source": [
    "preds = model(x_train, x_valid)"
   ]
  },
  {
   "cell_type": "code",
   "execution_count": null,
   "id": "44981d39-ffb8-4238-9919-04a73fc49c38",
   "metadata": {},
   "outputs": [
    {
     "data": {
      "text/plain": [
       "torch.Size([50000, 10])"
      ]
     },
     "execution_count": null,
     "metadata": {},
     "output_type": "execute_result"
    }
   ],
   "source": [
    "preds.shape"
   ]
  },
  {
   "cell_type": "markdown",
   "id": "c2c3218f-5a36-4f89-b397-ede27d9fd099",
   "metadata": {},
   "source": [
    "## Cross entropy loss"
   ]
  },
  {
   "cell_type": "code",
   "execution_count": null,
   "id": "02707903-c8fa-470b-8368-f3df6d9e59c4",
   "metadata": {},
   "outputs": [],
   "source": [
    "def log_softmax(x):\n",
    "    exps = torch.exp(x)\n",
    "    return torch.log(exps / exps.sum(keepdims=True, dim=1))"
   ]
  },
  {
   "cell_type": "code",
   "execution_count": null,
   "id": "aecbddb0-d9d3-4fe1-958e-5836d9bd59d3",
   "metadata": {},
   "outputs": [
    {
     "data": {
      "text/plain": [
       "(torch.Size([50000, 10]),\n",
       " tensor([[-2.40, -2.41, -2.43,  ..., -2.20, -2.25, -2.14],\n",
       "         [-2.30, -2.51, -2.23,  ..., -2.18, -2.30, -2.26],\n",
       "         [-2.34, -2.43, -2.34,  ..., -2.23, -2.20, -2.20],\n",
       "         ...,\n",
       "         [-2.37, -2.42, -2.38,  ..., -2.18, -2.27, -2.23],\n",
       "         [-2.31, -2.40, -2.42,  ..., -2.21, -2.22, -2.25],\n",
       "         [-2.41, -2.43, -2.38,  ..., -2.17, -2.30, -2.19]], grad_fn=<LogBackward0>))"
      ]
     },
     "execution_count": null,
     "metadata": {},
     "output_type": "execute_result"
    }
   ],
   "source": [
    "res = log_softmax(preds)\n",
    "res.shape, res"
   ]
  },
  {
   "cell_type": "code",
   "execution_count": null,
   "id": "9abd4597-18d2-4171-8749-60e9065bc934",
   "metadata": {},
   "outputs": [],
   "source": [
    "def log_softmax(x):\n",
    "    return x - torch.log(torch.exp(x).sum(keepdims=True, dim=1))"
   ]
  },
  {
   "cell_type": "code",
   "execution_count": null,
   "id": "00aaaa94-1f1b-4ad5-a341-8b141433f819",
   "metadata": {},
   "outputs": [
    {
     "data": {
      "text/plain": [
       "(torch.Size([50000, 10]),\n",
       " tensor([[-2.40, -2.41, -2.43,  ..., -2.20, -2.25, -2.14],\n",
       "         [-2.30, -2.51, -2.23,  ..., -2.18, -2.30, -2.26],\n",
       "         [-2.34, -2.43, -2.34,  ..., -2.23, -2.20, -2.20],\n",
       "         ...,\n",
       "         [-2.37, -2.42, -2.38,  ..., -2.18, -2.27, -2.23],\n",
       "         [-2.31, -2.40, -2.42,  ..., -2.21, -2.22, -2.25],\n",
       "         [-2.41, -2.43, -2.38,  ..., -2.17, -2.30, -2.19]], grad_fn=<SubBackward0>))"
      ]
     },
     "execution_count": null,
     "metadata": {},
     "output_type": "execute_result"
    }
   ],
   "source": [
    "res = log_softmax(preds)\n",
    "res.shape, res"
   ]
  },
  {
   "cell_type": "code",
   "execution_count": null,
   "id": "fae5f972-f3f5-438c-b8ce-9e7a5f90d0a6",
   "metadata": {},
   "outputs": [],
   "source": [
    "test_close(F.log_softmax(preds, dim=1), res)"
   ]
  },
  {
   "cell_type": "code",
   "execution_count": null,
   "id": "b7c44e96-710b-412d-b008-83b46c486c1a",
   "metadata": {},
   "outputs": [],
   "source": [
    "def logsumexp(x):\n",
    "    max = torch.max(x)\n",
    "    return (x - max).exp().sum(keepdims=True, dim=1).log() + max"
   ]
  },
  {
   "cell_type": "code",
   "execution_count": null,
   "id": "13e30576-63c8-43db-8130-9679cae79f8e",
   "metadata": {},
   "outputs": [],
   "source": [
    "def log_softmax(x):\n",
    "    return x - logsumexp(x)"
   ]
  },
  {
   "cell_type": "code",
   "execution_count": null,
   "id": "327e5516-03f1-48c8-a598-eef19a95f6de",
   "metadata": {},
   "outputs": [],
   "source": [
    "test_close(res, log_softmax(preds))"
   ]
  },
  {
   "cell_type": "code",
   "execution_count": null,
   "id": "6cf2c41e-e4b8-4706-ba21-ec2826f2e9ef",
   "metadata": {},
   "outputs": [],
   "source": [
    "ll = F.log_softmax(preds, dim=1)"
   ]
  },
  {
   "cell_type": "code",
   "execution_count": null,
   "id": "53c7075d-dc27-4bbe-a54f-30c6d00d71b9",
   "metadata": {},
   "outputs": [
    {
     "data": {
      "text/plain": [
       "(torch.Size([50000, 10]), torch.Size([50000]))"
      ]
     },
     "execution_count": null,
     "metadata": {},
     "output_type": "execute_result"
    }
   ],
   "source": [
    "ll.shape, y_train.shape"
   ]
  },
  {
   "cell_type": "code",
   "execution_count": null,
   "id": "09ac9b1d-8341-4777-80b4-161be0a17018",
   "metadata": {},
   "outputs": [
    {
     "data": {
      "text/plain": [
       "torch.Size([50000])"
      ]
     },
     "execution_count": null,
     "metadata": {},
     "output_type": "execute_result"
    }
   ],
   "source": [
    "ll[range(y_train.shape[0]), y_train].shape"
   ]
  },
  {
   "cell_type": "code",
   "execution_count": null,
   "id": "f59dd226-af7b-4176-90ae-c07bf412a2bc",
   "metadata": {},
   "outputs": [],
   "source": [
    "def nll(x, target):\n",
    "    ll = F.log_softmax(x, dim=1)\n",
    "    return -ll[range(target.shape[0]), target].mean()"
   ]
  },
  {
   "cell_type": "code",
   "execution_count": null,
   "id": "a0a54f7d-0b22-4cf1-b100-de13632b07c3",
   "metadata": {},
   "outputs": [],
   "source": [
    "res = nll(preds, y_train)"
   ]
  },
  {
   "cell_type": "code",
   "execution_count": null,
   "id": "0b864f83-2156-45a0-ae24-7a4cf7aff913",
   "metadata": {},
   "outputs": [],
   "source": [
    "test_close(res, F.cross_entropy(preds, y_train))"
   ]
  },
  {
   "cell_type": "markdown",
   "id": "de7827e3-6aa1-4e91-9d0f-e0e3e1eb9795",
   "metadata": {},
   "source": [
    "## Basic training loop"
   ]
  },
  {
   "cell_type": "code",
   "execution_count": null,
   "id": "c0c5db55-1123-4e65-960f-6c68f75c6e63",
   "metadata": {},
   "outputs": [],
   "source": [
    "xb = x_train[:512]\n",
    "yb = y_train[:512]\n",
    "preds_b = model(xb, yb)"
   ]
  },
  {
   "cell_type": "code",
   "execution_count": null,
   "id": "1336340c-e941-4d45-8f50-40b4f5f155a2",
   "metadata": {},
   "outputs": [],
   "source": [
    "loss = F.cross_entropy(preds_b, yb)"
   ]
  },
  {
   "cell_type": "code",
   "execution_count": null,
   "id": "d9684ef2-5adf-482c-aa2e-ba09dedc418a",
   "metadata": {},
   "outputs": [],
   "source": [
    "cls = preds_b.argmax(dim=1)"
   ]
  },
  {
   "cell_type": "code",
   "execution_count": null,
   "id": "d5e562ca-476a-46b8-a7c5-fb5e6a3fc226",
   "metadata": {},
   "outputs": [
    {
     "data": {
      "text/plain": [
       "torch.Size([512])"
      ]
     },
     "execution_count": null,
     "metadata": {},
     "output_type": "execute_result"
    }
   ],
   "source": [
    "cls.shape"
   ]
  },
  {
   "cell_type": "code",
   "execution_count": null,
   "id": "462cdd66-41c8-4351-a991-15365b0f39ed",
   "metadata": {},
   "outputs": [],
   "source": [
    "def accuracy(out, yb):\n",
    "    return (out==yb).float().mean()"
   ]
  },
  {
   "cell_type": "code",
   "execution_count": null,
   "id": "6711bf9e-f7ae-4d6e-a95b-e732be7db7cb",
   "metadata": {},
   "outputs": [
    {
     "data": {
      "text/plain": [
       "tensor(0.14)"
      ]
     },
     "execution_count": null,
     "metadata": {},
     "output_type": "execute_result"
    }
   ],
   "source": [
    "accuracy(cls, yb)"
   ]
  },
  {
   "cell_type": "code",
   "execution_count": null,
   "id": "16b08913-7e72-47c2-bbc0-430bf0305466",
   "metadata": {},
   "outputs": [],
   "source": [
    "def accuracy(preds, yb):\n",
    "    return (preds.argmax(dim=1)==yb).float().mean().item()"
   ]
  },
  {
   "cell_type": "code",
   "execution_count": null,
   "id": "9202b575-1480-4acc-8739-7f0cef1cdd7c",
   "metadata": {},
   "outputs": [
    {
     "data": {
      "text/plain": [
       "0.13671875"
      ]
     },
     "execution_count": null,
     "metadata": {},
     "output_type": "execute_result"
    }
   ],
   "source": [
    "accuracy(preds_b, yb)"
   ]
  },
  {
   "cell_type": "code",
   "execution_count": null,
   "id": "93856ff2-2f10-4bed-b312-a4cc3d363e2d",
   "metadata": {},
   "outputs": [],
   "source": [
    "lr = 0.1\n",
    "epochs = 5\n",
    "bs = 512"
   ]
  },
  {
   "cell_type": "code",
   "execution_count": null,
   "id": "d6e29f5a-0c4d-4790-b926-3b5efdd28295",
   "metadata": {},
   "outputs": [
    {
     "data": {
      "text/plain": [
       "False"
      ]
     },
     "execution_count": null,
     "metadata": {},
     "output_type": "execute_result"
    }
   ],
   "source": [
    "hasattr(epochs, \"1\")"
   ]
  },
  {
   "cell_type": "code",
   "execution_count": null,
   "id": "25a77c0c-8d91-4af6-95e9-7e8fdda14f57",
   "metadata": {},
   "outputs": [
    {
     "name": "stdout",
     "output_type": "stream",
     "text": [
      "2.295273542404175 0.13671875\n",
      "0.7081261277198792 0.836309552192688\n",
      "0.5039593577384949 0.8720238208770752\n",
      "0.43487557768821716 0.9017857313156128\n",
      "0.39776724576950073 0.9107142686843872\n",
      "0.37305158376693726 0.9196428656578064\n"
     ]
    }
   ],
   "source": [
    "xb = x_train[:bs]\n",
    "yb = y_train[:bs]\n",
    "predb = model(xb, yb)\n",
    "print(loss.item(), accuracy(predb, yb))\n",
    "\n",
    "for i in range(epochs):\n",
    "    for b in range(0, len(x_train), bs):\n",
    "        xb = x_train[b:b+bs]\n",
    "        yb = y_train[b:b+bs]\n",
    "        predb = model(xb, yb)\n",
    "        loss = F.cross_entropy(predb, yb)\n",
    "        loss.backward()\n",
    "\n",
    "        with torch.no_grad():\n",
    "            for l in model.layers:\n",
    "                if hasattr(l, \"weight\"):\n",
    "                    l.weight -= l.weight.grad * lr\n",
    "                    l.bias -= l.bias.grad * lr\n",
    "                    l.weight.grad.zero_()\n",
    "                    l.bias.grad.zero_()\n",
    "    print(loss.item(), accuracy(predb, yb))"
   ]
  },
  {
   "cell_type": "code",
   "execution_count": null,
   "id": "c584a76a-5dec-44a0-bf95-94974ebb7a04",
   "metadata": {},
   "outputs": [],
   "source": []
  }
 ],
 "metadata": {
  "kernelspec": {
   "display_name": "python3",
   "language": "python",
   "name": "python3"
  }
 },
 "nbformat": 4,
 "nbformat_minor": 5
}
