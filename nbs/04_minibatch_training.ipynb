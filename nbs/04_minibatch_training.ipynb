{
 "cells": [
  {
   "cell_type": "code",
   "execution_count": null,
   "id": "da7af102-ee6f-4fc7-b3cb-bb570f683094",
   "metadata": {},
   "outputs": [],
   "source": [
    "#| default_exp training"
   ]
  },
  {
   "cell_type": "markdown",
   "id": "3a747713-fd1c-49b5-8175-e1c1c457eb87",
   "metadata": {},
   "source": [
    "# Initial setup"
   ]
  },
  {
   "cell_type": "code",
   "execution_count": null,
   "id": "244aea3f-6c38-4fe0-9eff-b5525d3762f4",
   "metadata": {},
   "outputs": [],
   "source": [
    "#| export\n",
    "import torch\n",
    "import torch.nn.functional as F"
   ]
  },
  {
   "cell_type": "code",
   "execution_count": null,
   "id": "34b19a45-2d7f-4700-be45-83555de051ad",
   "metadata": {},
   "outputs": [],
   "source": [
    "from pathlib import Path\n",
    "import pickle\n",
    "import gzip\n",
    "\n",
    "from fastcore.test import test_close\n",
    "import matplotlib\n",
    "import matplotlib.pyplot as plt\n",
    "import numpy as np\n",
    "\n",
    "torch.manual_seed(1103)\n",
    "\n",
    "matplotlib.rcParams[\"image.cmap\"] = \"gray\"\n",
    "torch.set_printoptions(precision=2, linewidth=160, sci_mode=False)\n",
    "np.set_printoptions(precision=2, linewidth=160)\n",
    "\n",
    "data_path = Path(\"data\")\n",
    "mnist_path = data_path / \"mnist.pkl.gz\"\n",
    "with gzip.open(mnist_path) as f:\n",
    "    ((x_train, y_train), (x_valid, y_valid), _) = pickle.load(f, encoding=\"bytes\")\n",
    "x_train, y_train, x_valid, y_valid = map(torch.tensor, (x_train, y_train, x_valid, y_valid))"
   ]
  },
  {
   "cell_type": "code",
   "execution_count": null,
   "id": "dfe6b888-9ff6-4607-95c1-043f282c170d",
   "metadata": {},
   "outputs": [],
   "source": [
    "import torch.nn as nn"
   ]
  },
  {
   "cell_type": "code",
   "execution_count": null,
   "id": "a1edc3d1-406e-4bdb-881a-765eb5f906ef",
   "metadata": {},
   "outputs": [],
   "source": [
    "class Model(nn.Module):\n",
    "    def __init__(self, n_in, n_h, n_out):\n",
    "        super().__init__()\n",
    "        self.layers = [nn.Linear(n_in, n_h), nn.ReLU(), nn.Linear(n_h, n_out)]\n",
    "\n",
    "    def __call__(self, x, target):\n",
    "        for l in self.layers:\n",
    "            x = l(x)\n",
    "        return x"
   ]
  },
  {
   "cell_type": "code",
   "execution_count": null,
   "id": "ef070010-62dc-4719-bb37-91412fb85d17",
   "metadata": {},
   "outputs": [
    {
     "data": {
      "text/plain": [
       "10"
      ]
     },
     "execution_count": null,
     "metadata": {},
     "output_type": "execute_result"
    }
   ],
   "source": [
    "nh = 50\n",
    "c = y_train.max().item() + 1\n",
    "c"
   ]
  },
  {
   "cell_type": "code",
   "execution_count": null,
   "id": "43cd6821-3ca1-4fb5-a565-166bc4af1ffc",
   "metadata": {},
   "outputs": [],
   "source": [
    "model = Model(x_train.shape[1], nh, c)"
   ]
  },
  {
   "cell_type": "code",
   "execution_count": null,
   "id": "6619595d-9f82-43ce-8fb8-b92e5b45164b",
   "metadata": {},
   "outputs": [],
   "source": [
    "preds = model(x_train, x_valid)"
   ]
  },
  {
   "cell_type": "code",
   "execution_count": null,
   "id": "44981d39-ffb8-4238-9919-04a73fc49c38",
   "metadata": {},
   "outputs": [
    {
     "data": {
      "text/plain": [
       "torch.Size([50000, 10])"
      ]
     },
     "execution_count": null,
     "metadata": {},
     "output_type": "execute_result"
    }
   ],
   "source": [
    "preds.shape"
   ]
  },
  {
   "cell_type": "markdown",
   "id": "c2c3218f-5a36-4f89-b397-ede27d9fd099",
   "metadata": {},
   "source": [
    "## Cross entropy loss"
   ]
  },
  {
   "cell_type": "code",
   "execution_count": null,
   "id": "02707903-c8fa-470b-8368-f3df6d9e59c4",
   "metadata": {},
   "outputs": [],
   "source": [
    "def log_softmax(x):\n",
    "    exps = torch.exp(x)\n",
    "    return torch.log(exps / exps.sum(keepdims=True, dim=1))"
   ]
  },
  {
   "cell_type": "code",
   "execution_count": null,
   "id": "aecbddb0-d9d3-4fe1-958e-5836d9bd59d3",
   "metadata": {},
   "outputs": [
    {
     "data": {
      "text/plain": [
       "(torch.Size([50000, 10]),\n",
       " tensor([[-2.40, -2.41, -2.43,  ..., -2.20, -2.25, -2.14],\n",
       "         [-2.30, -2.51, -2.23,  ..., -2.18, -2.30, -2.26],\n",
       "         [-2.34, -2.43, -2.34,  ..., -2.23, -2.20, -2.20],\n",
       "         ...,\n",
       "         [-2.37, -2.42, -2.38,  ..., -2.18, -2.27, -2.23],\n",
       "         [-2.31, -2.40, -2.42,  ..., -2.21, -2.22, -2.25],\n",
       "         [-2.41, -2.43, -2.38,  ..., -2.17, -2.30, -2.19]], grad_fn=<LogBackward0>))"
      ]
     },
     "execution_count": null,
     "metadata": {},
     "output_type": "execute_result"
    }
   ],
   "source": [
    "res = log_softmax(preds)\n",
    "res.shape, res"
   ]
  },
  {
   "cell_type": "code",
   "execution_count": null,
   "id": "9abd4597-18d2-4171-8749-60e9065bc934",
   "metadata": {},
   "outputs": [],
   "source": [
    "def log_softmax(x):\n",
    "    return x - torch.log(torch.exp(x).sum(keepdims=True, dim=1))"
   ]
  },
  {
   "cell_type": "code",
   "execution_count": null,
   "id": "00aaaa94-1f1b-4ad5-a341-8b141433f819",
   "metadata": {},
   "outputs": [
    {
     "data": {
      "text/plain": [
       "(torch.Size([50000, 10]),\n",
       " tensor([[-2.40, -2.41, -2.43,  ..., -2.20, -2.25, -2.14],\n",
       "         [-2.30, -2.51, -2.23,  ..., -2.18, -2.30, -2.26],\n",
       "         [-2.34, -2.43, -2.34,  ..., -2.23, -2.20, -2.20],\n",
       "         ...,\n",
       "         [-2.37, -2.42, -2.38,  ..., -2.18, -2.27, -2.23],\n",
       "         [-2.31, -2.40, -2.42,  ..., -2.21, -2.22, -2.25],\n",
       "         [-2.41, -2.43, -2.38,  ..., -2.17, -2.30, -2.19]], grad_fn=<SubBackward0>))"
      ]
     },
     "execution_count": null,
     "metadata": {},
     "output_type": "execute_result"
    }
   ],
   "source": [
    "res = log_softmax(preds)\n",
    "res.shape, res"
   ]
  },
  {
   "cell_type": "code",
   "execution_count": null,
   "id": "fae5f972-f3f5-438c-b8ce-9e7a5f90d0a6",
   "metadata": {},
   "outputs": [],
   "source": [
    "test_close(F.log_softmax(preds, dim=1), res)"
   ]
  },
  {
   "cell_type": "code",
   "execution_count": null,
   "id": "b7c44e96-710b-412d-b008-83b46c486c1a",
   "metadata": {},
   "outputs": [],
   "source": [
    "def logsumexp(x):\n",
    "    max = torch.max(x)\n",
    "    return (x - max).exp().sum(keepdims=True, dim=1).log() + max"
   ]
  },
  {
   "cell_type": "code",
   "execution_count": null,
   "id": "13e30576-63c8-43db-8130-9679cae79f8e",
   "metadata": {},
   "outputs": [],
   "source": [
    "def log_softmax(x):\n",
    "    return x - logsumexp(x)"
   ]
  },
  {
   "cell_type": "code",
   "execution_count": null,
   "id": "327e5516-03f1-48c8-a598-eef19a95f6de",
   "metadata": {},
   "outputs": [],
   "source": [
    "test_close(res, log_softmax(preds))"
   ]
  },
  {
   "cell_type": "code",
   "execution_count": null,
   "id": "6cf2c41e-e4b8-4706-ba21-ec2826f2e9ef",
   "metadata": {},
   "outputs": [],
   "source": [
    "ll = F.log_softmax(preds, dim=1)"
   ]
  },
  {
   "cell_type": "code",
   "execution_count": null,
   "id": "53c7075d-dc27-4bbe-a54f-30c6d00d71b9",
   "metadata": {},
   "outputs": [
    {
     "data": {
      "text/plain": [
       "(torch.Size([50000, 10]), torch.Size([50000]))"
      ]
     },
     "execution_count": null,
     "metadata": {},
     "output_type": "execute_result"
    }
   ],
   "source": [
    "ll.shape, y_train.shape"
   ]
  },
  {
   "cell_type": "code",
   "execution_count": null,
   "id": "09ac9b1d-8341-4777-80b4-161be0a17018",
   "metadata": {},
   "outputs": [
    {
     "data": {
      "text/plain": [
       "torch.Size([50000])"
      ]
     },
     "execution_count": null,
     "metadata": {},
     "output_type": "execute_result"
    }
   ],
   "source": [
    "ll[range(y_train.shape[0]), y_train].shape"
   ]
  },
  {
   "cell_type": "code",
   "execution_count": null,
   "id": "f59dd226-af7b-4176-90ae-c07bf412a2bc",
   "metadata": {},
   "outputs": [],
   "source": [
    "def nll(x, target):\n",
    "    ll = F.log_softmax(x, dim=1)\n",
    "    return -ll[range(target.shape[0]), target].mean()"
   ]
  },
  {
   "cell_type": "code",
   "execution_count": null,
   "id": "a0a54f7d-0b22-4cf1-b100-de13632b07c3",
   "metadata": {},
   "outputs": [],
   "source": [
    "res = nll(preds, y_train)"
   ]
  },
  {
   "cell_type": "code",
   "execution_count": null,
   "id": "0b864f83-2156-45a0-ae24-7a4cf7aff913",
   "metadata": {},
   "outputs": [],
   "source": [
    "test_close(res, F.cross_entropy(preds, y_train))"
   ]
  },
  {
   "cell_type": "markdown",
   "id": "de7827e3-6aa1-4e91-9d0f-e0e3e1eb9795",
   "metadata": {},
   "source": [
    "## Basic training loop"
   ]
  },
  {
   "cell_type": "code",
   "execution_count": null,
   "id": "c0c5db55-1123-4e65-960f-6c68f75c6e63",
   "metadata": {},
   "outputs": [],
   "source": [
    "xb = x_train[:512]\n",
    "yb = y_train[:512]\n",
    "preds_b = model(xb, yb)"
   ]
  },
  {
   "cell_type": "code",
   "execution_count": null,
   "id": "1336340c-e941-4d45-8f50-40b4f5f155a2",
   "metadata": {},
   "outputs": [],
   "source": [
    "loss = F.cross_entropy(preds_b, yb)"
   ]
  },
  {
   "cell_type": "code",
   "execution_count": null,
   "id": "d9684ef2-5adf-482c-aa2e-ba09dedc418a",
   "metadata": {},
   "outputs": [],
   "source": [
    "cls = preds_b.argmax(dim=1)"
   ]
  },
  {
   "cell_type": "code",
   "execution_count": null,
   "id": "d5e562ca-476a-46b8-a7c5-fb5e6a3fc226",
   "metadata": {},
   "outputs": [
    {
     "data": {
      "text/plain": [
       "torch.Size([512])"
      ]
     },
     "execution_count": null,
     "metadata": {},
     "output_type": "execute_result"
    }
   ],
   "source": [
    "cls.shape"
   ]
  },
  {
   "cell_type": "code",
   "execution_count": null,
   "id": "462cdd66-41c8-4351-a991-15365b0f39ed",
   "metadata": {},
   "outputs": [],
   "source": [
    "def accuracy(out, yb):\n",
    "    return (out==yb).float().mean()"
   ]
  },
  {
   "cell_type": "code",
   "execution_count": null,
   "id": "6711bf9e-f7ae-4d6e-a95b-e732be7db7cb",
   "metadata": {},
   "outputs": [
    {
     "data": {
      "text/plain": [
       "tensor(0.14)"
      ]
     },
     "execution_count": null,
     "metadata": {},
     "output_type": "execute_result"
    }
   ],
   "source": [
    "accuracy(cls, yb)"
   ]
  },
  {
   "cell_type": "code",
   "execution_count": null,
   "id": "16b08913-7e72-47c2-bbc0-430bf0305466",
   "metadata": {},
   "outputs": [],
   "source": [
    "#| export\n",
    "def accuracy(preds, yb):\n",
    "    return (preds.argmax(dim=1)==yb).float().mean().item()"
   ]
  },
  {
   "cell_type": "code",
   "execution_count": null,
   "id": "9202b575-1480-4acc-8739-7f0cef1cdd7c",
   "metadata": {},
   "outputs": [
    {
     "data": {
      "text/plain": [
       "0.13671875"
      ]
     },
     "execution_count": null,
     "metadata": {},
     "output_type": "execute_result"
    }
   ],
   "source": [
    "accuracy(preds_b, yb)"
   ]
  },
  {
   "cell_type": "code",
   "execution_count": null,
   "id": "93856ff2-2f10-4bed-b312-a4cc3d363e2d",
   "metadata": {},
   "outputs": [],
   "source": [
    "lr = 0.1\n",
    "epochs = 5\n",
    "bs = 512"
   ]
  },
  {
   "cell_type": "code",
   "execution_count": null,
   "id": "d6e29f5a-0c4d-4790-b926-3b5efdd28295",
   "metadata": {},
   "outputs": [
    {
     "data": {
      "text/plain": [
       "False"
      ]
     },
     "execution_count": null,
     "metadata": {},
     "output_type": "execute_result"
    }
   ],
   "source": [
    "hasattr(epochs, \"1\")"
   ]
  },
  {
   "cell_type": "code",
   "execution_count": null,
   "id": "0a19cc37-f181-4d9f-8f99-01790721c797",
   "metadata": {},
   "outputs": [],
   "source": [
    "#| export\n",
    "def report(loss, preds, yb):\n",
    "    print(f\"loss={loss.item():.4f}, accuracy={accuracy(preds, yb):.2f}\")"
   ]
  },
  {
   "cell_type": "code",
   "execution_count": null,
   "id": "25a77c0c-8d91-4af6-95e9-7e8fdda14f57",
   "metadata": {},
   "outputs": [
    {
     "name": "stdout",
     "output_type": "stream",
     "text": [
      "loss=2.2953, accuracy=0.14\n",
      "loss=0.7081, accuracy=0.84\n",
      "loss=0.5040, accuracy=0.87\n",
      "loss=0.4349, accuracy=0.90\n",
      "loss=0.3978, accuracy=0.91\n",
      "loss=0.3731, accuracy=0.92\n"
     ]
    }
   ],
   "source": [
    "xb = x_train[:bs]\n",
    "yb = y_train[:bs]\n",
    "with torch.no_grad():\n",
    "    predb = model(xb, yb)\n",
    "    loss = F.cross_entropy(predb, yb)\n",
    "report(loss, predb, yb)\n",
    "\n",
    "for i in range(epochs):\n",
    "    for b in range(0, len(x_train), bs):\n",
    "        xb = x_train[b:b+bs]\n",
    "        yb = y_train[b:b+bs]\n",
    "        predb = model(xb, yb)\n",
    "        loss = F.cross_entropy(predb, yb)\n",
    "        loss.backward()\n",
    "\n",
    "        with torch.no_grad():\n",
    "            for l in model.layers:\n",
    "                if hasattr(l, \"weight\"):\n",
    "                    l.weight -= l.weight.grad * lr\n",
    "                    l.bias -= l.bias.grad * lr\n",
    "                    l.weight.grad.zero_()\n",
    "                    l.bias.grad.zero_()\n",
    "    report(loss, predb, yb)"
   ]
  },
  {
   "cell_type": "markdown",
   "id": "8a0b61f3-0c91-4aac-ae13-f407bac2c75f",
   "metadata": {},
   "source": [
    "## Using parameters and optim"
   ]
  },
  {
   "cell_type": "markdown",
   "id": "cf60764c-fc81-470a-ac0b-89d8ecd38083",
   "metadata": {},
   "source": [
    "### Parameters"
   ]
  },
  {
   "cell_type": "code",
   "execution_count": null,
   "id": "c076b4dc-d56c-4528-a8cd-3ddbdb36e288",
   "metadata": {},
   "outputs": [
    {
     "data": {
      "text/plain": [
       "Module()"
      ]
     },
     "execution_count": null,
     "metadata": {},
     "output_type": "execute_result"
    }
   ],
   "source": [
    "dummy = nn.Module()\n",
    "dummy"
   ]
  },
  {
   "cell_type": "code",
   "execution_count": null,
   "id": "448398f9-6b0c-4a50-873a-f2c0bf7d2c32",
   "metadata": {},
   "outputs": [
    {
     "data": {
      "text/plain": [
       "Module()"
      ]
     },
     "execution_count": null,
     "metadata": {},
     "output_type": "execute_result"
    }
   ],
   "source": [
    "dummy.a = 1\n",
    "dummy.b = 2\n",
    "dummy"
   ]
  },
  {
   "cell_type": "code",
   "execution_count": null,
   "id": "0685ec3a-befc-4dc8-a41d-d0392fe4ccf6",
   "metadata": {},
   "outputs": [
    {
     "data": {
      "text/plain": [
       "Module(\n",
       "  (c): Module(\n",
       "    (a): Module()\n",
       "  )\n",
       "  (d): Module()\n",
       ")"
      ]
     },
     "execution_count": null,
     "metadata": {},
     "output_type": "execute_result"
    }
   ],
   "source": [
    "dummy.c = nn.Module()\n",
    "dummy.c.a = nn.Module()\n",
    "dummy.d = nn.Module()\n",
    "dummy"
   ]
  },
  {
   "cell_type": "code",
   "execution_count": null,
   "id": "464b56bf-050b-40f6-8340-660091953b04",
   "metadata": {},
   "outputs": [
    {
     "name": "stdout",
     "output_type": "stream",
     "text": [
      "c Module(\n",
      "  (a): Module()\n",
      ")\n",
      "d Module()\n"
     ]
    }
   ],
   "source": [
    "for name, nc in list(dummy.named_children()):\n",
    "    print(name, nc)"
   ]
  },
  {
   "cell_type": "code",
   "execution_count": null,
   "id": "423fd2ed-60bd-42a3-aebf-8d729b5f453f",
   "metadata": {},
   "outputs": [
    {
     "data": {
      "text/plain": [
       "[]"
      ]
     },
     "execution_count": null,
     "metadata": {},
     "output_type": "execute_result"
    }
   ],
   "source": [
    "list(dummy.parameters())"
   ]
  },
  {
   "cell_type": "code",
   "execution_count": null,
   "id": "327e30a7-ff46-4fd4-979a-e3b12023a3e8",
   "metadata": {},
   "outputs": [
    {
     "data": {
      "text/plain": [
       "[Parameter containing:\n",
       " tensor([[ 0.25, -0.53],\n",
       "         [ 0.45, -0.38],\n",
       "         [ 0.37, -0.13]], requires_grad=True),\n",
       " Parameter containing:\n",
       " tensor([ 0.30, -0.41, -0.18], requires_grad=True)]"
      ]
     },
     "execution_count": null,
     "metadata": {},
     "output_type": "execute_result"
    }
   ],
   "source": [
    "dummy.l = nn.Linear(2, 3)\n",
    "list(dummy.parameters())"
   ]
  },
  {
   "cell_type": "code",
   "execution_count": null,
   "id": "d05d4045-566c-43e6-93fe-a55fefda7839",
   "metadata": {},
   "outputs": [],
   "source": [
    "class MLP(nn.Module):\n",
    "    def __init__(self, nin, nh, nout):\n",
    "        super().__init__()\n",
    "        self.l1 = nn.Linear(nin, nh)\n",
    "        self.relu = nn.ReLU()\n",
    "        self.l2 = nn.Linear(nh, nout)\n",
    "\n",
    "    def forward(self, x):\n",
    "        return self.l2(self.relu(self.l1(x)))"
   ]
  },
  {
   "cell_type": "code",
   "execution_count": null,
   "id": "a19c2e58-b3fe-471a-830c-b3faa80b7665",
   "metadata": {},
   "outputs": [
    {
     "data": {
      "text/plain": [
       "MLP(\n",
       "  (l1): Linear(in_features=784, out_features=50, bias=True)\n",
       "  (relu): ReLU()\n",
       "  (l2): Linear(in_features=50, out_features=10, bias=True)\n",
       ")"
      ]
     },
     "execution_count": null,
     "metadata": {},
     "output_type": "execute_result"
    }
   ],
   "source": [
    "model = MLP(x_train.shape[1], nh, c)\n",
    "model"
   ]
  },
  {
   "cell_type": "code",
   "execution_count": null,
   "id": "082aaa80-51c0-498b-9d5d-a341d1543d87",
   "metadata": {},
   "outputs": [
    {
     "name": "stdout",
     "output_type": "stream",
     "text": [
      "l1: Linear(in_features=784, out_features=50, bias=True)\n",
      "relu: ReLU()\n",
      "l2: Linear(in_features=50, out_features=10, bias=True)\n"
     ]
    }
   ],
   "source": [
    "for name, nc in model.named_children():\n",
    "    print(f\"{name}: {nc}\")"
   ]
  },
  {
   "cell_type": "code",
   "execution_count": null,
   "id": "17d3d36c-3bf8-48c7-b77d-92ecd5e2a1bc",
   "metadata": {},
   "outputs": [
    {
     "name": "stdout",
     "output_type": "stream",
     "text": [
      "torch.Size([50, 784])\n",
      "torch.Size([50])\n",
      "torch.Size([10, 50])\n",
      "torch.Size([10])\n"
     ]
    }
   ],
   "source": [
    "for p in model.parameters():\n",
    "    print(p.shape)"
   ]
  },
  {
   "cell_type": "code",
   "execution_count": null,
   "id": "e705315e-aeba-46a0-b66a-b8b4d0e28c83",
   "metadata": {},
   "outputs": [],
   "source": [
    "def fit():\n",
    "    for e in range(epochs):\n",
    "        for b in range(0, len(x_train), bs):\n",
    "            s = slice(b, b + bs)\n",
    "            xb = x_train[s]\n",
    "            yb = y_train[s]\n",
    "            predb = model(xb)\n",
    "            loss = F.cross_entropy(predb, yb)\n",
    "            loss.backward()\n",
    "\n",
    "            with torch.no_grad():\n",
    "                for p in model.parameters():\n",
    "                    p -= p.grad * lr\n",
    "                model.zero_grad()\n",
    "        report(loss, predb, yb)"
   ]
  },
  {
   "cell_type": "code",
   "execution_count": null,
   "id": "d2beb6fc-4beb-4e9c-a7b4-4759b72b0492",
   "metadata": {},
   "outputs": [
    {
     "name": "stdout",
     "output_type": "stream",
     "text": [
      "loss=0.7223, accuracy=0.84\n",
      "loss=0.5041, accuracy=0.89\n",
      "loss=0.4316, accuracy=0.90\n",
      "loss=0.3919, accuracy=0.91\n",
      "loss=0.3660, accuracy=0.92\n"
     ]
    }
   ],
   "source": [
    "fit()"
   ]
  },
  {
   "cell_type": "code",
   "execution_count": null,
   "id": "813df22b-cd33-4448-b002-ed2ba3b1506b",
   "metadata": {},
   "outputs": [],
   "source": [
    "class MyModule():\n",
    "    def __init__(self):\n",
    "        self._modules = {}\n",
    "        \n",
    "    def __setattr__(self, k, v):\n",
    "        if not k.startswith(\"_\") and (isinstance(v, nn.Module) or isinstance(v, MyModule)):\n",
    "            self._modules[k] = v\n",
    "        super().__setattr__(k, v)\n",
    "\n",
    "    def __repr__(self):\n",
    "        return f\"{self._modules}\"\n",
    "\n",
    "    def parameters(self):\n",
    "        for module in self._modules:\n",
    "            yield from self._modules[module].parameters()"
   ]
  },
  {
   "cell_type": "code",
   "execution_count": null,
   "id": "b07880a3-aa15-459d-9003-8b04904664d6",
   "metadata": {},
   "outputs": [],
   "source": [
    "dummy = MyModule()"
   ]
  },
  {
   "cell_type": "code",
   "execution_count": null,
   "id": "eb929390-d923-416f-80ba-2f81ccab6319",
   "metadata": {},
   "outputs": [
    {
     "data": {
      "text/plain": [
       "{'c': Linear(\n",
       "  in_features=3, out_features=2, bias=True\n",
       "  (a): Linear(in_features=1, out_features=2, bias=True)\n",
       "), 'd': Linear(in_features=1, out_features=1, bias=True)}"
      ]
     },
     "execution_count": null,
     "metadata": {},
     "output_type": "execute_result"
    }
   ],
   "source": [
    "dummy.a = 1\n",
    "dummy._b = nn.Linear(2, 2)\n",
    "dummy.c = nn.Linear(3, 2)\n",
    "dummy.c.a = nn.Linear(1, 2)\n",
    "dummy.d = nn.Linear(1, 1)\n",
    "dummy"
   ]
  },
  {
   "cell_type": "code",
   "execution_count": null,
   "id": "df3e7c7e-1069-4645-97da-a91b70040e59",
   "metadata": {},
   "outputs": [
    {
     "name": "stdout",
     "output_type": "stream",
     "text": [
      "torch.Size([2, 3])\n",
      "torch.Size([2])\n",
      "torch.Size([2, 1])\n",
      "torch.Size([2])\n",
      "torch.Size([1, 1])\n",
      "torch.Size([1])\n"
     ]
    }
   ],
   "source": [
    "for p in dummy.parameters():\n",
    "    print(p.shape)"
   ]
  },
  {
   "cell_type": "markdown",
   "id": "80387910-a73d-4e11-a9d4-3903700265a2",
   "metadata": {},
   "source": [
    "### Registering modules"
   ]
  },
  {
   "cell_type": "code",
   "execution_count": null,
   "id": "da419cbb-42e1-46f2-b63b-da38c771b804",
   "metadata": {},
   "outputs": [
    {
     "data": {
      "text/plain": [
       "\u001b[0;31mSignature:\u001b[0m\n",
       "\u001b[0mnn\u001b[0m\u001b[0;34m.\u001b[0m\u001b[0mModule\u001b[0m\u001b[0;34m.\u001b[0m\u001b[0madd_module\u001b[0m\u001b[0;34m(\u001b[0m\u001b[0;34m\u001b[0m\n",
       "\u001b[0;34m\u001b[0m    \u001b[0mself\u001b[0m\u001b[0;34m,\u001b[0m\u001b[0;34m\u001b[0m\n",
       "\u001b[0;34m\u001b[0m    \u001b[0mname\u001b[0m\u001b[0;34m:\u001b[0m \u001b[0mstr\u001b[0m\u001b[0;34m,\u001b[0m\u001b[0;34m\u001b[0m\n",
       "\u001b[0;34m\u001b[0m    \u001b[0mmodule\u001b[0m\u001b[0;34m:\u001b[0m \u001b[0mOptional\u001b[0m\u001b[0;34m[\u001b[0m\u001b[0mForwardRef\u001b[0m\u001b[0;34m(\u001b[0m\u001b[0;34m'Module'\u001b[0m\u001b[0;34m)\u001b[0m\u001b[0;34m]\u001b[0m\u001b[0;34m,\u001b[0m\u001b[0;34m\u001b[0m\n",
       "\u001b[0;34m\u001b[0m\u001b[0;34m)\u001b[0m \u001b[0;34m->\u001b[0m \u001b[0;32mNone\u001b[0m\u001b[0;34m\u001b[0m\u001b[0;34m\u001b[0m\u001b[0m\n",
       "\u001b[0;31mDocstring:\u001b[0m\n",
       "Adds a child module to the current module.\n",
       "\n",
       "The module can be accessed as an attribute using the given name.\n",
       "\n",
       "Args:\n",
       "    name (str): name of the child module. The child module can be\n",
       "        accessed from this module using the given name\n",
       "    module (Module): child module to be added to the module.\n",
       "\u001b[0;31mFile:\u001b[0m      ~/miniforge3/envs/fastai/lib/python3.11/site-packages/torch/nn/modules/module.py\n",
       "\u001b[0;31mType:\u001b[0m      function"
      ]
     },
     "metadata": {},
     "output_type": "display_data"
    }
   ],
   "source": [
    "nn.Module.add_module?"
   ]
  },
  {
   "cell_type": "code",
   "execution_count": null,
   "id": "d19eb7fb-e036-48e9-8206-751cdcba5bd5",
   "metadata": {},
   "outputs": [],
   "source": [
    "class Model(nn.Module):\n",
    "    def __init__(self, layers):\n",
    "        super().__init__()\n",
    "        self.layers = layers\n",
    "        for i, l in enumerate(layers):\n",
    "            self.add_module(f\"layer_{i}\", l)\n",
    "\n",
    "    def forward(self, x):\n",
    "        for l in self.layers:\n",
    "            x = l(x)\n",
    "        return x"
   ]
  },
  {
   "cell_type": "code",
   "execution_count": null,
   "id": "cce6be28-3975-49ed-8d04-d826c0bf3cd2",
   "metadata": {},
   "outputs": [
    {
     "data": {
      "text/plain": [
       "Model(\n",
       "  (layer_0): Linear(in_features=784, out_features=50, bias=True)\n",
       "  (layer_1): ReLU()\n",
       "  (layer_2): Linear(in_features=50, out_features=10, bias=True)\n",
       ")"
      ]
     },
     "execution_count": null,
     "metadata": {},
     "output_type": "execute_result"
    }
   ],
   "source": [
    "layers = [nn.Linear(x_train.shape[1], nh), nn.ReLU(), nn.Linear(nh, c)]\n",
    "model = Model(layers)\n",
    "model"
   ]
  },
  {
   "cell_type": "code",
   "execution_count": null,
   "id": "d9003ad9-be50-4965-a1e4-abe443c8a604",
   "metadata": {},
   "outputs": [
    {
     "data": {
      "text/plain": [
       "(torch.Size([336, 10]), torch.Size([336, 784]))"
      ]
     },
     "execution_count": null,
     "metadata": {},
     "output_type": "execute_result"
    }
   ],
   "source": [
    "model(xb).shape, xb.shape"
   ]
  },
  {
   "cell_type": "markdown",
   "id": "c81c7e55-e0a5-4c80-aa6f-b8b1bcead5e0",
   "metadata": {},
   "source": [
    "### nn.ModuleList"
   ]
  },
  {
   "cell_type": "code",
   "execution_count": null,
   "id": "f0b97b1d-c809-4036-b087-f497b657db35",
   "metadata": {},
   "outputs": [],
   "source": [
    "class SequentialModel(nn.Module):\n",
    "    def __init__(self, layers):\n",
    "        super().__init__()\n",
    "        self.layers = nn.ModuleList(layers)\n",
    "\n",
    "    def forward(self, x):\n",
    "        for l in self.layers:\n",
    "            x = l(x)\n",
    "        return x"
   ]
  },
  {
   "cell_type": "code",
   "execution_count": null,
   "id": "5c8c0499-f413-4a63-b62a-f6299b127840",
   "metadata": {},
   "outputs": [
    {
     "data": {
      "text/plain": [
       "SequentialModel(\n",
       "  (layers): ModuleList(\n",
       "    (0): Linear(in_features=784, out_features=50, bias=True)\n",
       "    (1): ReLU()\n",
       "    (2): Linear(in_features=50, out_features=10, bias=True)\n",
       "  )\n",
       ")"
      ]
     },
     "execution_count": null,
     "metadata": {},
     "output_type": "execute_result"
    }
   ],
   "source": [
    "layers = [nn.Linear(x_train.shape[1], nh), nn.ReLU(), nn.Linear(nh, c)]\n",
    "model = SequentialModel(layers)\n",
    "model"
   ]
  },
  {
   "cell_type": "code",
   "execution_count": null,
   "id": "76653e7f-5a20-4caa-9858-bf486c26585d",
   "metadata": {},
   "outputs": [
    {
     "name": "stdout",
     "output_type": "stream",
     "text": [
      "loss=0.6743, accuracy=0.85\n",
      "loss=0.4682, accuracy=0.90\n",
      "loss=0.4068, accuracy=0.91\n",
      "loss=0.3734, accuracy=0.92\n",
      "loss=0.3507, accuracy=0.92\n"
     ]
    }
   ],
   "source": [
    "fit()"
   ]
  },
  {
   "cell_type": "markdown",
   "id": "504a62f1-4353-4ad8-bc60-bffe069fc249",
   "metadata": {},
   "source": [
    "### nn.Sequential"
   ]
  },
  {
   "cell_type": "code",
   "execution_count": null,
   "id": "e139912a-efe0-4017-8a29-ba80242a2d21",
   "metadata": {},
   "outputs": [
    {
     "name": "stdout",
     "output_type": "stream",
     "text": [
      "loss=0.6929, accuracy=0.84\n",
      "loss=0.4940, accuracy=0.89\n",
      "loss=0.4289, accuracy=0.90\n",
      "loss=0.3913, accuracy=0.91\n",
      "loss=0.3651, accuracy=0.92\n"
     ]
    }
   ],
   "source": [
    "layers = [nn.Linear(x_train.shape[1], nh), nn.ReLU(), nn.Linear(nh, c)]\n",
    "model = nn.Sequential(*layers)\n",
    "fit()"
   ]
  },
  {
   "cell_type": "markdown",
   "id": "0b6add59-74cf-4d52-a11c-6523fe92af2c",
   "metadata": {},
   "source": [
    "### optim"
   ]
  },
  {
   "cell_type": "code",
   "execution_count": null,
   "id": "4294866c-212f-47ed-bfa5-6a3928738a98",
   "metadata": {},
   "outputs": [],
   "source": [
    "class Optimizer:\n",
    "    def __init__(self, parameters, lr):\n",
    "        self.ps = list(parameters)\n",
    "        self.lr = lr\n",
    "\n",
    "    def step(self):\n",
    "        with torch.no_grad():\n",
    "            for p in self.ps:\n",
    "                p -= p.grad * self.lr\n",
    "\n",
    "    def zero_grad(self):\n",
    "        for p in self.ps:\n",
    "            p.grad.data.zero_()\n",
    "    "
   ]
  },
  {
   "cell_type": "code",
   "execution_count": null,
   "id": "0bdc9212-5b90-4b29-be5a-ee85be234a17",
   "metadata": {},
   "outputs": [],
   "source": [
    "layers = [nn.Linear(x_train.shape[1], nh), nn.ReLU(), nn.Linear(nh, c)]\n",
    "model = nn.Sequential(*layers)\n",
    "opt = Optimizer(model.parameters(), lr)"
   ]
  },
  {
   "cell_type": "code",
   "execution_count": null,
   "id": "e466a17f-1cd0-40e4-ae1f-ba86998ed2c1",
   "metadata": {},
   "outputs": [],
   "source": [
    "n = len(x_train)"
   ]
  },
  {
   "cell_type": "code",
   "execution_count": null,
   "id": "3a7172d2-f94b-4e32-9e9d-e7298ab60018",
   "metadata": {},
   "outputs": [
    {
     "name": "stdout",
     "output_type": "stream",
     "text": [
      "loss=0.6846, accuracy=0.86\n",
      "loss=0.4903, accuracy=0.88\n",
      "loss=0.4245, accuracy=0.90\n",
      "loss=0.3855, accuracy=0.92\n",
      "loss=0.3558, accuracy=0.93\n"
     ]
    }
   ],
   "source": [
    "for e in range(epochs):\n",
    "    for b in range(0, n, bs):\n",
    "        s = slice(b, b + bs)\n",
    "        xb, yb = x_train[s], y_train[s]\n",
    "        predb = model(xb)\n",
    "        loss = F.cross_entropy(predb, yb)\n",
    "        loss.backward()\n",
    "        opt.step()\n",
    "        opt.zero_grad()\n",
    "    report(loss, predb, yb)"
   ]
  },
  {
   "cell_type": "code",
   "execution_count": null,
   "id": "466b0535-3fa3-49b3-bb39-a95039119710",
   "metadata": {},
   "outputs": [],
   "source": [
    "from torch.optim import SGD"
   ]
  },
  {
   "cell_type": "code",
   "execution_count": null,
   "id": "351e4c98-ed6e-48c4-b361-ca3fe2c7f4c0",
   "metadata": {},
   "outputs": [],
   "source": [
    "def get_model():\n",
    "    model = nn.Sequential(nn.Linear(x_train.shape[1], nh), nn.ReLU(), nn.Linear(nh, c))\n",
    "    opt = SGD(model.parameters(), lr=lr)\n",
    "    return model, opt"
   ]
  },
  {
   "cell_type": "code",
   "execution_count": null,
   "id": "ddffc4bc-8234-433a-b121-143f478da81d",
   "metadata": {},
   "outputs": [],
   "source": [
    "model, opt = get_model()"
   ]
  },
  {
   "cell_type": "code",
   "execution_count": null,
   "id": "9eb517e7-9f40-450e-aa62-5601009649d4",
   "metadata": {},
   "outputs": [
    {
     "name": "stdout",
     "output_type": "stream",
     "text": [
      "tensor(2.29, grad_fn=<NllLossBackward0>)\n",
      "loss=0.6792, accuracy=0.84\n",
      "loss=0.4877, accuracy=0.88\n",
      "loss=0.4237, accuracy=0.89\n",
      "loss=0.3879, accuracy=0.91\n",
      "loss=0.3631, accuracy=0.91\n"
     ]
    }
   ],
   "source": [
    "print(F.cross_entropy(model(xb), yb))\n",
    "for e in range(epochs):\n",
    "    for b in range(0, n, bs):\n",
    "        s = slice(b, b + bs)\n",
    "        xb, yb = x_train[s], y_train[s]\n",
    "        predb = model(xb)\n",
    "        loss = F.cross_entropy(predb, yb)\n",
    "        loss.backward()\n",
    "        opt.step()\n",
    "        opt.zero_grad()\n",
    "    report(loss, predb, yb)"
   ]
  },
  {
   "cell_type": "markdown",
   "id": "cf37962b-27e7-4d66-bb0c-a9a115bbdeb1",
   "metadata": {},
   "source": [
    "## Dataset and DataLoader"
   ]
  },
  {
   "cell_type": "markdown",
   "id": "68277c1b-1ae4-4f75-9966-680f0a65bd28",
   "metadata": {},
   "source": [
    "### Dataset"
   ]
  },
  {
   "cell_type": "code",
   "execution_count": null,
   "id": "2ad9adaa-8036-4049-8c40-443073a5b7aa",
   "metadata": {},
   "outputs": [],
   "source": [
    "#| export\n",
    "\n",
    "class Dataset:\n",
    "    def __init__(self, x, y):\n",
    "        self.x = x\n",
    "        self.y = y\n",
    "\n",
    "    def __len__(self):\n",
    "        return len(self.x)\n",
    "\n",
    "    def __getitem__(self, i):\n",
    "        return self.x[i], self.y[i]"
   ]
  },
  {
   "cell_type": "code",
   "execution_count": null,
   "id": "ba157209-b534-4ba0-8e8e-00470be5efd7",
   "metadata": {},
   "outputs": [],
   "source": [
    "ds_train = Dataset(x_train, y_train)\n",
    "ds_valid = Dataset(x_valid, y_valid)"
   ]
  },
  {
   "cell_type": "code",
   "execution_count": null,
   "id": "dfc817b8-b6d5-4e0b-9768-5d74483cb694",
   "metadata": {},
   "outputs": [
    {
     "data": {
      "text/plain": [
       "(torch.Size([5, 784]), torch.Size([5]))"
      ]
     },
     "execution_count": null,
     "metadata": {},
     "output_type": "execute_result"
    }
   ],
   "source": [
    "xb, yb = ds_train[:5]\n",
    "xb.shape, yb.shape"
   ]
  },
  {
   "cell_type": "code",
   "execution_count": null,
   "id": "2915687a-0e64-4b37-8faf-a512623ea3d7",
   "metadata": {},
   "outputs": [
    {
     "name": "stdout",
     "output_type": "stream",
     "text": [
      "tensor(2.31, grad_fn=<NllLossBackward0>)\n",
      "loss=0.6922, accuracy=0.85\n",
      "loss=0.4931, accuracy=0.89\n",
      "loss=0.4264, accuracy=0.91\n",
      "loss=0.3888, accuracy=0.91\n",
      "loss=0.3616, accuracy=0.93\n"
     ]
    }
   ],
   "source": [
    "model, opt = get_model()\n",
    "print(F.cross_entropy(model(xb), yb))\n",
    "for e in range(epochs):\n",
    "    for b in range(0, n, bs):\n",
    "        xb, yb = ds_train[b:b+bs]\n",
    "        predb = model(xb)\n",
    "        loss = F.cross_entropy(predb, yb)\n",
    "        loss.backward()\n",
    "        opt.step()\n",
    "        opt.zero_grad()\n",
    "    report(loss, predb, yb)"
   ]
  },
  {
   "cell_type": "markdown",
   "id": "7e88f692-6e4e-47ff-b176-407aab3493f5",
   "metadata": {},
   "source": [
    "### DataLoader"
   ]
  },
  {
   "cell_type": "code",
   "execution_count": null,
   "id": "240dc8c4-2961-4041-9255-ebbd61106b94",
   "metadata": {},
   "outputs": [],
   "source": [
    "class DataLoader:\n",
    "    def __init__(self, ds, bs):\n",
    "        self.ds = ds\n",
    "        self.bs = bs\n",
    "\n",
    "    def __iter__(self):\n",
    "        for b in range(0, len(self.ds), bs):\n",
    "            yield self.ds[b:b+bs]"
   ]
  },
  {
   "cell_type": "code",
   "execution_count": null,
   "id": "55e32320-58af-4742-8ed4-e653f12f78aa",
   "metadata": {},
   "outputs": [],
   "source": [
    "dl_train = DataLoader(ds_train, bs)\n",
    "dl_valid = DataLoader(ds_valid, bs)"
   ]
  },
  {
   "cell_type": "code",
   "execution_count": null,
   "id": "992b5311-602b-44ae-a070-efbbb4bfa673",
   "metadata": {},
   "outputs": [
    {
     "data": {
      "text/plain": [
       "(torch.Size([512, 784]), torch.Size([512]))"
      ]
     },
     "execution_count": null,
     "metadata": {},
     "output_type": "execute_result"
    }
   ],
   "source": [
    "xb, yb = next(iter(dl_train))\n",
    "xb.shape, yb.shape"
   ]
  },
  {
   "cell_type": "code",
   "execution_count": null,
   "id": "7e2a61ac-ab33-47c1-8281-f37ba7132813",
   "metadata": {},
   "outputs": [],
   "source": [
    "def fit():\n",
    "    for e in range(epochs):\n",
    "        for xb, yb in dl_train:\n",
    "            predb = model(xb)\n",
    "            loss = F.cross_entropy(predb, yb)\n",
    "            loss.backward()\n",
    "            opt.step()\n",
    "            opt.zero_grad()\n",
    "        report(loss, predb, yb)"
   ]
  },
  {
   "cell_type": "code",
   "execution_count": null,
   "id": "7cf9938e-0139-44cb-9d73-62c24bc18fff",
   "metadata": {},
   "outputs": [
    {
     "name": "stdout",
     "output_type": "stream",
     "text": [
      "loss=0.6949, accuracy=0.84\n",
      "loss=0.4973, accuracy=0.88\n",
      "loss=0.4316, accuracy=0.90\n",
      "loss=0.3955, accuracy=0.91\n",
      "loss=0.3709, accuracy=0.91\n"
     ]
    }
   ],
   "source": [
    "model, opt = get_model()\n",
    "fit()"
   ]
  },
  {
   "cell_type": "markdown",
   "id": "c1cb8917-4fd6-4b9c-9105-f2a676c571af",
   "metadata": {},
   "source": [
    "### Random sampling"
   ]
  },
  {
   "cell_type": "code",
   "execution_count": null,
   "id": "8ee28d4b-da51-4a80-a5e1-c0677c58f5bf",
   "metadata": {},
   "outputs": [],
   "source": [
    "import random"
   ]
  },
  {
   "cell_type": "code",
   "execution_count": null,
   "id": "478b7645-87e5-4658-94d1-8b42082cef0f",
   "metadata": {},
   "outputs": [],
   "source": [
    "class Sampler:\n",
    "    def __init__(self, ds, shuffle=False):\n",
    "        self.n = len(ds)\n",
    "        self.shuffle = shuffle\n",
    "\n",
    "    def __iter__(self):\n",
    "        order = list(range(self.n))\n",
    "        if self.shuffle:\n",
    "            random.shuffle(order)\n",
    "        yield from order"
   ]
  },
  {
   "cell_type": "code",
   "execution_count": null,
   "id": "c0fc29d3-0246-455f-a1a3-73fa8d1b1d59",
   "metadata": {},
   "outputs": [],
   "source": [
    "sampler = Sampler(ds_train, True)"
   ]
  },
  {
   "cell_type": "code",
   "execution_count": null,
   "id": "e41b7cba-74a9-49e2-96f8-0d6ac3b6ae84",
   "metadata": {},
   "outputs": [
    {
     "name": "stdout",
     "output_type": "stream",
     "text": [
      "49050\n",
      "32152\n",
      "15156\n",
      "15577\n",
      "5772\n"
     ]
    }
   ],
   "source": [
    "it = iter(sampler)\n",
    "for i in range(5):\n",
    "    print(next(it))"
   ]
  },
  {
   "cell_type": "code",
   "execution_count": null,
   "id": "e4202e35-f36d-4699-b292-ad18323e11d7",
   "metadata": {},
   "outputs": [],
   "source": [
    "import fastcore.all as fc"
   ]
  },
  {
   "cell_type": "code",
   "execution_count": null,
   "id": "c92c9d07-3fa4-49d4-9d73-4c0b6d73fd93",
   "metadata": {},
   "outputs": [
    {
     "data": {
      "text/plain": [
       "\u001b[0;31mSignature:\u001b[0m \u001b[0mfc\u001b[0m\u001b[0;34m.\u001b[0m\u001b[0mchunked\u001b[0m\u001b[0;34m(\u001b[0m\u001b[0mit\u001b[0m\u001b[0;34m,\u001b[0m \u001b[0mchunk_sz\u001b[0m\u001b[0;34m=\u001b[0m\u001b[0;32mNone\u001b[0m\u001b[0;34m,\u001b[0m \u001b[0mdrop_last\u001b[0m\u001b[0;34m=\u001b[0m\u001b[0;32mFalse\u001b[0m\u001b[0;34m,\u001b[0m \u001b[0mn_chunks\u001b[0m\u001b[0;34m=\u001b[0m\u001b[0;32mNone\u001b[0m\u001b[0;34m)\u001b[0m\u001b[0;34m\u001b[0m\u001b[0;34m\u001b[0m\u001b[0m\n",
       "\u001b[0;31mDocstring:\u001b[0m Return batches from iterator `it` of size `chunk_sz` (or return `n_chunks` total)\n",
       "\u001b[0;31mFile:\u001b[0m      ~/miniforge3/envs/fastai/lib/python3.11/site-packages/fastcore/basics.py\n",
       "\u001b[0;31mType:\u001b[0m      function"
      ]
     },
     "metadata": {},
     "output_type": "display_data"
    }
   ],
   "source": [
    "fc.chunked?"
   ]
  },
  {
   "cell_type": "code",
   "execution_count": null,
   "id": "5b7c54f5-8f4b-4a4a-a42a-d17fc634137a",
   "metadata": {},
   "outputs": [],
   "source": [
    "class BatchSampler:\n",
    "    def __init__(self, sampler, bs, drop_last=False): fc.store_attr()\n",
    "\n",
    "    def __iter__(self):\n",
    "        yield from fc.chunked(self.sampler, self.bs, self.drop_last)    "
   ]
  },
  {
   "cell_type": "code",
   "execution_count": null,
   "id": "f1edf4d5-9370-441e-a751-ccca18c433b9",
   "metadata": {},
   "outputs": [
    {
     "name": "stdout",
     "output_type": "stream",
     "text": [
      "[29458, 972, 15537, 39180, 9944]\n",
      "[18789, 5883, 36352, 29319, 25918]\n",
      "[41655, 17080, 43608, 31881, 48094]\n",
      "[26847, 36816, 9073, 33588, 47073]\n",
      "[9705, 33646, 38182, 22450, 14457]\n"
     ]
    }
   ],
   "source": [
    "sampler = BatchSampler(Sampler(ds_train, True), 5)\n",
    "it = iter(sampler)\n",
    "for i in range(5):\n",
    "    print(next(it))"
   ]
  },
  {
   "cell_type": "code",
   "execution_count": null,
   "id": "8ab99e3c-5a99-4dc3-b85f-35656aa7112e",
   "metadata": {},
   "outputs": [],
   "source": [
    "batch = ds_train[next(it)]"
   ]
  },
  {
   "cell_type": "code",
   "execution_count": null,
   "id": "25220d8e-74ca-48db-b38d-d5ff76bfeba6",
   "metadata": {},
   "outputs": [
    {
     "data": {
      "text/plain": [
       "(torch.Size([5, 784]), torch.Size([5]))"
      ]
     },
     "execution_count": null,
     "metadata": {},
     "output_type": "execute_result"
    }
   ],
   "source": [
    "batch[0].shape, batch[1].shape"
   ]
  },
  {
   "cell_type": "code",
   "execution_count": null,
   "id": "8e7c1524-ca55-4919-8063-50c9b3c11cf2",
   "metadata": {},
   "outputs": [],
   "source": [
    "def collate(b):\n",
    "    x, y = zip(*b)\n",
    "    return torch.stack(x), torch.stack(y)"
   ]
  },
  {
   "cell_type": "code",
   "execution_count": null,
   "id": "9618c4dc-14f3-4309-a7c1-56bcbf861548",
   "metadata": {},
   "outputs": [],
   "source": [
    "class DataLoader:\n",
    "    def __init__(self, ds, batches, collate_fn=collate): fc.store_attr()\n",
    "\n",
    "    def __iter__(self):\n",
    "        yield from [self.collate_fn(self.ds[i] for i in b) for b in self.batches]"
   ]
  },
  {
   "cell_type": "code",
   "execution_count": null,
   "id": "b47b9fec-cd10-4005-a94e-4b5fa98d0ae6",
   "metadata": {},
   "outputs": [],
   "source": [
    "s_train = BatchSampler(Sampler(ds_train, True), bs)\n",
    "s_valid = BatchSampler(Sampler(ds_valid, False), bs * 2)"
   ]
  },
  {
   "cell_type": "code",
   "execution_count": null,
   "id": "b5e87d1d-a269-4426-98b6-4bf8d7a0d317",
   "metadata": {},
   "outputs": [],
   "source": [
    "dl_train = DataLoader(ds_train, s_train)\n",
    "dl_valid = DataLoader(ds_valid, s_valid)"
   ]
  },
  {
   "cell_type": "code",
   "execution_count": null,
   "id": "4fc5bc1a-6732-4391-827e-9c192994a57e",
   "metadata": {},
   "outputs": [
    {
     "data": {
      "text/plain": [
       "(torch.Size([512, 784]), torch.Size([512]))"
      ]
     },
     "execution_count": null,
     "metadata": {},
     "output_type": "execute_result"
    }
   ],
   "source": [
    "xb, yb = next(iter(dl_train))\n",
    "xb.shape, yb.shape"
   ]
  },
  {
   "cell_type": "code",
   "execution_count": null,
   "id": "23db6c03-4960-468d-9e0c-c766549cbc93",
   "metadata": {},
   "outputs": [
    {
     "name": "stdout",
     "output_type": "stream",
     "text": [
      "loss=0.6354, accuracy=0.81\n",
      "loss=0.4308, accuracy=0.88\n",
      "loss=0.3326, accuracy=0.89\n",
      "loss=0.3861, accuracy=0.88\n",
      "loss=0.3546, accuracy=0.91\n"
     ]
    }
   ],
   "source": [
    "model, opt = get_model()\n",
    "fit()"
   ]
  },
  {
   "cell_type": "markdown",
   "id": "82a083dc-1f5b-47cd-ad33-79adaa5b0f3f",
   "metadata": {},
   "source": [
    "### Multiprocessing DataLoader"
   ]
  },
  {
   "cell_type": "code",
   "execution_count": null,
   "id": "ca013717-d90f-4715-b130-181c4881fd37",
   "metadata": {},
   "outputs": [],
   "source": [
    "import torch.multiprocessing as mp"
   ]
  },
  {
   "cell_type": "code",
   "execution_count": null,
   "id": "7194f702-7c5a-4542-98ff-6defa6d99095",
   "metadata": {},
   "outputs": [
    {
     "data": {
      "text/plain": [
       "(tensor([[0., 0., 0.,  ..., 0., 0., 0.],\n",
       "         [0., 0., 0.,  ..., 0., 0., 0.],\n",
       "         [0., 0., 0.,  ..., 0., 0., 0.],\n",
       "         [0., 0., 0.,  ..., 0., 0., 0.]]),\n",
       " tensor([5, 0, 4, 1]))"
      ]
     },
     "execution_count": null,
     "metadata": {},
     "output_type": "execute_result"
    }
   ],
   "source": [
    "ds_train[[0,1,2,3]]"
   ]
  },
  {
   "cell_type": "code",
   "execution_count": null,
   "id": "4484ef8d-599f-4594-9852-64adad8940cf",
   "metadata": {},
   "outputs": [
    {
     "name": "stdout",
     "output_type": "stream",
     "text": [
      "(tensor([[0., 0., 0.,  ..., 0., 0., 0.],\n",
      "        [0., 0., 0.,  ..., 0., 0., 0.]]), tensor([5, 0]))\n",
      "(tensor([[0., 0., 0.,  ..., 0., 0., 0.],\n",
      "        [0., 0., 0.,  ..., 0., 0., 0.]]), tensor([4, 1]))\n"
     ]
    }
   ],
   "source": [
    "for sb in map(ds_train.__getitem__, [[0,1],[2,3]]): print(sb)"
   ]
  },
  {
   "cell_type": "code",
   "execution_count": null,
   "id": "740e6236-a971-4135-a013-7a13cec35eb2",
   "metadata": {},
   "outputs": [
    {
     "data": {
      "text/plain": [
       "(torch.Size([512, 784]), torch.Size([512]))"
      ]
     },
     "execution_count": null,
     "metadata": {},
     "output_type": "execute_result"
    }
   ],
   "source": [
    "x, y = next(map(ds_train.__getitem__, iter(s_train)))\n",
    "x.shape, y.shape"
   ]
  },
  {
   "cell_type": "code",
   "execution_count": null,
   "id": "813e468b-bf2d-40be-8199-5e8713184256",
   "metadata": {},
   "outputs": [
    {
     "name": "stdout",
     "output_type": "stream",
     "text": [
      "<class 'list'> 2 2\n"
     ]
    }
   ],
   "source": [
    "with mp.Pool(2) as pool:\n",
    "    res = pool.map(ds_train.__getitem__, iter([[0,1],[2,3]]))\n",
    "    print(type(res), len(res[0]), len(res[1]))"
   ]
  },
  {
   "cell_type": "code",
   "execution_count": null,
   "id": "2b05d259-0bb5-4c3f-b094-03fb76231c42",
   "metadata": {},
   "outputs": [
    {
     "name": "stdout",
     "output_type": "stream",
     "text": [
      "16\n"
     ]
    }
   ],
   "source": [
    "tmp = Dataset(x_train[:16], y_train[:16])\n",
    "res = list(map(tmp.__getitem__, iter(Sampler(tmp, False))))\n",
    "print(len(res))"
   ]
  },
  {
   "cell_type": "code",
   "execution_count": null,
   "id": "6bfec708-74f5-41bd-af74-00257477a280",
   "metadata": {},
   "outputs": [
    {
     "name": "stdout",
     "output_type": "stream",
     "text": [
      "16\n"
     ]
    }
   ],
   "source": [
    "with mp.Pool(2) as pool:\n",
    "    res = pool.map(tmp.__getitem__, iter(Sampler(tmp, False)))\n",
    "    print(len(res))"
   ]
  },
  {
   "cell_type": "code",
   "execution_count": null,
   "id": "ec642e4f-12bd-40ae-802d-45b0949b51b7",
   "metadata": {},
   "outputs": [],
   "source": [
    "from time import perf_counter"
   ]
  },
  {
   "cell_type": "code",
   "execution_count": null,
   "id": "969538a4-7a52-4bea-a09a-014b4c66b60d",
   "metadata": {},
   "outputs": [],
   "source": [
    "class DataLoader:\n",
    "    def __init__(self, ds, batches, n_workers=0, collate_fn=collate): fc.store_attr()\n",
    "\n",
    "    def __iter__(self):\n",
    "        if self.n_workers:\n",
    "            with mp.Pool(self.n_workers) as pool:\n",
    "                yield from pool.map(self.ds.__getitem__, iter(self.batches))\n",
    "        else:\n",
    "            yield from map(self.ds.__getitem__, iter(self.batches))"
   ]
  },
  {
   "cell_type": "code",
   "execution_count": null,
   "id": "990c5488-569e-4aae-966d-e39c3771f27e",
   "metadata": {},
   "outputs": [
    {
     "name": "stdout",
     "output_type": "stream",
     "text": [
      "1.1399545919998673\n"
     ]
    }
   ],
   "source": [
    "dl_train = DataLoader(ds_train, s_train, 4)\n",
    "st = perf_counter()\n",
    "_ = next(iter(dl_train))\n",
    "print(perf_counter() - st)"
   ]
  },
  {
   "cell_type": "code",
   "execution_count": null,
   "id": "290426e7-ffd8-4b42-a914-09118f58e2b2",
   "metadata": {},
   "outputs": [
    {
     "name": "stdout",
     "output_type": "stream",
     "text": [
      "0.15937871899996026\n"
     ]
    }
   ],
   "source": [
    "st = perf_counter()\n",
    "_ = next(iter(dl_valid))\n",
    "print(perf_counter() - st)"
   ]
  },
  {
   "cell_type": "markdown",
   "id": "a58bb3de-ebd2-45e2-8d52-bc5ccd7da917",
   "metadata": {},
   "source": [
    "### PyTorch DataLoader"
   ]
  },
  {
   "cell_type": "code",
   "execution_count": null,
   "id": "c39727c9-e8bd-41f1-b0a4-764ceea2e14c",
   "metadata": {},
   "outputs": [],
   "source": [
    "#| export\n",
    "from torch.utils.data import DataLoader, BatchSampler, RandomSampler, SequentialSampler"
   ]
  },
  {
   "cell_type": "code",
   "execution_count": null,
   "id": "d24d53df-3eaf-485f-a984-ba5ffe62f482",
   "metadata": {},
   "outputs": [
    {
     "data": {
      "text/plain": [
       "\u001b[0;31mInit signature:\u001b[0m\n",
       "\u001b[0mBatchSampler\u001b[0m\u001b[0;34m(\u001b[0m\u001b[0;34m\u001b[0m\n",
       "\u001b[0;34m\u001b[0m    \u001b[0msampler\u001b[0m\u001b[0;34m:\u001b[0m \u001b[0mUnion\u001b[0m\u001b[0;34m[\u001b[0m\u001b[0mtorch\u001b[0m\u001b[0;34m.\u001b[0m\u001b[0mutils\u001b[0m\u001b[0;34m.\u001b[0m\u001b[0mdata\u001b[0m\u001b[0;34m.\u001b[0m\u001b[0msampler\u001b[0m\u001b[0;34m.\u001b[0m\u001b[0mSampler\u001b[0m\u001b[0;34m[\u001b[0m\u001b[0mint\u001b[0m\u001b[0;34m]\u001b[0m\u001b[0;34m,\u001b[0m \u001b[0mIterable\u001b[0m\u001b[0;34m[\u001b[0m\u001b[0mint\u001b[0m\u001b[0;34m]\u001b[0m\u001b[0;34m]\u001b[0m\u001b[0;34m,\u001b[0m\u001b[0;34m\u001b[0m\n",
       "\u001b[0;34m\u001b[0m    \u001b[0mbatch_size\u001b[0m\u001b[0;34m:\u001b[0m \u001b[0mint\u001b[0m\u001b[0;34m,\u001b[0m\u001b[0;34m\u001b[0m\n",
       "\u001b[0;34m\u001b[0m    \u001b[0mdrop_last\u001b[0m\u001b[0;34m:\u001b[0m \u001b[0mbool\u001b[0m\u001b[0;34m,\u001b[0m\u001b[0;34m\u001b[0m\n",
       "\u001b[0;34m\u001b[0m\u001b[0;34m)\u001b[0m \u001b[0;34m->\u001b[0m \u001b[0;32mNone\u001b[0m\u001b[0;34m\u001b[0m\u001b[0;34m\u001b[0m\u001b[0m\n",
       "\u001b[0;31mDocstring:\u001b[0m     \n",
       "Wraps another sampler to yield a mini-batch of indices.\n",
       "\n",
       "Args:\n",
       "    sampler (Sampler or Iterable): Base sampler. Can be any iterable object\n",
       "    batch_size (int): Size of mini-batch.\n",
       "    drop_last (bool): If ``True``, the sampler will drop the last batch if\n",
       "        its size would be less than ``batch_size``\n",
       "\n",
       "Example:\n",
       "    >>> list(BatchSampler(SequentialSampler(range(10)), batch_size=3, drop_last=False))\n",
       "    [[0, 1, 2], [3, 4, 5], [6, 7, 8], [9]]\n",
       "    >>> list(BatchSampler(SequentialSampler(range(10)), batch_size=3, drop_last=True))\n",
       "    [[0, 1, 2], [3, 4, 5], [6, 7, 8]]\n",
       "\u001b[0;31mFile:\u001b[0m           ~/miniforge3/envs/fastai/lib/python3.11/site-packages/torch/utils/data/sampler.py\n",
       "\u001b[0;31mType:\u001b[0m           type\n",
       "\u001b[0;31mSubclasses:\u001b[0m     "
      ]
     },
     "metadata": {},
     "output_type": "display_data"
    }
   ],
   "source": [
    "BatchSampler?"
   ]
  },
  {
   "cell_type": "code",
   "execution_count": null,
   "id": "cb3f4b62-b10e-424f-9905-aab24ee91502",
   "metadata": {},
   "outputs": [],
   "source": [
    "s_train = BatchSampler(RandomSampler(ds_train), bs, False)\n",
    "s_valid = BatchSampler(SequentialSampler(ds_train), bs, False)"
   ]
  },
  {
   "cell_type": "code",
   "execution_count": null,
   "id": "98a0309b-cd1c-4e47-a728-030a5fdcceeb",
   "metadata": {},
   "outputs": [],
   "source": [
    "dl_train = DataLoader(ds_train, batch_sampler=s_train, collate_fn=collate)\n",
    "dl_valid = DataLoader(ds_valid, batch_sampler=s_valid, collate_fn=collate)"
   ]
  },
  {
   "cell_type": "code",
   "execution_count": null,
   "id": "8dbbe9ba-a260-4298-bc9c-e7f38fb26890",
   "metadata": {},
   "outputs": [
    {
     "data": {
      "text/plain": [
       "(torch.Size([512, 784]), torch.Size([512]))"
      ]
     },
     "execution_count": null,
     "metadata": {},
     "output_type": "execute_result"
    }
   ],
   "source": [
    "xb, yb = next(iter(dl_train))\n",
    "xb.shape, yb.shape"
   ]
  },
  {
   "cell_type": "code",
   "execution_count": null,
   "id": "1144c685-a8e5-4627-9f6d-da8115df0428",
   "metadata": {},
   "outputs": [
    {
     "name": "stdout",
     "output_type": "stream",
     "text": [
      "loss=0.6344, accuracy=0.85\n",
      "loss=0.3726, accuracy=0.90\n",
      "loss=0.3693, accuracy=0.90\n",
      "loss=0.4026, accuracy=0.88\n",
      "loss=0.3488, accuracy=0.91\n"
     ]
    }
   ],
   "source": [
    "model, opt = get_model()\n",
    "fit()"
   ]
  },
  {
   "cell_type": "code",
   "execution_count": null,
   "id": "cd5b5b03-b66f-40bc-a539-7795a735aaa6",
   "metadata": {},
   "outputs": [],
   "source": [
    "dl_train = DataLoader(ds_train, batch_size=bs, shuffle=True, drop_last=False, num_workers=2)\n",
    "dl_valid = DataLoader(ds_valid, batch_size=bs*2, shuffle=False, drop_last=False, num_workers=2)"
   ]
  },
  {
   "cell_type": "code",
   "execution_count": null,
   "id": "eb8beada-d98e-4ac2-8ccb-0a6d7b6aa084",
   "metadata": {},
   "outputs": [
    {
     "data": {
      "text/plain": [
       "(torch.Size([512, 784]), torch.Size([512]))"
      ]
     },
     "execution_count": null,
     "metadata": {},
     "output_type": "execute_result"
    }
   ],
   "source": [
    "xb, yb = next(iter(dl_train))\n",
    "xb.shape, yb.shape"
   ]
  },
  {
   "cell_type": "code",
   "execution_count": null,
   "id": "06b0e0c4-2b5f-45d2-ad9f-ddb356453c74",
   "metadata": {},
   "outputs": [
    {
     "name": "stdout",
     "output_type": "stream",
     "text": [
      "loss=0.6148, accuracy=0.85\n",
      "loss=0.5123, accuracy=0.83\n",
      "loss=0.4209, accuracy=0.90\n",
      "loss=0.3258, accuracy=0.91\n",
      "loss=0.2468, accuracy=0.92\n"
     ]
    }
   ],
   "source": [
    "model, opt = get_model()\n",
    "fit()"
   ]
  },
  {
   "cell_type": "code",
   "execution_count": null,
   "id": "5daea30b-d3bd-47e9-8c83-955ed9cf1e3d",
   "metadata": {},
   "outputs": [],
   "source": [
    "dl_train = DataLoader(ds_train, sampler=s_train)\n",
    "dl_valid = DataLoader(ds_valid, sampler=s_valid)"
   ]
  },
  {
   "cell_type": "code",
   "execution_count": null,
   "id": "0b833530-741c-44b4-ab80-02310c85b195",
   "metadata": {},
   "outputs": [
    {
     "data": {
      "text/plain": [
       "(torch.Size([1, 512, 784]), torch.Size([1, 512]))"
      ]
     },
     "execution_count": null,
     "metadata": {},
     "output_type": "execute_result"
    }
   ],
   "source": [
    "xb, yb = next(iter(dl_train))\n",
    "xb.shape, yb.shape"
   ]
  },
  {
   "cell_type": "markdown",
   "id": "3cb5edd8-f565-4782-92c4-2b4d80fc255b",
   "metadata": {},
   "source": [
    "## Validation"
   ]
  },
  {
   "cell_type": "code",
   "execution_count": null,
   "id": "752c2818-428a-45be-ae69-1844d6305b2f",
   "metadata": {},
   "outputs": [],
   "source": [
    "#| export\n",
    "\n",
    "def fit(epochs, model, opt, loss_func, dl_train, dl_valid):\n",
    "    for e in range(epochs):\n",
    "        model.train()\n",
    "        for xb, yb in dl_train:\n",
    "            predb = model(xb)\n",
    "            loss = F.cross_entropy(predb, yb)\n",
    "            loss.backward()\n",
    "            opt.step()\n",
    "            opt.zero_grad()\n",
    "\n",
    "        model.eval()\n",
    "        count = 0\n",
    "        loss_acc = 0.\n",
    "        acc_acc = 0.\n",
    "        with torch.no_grad():\n",
    "            for xb, yb in dl_valid:\n",
    "                predb = model(xb)\n",
    "                loss = F.cross_entropy(predb, yb)\n",
    "                size = len(xb)\n",
    "                count += size\n",
    "                loss_acc += loss.item() * size\n",
    "                acc_acc += accuracy(predb, yb) * size\n",
    "        print(f\"Epoch {e}: loss={loss_acc/count:.4f}, accuracy={acc_acc/count:.2f}\")\n",
    "    return loss_acc / count, acc_acc / count"
   ]
  },
  {
   "cell_type": "code",
   "execution_count": null,
   "id": "c413137b-065b-4aee-974f-9f0407b28096",
   "metadata": {},
   "outputs": [],
   "source": [
    "#| export\n",
    "def get_dls(ds_train, ds_valid, bs, **kwargs):\n",
    "    dl_train = DataLoader(ds_train, batch_size=bs, shuffle=True, **kwargs)\n",
    "    dl_valid = DataLoader(ds_valid, batch_size=bs*2, shuffle=False, **kwargs)\n",
    "    return dl_train, dl_valid"
   ]
  },
  {
   "cell_type": "code",
   "execution_count": null,
   "id": "af9f38dc-d9a2-4114-903c-7ae4c799dd15",
   "metadata": {},
   "outputs": [],
   "source": [
    "dl_train, dl_valid = get_dls(ds_train, ds_valid, bs)\n",
    "model, opt = get_model()"
   ]
  },
  {
   "cell_type": "code",
   "execution_count": null,
   "id": "cfaf743f-750c-4fbd-a568-214d691434ea",
   "metadata": {},
   "outputs": [
    {
     "name": "stdout",
     "output_type": "stream",
     "text": [
      "Epoch 0: loss=0.5993, accuracy=0.87\n",
      "Epoch 1: loss=0.4047, accuracy=0.89\n",
      "Epoch 2: loss=0.3487, accuracy=0.90\n",
      "Epoch 3: loss=0.3219, accuracy=0.91\n",
      "Epoch 4: loss=0.3072, accuracy=0.91\n",
      "CPU times: user 20.2 s, sys: 112 ms, total: 20.3 s\n",
      "Wall time: 6.41 s\n",
      "0.30717602343559264 0.9095999980926514\n"
     ]
    }
   ],
   "source": [
    "%time loss, acc = fit(5, model, opt, F.cross_entropy, dl_train, dl_valid)\n",
    "print(loss, acc)"
   ]
  },
  {
   "cell_type": "code",
   "execution_count": null,
   "id": "20f9ed45-ac5e-4202-9c3c-81ab99a7398a",
   "metadata": {},
   "outputs": [],
   "source": [
    "dl_train, dl_valid = get_dls(ds_train, ds_valid, 64)\n",
    "model, opt = get_model()"
   ]
  },
  {
   "cell_type": "code",
   "execution_count": null,
   "id": "910a0082-bc71-4607-ba10-a5578aff2e13",
   "metadata": {},
   "outputs": [
    {
     "name": "stdout",
     "output_type": "stream",
     "text": [
      "Epoch 0: loss=0.2867, accuracy=0.92\n",
      "Epoch 1: loss=0.3424, accuracy=0.90\n",
      "Epoch 2: loss=0.1913, accuracy=0.95\n",
      "Epoch 3: loss=0.1677, accuracy=0.95\n",
      "Epoch 4: loss=0.1459, accuracy=0.96\n",
      "CPU times: user 54.3 s, sys: 206 ms, total: 54.6 s\n",
      "Wall time: 12.7 s\n",
      "0.1459468141913414 0.9612\n"
     ]
    }
   ],
   "source": [
    "%time loss, acc = fit(5, model, opt, F.cross_entropy, dl_train, dl_valid)\n",
    "print(loss, acc)"
   ]
  },
  {
   "cell_type": "markdown",
   "id": "c0d22f46-ecd4-4009-aacf-95c9d3288a8a",
   "metadata": {},
   "source": [
    "# Export"
   ]
  },
  {
   "cell_type": "code",
   "execution_count": null,
   "id": "e9d21b3a-b41a-4575-be11-cd7109b9f71f",
   "metadata": {},
   "outputs": [],
   "source": [
    "import nbdev; nbdev.nbdev_export()"
   ]
  },
  {
   "cell_type": "code",
   "execution_count": null,
   "id": "745a628a-3da6-41a1-bf55-a68209b94678",
   "metadata": {},
   "outputs": [],
   "source": []
  }
 ],
 "metadata": {
  "kernelspec": {
   "display_name": "python3",
   "language": "python",
   "name": "python3"
  }
 },
 "nbformat": 4,
 "nbformat_minor": 5
}
