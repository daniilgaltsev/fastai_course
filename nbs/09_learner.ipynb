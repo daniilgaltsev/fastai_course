{
 "cells": [
  {
   "cell_type": "code",
   "execution_count": null,
   "id": "9e3bfadc-648a-4b9a-8b62-a2e2fdb775f8",
   "metadata": {},
   "outputs": [],
   "source": [
    "#| default_exp learner"
   ]
  },
  {
   "cell_type": "markdown",
   "id": "bcf85800-7103-4dd7-b231-1f5610ee1dd4",
   "metadata": {},
   "source": [
    "These were directly copied from the corresponding notebook."
   ]
  },
  {
   "cell_type": "code",
   "execution_count": null,
   "id": "ac9da12f-9c73-4cbe-83c8-e1aa46aeaff7",
   "metadata": {},
   "outputs": [],
   "source": [
    "#|export\n",
    "import math,torch,matplotlib.pyplot as plt\n",
    "import fastcore.all as fc\n",
    "from collections.abc import Mapping\n",
    "from operator import attrgetter\n",
    "from functools import partial\n",
    "from copy import copy\n",
    "\n",
    "from torch import optim\n",
    "import torch.nn.functional as F\n",
    "\n",
    "from miniai.conv import *\n",
    "from miniai.datasets import *\n",
    "\n",
    "from fastprogress import progress_bar,master_bar"
   ]
  },
  {
   "cell_type": "code",
   "execution_count": null,
   "id": "32f63c7b-d8f7-4b21-ae7c-5c9fd9ef2b70",
   "metadata": {},
   "outputs": [],
   "source": [
    "import matplotlib as mpl\n",
    "import torchvision.transforms.functional as TF\n",
    "from contextlib import contextmanager\n",
    "from torch import nn,tensor\n",
    "from datasets import load_dataset,load_dataset_builder\n",
    "from miniai.conv import *\n",
    "import logging\n",
    "from fastcore.test import test_close"
   ]
  },
  {
   "cell_type": "code",
   "execution_count": null,
   "id": "3c6e6640-6d11-40ca-8bbc-bc7d54d08e69",
   "metadata": {},
   "outputs": [],
   "source": [
    "#| export\n",
    "from torch.utils.data import DataLoader"
   ]
  },
  {
   "cell_type": "code",
   "execution_count": null,
   "id": "24b8561b-8d79-4f5b-8832-ac2a54081adb",
   "metadata": {},
   "outputs": [],
   "source": [
    "torch.set_printoptions(precision=2, linewidth=180, sci_mode=False)\n",
    "torch.manual_seed(1103)\n",
    "mpl.rcParams['image.cmap'] = 'gray'"
   ]
  },
  {
   "cell_type": "code",
   "execution_count": null,
   "id": "9fb87fa1-a70b-40a3-b24e-48bb950974db",
   "metadata": {},
   "outputs": [],
   "source": [
    "logging.disable(logging.WARNING)"
   ]
  },
  {
   "cell_type": "markdown",
   "id": "581f4466-dc6a-408c-ae02-df04a213b26e",
   "metadata": {},
   "source": [
    "# Learner"
   ]
  },
  {
   "cell_type": "code",
   "execution_count": null,
   "id": "a8b2b2ba-c1e5-434c-9ebe-eeca4f7b4418",
   "metadata": {},
   "outputs": [],
   "source": [
    "x, y = \"image\", \"label\"\n",
    "name = \"fashion_mnist\"\n",
    "ds = load_dataset(name)\n",
    "@inplace\n",
    "def transformi(b):\n",
    "    b[x] = [torch.flatten(TF.to_tensor(i)) for i in b[x]]\n",
    "dst = ds.with_transform(transformi)"
   ]
  },
  {
   "cell_type": "code",
   "execution_count": null,
   "id": "97487fac-dfd3-4009-8075-6af90a61125d",
   "metadata": {},
   "outputs": [],
   "source": [
    "#| export\n",
    "class DataLoaders:\n",
    "    def __init__(self, *dls):\n",
    "        self.train, self.valid = dls[0], dls[1]\n",
    "\n",
    "    @classmethod\n",
    "    def from_dd(cls, dd, batch_size, as_tuple=True, num_workers=4):\n",
    "        return cls(*[\n",
    "            DataLoader(\n",
    "                ds, batch_size=batch_size,\n",
    "                collate_fn=collate_dict(ds), num_workers=num_workers\n",
    "            ) for ds in dd.values()\n",
    "        ])"
   ]
  },
  {
   "cell_type": "code",
   "execution_count": null,
   "id": "bafd2e18-bff9-437b-bfa6-f7ca577b8363",
   "metadata": {},
   "outputs": [],
   "source": [
    "bs = 512\n",
    "dls = DataLoaders.from_dd(dst, bs)\n",
    "b = next(iter(dls.train))"
   ]
  },
  {
   "cell_type": "code",
   "execution_count": null,
   "id": "fd9b96b0-1808-46e7-ac58-c4fa10d173fa",
   "metadata": {},
   "outputs": [
    {
     "data": {
      "text/plain": [
       "(torch.Size([512, 784]), torch.Size([512]))"
      ]
     },
     "execution_count": null,
     "metadata": {},
     "output_type": "execute_result"
    }
   ],
   "source": [
    "b[0].shape, b[1].shape"
   ]
  },
  {
   "cell_type": "code",
   "execution_count": null,
   "id": "0b56edb5-43e9-4a97-921c-2483563e1738",
   "metadata": {},
   "outputs": [],
   "source": [
    "from miniai.training import accuracy"
   ]
  },
  {
   "cell_type": "code",
   "execution_count": null,
   "id": "a3b9d6f2-c9eb-43be-b53b-33dbccf9c6f5",
   "metadata": {},
   "outputs": [],
   "source": [
    "class Learner:\n",
    "    def __init__(self, model, dls, loss_func, lr, opt_func): fc.store_attr()\n",
    "\n",
    "    def one_batch(self):\n",
    "        self.xb, self.yb = to_device(self.batch)\n",
    "        self.preds = self.model(self.xb)\n",
    "        self.loss = self.loss_func(self.preds, self.yb)\n",
    "        if self.model.training:\n",
    "            self.loss.backward()\n",
    "            self.opt.step()\n",
    "            self.opt.zero_grad()\n",
    "        with torch.no_grad():\n",
    "            self.calc_stats()\n",
    "\n",
    "    def calc_stats(self):\n",
    "        n = self.xb.shape[0]\n",
    "        self.losses.append(self.loss.item() * n)\n",
    "        self.counts.append(n)\n",
    "        self.accs.append(accuracy(self.preds, self.yb) * n)\n",
    "\n",
    "    def one_epoch(self, train):\n",
    "        self.model.training = train\n",
    "        if train:\n",
    "            dl = self.dls.valid\n",
    "        else:\n",
    "            dl = self.dls.train\n",
    "\n",
    "        for self.batch_idx, self.batch in enumerate(dl):\n",
    "            self.one_batch()\n",
    "        count = sum(self.counts)\n",
    "        stage = \"train\" if train else \"valid\"\n",
    "        print(f\"Epoch {self.epoch}, {stage}:  loss={sum(self.losses)/count:.4f}, accuracy={sum(self.accs)/count:.2f}\")\n",
    "\n",
    "    def fit(self, n_epochs):\n",
    "        self.losses, self.counts, self.accs = [], [], []\n",
    "        self.model.to(def_device)\n",
    "        self.opt = self.opt_func(self.model.parameters(), self.lr)\n",
    "        for self.epoch in range(n_epochs):\n",
    "            self.one_epoch(True)\n",
    "            self.one_epoch(False)\n",
    "        "
   ]
  },
  {
   "cell_type": "code",
   "execution_count": null,
   "id": "30cdccd6-f4dc-40e0-9ffd-f05fa7e9722d",
   "metadata": {},
   "outputs": [
    {
     "data": {
      "text/plain": [
       "torch.Size([512, 784])"
      ]
     },
     "execution_count": null,
     "metadata": {},
     "output_type": "execute_result"
    }
   ],
   "source": [
    "b[0].shape"
   ]
  },
  {
   "cell_type": "code",
   "execution_count": null,
   "id": "7844eb00-2482-4953-95e6-17f0f0c8a2ab",
   "metadata": {},
   "outputs": [],
   "source": [
    "model = nn.Sequential(nn.Linear(28*28, 50), nn.ReLU(), nn.Linear(50, 10))"
   ]
  },
  {
   "cell_type": "code",
   "execution_count": null,
   "id": "9c8180eb-4db8-4c97-8960-383833974576",
   "metadata": {},
   "outputs": [],
   "source": [
    "learn = Learner(model, dls, F.cross_entropy, 0.1, torch.optim.SGD)"
   ]
  },
  {
   "cell_type": "code",
   "execution_count": null,
   "id": "595e83a4-db4e-4a26-8d4a-3299cabe2467",
   "metadata": {},
   "outputs": [
    {
     "name": "stdout",
     "output_type": "stream",
     "text": [
      "Epoch 0, train:  loss=1.9508, accuracy=0.46\n",
      "Epoch 0, valid:  loss=1.5761, accuracy=0.57\n",
      "Epoch 1, train:  loss=1.5374, accuracy=0.58\n",
      "Epoch 1, valid:  loss=1.3353, accuracy=0.61\n"
     ]
    }
   ],
   "source": [
    "learn.fit(2)"
   ]
  },
  {
   "cell_type": "markdown",
   "id": "575d60c4-5c7b-4f3b-9d89-4a3fa163914b",
   "metadata": {},
   "source": [
    "# Metrics"
   ]
  },
  {
   "cell_type": "code",
   "execution_count": null,
   "id": "c7e54f7c-86a9-4a0e-b4d8-2913a21939b5",
   "metadata": {},
   "outputs": [],
   "source": [
    "class Metric:\n",
    "    def __init__(self): self.reset()\n",
    "\n",
    "    def reset(self):\n",
    "        self.values = []\n",
    "        self.counts = []\n",
    "\n",
    "    def add(self, inp, targ=None, n=1):\n",
    "        self.values.append(self.calc(inp, targ))\n",
    "        self.counts.append(n)\n",
    "\n",
    "    @property\n",
    "    def value(self):\n",
    "        return (torch.tensor(self.values) * torch.tensor(self.counts)).sum() / sum(self.counts)\n",
    "\n",
    "    def calc(self, inp, targ):\n",
    "        return inp"
   ]
  },
  {
   "cell_type": "code",
   "execution_count": null,
   "id": "e25d9e11-3469-45fa-8d55-1877dd738d89",
   "metadata": {},
   "outputs": [],
   "source": [
    "class Accuracy(Metric):\n",
    "    def calc(self, inp, targ):\n",
    "        return (inp == targ).float().mean()"
   ]
  },
  {
   "cell_type": "code",
   "execution_count": null,
   "id": "7b41a422-960d-4a6c-8e9d-7a5f3d72a7cb",
   "metadata": {},
   "outputs": [
    {
     "name": "stdout",
     "output_type": "stream",
     "text": [
      "tensor(0.)\n"
     ]
    },
    {
     "data": {
      "text/plain": [
       "(tensor(0.57), 0.5714285714285714)"
      ]
     },
     "execution_count": null,
     "metadata": {},
     "output_type": "execute_result"
    }
   ],
   "source": [
    "acc = Accuracy()\n",
    "acc.add(torch.tensor([2, 1, 1]), torch.tensor([1, 2, 2]), 3)\n",
    "print(acc.value)\n",
    "acc.add(torch.tensor([1, 2, 2, 1]), torch.tensor([1, 2, 2, 1]), 4)\n",
    "acc.value, 4/7"
   ]
  },
  {
   "cell_type": "code",
   "execution_count": null,
   "id": "3d7d2243-2383-4e51-9df7-1714091270c0",
   "metadata": {},
   "outputs": [
    {
     "name": "stdout",
     "output_type": "stream",
     "text": [
      "tensor(0.10)\n",
      "tensor(1.)\n"
     ]
    }
   ],
   "source": [
    "loss = Metric()\n",
    "loss.add(0.1, n=100)\n",
    "print(loss.value)\n",
    "loss.add(1.1, n=900)\n",
    "print(loss.value)"
   ]
  },
  {
   "cell_type": "code",
   "execution_count": null,
   "id": "e1d13f0b-b242-416f-911b-6e1a19c0d6bf",
   "metadata": {},
   "outputs": [],
   "source": [
    "#| export\n",
    "from torcheval.metrics import MulticlassAccuracy, Mean"
   ]
  },
  {
   "cell_type": "code",
   "execution_count": null,
   "id": "ecaf5188-360a-4587-8cac-c1dafc85886d",
   "metadata": {},
   "outputs": [
    {
     "name": "stdout",
     "output_type": "stream",
     "text": [
      "['compute', 'device', 'load_state_dict', 'merge_state', 'reset', 'state_dict', 'to', 'update']\n"
     ]
    }
   ],
   "source": [
    "print(list(filter(lambda x: x[0]!=\"_\", dir(Mean))))"
   ]
  },
  {
   "cell_type": "code",
   "execution_count": null,
   "id": "ef2edf49-4af9-4f27-987e-23e1eee6c012",
   "metadata": {},
   "outputs": [
    {
     "data": {
      "text/plain": [
       "<function torcheval.metrics.aggregation.mean.Mean.update(self: ~TMean, input: torch.Tensor, *, weight: Union[float, int, torch.Tensor] = 1.0) -> ~TMean>"
      ]
     },
     "execution_count": null,
     "metadata": {},
     "output_type": "execute_result"
    }
   ],
   "source": [
    "Mean.update"
   ]
  },
  {
   "cell_type": "code",
   "execution_count": null,
   "id": "9e2a298c-5dd9-4b4f-9378-c0087944502c",
   "metadata": {},
   "outputs": [
    {
     "name": "stdout",
     "output_type": "stream",
     "text": [
      "['average', 'compute', 'device', 'k', 'load_state_dict', 'merge_state', 'num_classes', 'num_correct', 'num_total', 'reset', 'state_dict', 'to', 'update']\n"
     ]
    }
   ],
   "source": [
    "acc = MulticlassAccuracy()\n",
    "print(list(filter(lambda x: x[0]!=\"_\", dir(acc))))"
   ]
  },
  {
   "cell_type": "code",
   "execution_count": null,
   "id": "8bea3f5b-c7ba-49d7-ae92-4a04526d585d",
   "metadata": {},
   "outputs": [
    {
     "name": "stdout",
     "output_type": "stream",
     "text": [
      "tensor(0.)\n",
      "tensor(0.50)\n",
      "tensor(1.)\n"
     ]
    }
   ],
   "source": [
    "acc = MulticlassAccuracy()\n",
    "acc.update(torch.tensor([2, 1, 1]), torch.tensor([1, 2, 2]))\n",
    "print(acc.compute())\n",
    "acc.update(torch.tensor([1, 2, 2]), torch.tensor([1, 2, 2]))\n",
    "print(acc.compute())\n",
    "acc.reset()\n",
    "acc.update(torch.tensor([1, 2, 2]), torch.tensor([1, 2, 2]))\n",
    "print(acc.compute())"
   ]
  },
  {
   "cell_type": "code",
   "execution_count": null,
   "id": "5326a2e1-781b-4aca-8b63-67f1060dd4ab",
   "metadata": {},
   "outputs": [],
   "source": [
    "#| export\n",
    "def to_cpu(x):\n",
    "    if isinstance(x, torch.Tensor):\n",
    "        return x.detach().cpu()\n",
    "    if isinstance(x, Mapping):\n",
    "        return {k: to_cpu(v) for k, v in x.items()}\n",
    "    return type(x)(to_cpu(i) for i in x)"
   ]
  },
  {
   "cell_type": "markdown",
   "id": "03c49356-36f7-4611-8229-dc06c4ca86ab",
   "metadata": {},
   "source": [
    "# Callbacks Learner"
   ]
  },
  {
   "cell_type": "code",
   "execution_count": null,
   "id": "adf0262e-79ba-4028-873f-7506616d0d6f",
   "metadata": {},
   "outputs": [],
   "source": [
    "#| export\n",
    "def identity(*args):\n",
    "    return (*args,)"
   ]
  },
  {
   "cell_type": "code",
   "execution_count": null,
   "id": "0a3655d3-d6cc-4edf-965b-c5869759391e",
   "metadata": {},
   "outputs": [
    {
     "data": {
      "text/plain": [
       "()"
      ]
     },
     "execution_count": null,
     "metadata": {},
     "output_type": "execute_result"
    }
   ],
   "source": [
    "identity()"
   ]
  },
  {
   "cell_type": "code",
   "execution_count": null,
   "id": "9877276a-ef34-46cf-9141-7291d92bc70a",
   "metadata": {},
   "outputs": [
    {
     "data": {
      "text/plain": [
       "(1,)"
      ]
     },
     "execution_count": null,
     "metadata": {},
     "output_type": "execute_result"
    }
   ],
   "source": [
    "identity(1)"
   ]
  },
  {
   "cell_type": "code",
   "execution_count": null,
   "id": "9deefd5b-6a9e-49a2-ae2b-9a0a86bc56e5",
   "metadata": {},
   "outputs": [
    {
     "data": {
      "text/plain": [
       "(1, 2)"
      ]
     },
     "execution_count": null,
     "metadata": {},
     "output_type": "execute_result"
    }
   ],
   "source": [
    "identity(1, 2)"
   ]
  },
  {
   "cell_type": "code",
   "execution_count": null,
   "id": "dbe3991d-0161-4a8a-a180-bf8f4294f41e",
   "metadata": {},
   "outputs": [
    {
     "data": {
      "text/plain": [
       "([1, 2],)"
      ]
     },
     "execution_count": null,
     "metadata": {},
     "output_type": "execute_result"
    }
   ],
   "source": [
    "identity([1,2])"
   ]
  },
  {
   "cell_type": "code",
   "execution_count": null,
   "id": "04522009-7d03-4155-b1fc-4bbccf045124",
   "metadata": {},
   "outputs": [
    {
     "data": {
      "text/plain": [
       "([1], (2,), {3: 3}, 4)"
      ]
     },
     "execution_count": null,
     "metadata": {},
     "output_type": "execute_result"
    }
   ],
   "source": [
    "identity([1], (2,), {3:3}, 4)"
   ]
  },
  {
   "cell_type": "code",
   "execution_count": null,
   "id": "d44febe6-1d30-4451-8a70-c1314588d688",
   "metadata": {},
   "outputs": [],
   "source": [
    "#| export\n",
    "class CancelFitException(Exception): ...\n",
    "class CancelBatchException(Exception): ...\n",
    "class CancelEpochException(Exception): ..."
   ]
  },
  {
   "cell_type": "code",
   "execution_count": null,
   "id": "5da10015-ab91-4ee6-a108-5f0086c5126a",
   "metadata": {},
   "outputs": [],
   "source": [
    "#| export\n",
    "class with_cbs:\n",
    "    def __init__(self, nm):\n",
    "        self.nm = nm\n",
    "        self.before = f\"before_{nm}\"\n",
    "        self.after = f\"after_{nm}\"\n",
    "        self.exception = f\"Cancel{nm.title()}Exception\"\n",
    "        self.cleanup = f\"cleanup_{nm}\"\n",
    "\n",
    "    def __call__(self, f):\n",
    "        def _f(o, *args, **kwargs):\n",
    "            try:\n",
    "                o.callback(self.before)\n",
    "                f(o, *args, **kwargs)\n",
    "                o.callback(self.after)\n",
    "            except globals()[self.exception]: ...\n",
    "            finally: o.callback(self.cleanup)\n",
    "        return _f\n",
    "                "
   ]
  },
  {
   "cell_type": "code",
   "execution_count": null,
   "id": "c2ff8aab-0bc1-41c0-a4df-c9bc53d123e8",
   "metadata": {},
   "outputs": [],
   "source": [
    "#|export\n",
    "class Learner:\n",
    "    def __init__(self, model, dls=(0,), loss_func=F.mse_loss, lr=0.1, cbs=None, opt_func=optim.SGD):\n",
    "        if cbs is None:\n",
    "            cbs = []\n",
    "        fc.store_attr()\n",
    "        for cb in cbs:\n",
    "            cb.learn = self\n",
    "\n",
    "    @with_cbs(\"batch\")\n",
    "    def _one_batch(self):\n",
    "        self.predict()\n",
    "        self.callback(\"after_predict\")\n",
    "        self.get_loss()\n",
    "        self.callback(\"after_loss\")\n",
    "        if self.model.training:\n",
    "            self.backward()\n",
    "            self.callback(\"after_backward\")\n",
    "            self.step()\n",
    "            self.callback(\"after_step\")\n",
    "            self.zero_grad()\n",
    "\n",
    "    def one_epoch(self, train):\n",
    "        self.model.train(train)\n",
    "        if train:\n",
    "            self.dl = self.dls.train\n",
    "        else:\n",
    "            self.dl = self.dls.valid\n",
    "\n",
    "        self._one_epoch()\n",
    "\n",
    "    @with_cbs(\"epoch\")\n",
    "    def _one_epoch(self):\n",
    "        for self.batch_idx, self.batch in enumerate(self.dl):\n",
    "            self._one_batch()\n",
    "\n",
    "    def fit(self, n_epochs=1, train=True, valid=True, cbs=None, lr=None):\n",
    "        if cbs is None:\n",
    "            cbs = []\n",
    "        for cb in cbs:\n",
    "            self.cbs.append(cb)\n",
    "        try:\n",
    "            self.n_epochs = n_epochs\n",
    "            self.range_epochs = range(self.n_epochs)\n",
    "            if lr is None:\n",
    "                lr = self.lr\n",
    "            if self.opt_func:\n",
    "                self.opt = self.opt_func(self.model.parameters(), lr)\n",
    "            self._fit(train, valid)\n",
    "        finally:\n",
    "            for cb in cbs:\n",
    "                self.cbs.remove(cb)\n",
    "\n",
    "    @with_cbs(\"fit\")\n",
    "    def _fit(self, train, valid):\n",
    "        for self.epoch in self.range_epochs:\n",
    "            if train: self.one_epoch(True)\n",
    "            if valid: self.one_epoch(False)\n",
    "\n",
    "    def __getattr__(self, name):\n",
    "        if name in (\"predict\", \"get_loss\", \"backward\", \"step\", \"zero_grad\"):\n",
    "            return partial(self.callback, name)\n",
    "        raise AttributeError(name)\n",
    "    \n",
    "    def callback(self, method_nm):\n",
    "        run_cbs(self.cbs, method_nm, self)\n",
    "\n",
    "    @property\n",
    "    def training(self):\n",
    "        return self.model.training"
   ]
  },
  {
   "cell_type": "code",
   "execution_count": null,
   "id": "ff59de23-323f-48ce-9d62-1aeaa59d5fd2",
   "metadata": {},
   "outputs": [],
   "source": [
    "#| export\n",
    "class Callback:\n",
    "    order = 0"
   ]
  },
  {
   "cell_type": "code",
   "execution_count": null,
   "id": "0699b433-90fc-40c7-901f-6e9621a3d200",
   "metadata": {},
   "outputs": [],
   "source": [
    "#| export\n",
    "def run_cbs(cbs, method_nm, learn=None):\n",
    "    for cb in sorted(cbs, key=lambda x: x.order):\n",
    "        method = getattr(cb, method_nm, identity)\n",
    "        if method: method(learn)"
   ]
  },
  {
   "cell_type": "code",
   "execution_count": null,
   "id": "940bb489-4f8a-41e1-b33b-1f8910468baa",
   "metadata": {},
   "outputs": [],
   "source": [
    "#| export\n",
    "class SingleBatchCB(Callback):\n",
    "    def after_batch(self, learn): raise CancelFitException()"
   ]
  },
  {
   "cell_type": "code",
   "execution_count": null,
   "id": "ef24b612-6d7a-4285-be5d-9a3fc9e17914",
   "metadata": {},
   "outputs": [],
   "source": [
    "#| export\n",
    "class TrainCB(Callback):\n",
    "    def __init__(self, n_inp=1): self.n_inp = n_inp\n",
    "\n",
    "    def predict(self, learn):\n",
    "        learn.preds = learn.model(*learn.batch[:self.n_inp])\n",
    "\n",
    "    def get_loss(self, learn):\n",
    "        learn.loss = learn.loss_func(learn.preds, *learn.batch[self.n_inp:])\n",
    "\n",
    "    def backward(self, learn):\n",
    "        learn.loss.backward()\n",
    "\n",
    "    def step(self, learn):\n",
    "        learn.opt.step()\n",
    "\n",
    "    def zero_grad(self, learn):\n",
    "        learn.opt.zero_grad()"
   ]
  },
  {
   "cell_type": "code",
   "execution_count": null,
   "id": "8d7779e3-5223-4c24-bec7-e195534a9cd9",
   "metadata": {},
   "outputs": [],
   "source": [
    "#|export\n",
    "class DeviceCB(Callback):\n",
    "    def __init__(self, device=def_device): self.device = def_device\n",
    "    def before_fit(self, learn):\n",
    "        if hasattr(learn.model, \"to\"):\n",
    "            learn.model.to(self.device)\n",
    "    def before_batch(self, learn):\n",
    "        learn.batch = to_device(learn.batch, self.device)"
   ]
  },
  {
   "cell_type": "code",
   "execution_count": null,
   "id": "ed4119c3-2adf-4ddd-b519-5b636ffcd8d5",
   "metadata": {},
   "outputs": [
    {
     "data": {
      "text/plain": [
       "'MulticlassAccuracy'"
      ]
     },
     "execution_count": null,
     "metadata": {},
     "output_type": "execute_result"
    }
   ],
   "source": [
    "type(MulticlassAccuracy()).__name__"
   ]
  },
  {
   "cell_type": "code",
   "execution_count": null,
   "id": "94023157-fa58-4677-89e1-c66e7ea0c11c",
   "metadata": {},
   "outputs": [],
   "source": [
    "#|export\n",
    "class MetricsCB(Callback):\n",
    "    def __init__(self, *args, **kwargs):\n",
    "        self.metrics = kwargs\n",
    "        for arg in args:\n",
    "            self.metrics[type(arg).__name__] = arg\n",
    "\n",
    "        self.loss = Mean()\n",
    "        self.all = self.metrics.copy()\n",
    "        self.all[\"loss\"] = self.loss\n",
    "\n",
    "    def log(self, to_log):\n",
    "        print(to_log) \n",
    "\n",
    "    def before_fit(self, learn): learn.metrics = self\n",
    "\n",
    "    def before_epoch(self, learn):\n",
    "        for m in self.all.values():\n",
    "            m.reset()\n",
    "\n",
    "    def after_epoch(self, learn):\n",
    "        to_log = {name: f\"{m.compute():.3f}\" for name, m in self.all.items()}\n",
    "        to_log[\"epoch\"] = learn.epoch\n",
    "        to_log[\"train\"] = \"train\" if learn.model.training else \"valid\"\n",
    "        self.log(to_log)\n",
    "\n",
    "    def after_batch(self, learn):\n",
    "        batch = to_cpu(learn.batch) \n",
    "        x, y = batch[0], batch[1]\n",
    "        while isinstance(x, tuple): x = x[0]  # TODO: this is quite bad\n",
    "        preds = to_cpu(learn.preds)\n",
    "        loss = to_cpu(learn.loss)\n",
    "        for m in self.metrics.values():\n",
    "            m.update(preds, y)\n",
    "        self.loss.update(loss, weight=x.shape[0])"
   ]
  },
  {
   "cell_type": "code",
   "execution_count": null,
   "id": "11be38a4-887e-450a-9068-15811f072942",
   "metadata": {},
   "outputs": [
    {
     "data": {
      "text/plain": [
       "\u001b[0;31mInit signature:\u001b[0m\n",
       "\u001b[0mprogress_bar\u001b[0m\u001b[0;34m(\u001b[0m\u001b[0;34m\u001b[0m\n",
       "\u001b[0;34m\u001b[0m    \u001b[0mgen\u001b[0m\u001b[0;34m,\u001b[0m\u001b[0;34m\u001b[0m\n",
       "\u001b[0;34m\u001b[0m    \u001b[0mtotal\u001b[0m\u001b[0;34m=\u001b[0m\u001b[0;32mNone\u001b[0m\u001b[0;34m,\u001b[0m\u001b[0;34m\u001b[0m\n",
       "\u001b[0;34m\u001b[0m    \u001b[0mdisplay\u001b[0m\u001b[0;34m=\u001b[0m\u001b[0;32mTrue\u001b[0m\u001b[0;34m,\u001b[0m\u001b[0;34m\u001b[0m\n",
       "\u001b[0;34m\u001b[0m    \u001b[0mleave\u001b[0m\u001b[0;34m=\u001b[0m\u001b[0;32mTrue\u001b[0m\u001b[0;34m,\u001b[0m\u001b[0;34m\u001b[0m\n",
       "\u001b[0;34m\u001b[0m    \u001b[0mparent\u001b[0m\u001b[0;34m=\u001b[0m\u001b[0;32mNone\u001b[0m\u001b[0;34m,\u001b[0m\u001b[0;34m\u001b[0m\n",
       "\u001b[0;34m\u001b[0m    \u001b[0mmaster\u001b[0m\u001b[0;34m=\u001b[0m\u001b[0;32mNone\u001b[0m\u001b[0;34m,\u001b[0m\u001b[0;34m\u001b[0m\n",
       "\u001b[0;34m\u001b[0m    \u001b[0mcomment\u001b[0m\u001b[0;34m=\u001b[0m\u001b[0;34m''\u001b[0m\u001b[0;34m,\u001b[0m\u001b[0;34m\u001b[0m\n",
       "\u001b[0;34m\u001b[0m\u001b[0;34m)\u001b[0m\u001b[0;34m\u001b[0m\u001b[0;34m\u001b[0m\u001b[0m\n",
       "\u001b[0;31mDocstring:\u001b[0m      <no docstring>\n",
       "\u001b[0;31mFile:\u001b[0m           ~/miniforge3/envs/fastai/lib/python3.11/site-packages/fastprogress/fastprogress.py\n",
       "\u001b[0;31mType:\u001b[0m           type\n",
       "\u001b[0;31mSubclasses:\u001b[0m     "
      ]
     },
     "metadata": {},
     "output_type": "display_data"
    }
   ],
   "source": [
    "progress_bar?"
   ]
  },
  {
   "cell_type": "code",
   "execution_count": null,
   "id": "e15b0504-acc2-40d1-bb6f-c8efde2805d7",
   "metadata": {},
   "outputs": [
    {
     "name": "stdout",
     "output_type": "stream",
     "text": [
      "['first_its', 'lt', 'on_interrupt', 'on_iter_begin', 'on_iter_end', 'on_update', 'update', 'update_bar', 'update_every']\n"
     ]
    }
   ],
   "source": [
    "print(list(filter(lambda x: x[0]!='_', dir(progress_bar))))"
   ]
  },
  {
   "cell_type": "code",
   "execution_count": null,
   "id": "23e7b825-deea-48f6-8f5e-7c11f41913e1",
   "metadata": {},
   "outputs": [
    {
     "data": {
      "text/plain": [
       "\u001b[0;31mInit signature:\u001b[0m\n",
       "\u001b[0mmaster_bar\u001b[0m\u001b[0;34m(\u001b[0m\u001b[0;34m\u001b[0m\n",
       "\u001b[0;34m\u001b[0m    \u001b[0mgen\u001b[0m\u001b[0;34m,\u001b[0m\u001b[0;34m\u001b[0m\n",
       "\u001b[0;34m\u001b[0m    \u001b[0mtotal\u001b[0m\u001b[0;34m=\u001b[0m\u001b[0;32mNone\u001b[0m\u001b[0;34m,\u001b[0m\u001b[0;34m\u001b[0m\n",
       "\u001b[0;34m\u001b[0m    \u001b[0mhide_graph\u001b[0m\u001b[0;34m=\u001b[0m\u001b[0;32mFalse\u001b[0m\u001b[0;34m,\u001b[0m\u001b[0;34m\u001b[0m\n",
       "\u001b[0;34m\u001b[0m    \u001b[0morder\u001b[0m\u001b[0;34m=\u001b[0m\u001b[0;32mNone\u001b[0m\u001b[0;34m,\u001b[0m\u001b[0;34m\u001b[0m\n",
       "\u001b[0;34m\u001b[0m    \u001b[0mclean_on_interrupt\u001b[0m\u001b[0;34m=\u001b[0m\u001b[0;32mFalse\u001b[0m\u001b[0;34m,\u001b[0m\u001b[0;34m\u001b[0m\n",
       "\u001b[0;34m\u001b[0m    \u001b[0mtotal_time\u001b[0m\u001b[0;34m=\u001b[0m\u001b[0;32mFalse\u001b[0m\u001b[0;34m,\u001b[0m\u001b[0;34m\u001b[0m\n",
       "\u001b[0;34m\u001b[0m\u001b[0;34m)\u001b[0m\u001b[0;34m\u001b[0m\u001b[0;34m\u001b[0m\u001b[0m\n",
       "\u001b[0;31mDocstring:\u001b[0m      <no docstring>\n",
       "\u001b[0;31mFile:\u001b[0m           ~/miniforge3/envs/fastai/lib/python3.11/site-packages/fastprogress/fastprogress.py\n",
       "\u001b[0;31mType:\u001b[0m           type\n",
       "\u001b[0;31mSubclasses:\u001b[0m     "
      ]
     },
     "metadata": {},
     "output_type": "display_data"
    }
   ],
   "source": [
    "master_bar?"
   ]
  },
  {
   "cell_type": "code",
   "execution_count": null,
   "id": "e6f210ac-d12e-4b93-ae1e-9bc798806a3b",
   "metadata": {},
   "outputs": [
    {
     "name": "stdout",
     "output_type": "stream",
     "text": [
      "['add_child', 'first_its', 'lt', 'names', 'on_interrupt', 'on_iter_begin', 'on_iter_end', 'on_update', 'show', 'show_imgs', 'update', 'update_bar', 'update_every', 'update_graph', 'write']\n"
     ]
    }
   ],
   "source": [
    "print(list(filter(lambda x: x[0]!='_', dir(master_bar))))"
   ]
  },
  {
   "cell_type": "code",
   "execution_count": null,
   "id": "35852ed0-9409-41fe-8a97-8fbae574a1f1",
   "metadata": {},
   "outputs": [
    {
     "data": {
      "text/plain": [
       "\u001b[0;31mSignature:\u001b[0m\n",
       "\u001b[0mmaster_bar\u001b[0m\u001b[0;34m.\u001b[0m\u001b[0mupdate_graph\u001b[0m\u001b[0;34m(\u001b[0m\u001b[0;34m\u001b[0m\n",
       "\u001b[0;34m\u001b[0m    \u001b[0mself\u001b[0m\u001b[0;34m,\u001b[0m\u001b[0;34m\u001b[0m\n",
       "\u001b[0;34m\u001b[0m    \u001b[0mgraphs\u001b[0m\u001b[0;34m,\u001b[0m\u001b[0;34m\u001b[0m\n",
       "\u001b[0;34m\u001b[0m    \u001b[0mx_bounds\u001b[0m\u001b[0;34m=\u001b[0m\u001b[0;32mNone\u001b[0m\u001b[0;34m,\u001b[0m\u001b[0;34m\u001b[0m\n",
       "\u001b[0;34m\u001b[0m    \u001b[0my_bounds\u001b[0m\u001b[0;34m=\u001b[0m\u001b[0;32mNone\u001b[0m\u001b[0;34m,\u001b[0m\u001b[0;34m\u001b[0m\n",
       "\u001b[0;34m\u001b[0m    \u001b[0mfigsize\u001b[0m\u001b[0;34m=\u001b[0m\u001b[0;34m(\u001b[0m\u001b[0;36m6\u001b[0m\u001b[0;34m,\u001b[0m \u001b[0;36m4\u001b[0m\u001b[0;34m)\u001b[0m\u001b[0;34m,\u001b[0m\u001b[0;34m\u001b[0m\n",
       "\u001b[0;34m\u001b[0m\u001b[0;34m)\u001b[0m\u001b[0;34m\u001b[0m\u001b[0;34m\u001b[0m\u001b[0m\n",
       "\u001b[0;31mDocstring:\u001b[0m <no docstring>\n",
       "\u001b[0;31mFile:\u001b[0m      ~/miniforge3/envs/fastai/lib/python3.11/site-packages/fastprogress/fastprogress.py\n",
       "\u001b[0;31mType:\u001b[0m      function"
      ]
     },
     "metadata": {},
     "output_type": "display_data"
    }
   ],
   "source": [
    "master_bar.update_graph?"
   ]
  },
  {
   "cell_type": "code",
   "execution_count": null,
   "id": "bfb53830-66ba-4ded-a8eb-a8f1b8cdaa6d",
   "metadata": {},
   "outputs": [],
   "source": [
    "#|export\n",
    "class ProgressCB(Callback):\n",
    "    order = MetricsCB.order + 1\n",
    "    def __init__(self, plot=False, update_rate=100): fc.store_attr()\n",
    "\n",
    "    def before_fit(self, learn):\n",
    "        learn.range_epochs = master_bar(learn.range_epochs)\n",
    "        self.mb = learn.range_epochs\n",
    "        self.first = True\n",
    "        if hasattr(learn, \"metrics\"):\n",
    "            learn.metrics.log = self.log\n",
    "        self.losses = []\n",
    "        self.val_losses = []\n",
    "\n",
    "    def log(self, to_log):\n",
    "        if self.first:\n",
    "            self.first = False\n",
    "            self.mb.write(list(to_log), table=True)    \n",
    "        self.mb.write(list(to_log.values()), table=True)\n",
    "\n",
    "    def before_epoch(self, learn):\n",
    "        learn.dl = progress_bar(learn.dl, leave=False, parent=self.mb)\n",
    "\n",
    "    def after_batch(self, learn):\n",
    "        learn.dl.comment = f\"{learn.loss:.4f}\"\n",
    "        if self.plot and hasattr(learn, \"metrics\") and learn.model.training:\n",
    "            self.losses.append(to_cpu(learn.loss).item())\n",
    "            if (learn.batch_idx % self.update_rate) == 0:\n",
    "                self._update_graph(learn)\n",
    "\n",
    "    def after_epoch(self, learn):\n",
    "        if not learn.training:\n",
    "            self.val_losses.append(learn.metrics.loss.compute())\n",
    "            self._update_graph(learn)\n",
    "            \n",
    "    def _update_graph(self, learn):\n",
    "        if self.plot:\n",
    "            to_update = [[list(range(len(self.losses))), self.losses]]\n",
    "            if self.val_losses:\n",
    "                to_update.append([list(map(lambda step: (step+1)*len(learn.dls.train), range(len(self.val_losses)))), self.val_losses])\n",
    "            self.mb.update_graph(to_update)"
   ]
  },
  {
   "cell_type": "code",
   "execution_count": null,
   "id": "90f704d9-a2ca-471c-9971-aa1b9002ef41",
   "metadata": {},
   "outputs": [
    {
     "data": {
      "text/html": [
       "\n",
       "<style>\n",
       "    /* Turns off some styling */\n",
       "    progress {\n",
       "        /* gets rid of default border in Firefox and Opera. */\n",
       "        border: none;\n",
       "        /* Needs to be in here for Safari polyfill so background images work as expected. */\n",
       "        background-size: auto;\n",
       "    }\n",
       "    progress:not([value]), progress:not([value])::-webkit-progress-bar {\n",
       "        background: repeating-linear-gradient(45deg, #7e7e7e, #7e7e7e 10px, #5c5c5c 10px, #5c5c5c 20px);\n",
       "    }\n",
       "    .progress-bar-interrupted, .progress-bar-interrupted::-webkit-progress-bar {\n",
       "        background: #F44336;\n",
       "    }\n",
       "</style>\n"
      ],
      "text/plain": [
       "<IPython.core.display.HTML object>"
      ]
     },
     "metadata": {},
     "output_type": "display_data"
    },
    {
     "data": {
      "text/html": [
       "<table border=\"1\" class=\"dataframe\">\n",
       "  <thead>\n",
       "    <tr style=\"text-align: left;\">\n",
       "      <th>MulticlassAccuracy</th>\n",
       "      <th>loss</th>\n",
       "      <th>epoch</th>\n",
       "      <th>train</th>\n",
       "    </tr>\n",
       "  </thead>\n",
       "  <tbody>\n",
       "    <tr>\n",
       "      <td>0.624</td>\n",
       "      <td>1.145</td>\n",
       "      <td>0</td>\n",
       "      <td>train</td>\n",
       "    </tr>\n",
       "    <tr>\n",
       "      <td>0.685</td>\n",
       "      <td>0.866</td>\n",
       "      <td>0</td>\n",
       "      <td>valid</td>\n",
       "    </tr>\n",
       "    <tr>\n",
       "      <td>0.762</td>\n",
       "      <td>0.675</td>\n",
       "      <td>1</td>\n",
       "      <td>train</td>\n",
       "    </tr>\n",
       "    <tr>\n",
       "      <td>0.736</td>\n",
       "      <td>0.737</td>\n",
       "      <td>1</td>\n",
       "      <td>valid</td>\n",
       "    </tr>\n",
       "  </tbody>\n",
       "</table>"
      ],
      "text/plain": [
       "<IPython.core.display.HTML object>"
      ]
     },
     "metadata": {},
     "output_type": "display_data"
    },
    {
     "data": {
      "image/png": "[encoded data removed]",
      "text/plain": [
       "<Figure size 600x400 with 1 Axes>"
      ]
     },
     "metadata": {},
     "output_type": "display_data"
    }
   ],
   "source": [
    "model = nn.Sequential(nn.Linear(28*28, 50), nn.ReLU(), nn.Linear(50, 10))\n",
    "cbs = [TrainCB(), DeviceCB(), MetricsCB(MulticlassAccuracy()), ProgressCB(True)]\n",
    "learn = Learner(model, dls, F.cross_entropy, 0.1, cbs, torch.optim.SGD)\n",
    "learn.fit(2)"
   ]
  },
  {
   "cell_type": "markdown",
   "id": "89f6759d-4fc8-4f3e-9f49-dd43200030a2",
   "metadata": {},
   "source": [
    "# TrainingLearner subclass"
   ]
  },
  {
   "cell_type": "code",
   "execution_count": null,
   "id": "3b48ca7a-2654-4735-9cfe-4c6dabc538cc",
   "metadata": {},
   "outputs": [],
   "source": [
    "#| export\n",
    "class TrainLearner(Learner):\n",
    "    def predict(self):\n",
    "        self.preds = self.model(self.batch[0])\n",
    "\n",
    "    def get_loss(self):\n",
    "        self.loss = self.loss_func(self.preds, self.batch[1])\n",
    "\n",
    "    def backward(self):\n",
    "        self.loss.backward()\n",
    "\n",
    "    def step(self):\n",
    "        self.opt.step()\n",
    "\n",
    "    def zero_grad(self):\n",
    "        self.opt.zero_grad()"
   ]
  },
  {
   "cell_type": "code",
   "execution_count": null,
   "id": "1a3ba9d5-ceb9-4b4a-884f-6c57b0423d55",
   "metadata": {},
   "outputs": [],
   "source": [
    "#| export\n",
    "class MomentumLearner(TrainLearner):\n",
    "    def __init__(self, model, dls=(0,), loss_func=F.mse_loss, lr=0.1, cbs=None, opt_func=optim.SGD, mom=0.85):\n",
    "        self.mom = mom\n",
    "        super().__init__(model, dls, loss_func, lr, cbs, opt_func)\n",
    "    def zero_grad(self):\n",
    "        with torch.no_grad():\n",
    "            for p in self.model.parameters():\n",
    "                p.grad *= 0.8"
   ]
  },
  {
   "cell_type": "code",
   "execution_count": null,
   "id": "598c4862-1988-4fb0-837e-6f238e048606",
   "metadata": {},
   "outputs": [
    {
     "data": {
      "text/html": [
       "\n",
       "<style>\n",
       "    /* Turns off some styling */\n",
       "    progress {\n",
       "        /* gets rid of default border in Firefox and Opera. */\n",
       "        border: none;\n",
       "        /* Needs to be in here for Safari polyfill so background images work as expected. */\n",
       "        background-size: auto;\n",
       "    }\n",
       "    progress:not([value]), progress:not([value])::-webkit-progress-bar {\n",
       "        background: repeating-linear-gradient(45deg, #7e7e7e, #7e7e7e 10px, #5c5c5c 10px, #5c5c5c 20px);\n",
       "    }\n",
       "    .progress-bar-interrupted, .progress-bar-interrupted::-webkit-progress-bar {\n",
       "        background: #F44336;\n",
       "    }\n",
       "</style>\n"
      ],
      "text/plain": [
       "<IPython.core.display.HTML object>"
      ]
     },
     "metadata": {},
     "output_type": "display_data"
    },
    {
     "data": {
      "text/html": [
       "<table border=\"1\" class=\"dataframe\">\n",
       "  <thead>\n",
       "    <tr style=\"text-align: left;\">\n",
       "      <th>MulticlassAccuracy</th>\n",
       "      <th>loss</th>\n",
       "      <th>epoch</th>\n",
       "      <th>train</th>\n",
       "    </tr>\n",
       "  </thead>\n",
       "  <tbody>\n",
       "    <tr>\n",
       "      <td>0.733</td>\n",
       "      <td>0.765</td>\n",
       "      <td>0</td>\n",
       "      <td>train</td>\n",
       "    </tr>\n",
       "    <tr>\n",
       "      <td>0.816</td>\n",
       "      <td>0.528</td>\n",
       "      <td>0</td>\n",
       "      <td>valid</td>\n",
       "    </tr>\n",
       "  </tbody>\n",
       "</table>"
      ],
      "text/plain": [
       "<IPython.core.display.HTML object>"
      ]
     },
     "metadata": {},
     "output_type": "display_data"
    },
    {
     "data": {
      "image/png": "[encoded data removed]",
      "text/plain": [
       "<Figure size 600x400 with 1 Axes>"
      ]
     },
     "metadata": {},
     "output_type": "display_data"
    }
   ],
   "source": [
    "model = nn.Sequential(nn.Linear(28*28, 50), nn.ReLU(), nn.Linear(50, 10))\n",
    "cbs = [DeviceCB(), MetricsCB(MulticlassAccuracy()), ProgressCB(True)]\n",
    "learn = MomentumLearner(model, dls, F.cross_entropy, 0.1, cbs, torch.optim.SGD)\n",
    "learn.fit(1)"
   ]
  },
  {
   "cell_type": "markdown",
   "id": "1284c8a9-c2e3-4e2e-9e28-bcbc0a4a8010",
   "metadata": {},
   "source": [
    "# LRFinderCB"
   ]
  },
  {
   "cell_type": "code",
   "execution_count": null,
   "id": "b58bb6fb-c39a-44a3-b673-a0e083a69040",
   "metadata": {},
   "outputs": [
    {
     "data": {
      "text/plain": [
       "0.1"
      ]
     },
     "execution_count": null,
     "metadata": {},
     "output_type": "execute_result"
    }
   ],
   "source": [
    "learn.opt.param_groups[0][\"lr\"]"
   ]
  },
  {
   "cell_type": "code",
   "execution_count": null,
   "id": "d219bfda-8439-4ea9-a47c-36d112b6b455",
   "metadata": {},
   "outputs": [],
   "source": [
    "class LRFinderCB(Callback):\n",
    "    def __init__(self, mult=1.3): self.mult = mult\n",
    "\n",
    "    def before_fit(self, learn):\n",
    "        self.lrs = []\n",
    "        self.losses = []\n",
    "        self.min = float(\"inf\")\n",
    "\n",
    "    def after_batch(self, learn):\n",
    "        if not learn.model.training:\n",
    "            raise CancelEpochException()\n",
    "        self.lrs.append(learn.opt.param_groups[0][\"lr\"])\n",
    "        loss = learn.loss.item()\n",
    "        self.losses.append(loss)\n",
    "        self.min = min(loss, self.min)\n",
    "        if loss > self.min * 3:\n",
    "            raise CancelFitException()\n",
    "        for pg in learn.opt.param_groups:\n",
    "            pg[\"lr\"] *= self.mult\n",
    "\n",
    "    def after_fit(self, learn):\n",
    "        plt.plot(self.lrs, self.losses)\n",
    "        plt.xscale(\"log\")"
   ]
  },
  {
   "cell_type": "code",
   "execution_count": null,
   "id": "1b0c1604-125e-41b3-8164-c8ce87ba963d",
   "metadata": {},
   "outputs": [
    {
     "data": {
      "text/html": [
       "\n",
       "<style>\n",
       "    /* Turns off some styling */\n",
       "    progress {\n",
       "        /* gets rid of default border in Firefox and Opera. */\n",
       "        border: none;\n",
       "        /* Needs to be in here for Safari polyfill so background images work as expected. */\n",
       "        background-size: auto;\n",
       "    }\n",
       "    progress:not([value]), progress:not([value])::-webkit-progress-bar {\n",
       "        background: repeating-linear-gradient(45deg, #7e7e7e, #7e7e7e 10px, #5c5c5c 10px, #5c5c5c 20px);\n",
       "    }\n",
       "    .progress-bar-interrupted, .progress-bar-interrupted::-webkit-progress-bar {\n",
       "        background: #F44336;\n",
       "    }\n",
       "</style>\n"
      ],
      "text/plain": [
       "<IPython.core.display.HTML object>"
      ]
     },
     "metadata": {},
     "output_type": "display_data"
    },
    {
     "data": {
      "text/html": [
       "\n",
       "    <div>\n",
       "      <progress value='0' class='' max='3' style='width:300px; height:20px; vertical-align: middle;'></progress>\n",
       "      0.00% [0/3 00:00&lt;?]\n",
       "    </div>\n",
       "    \n",
       "\n",
       "\n",
       "    <div>\n",
       "      <progress value='29' class='' max='118' style='width:300px; height:20px; vertical-align: middle;'></progress>\n",
       "      24.58% [29/118 00:00&lt;00:01 1.3599]\n",
       "    </div>\n",
       "    "
      ],
      "text/plain": [
       "<IPython.core.display.HTML object>"
      ]
     },
     "metadata": {},
     "output_type": "display_data"
    }
   ],
   "source": [
    "model = nn.Sequential(nn.Linear(28*28, 50), nn.ReLU(), nn.Linear(50, 10))\n",
    "cbs = [DeviceCB(), LRFinderCB(), ProgressCB()]\n",
    "learn = MomentumLearner(model, dls, F.cross_entropy, 0.0001, cbs, torch.optim.SGD)\n",
    "learn.fit(3)"
   ]
  },
  {
   "cell_type": "code",
   "execution_count": null,
   "id": "ba93efdc-d60b-496b-91a5-cf299ccd6c2d",
   "metadata": {},
   "outputs": [
    {
     "data": {
      "image/png": "[encoded data removed]",
      "text/plain": [
       "<Figure size 640x480 with 1 Axes>"
      ]
     },
     "metadata": {},
     "output_type": "display_data"
    }
   ],
   "source": [
    "cbs[1].after_fit(learn);"
   ]
  },
  {
   "cell_type": "code",
   "execution_count": null,
   "id": "f5009c27-c8ca-4ff5-886e-b203874614b6",
   "metadata": {},
   "outputs": [],
   "source": [
    "#| export\n",
    "from torch.optim.lr_scheduler import ExponentialLR"
   ]
  },
  {
   "cell_type": "code",
   "execution_count": null,
   "id": "02d73b75-97d5-4a08-91af-f6a0b7cf9774",
   "metadata": {},
   "outputs": [
    {
     "data": {
      "text/plain": [
       "\u001b[0;31mInit signature:\u001b[0m \u001b[0mExponentialLR\u001b[0m\u001b[0;34m(\u001b[0m\u001b[0moptimizer\u001b[0m\u001b[0;34m,\u001b[0m \u001b[0mgamma\u001b[0m\u001b[0;34m,\u001b[0m \u001b[0mlast_epoch\u001b[0m\u001b[0;34m=\u001b[0m\u001b[0;34m-\u001b[0m\u001b[0;36m1\u001b[0m\u001b[0;34m,\u001b[0m \u001b[0mverbose\u001b[0m\u001b[0;34m=\u001b[0m\u001b[0;32mFalse\u001b[0m\u001b[0;34m)\u001b[0m\u001b[0;34m\u001b[0m\u001b[0;34m\u001b[0m\u001b[0m\n",
       "\u001b[0;31mDocstring:\u001b[0m     \n",
       "Decays the learning rate of each parameter group by gamma every epoch.\n",
       "When last_epoch=-1, sets initial lr as lr.\n",
       "\n",
       "Args:\n",
       "    optimizer (Optimizer): Wrapped optimizer.\n",
       "    gamma (float): Multiplicative factor of learning rate decay.\n",
       "    last_epoch (int): The index of last epoch. Default: -1.\n",
       "    verbose (bool): If ``True``, prints a message to stdout for\n",
       "        each update. Default: ``False``.\n",
       "\u001b[0;31mFile:\u001b[0m           ~/miniforge3/envs/fastai/lib/python3.11/site-packages/torch/optim/lr_scheduler.py\n",
       "\u001b[0;31mType:\u001b[0m           type\n",
       "\u001b[0;31mSubclasses:\u001b[0m     "
      ]
     },
     "metadata": {},
     "output_type": "display_data"
    }
   ],
   "source": [
    "ExponentialLR?"
   ]
  },
  {
   "cell_type": "code",
   "execution_count": null,
   "id": "af294d91-7663-44cb-a26a-aa962a4360c1",
   "metadata": {},
   "outputs": [],
   "source": [
    "#|export\n",
    "class LRFinderCB(Callback):\n",
    "    def __init__(self, mult=1.3, threshold=3.0): fc.store_attr()\n",
    "\n",
    "    def before_fit(self, learn):\n",
    "        self.lrs = []\n",
    "        self.losses = []\n",
    "        self.min = float(\"inf\")\n",
    "        self.sched = ExponentialLR(learn.opt, self.mult)\n",
    "\n",
    "    def after_batch(self, learn):\n",
    "        if not learn.model.training:\n",
    "            raise CancelEpochException()\n",
    "        self.lrs.append(learn.opt.param_groups[0][\"lr\"])\n",
    "        loss = to_cpu(learn.loss).item()\n",
    "        self.losses.append(loss)\n",
    "        self.min = min(loss, self.min)\n",
    "        if math.isnan(loss) or loss > self.min * self.threshold:\n",
    "            raise CancelFitException()\n",
    "        self.sched.step()\n",
    "\n",
    "    def cleanup_fit(self, learn):\n",
    "        plt.plot(self.lrs, self.losses)\n",
    "        plt.xscale(\"log\")"
   ]
  },
  {
   "cell_type": "code",
   "execution_count": null,
   "id": "9862ec38-dee2-484c-8ade-5495f54028b0",
   "metadata": {},
   "outputs": [
    {
     "data": {
      "text/html": [
       "\n",
       "<style>\n",
       "    /* Turns off some styling */\n",
       "    progress {\n",
       "        /* gets rid of default border in Firefox and Opera. */\n",
       "        border: none;\n",
       "        /* Needs to be in here for Safari polyfill so background images work as expected. */\n",
       "        background-size: auto;\n",
       "    }\n",
       "    progress:not([value]), progress:not([value])::-webkit-progress-bar {\n",
       "        background: repeating-linear-gradient(45deg, #7e7e7e, #7e7e7e 10px, #5c5c5c 10px, #5c5c5c 20px);\n",
       "    }\n",
       "    .progress-bar-interrupted, .progress-bar-interrupted::-webkit-progress-bar {\n",
       "        background: #F44336;\n",
       "    }\n",
       "</style>\n"
      ],
      "text/plain": [
       "<IPython.core.display.HTML object>"
      ]
     },
     "metadata": {},
     "output_type": "display_data"
    },
    {
     "data": {
      "text/html": [
       "\n",
       "    <div>\n",
       "      <progress value='0' class='' max='3' style='width:300px; height:20px; vertical-align: middle;'></progress>\n",
       "      0.00% [0/3 00:00&lt;?]\n",
       "    </div>\n",
       "    \n",
       "\n",
       "\n",
       "    <div>\n",
       "      <progress value='29' class='' max='118' style='width:300px; height:20px; vertical-align: middle;'></progress>\n",
       "      24.58% [29/118 00:00&lt;00:01 1.4081]\n",
       "    </div>\n",
       "    "
      ],
      "text/plain": [
       "<IPython.core.display.HTML object>"
      ]
     },
     "metadata": {},
     "output_type": "display_data"
    },
    {
     "data": {
      "image/png": "[encoded data removed]",
      "text/plain": [
       "<Figure size 640x480 with 1 Axes>"
      ]
     },
     "metadata": {},
     "output_type": "display_data"
    }
   ],
   "source": [
    "model = nn.Sequential(nn.Linear(28*28, 50), nn.ReLU(), nn.Linear(50, 10))\n",
    "cbs = [DeviceCB(), LRFinderCB(), ProgressCB()]\n",
    "learn = MomentumLearner(model, dls, F.cross_entropy, 0.0001, cbs, torch.optim.SGD)\n",
    "learn.fit(3)"
   ]
  },
  {
   "cell_type": "code",
   "execution_count": null,
   "id": "a8663539-99ce-4faf-b892-51cf90387fe5",
   "metadata": {},
   "outputs": [],
   "source": [
    "#| export\n",
    "@fc.patch\n",
    "def lr_find(self:Learner, mult=1.3, threshold=3.0, start_lr=1e-5, max_epochs=10):\n",
    "    self.fit(max_epochs, lr=start_lr, cbs=[LRFinderCB(mult=mult, threshold=threshold)])"
   ]
  },
  {
   "cell_type": "code",
   "execution_count": null,
   "id": "e4c87515-3203-485e-b58d-d31e1287cd57",
   "metadata": {},
   "outputs": [
    {
     "data": {
      "image/png": "[encoded data removed]",
      "text/plain": [
       "<Figure size 640x480 with 1 Axes>"
      ]
     },
     "metadata": {},
     "output_type": "display_data"
    }
   ],
   "source": [
    "model = nn.Sequential(nn.Linear(28*28, 50), nn.ReLU(), nn.Linear(50, 10))\n",
    "cbs = [DeviceCB()]\n",
    "learn = MomentumLearner(model, dls, F.cross_entropy, 0.0001, cbs, torch.optim.SGD)\n",
    "learn.lr_find()"
   ]
  },
  {
   "cell_type": "markdown",
   "id": "8c921c8f-c9f5-450b-bd4b-e24748761ea4",
   "metadata": {},
   "source": [
    "# Export"
   ]
  },
  {
   "cell_type": "code",
   "execution_count": null,
   "id": "8a8f23b3-caa9-4751-a505-58b40bc55c6f",
   "metadata": {},
   "outputs": [],
   "source": [
    "import nbdev; nbdev.nbdev_export()"
   ]
  },
  {
   "cell_type": "code",
   "execution_count": null,
   "id": "2247fc60-c2a9-4ce9-a266-2b6bb7356807",
   "metadata": {},
   "outputs": [],
   "source": []
  }
 ],
 "metadata": {
  "kernelspec": {
   "display_name": "python3",
   "language": "python",
   "name": "python3"
  }
 },
 "nbformat": 4,
 "nbformat_minor": 5
}
