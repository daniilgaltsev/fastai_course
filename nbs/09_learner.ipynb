{
 "cells": [
  {
   "cell_type": "code",
   "execution_count": null,
   "id": "9e3bfadc-648a-4b9a-8b62-a2e2fdb775f8",
   "metadata": {},
   "outputs": [],
   "source": [
    "#| default_exp learner"
   ]
  },
  {
   "cell_type": "markdown",
   "id": "bcf85800-7103-4dd7-b231-1f5610ee1dd4",
   "metadata": {},
   "source": [
    "These were directly copied from the corresponding notebook."
   ]
  },
  {
   "cell_type": "code",
   "execution_count": null,
   "id": "ac9da12f-9c73-4cbe-83c8-e1aa46aeaff7",
   "metadata": {},
   "outputs": [],
   "source": [
    "#|export\n",
    "import math,torch,matplotlib.pyplot as plt\n",
    "import fastcore.all as fc\n",
    "from collections.abc import Mapping\n",
    "from operator import attrgetter\n",
    "from functools import partial\n",
    "from copy import copy\n",
    "\n",
    "from torch import optim\n",
    "import torch.nn.functional as F\n",
    "\n",
    "from miniai.conv import *\n",
    "\n",
    "from fastprogress import progress_bar,master_bar"
   ]
  },
  {
   "cell_type": "code",
   "execution_count": null,
   "id": "32f63c7b-d8f7-4b21-ae7c-5c9fd9ef2b70",
   "metadata": {},
   "outputs": [],
   "source": [
    "import matplotlib as mpl\n",
    "import torchvision.transforms.functional as TF\n",
    "from contextlib import contextmanager\n",
    "from torch import nn,tensor\n",
    "from datasets import load_dataset,load_dataset_builder\n",
    "from miniai.datasets import *\n",
    "from miniai.conv import *\n",
    "import logging\n",
    "from fastcore.test import test_close"
   ]
  },
  {
   "cell_type": "code",
   "execution_count": null,
   "id": "3c6e6640-6d11-40ca-8bbc-bc7d54d08e69",
   "metadata": {},
   "outputs": [],
   "source": [
    "from torch.utils.data import DataLoader"
   ]
  },
  {
   "cell_type": "code",
   "execution_count": null,
   "id": "24b8561b-8d79-4f5b-8832-ac2a54081adb",
   "metadata": {},
   "outputs": [],
   "source": [
    "torch.set_printoptions(precision=2, linewidth=180, sci_mode=False)\n",
    "torch.manual_seed(1103)\n",
    "mpl.rcParams['image.cmap'] = 'gray'"
   ]
  },
  {
   "cell_type": "code",
   "execution_count": null,
   "id": "9fb87fa1-a70b-40a3-b24e-48bb950974db",
   "metadata": {},
   "outputs": [],
   "source": [
    "logging.disable(logging.WARNING)"
   ]
  },
  {
   "cell_type": "markdown",
   "id": "581f4466-dc6a-408c-ae02-df04a213b26e",
   "metadata": {},
   "source": [
    "# Learner"
   ]
  },
  {
   "cell_type": "code",
   "execution_count": null,
   "id": "a8b2b2ba-c1e5-434c-9ebe-eeca4f7b4418",
   "metadata": {},
   "outputs": [],
   "source": [
    "x, y = \"image\", \"label\"\n",
    "name = \"fashion_mnist\"\n",
    "ds = load_dataset(name)\n",
    "@inplace\n",
    "def transformi(b):\n",
    "    b[x] = [torch.flatten(TF.to_tensor(i)) for i in b[x]]\n",
    "dst = ds.with_transform(transformi)"
   ]
  },
  {
   "cell_type": "code",
   "execution_count": null,
   "id": "97487fac-dfd3-4009-8075-6af90a61125d",
   "metadata": {},
   "outputs": [],
   "source": [
    "#| export\n",
    "class DataLoaders:\n",
    "    def __init__(self, *dls):\n",
    "        self.train, self.valid = dls[0], dls[1]\n",
    "\n",
    "    @classmethod\n",
    "    def from_dd(cls, dd, batch_size, as_tuple=True, num_workers=4):\n",
    "        return cls(*[\n",
    "            DataLoader(\n",
    "                ds, batch_size=batch_size,\n",
    "                collate_fn=collate_dict(ds), num_workers=num_workers\n",
    "            ) for ds in dd.values()\n",
    "        ])"
   ]
  },
  {
   "cell_type": "code",
   "execution_count": null,
   "id": "bafd2e18-bff9-437b-bfa6-f7ca577b8363",
   "metadata": {},
   "outputs": [],
   "source": [
    "bs = 512\n",
    "dls = DataLoaders.from_dd(dst, bs)\n",
    "b = next(iter(dls.train))"
   ]
  },
  {
   "cell_type": "code",
   "execution_count": null,
   "id": "fd9b96b0-1808-46e7-ac58-c4fa10d173fa",
   "metadata": {},
   "outputs": [
    {
     "data": {
      "text/plain": [
       "(torch.Size([512, 784]), torch.Size([512]))"
      ]
     },
     "execution_count": null,
     "metadata": {},
     "output_type": "execute_result"
    }
   ],
   "source": [
    "b[0].shape, b[1].shape"
   ]
  },
  {
   "cell_type": "code",
   "execution_count": null,
   "id": "0b56edb5-43e9-4a97-921c-2483563e1738",
   "metadata": {},
   "outputs": [],
   "source": [
    "from miniai.training import accuracy"
   ]
  },
  {
   "cell_type": "code",
   "execution_count": null,
   "id": "a3b9d6f2-c9eb-43be-b53b-33dbccf9c6f5",
   "metadata": {},
   "outputs": [],
   "source": [
    "class Learner:\n",
    "    def __init__(self, model, dls, loss_func, lr, opt_func): fc.store_attr()\n",
    "\n",
    "    def one_batch(self):\n",
    "        self.xb, self.yb = to_device(self.batch)\n",
    "        self.preds = self.model(self.xb)\n",
    "        self.loss = self.loss_func(self.preds, self.yb)\n",
    "        if self.model.training:\n",
    "            self.loss.backward()\n",
    "            self.opt.step()\n",
    "            self.opt.zero_grad()\n",
    "        with torch.no_grad():\n",
    "            self.calc_stats()\n",
    "\n",
    "    def calc_stats(self):\n",
    "        n = self.xb.shape[0]\n",
    "        self.losses.append(self.loss.item() * n)\n",
    "        self.counts.append(n)\n",
    "        self.accs.append(accuracy(self.preds, self.yb) * n)\n",
    "\n",
    "    def one_epoch(self, train):\n",
    "        self.model.training = train\n",
    "        if train:\n",
    "            dl = self.dls.valid\n",
    "        else:\n",
    "            dl = self.dls.train\n",
    "\n",
    "        for self.batch_idx, self.batch in enumerate(dl):\n",
    "            self.one_batch()\n",
    "        count = sum(self.counts)\n",
    "        stage = \"train\" if train else \"valid\"\n",
    "        print(f\"Epoch {self.epoch}, {stage}:  loss={sum(self.losses)/count:.4f}, accuracy={sum(self.accs)/count:.2f}\")\n",
    "\n",
    "    def fit(self, n_epochs):\n",
    "        self.losses, self.counts, self.accs = [], [], []\n",
    "        self.model.to(def_device)\n",
    "        self.opt = self.opt_func(self.model.parameters(), self.lr)\n",
    "        for self.epoch in range(n_epochs):\n",
    "            self.one_epoch(True)\n",
    "            self.one_epoch(False)\n",
    "        "
   ]
  },
  {
   "cell_type": "code",
   "execution_count": null,
   "id": "30cdccd6-f4dc-40e0-9ffd-f05fa7e9722d",
   "metadata": {},
   "outputs": [
    {
     "data": {
      "text/plain": [
       "torch.Size([512, 784])"
      ]
     },
     "execution_count": null,
     "metadata": {},
     "output_type": "execute_result"
    }
   ],
   "source": [
    "b[0].shape"
   ]
  },
  {
   "cell_type": "code",
   "execution_count": null,
   "id": "7844eb00-2482-4953-95e6-17f0f0c8a2ab",
   "metadata": {},
   "outputs": [],
   "source": [
    "model = nn.Sequential(nn.Linear(28*28, 50), nn.ReLU(), nn.Linear(50, 10))"
   ]
  },
  {
   "cell_type": "code",
   "execution_count": null,
   "id": "9c8180eb-4db8-4c97-8960-383833974576",
   "metadata": {},
   "outputs": [],
   "source": [
    "learn = Learner(model, dls, F.cross_entropy, 0.1, torch.optim.SGD)"
   ]
  },
  {
   "cell_type": "code",
   "execution_count": null,
   "id": "595e83a4-db4e-4a26-8d4a-3299cabe2467",
   "metadata": {},
   "outputs": [
    {
     "name": "stdout",
     "output_type": "stream",
     "text": [
      "Epoch 0, train:  loss=1.9508, accuracy=0.46\n",
      "Epoch 0, valid:  loss=1.5761, accuracy=0.57\n",
      "Epoch 1, train:  loss=1.5374, accuracy=0.58\n",
      "Epoch 1, valid:  loss=1.3353, accuracy=0.61\n"
     ]
    }
   ],
   "source": [
    "learn.fit(2)"
   ]
  },
  {
   "cell_type": "markdown",
   "id": "575d60c4-5c7b-4f3b-9d89-4a3fa163914b",
   "metadata": {},
   "source": [
    "# Metrics"
   ]
  },
  {
   "cell_type": "code",
   "execution_count": null,
   "id": "c7e54f7c-86a9-4a0e-b4d8-2913a21939b5",
   "metadata": {},
   "outputs": [],
   "source": [
    "#| export\n",
    "class Metric:\n",
    "    def __init__(self): self.reset()\n",
    "\n",
    "    def reset(self):\n",
    "        self.values = []\n",
    "        self.counts = []\n",
    "\n",
    "    def add(self, inp, targ=None, n=1):\n",
    "        self.values.append(self.calc(inp, targ))\n",
    "        self.counts.append(n)\n",
    "\n",
    "    @property\n",
    "    def value(self):\n",
    "        return (torch.tensor(self.values) * torch.tensor(self.counts)).sum() / sum(self.counts)\n",
    "\n",
    "    def calc(self, inp, targ):\n",
    "        return inp"
   ]
  },
  {
   "cell_type": "code",
   "execution_count": null,
   "id": "e25d9e11-3469-45fa-8d55-1877dd738d89",
   "metadata": {},
   "outputs": [],
   "source": [
    "#| export\n",
    "class Accuracy(Metric):\n",
    "    def calc(self, inp, targ):\n",
    "        return (inp == targ).float().mean()"
   ]
  },
  {
   "cell_type": "code",
   "execution_count": null,
   "id": "7b41a422-960d-4a6c-8e9d-7a5f3d72a7cb",
   "metadata": {},
   "outputs": [
    {
     "name": "stdout",
     "output_type": "stream",
     "text": [
      "tensor(0.)\n"
     ]
    },
    {
     "data": {
      "text/plain": [
       "(tensor(0.57), 0.5714285714285714)"
      ]
     },
     "execution_count": null,
     "metadata": {},
     "output_type": "execute_result"
    }
   ],
   "source": [
    "acc = Accuracy()\n",
    "acc.add(torch.tensor([2, 1, 1]), torch.tensor([1, 2, 2]), 3)\n",
    "print(acc.value)\n",
    "acc.add(torch.tensor([1, 2, 2, 1]), torch.tensor([1, 2, 2, 1]), 4)\n",
    "acc.value, 4/7"
   ]
  },
  {
   "cell_type": "code",
   "execution_count": null,
   "id": "3d7d2243-2383-4e51-9df7-1714091270c0",
   "metadata": {},
   "outputs": [
    {
     "name": "stdout",
     "output_type": "stream",
     "text": [
      "tensor(0.10)\n",
      "tensor(1.)\n"
     ]
    }
   ],
   "source": [
    "loss = Metric()\n",
    "loss.add(0.1, n=100)\n",
    "print(loss.value)\n",
    "loss.add(1.1, n=900)\n",
    "print(loss.value)"
   ]
  },
  {
   "cell_type": "markdown",
   "id": "03c49356-36f7-4611-8229-dc06c4ca86ab",
   "metadata": {},
   "source": [
    "# Callbacks Learner"
   ]
  },
  {
   "cell_type": "code",
   "execution_count": null,
   "id": "adf0262e-79ba-4028-873f-7506616d0d6f",
   "metadata": {},
   "outputs": [],
   "source": [
    "#| export\n",
    "def identity(*args):\n",
    "    return (*args,)"
   ]
  },
  {
   "cell_type": "code",
   "execution_count": null,
   "id": "0a3655d3-d6cc-4edf-965b-c5869759391e",
   "metadata": {},
   "outputs": [
    {
     "data": {
      "text/plain": [
       "()"
      ]
     },
     "execution_count": null,
     "metadata": {},
     "output_type": "execute_result"
    }
   ],
   "source": [
    "identity()"
   ]
  },
  {
   "cell_type": "code",
   "execution_count": null,
   "id": "9877276a-ef34-46cf-9141-7291d92bc70a",
   "metadata": {},
   "outputs": [
    {
     "data": {
      "text/plain": [
       "(1,)"
      ]
     },
     "execution_count": null,
     "metadata": {},
     "output_type": "execute_result"
    }
   ],
   "source": [
    "identity(1)"
   ]
  },
  {
   "cell_type": "code",
   "execution_count": null,
   "id": "9deefd5b-6a9e-49a2-ae2b-9a0a86bc56e5",
   "metadata": {},
   "outputs": [
    {
     "data": {
      "text/plain": [
       "(1, 2)"
      ]
     },
     "execution_count": null,
     "metadata": {},
     "output_type": "execute_result"
    }
   ],
   "source": [
    "identity(1, 2)"
   ]
  },
  {
   "cell_type": "code",
   "execution_count": null,
   "id": "dbe3991d-0161-4a8a-a180-bf8f4294f41e",
   "metadata": {},
   "outputs": [
    {
     "data": {
      "text/plain": [
       "([1, 2],)"
      ]
     },
     "execution_count": null,
     "metadata": {},
     "output_type": "execute_result"
    }
   ],
   "source": [
    "identity([1,2])"
   ]
  },
  {
   "cell_type": "code",
   "execution_count": null,
   "id": "04522009-7d03-4155-b1fc-4bbccf045124",
   "metadata": {},
   "outputs": [
    {
     "data": {
      "text/plain": [
       "([1], (2,), {3: 3}, 4)"
      ]
     },
     "execution_count": null,
     "metadata": {},
     "output_type": "execute_result"
    }
   ],
   "source": [
    "identity([1], (2,), {3:3}, 4)"
   ]
  },
  {
   "cell_type": "code",
   "execution_count": null,
   "id": "d44febe6-1d30-4451-8a70-c1314588d688",
   "metadata": {},
   "outputs": [],
   "source": [
    "#| export\n",
    "class CancelFitException(Exception): ...\n",
    "class CancelBatchException(Exception): ...\n",
    "class CancelEpochException(Exception): ..."
   ]
  },
  {
   "cell_type": "code",
   "execution_count": null,
   "id": "5da10015-ab91-4ee6-a108-5f0086c5126a",
   "metadata": {},
   "outputs": [],
   "source": [
    "#| export\n",
    "class with_cbs:\n",
    "    def __init__(self, nm):\n",
    "        self.nm = nm\n",
    "        self.before = f\"before_{nm}\"\n",
    "        self.after = f\"after_{nm}\"\n",
    "        self.exception = f\"Cancel{nm.title()}Exception\"\n",
    "\n",
    "    def __call__(self, f):\n",
    "        def _f(o, *args, **kwargs):\n",
    "            try:\n",
    "                o.callback(self.before)\n",
    "                f(o, *args, **kwargs)\n",
    "                o.callback(self.after)\n",
    "            except globals()[self.exception]: ...\n",
    "        return _f\n",
    "                "
   ]
  },
  {
   "cell_type": "code",
   "execution_count": null,
   "id": "c2ff8aab-0bc1-41c0-a4df-c9bc53d123e8",
   "metadata": {},
   "outputs": [],
   "source": [
    "#|export\n",
    "class Learner:\n",
    "    def __init__(self, model, dls, loss_func, lr, cbs, opt_func):\n",
    "        fc.store_attr()\n",
    "        for cb in cbs:\n",
    "            cb.learn = self\n",
    "\n",
    "    @with_cbs(\"batch\")\n",
    "    def one_batch(self):\n",
    "        self.predict()\n",
    "        self.get_loss()\n",
    "        if self.model.training:\n",
    "            self.backward()\n",
    "            self.step()\n",
    "            self.zero_grad()\n",
    "\n",
    "    def one_epoch(self, train):\n",
    "        self.model.train(train)\n",
    "        if train:\n",
    "            self.dl = self.dls.valid\n",
    "        else:\n",
    "            self.dl = self.dls.train\n",
    "\n",
    "        self._one_epoch()\n",
    "\n",
    "    @with_cbs(\"epoch\")\n",
    "    def _one_epoch(self):\n",
    "        for self.batch_idx, self.batch in enumerate(self.dl):\n",
    "            self.one_batch()\n",
    "\n",
    "    def fit(self, n_epochs):\n",
    "        self.n_epochs = n_epochs\n",
    "        self.range_epochs = range(self.n_epochs)\n",
    "        self.opt = self.opt_func(self.model.parameters(), self.lr)\n",
    "        self._fit()\n",
    "\n",
    "    @with_cbs(\"fit\")\n",
    "    def _fit(self):\n",
    "        for self.epoch in self.range_epochs:\n",
    "            self.one_epoch(True)\n",
    "            self.one_epoch(False)\n",
    "\n",
    "    def __getattr__(self, name):\n",
    "        if name in (\"predict\", \"get_loss\", \"backward\", \"step\", \"zero_grad\"):\n",
    "            return partial(self.callback, name)\n",
    "        raise AttributeError(name)\n",
    "    \n",
    "    def callback(self, method_nm):\n",
    "        for cb in sorted(self.cbs, key=lambda x: x.order):\n",
    "            getattr(cb, method_nm, identity)()"
   ]
  },
  {
   "cell_type": "code",
   "execution_count": null,
   "id": "ff59de23-323f-48ce-9d62-1aeaa59d5fd2",
   "metadata": {},
   "outputs": [],
   "source": [
    "#| export\n",
    "class Callback:\n",
    "    order = 0"
   ]
  },
  {
   "cell_type": "code",
   "execution_count": null,
   "id": "ef24b612-6d7a-4285-be5d-9a3fc9e17914",
   "metadata": {},
   "outputs": [],
   "source": [
    "#| export\n",
    "class TrainCB(Callback):\n",
    "    def predict(self):\n",
    "        self.learn.preds = self.learn.model(self.learn.batch[0])\n",
    "\n",
    "    def get_loss(self):\n",
    "        self.learn.loss = self.learn.loss_func(self.learn.preds, self.learn.batch[1])\n",
    "\n",
    "    def backward(self):\n",
    "        self.learn.loss.backward()\n",
    "\n",
    "    def step(self):\n",
    "        self.learn.opt.step()\n",
    "\n",
    "    def zero_grad(self):\n",
    "        self.learn.opt.zero_grad()"
   ]
  },
  {
   "cell_type": "code",
   "execution_count": null,
   "id": "8d7779e3-5223-4c24-bec7-e195534a9cd9",
   "metadata": {},
   "outputs": [],
   "source": [
    "#|export\n",
    "class DeviceCB(Callback):\n",
    "    def before_fit(self):\n",
    "        self.learn.model.to(def_device)\n",
    "    def before_batch(self):\n",
    "        self.learn.batch = to_device(self.learn.batch)"
   ]
  },
  {
   "cell_type": "code",
   "execution_count": null,
   "id": "94023157-fa58-4677-89e1-c66e7ea0c11c",
   "metadata": {},
   "outputs": [],
   "source": [
    "#|export\n",
    "class MetricsCB(Callback):\n",
    "    def __init__(self, metric=None):\n",
    "        self.loss = Metric()\n",
    "        self.metrics = [self.loss]\n",
    "        self.metric = metric\n",
    "        if metric is not None:\n",
    "            self.metrics.append(self.metric)\n",
    "\n",
    "    def log(self, *s):\n",
    "        stage = \"train\" if self.learn.model.training else \"valid\"\n",
    "        print(f\"Epoch {self.learn.epoch}, {stage}:\", *s) \n",
    "\n",
    "    def before_fit(self): self.learn.metrics = self\n",
    "\n",
    "    def before_epoch(self):\n",
    "        for m in self.metrics:\n",
    "            m.reset()\n",
    "\n",
    "    def after_epoch(self):\n",
    "        self.log(*[f\"{m.value:.3f}\" for m in self.metrics])\n",
    "\n",
    "    def after_batch(self):\n",
    "        if self.metric:\n",
    "            self.metric.add(self.learn.preds.argmax(dim=1), self.learn.batch[1])\n",
    "        self.loss.add(self.learn.loss, n=self.learn.batch[1].shape[0])"
   ]
  },
  {
   "cell_type": "code",
   "execution_count": null,
   "id": "11be38a4-887e-450a-9068-15811f072942",
   "metadata": {},
   "outputs": [
    {
     "data": {
      "text/plain": [
       "\u001b[0;31mInit signature:\u001b[0m\n",
       "\u001b[0mprogress_bar\u001b[0m\u001b[0;34m(\u001b[0m\u001b[0;34m\u001b[0m\n",
       "\u001b[0;34m\u001b[0m    \u001b[0mgen\u001b[0m\u001b[0;34m,\u001b[0m\u001b[0;34m\u001b[0m\n",
       "\u001b[0;34m\u001b[0m    \u001b[0mtotal\u001b[0m\u001b[0;34m=\u001b[0m\u001b[0;32mNone\u001b[0m\u001b[0;34m,\u001b[0m\u001b[0;34m\u001b[0m\n",
       "\u001b[0;34m\u001b[0m    \u001b[0mdisplay\u001b[0m\u001b[0;34m=\u001b[0m\u001b[0;32mTrue\u001b[0m\u001b[0;34m,\u001b[0m\u001b[0;34m\u001b[0m\n",
       "\u001b[0;34m\u001b[0m    \u001b[0mleave\u001b[0m\u001b[0;34m=\u001b[0m\u001b[0;32mTrue\u001b[0m\u001b[0;34m,\u001b[0m\u001b[0;34m\u001b[0m\n",
       "\u001b[0;34m\u001b[0m    \u001b[0mparent\u001b[0m\u001b[0;34m=\u001b[0m\u001b[0;32mNone\u001b[0m\u001b[0;34m,\u001b[0m\u001b[0;34m\u001b[0m\n",
       "\u001b[0;34m\u001b[0m    \u001b[0mmaster\u001b[0m\u001b[0;34m=\u001b[0m\u001b[0;32mNone\u001b[0m\u001b[0;34m,\u001b[0m\u001b[0;34m\u001b[0m\n",
       "\u001b[0;34m\u001b[0m    \u001b[0mcomment\u001b[0m\u001b[0;34m=\u001b[0m\u001b[0;34m''\u001b[0m\u001b[0;34m,\u001b[0m\u001b[0;34m\u001b[0m\n",
       "\u001b[0;34m\u001b[0m\u001b[0;34m)\u001b[0m\u001b[0;34m\u001b[0m\u001b[0;34m\u001b[0m\u001b[0m\n",
       "\u001b[0;31mDocstring:\u001b[0m      <no docstring>\n",
       "\u001b[0;31mFile:\u001b[0m           ~/miniforge3/envs/fastai/lib/python3.11/site-packages/fastprogress/fastprogress.py\n",
       "\u001b[0;31mType:\u001b[0m           type\n",
       "\u001b[0;31mSubclasses:\u001b[0m     "
      ]
     },
     "metadata": {},
     "output_type": "display_data"
    }
   ],
   "source": [
    "progress_bar?"
   ]
  },
  {
   "cell_type": "code",
   "execution_count": null,
   "id": "e15b0504-acc2-40d1-bb6f-c8efde2805d7",
   "metadata": {},
   "outputs": [
    {
     "name": "stdout",
     "output_type": "stream",
     "text": [
      "['first_its', 'lt', 'on_interrupt', 'on_iter_begin', 'on_iter_end', 'on_update', 'update', 'update_bar', 'update_every']\n"
     ]
    }
   ],
   "source": [
    "print(list(filter(lambda x: x[0]!='_', dir(progress_bar))))"
   ]
  },
  {
   "cell_type": "code",
   "execution_count": null,
   "id": "23e7b825-deea-48f6-8f5e-7c11f41913e1",
   "metadata": {},
   "outputs": [
    {
     "data": {
      "text/plain": [
       "\u001b[0;31mInit signature:\u001b[0m\n",
       "\u001b[0mmaster_bar\u001b[0m\u001b[0;34m(\u001b[0m\u001b[0;34m\u001b[0m\n",
       "\u001b[0;34m\u001b[0m    \u001b[0mgen\u001b[0m\u001b[0;34m,\u001b[0m\u001b[0;34m\u001b[0m\n",
       "\u001b[0;34m\u001b[0m    \u001b[0mtotal\u001b[0m\u001b[0;34m=\u001b[0m\u001b[0;32mNone\u001b[0m\u001b[0;34m,\u001b[0m\u001b[0;34m\u001b[0m\n",
       "\u001b[0;34m\u001b[0m    \u001b[0mhide_graph\u001b[0m\u001b[0;34m=\u001b[0m\u001b[0;32mFalse\u001b[0m\u001b[0;34m,\u001b[0m\u001b[0;34m\u001b[0m\n",
       "\u001b[0;34m\u001b[0m    \u001b[0morder\u001b[0m\u001b[0;34m=\u001b[0m\u001b[0;32mNone\u001b[0m\u001b[0;34m,\u001b[0m\u001b[0;34m\u001b[0m\n",
       "\u001b[0;34m\u001b[0m    \u001b[0mclean_on_interrupt\u001b[0m\u001b[0;34m=\u001b[0m\u001b[0;32mFalse\u001b[0m\u001b[0;34m,\u001b[0m\u001b[0;34m\u001b[0m\n",
       "\u001b[0;34m\u001b[0m    \u001b[0mtotal_time\u001b[0m\u001b[0;34m=\u001b[0m\u001b[0;32mFalse\u001b[0m\u001b[0;34m,\u001b[0m\u001b[0;34m\u001b[0m\n",
       "\u001b[0;34m\u001b[0m\u001b[0;34m)\u001b[0m\u001b[0;34m\u001b[0m\u001b[0;34m\u001b[0m\u001b[0m\n",
       "\u001b[0;31mDocstring:\u001b[0m      <no docstring>\n",
       "\u001b[0;31mFile:\u001b[0m           ~/miniforge3/envs/fastai/lib/python3.11/site-packages/fastprogress/fastprogress.py\n",
       "\u001b[0;31mType:\u001b[0m           type\n",
       "\u001b[0;31mSubclasses:\u001b[0m     "
      ]
     },
     "metadata": {},
     "output_type": "display_data"
    }
   ],
   "source": [
    "master_bar?"
   ]
  },
  {
   "cell_type": "code",
   "execution_count": null,
   "id": "e6f210ac-d12e-4b93-ae1e-9bc798806a3b",
   "metadata": {},
   "outputs": [
    {
     "name": "stdout",
     "output_type": "stream",
     "text": [
      "['add_child', 'first_its', 'lt', 'names', 'on_interrupt', 'on_iter_begin', 'on_iter_end', 'on_update', 'show', 'show_imgs', 'update', 'update_bar', 'update_every', 'update_graph', 'write']\n"
     ]
    }
   ],
   "source": [
    "print(list(filter(lambda x: x[0]!='_', dir(master_bar))))"
   ]
  },
  {
   "cell_type": "code",
   "execution_count": null,
   "id": "35852ed0-9409-41fe-8a97-8fbae574a1f1",
   "metadata": {},
   "outputs": [
    {
     "data": {
      "text/plain": [
       "\u001b[0;31mSignature:\u001b[0m\n",
       "\u001b[0mmaster_bar\u001b[0m\u001b[0;34m.\u001b[0m\u001b[0mupdate_graph\u001b[0m\u001b[0;34m(\u001b[0m\u001b[0;34m\u001b[0m\n",
       "\u001b[0;34m\u001b[0m    \u001b[0mself\u001b[0m\u001b[0;34m,\u001b[0m\u001b[0;34m\u001b[0m\n",
       "\u001b[0;34m\u001b[0m    \u001b[0mgraphs\u001b[0m\u001b[0;34m,\u001b[0m\u001b[0;34m\u001b[0m\n",
       "\u001b[0;34m\u001b[0m    \u001b[0mx_bounds\u001b[0m\u001b[0;34m=\u001b[0m\u001b[0;32mNone\u001b[0m\u001b[0;34m,\u001b[0m\u001b[0;34m\u001b[0m\n",
       "\u001b[0;34m\u001b[0m    \u001b[0my_bounds\u001b[0m\u001b[0;34m=\u001b[0m\u001b[0;32mNone\u001b[0m\u001b[0;34m,\u001b[0m\u001b[0;34m\u001b[0m\n",
       "\u001b[0;34m\u001b[0m    \u001b[0mfigsize\u001b[0m\u001b[0;34m=\u001b[0m\u001b[0;34m(\u001b[0m\u001b[0;36m6\u001b[0m\u001b[0;34m,\u001b[0m \u001b[0;36m4\u001b[0m\u001b[0;34m)\u001b[0m\u001b[0;34m,\u001b[0m\u001b[0;34m\u001b[0m\n",
       "\u001b[0;34m\u001b[0m\u001b[0;34m)\u001b[0m\u001b[0;34m\u001b[0m\u001b[0;34m\u001b[0m\u001b[0m\n",
       "\u001b[0;31mDocstring:\u001b[0m <no docstring>\n",
       "\u001b[0;31mFile:\u001b[0m      ~/miniforge3/envs/fastai/lib/python3.11/site-packages/fastprogress/fastprogress.py\n",
       "\u001b[0;31mType:\u001b[0m      function"
      ]
     },
     "metadata": {},
     "output_type": "display_data"
    }
   ],
   "source": [
    "master_bar.update_graph?"
   ]
  },
  {
   "cell_type": "code",
   "execution_count": null,
   "id": "bfb53830-66ba-4ded-a8eb-a8f1b8cdaa6d",
   "metadata": {},
   "outputs": [],
   "source": [
    "#|export\n",
    "class ProgressCB(Callback):\n",
    "    def __init__(self, plot=False): self.plot=plot\n",
    "\n",
    "    def before_fit(self):\n",
    "        self.learn.range_epochs = master_bar(self.learn.range_epochs)\n",
    "        self.mb = self.learn.range_epochs\n",
    "        if hasattr(self.learn, \"metrics\"):\n",
    "            self.learn.metrics.log = self.log\n",
    "        self.losses = []\n",
    "\n",
    "    def log(self, *s):\n",
    "        self.mb.write(\", \".join(s))\n",
    "\n",
    "    def before_epoch(self):\n",
    "        self.learn.dl = progress_bar(self.learn.dl, leave=False, parent=self.mb)\n",
    "\n",
    "    def after_batch(self):\n",
    "        self.learn.dl.comment = f\"{self.learn.loss:.4f}\"\n",
    "        if self.plot and hasattr(self.learn, \"metrics\") and self.learn.model.training:\n",
    "            self.losses.append(self.learn.loss.item())\n",
    "            self.mb.update_graph([\n",
    "                [list(range(len(self.losses))), self.losses]\n",
    "            ])\n",
    "        \n",
    "    "
   ]
  },
  {
   "cell_type": "code",
   "execution_count": null,
   "id": "90f704d9-a2ca-471c-9971-aa1b9002ef41",
   "metadata": {},
   "outputs": [
    {
     "data": {
      "text/html": [
       "\n",
       "<style>\n",
       "    /* Turns off some styling */\n",
       "    progress {\n",
       "        /* gets rid of default border in Firefox and Opera. */\n",
       "        border: none;\n",
       "        /* Needs to be in here for Safari polyfill so background images work as expected. */\n",
       "        background-size: auto;\n",
       "    }\n",
       "    progress:not([value]), progress:not([value])::-webkit-progress-bar {\n",
       "        background: repeating-linear-gradient(45deg, #7e7e7e, #7e7e7e 10px, #5c5c5c 10px, #5c5c5c 20px);\n",
       "    }\n",
       "    .progress-bar-interrupted, .progress-bar-interrupted::-webkit-progress-bar {\n",
       "        background: #F44336;\n",
       "    }\n",
       "</style>\n"
      ],
      "text/plain": [
       "<IPython.core.display.HTML object>"
      ]
     },
     "metadata": {},
     "output_type": "display_data"
    },
    {
     "data": {
      "text/html": [
       "1.999, 0.397<p>1.595, 0.530"
      ],
      "text/plain": [
       "<IPython.core.display.HTML object>"
      ]
     },
     "metadata": {},
     "output_type": "display_data"
    },
    {
     "data": {
      "image/png": "[encoded data removed]",
      "text/plain": [
       "<Figure size 600x400 with 1 Axes>"
      ]
     },
     "metadata": {},
     "output_type": "display_data"
    }
   ],
   "source": [
    "model = nn.Sequential(nn.Linear(28*28, 50), nn.ReLU(), nn.Linear(50, 10))\n",
    "cbs = [TrainCB(), DeviceCB(), MetricsCB(metric=Accuracy()), ProgressCB(True)]\n",
    "learn = Learner(model, dls, F.cross_entropy, 0.1, cbs, torch.optim.SGD)\n",
    "learn.fit(1)"
   ]
  },
  {
   "cell_type": "markdown",
   "id": "8c921c8f-c9f5-450b-bd4b-e24748761ea4",
   "metadata": {},
   "source": [
    "# Export"
   ]
  },
  {
   "cell_type": "code",
   "execution_count": null,
   "id": "8a8f23b3-caa9-4751-a505-58b40bc55c6f",
   "metadata": {},
   "outputs": [],
   "source": [
    "import nbdev; nbdev.nbdev_export()"
   ]
  },
  {
   "cell_type": "code",
   "execution_count": null,
   "id": "2247fc60-c2a9-4ce9-a266-2b6bb7356807",
   "metadata": {},
   "outputs": [],
   "source": []
  }
 ],
 "metadata": {
  "kernelspec": {
   "display_name": "python3",
   "language": "python",
   "name": "python3"
  }
 },
 "nbformat": 4,
 "nbformat_minor": 5
}
