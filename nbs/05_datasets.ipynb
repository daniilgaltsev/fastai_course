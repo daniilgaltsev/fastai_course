{
 "cells": [
  {
   "cell_type": "code",
   "execution_count": null,
   "id": "9284c5c1-bfd9-40d2-aa0f-118d8ae8579c",
   "metadata": {},
   "outputs": [],
   "source": [
    "#| default_exp datasets"
   ]
  },
  {
   "cell_type": "code",
   "execution_count": null,
   "id": "bfa0530d-dbc9-40b2-8642-df2fe9ed4fa0",
   "metadata": {},
   "outputs": [],
   "source": [
    "#| export\n",
    "from itertools import zip_longest\n",
    "import math\n",
    "from operator import itemgetter\n",
    "\n",
    "import fastcore.all as fc\n",
    "import matplotlib.pyplot as plt\n",
    "import numpy as np\n",
    "import torch\n",
    "from torch.utils.data import default_collate"
   ]
  },
  {
   "cell_type": "code",
   "execution_count": null,
   "id": "2929d3ae-7176-4a39-af57-cf3140b433c1",
   "metadata": {},
   "outputs": [],
   "source": [
    "import logging\n",
    "from operator import itemgetter\n",
    "\n",
    "from datasets import load_dataset, load_dataset_builder\n",
    "import matplotlib as mpl\n",
    "from torch.utils.data import DataLoader\n",
    "import torchvision.transforms.functional as TF"
   ]
  },
  {
   "cell_type": "code",
   "execution_count": null,
   "id": "84031e71-de52-4a27-a869-4696974b48b7",
   "metadata": {},
   "outputs": [],
   "source": [
    "torch.set_printoptions(precision=2, linewidth=180, sci_mode=False)\n",
    "torch.manual_seed(1103)\n",
    "mpl.rcParams[\"image.cmap\"] = \"gray\""
   ]
  },
  {
   "cell_type": "code",
   "execution_count": null,
   "id": "d7da2a43-ea3f-43ec-a4aa-62cf6053d4d3",
   "metadata": {},
   "outputs": [],
   "source": [
    "logging.disable(logging.WARNING)"
   ]
  },
  {
   "cell_type": "markdown",
   "id": "476103b5-3672-41ba-8a3e-0011b2468827",
   "metadata": {},
   "source": [
    "# Hugging Face Datasets"
   ]
  },
  {
   "cell_type": "code",
   "execution_count": null,
   "id": "997dc38f-aa05-43d0-b792-b89165c21f34",
   "metadata": {},
   "outputs": [
    {
     "data": {
      "text/plain": [
       "\u001b[0;31mSignature:\u001b[0m\n",
       "\u001b[0mload_dataset_builder\u001b[0m\u001b[0;34m(\u001b[0m\u001b[0;34m\u001b[0m\n",
       "\u001b[0;34m\u001b[0m    \u001b[0mpath\u001b[0m\u001b[0;34m:\u001b[0m \u001b[0mstr\u001b[0m\u001b[0;34m,\u001b[0m\u001b[0;34m\u001b[0m\n",
       "\u001b[0;34m\u001b[0m    \u001b[0mname\u001b[0m\u001b[0;34m:\u001b[0m \u001b[0mOptional\u001b[0m\u001b[0;34m[\u001b[0m\u001b[0mstr\u001b[0m\u001b[0;34m]\u001b[0m \u001b[0;34m=\u001b[0m \u001b[0;32mNone\u001b[0m\u001b[0;34m,\u001b[0m\u001b[0;34m\u001b[0m\n",
       "\u001b[0;34m\u001b[0m    \u001b[0mdata_dir\u001b[0m\u001b[0;34m:\u001b[0m \u001b[0mOptional\u001b[0m\u001b[0;34m[\u001b[0m\u001b[0mstr\u001b[0m\u001b[0;34m]\u001b[0m \u001b[0;34m=\u001b[0m \u001b[0;32mNone\u001b[0m\u001b[0;34m,\u001b[0m\u001b[0;34m\u001b[0m\n",
       "\u001b[0;34m\u001b[0m    \u001b[0mdata_files\u001b[0m\u001b[0;34m:\u001b[0m \u001b[0mUnion\u001b[0m\u001b[0;34m[\u001b[0m\u001b[0mstr\u001b[0m\u001b[0;34m,\u001b[0m \u001b[0mSequence\u001b[0m\u001b[0;34m[\u001b[0m\u001b[0mstr\u001b[0m\u001b[0;34m]\u001b[0m\u001b[0;34m,\u001b[0m \u001b[0mMapping\u001b[0m\u001b[0;34m[\u001b[0m\u001b[0mstr\u001b[0m\u001b[0;34m,\u001b[0m \u001b[0mUnion\u001b[0m\u001b[0;34m[\u001b[0m\u001b[0mstr\u001b[0m\u001b[0;34m,\u001b[0m \u001b[0mSequence\u001b[0m\u001b[0;34m[\u001b[0m\u001b[0mstr\u001b[0m\u001b[0;34m]\u001b[0m\u001b[0;34m]\u001b[0m\u001b[0;34m]\u001b[0m\u001b[0;34m,\u001b[0m \u001b[0mNoneType\u001b[0m\u001b[0;34m]\u001b[0m \u001b[0;34m=\u001b[0m \u001b[0;32mNone\u001b[0m\u001b[0;34m,\u001b[0m\u001b[0;34m\u001b[0m\n",
       "\u001b[0;34m\u001b[0m    \u001b[0mcache_dir\u001b[0m\u001b[0;34m:\u001b[0m \u001b[0mOptional\u001b[0m\u001b[0;34m[\u001b[0m\u001b[0mstr\u001b[0m\u001b[0;34m]\u001b[0m \u001b[0;34m=\u001b[0m \u001b[0;32mNone\u001b[0m\u001b[0;34m,\u001b[0m\u001b[0;34m\u001b[0m\n",
       "\u001b[0;34m\u001b[0m    \u001b[0mfeatures\u001b[0m\u001b[0;34m:\u001b[0m \u001b[0mOptional\u001b[0m\u001b[0;34m[\u001b[0m\u001b[0mdatasets\u001b[0m\u001b[0;34m.\u001b[0m\u001b[0mfeatures\u001b[0m\u001b[0;34m.\u001b[0m\u001b[0mfeatures\u001b[0m\u001b[0;34m.\u001b[0m\u001b[0mFeatures\u001b[0m\u001b[0;34m]\u001b[0m \u001b[0;34m=\u001b[0m \u001b[0;32mNone\u001b[0m\u001b[0;34m,\u001b[0m\u001b[0;34m\u001b[0m\n",
       "\u001b[0;34m\u001b[0m    \u001b[0mdownload_config\u001b[0m\u001b[0;34m:\u001b[0m \u001b[0mOptional\u001b[0m\u001b[0;34m[\u001b[0m\u001b[0mdatasets\u001b[0m\u001b[0;34m.\u001b[0m\u001b[0mdownload\u001b[0m\u001b[0;34m.\u001b[0m\u001b[0mdownload_config\u001b[0m\u001b[0;34m.\u001b[0m\u001b[0mDownloadConfig\u001b[0m\u001b[0;34m]\u001b[0m \u001b[0;34m=\u001b[0m \u001b[0;32mNone\u001b[0m\u001b[0;34m,\u001b[0m\u001b[0;34m\u001b[0m\n",
       "\u001b[0;34m\u001b[0m    \u001b[0mdownload_mode\u001b[0m\u001b[0;34m:\u001b[0m \u001b[0mUnion\u001b[0m\u001b[0;34m[\u001b[0m\u001b[0mdatasets\u001b[0m\u001b[0;34m.\u001b[0m\u001b[0mdownload\u001b[0m\u001b[0;34m.\u001b[0m\u001b[0mdownload_manager\u001b[0m\u001b[0;34m.\u001b[0m\u001b[0mDownloadMode\u001b[0m\u001b[0;34m,\u001b[0m \u001b[0mstr\u001b[0m\u001b[0;34m,\u001b[0m \u001b[0mNoneType\u001b[0m\u001b[0;34m]\u001b[0m \u001b[0;34m=\u001b[0m \u001b[0;32mNone\u001b[0m\u001b[0;34m,\u001b[0m\u001b[0;34m\u001b[0m\n",
       "\u001b[0;34m\u001b[0m    \u001b[0mrevision\u001b[0m\u001b[0;34m:\u001b[0m \u001b[0mUnion\u001b[0m\u001b[0;34m[\u001b[0m\u001b[0mstr\u001b[0m\u001b[0;34m,\u001b[0m \u001b[0mdatasets\u001b[0m\u001b[0;34m.\u001b[0m\u001b[0mutils\u001b[0m\u001b[0;34m.\u001b[0m\u001b[0mversion\u001b[0m\u001b[0;34m.\u001b[0m\u001b[0mVersion\u001b[0m\u001b[0;34m,\u001b[0m \u001b[0mNoneType\u001b[0m\u001b[0;34m]\u001b[0m \u001b[0;34m=\u001b[0m \u001b[0;32mNone\u001b[0m\u001b[0;34m,\u001b[0m\u001b[0;34m\u001b[0m\n",
       "\u001b[0;34m\u001b[0m    \u001b[0mtoken\u001b[0m\u001b[0;34m:\u001b[0m \u001b[0mUnion\u001b[0m\u001b[0;34m[\u001b[0m\u001b[0mbool\u001b[0m\u001b[0;34m,\u001b[0m \u001b[0mstr\u001b[0m\u001b[0;34m,\u001b[0m \u001b[0mNoneType\u001b[0m\u001b[0;34m]\u001b[0m \u001b[0;34m=\u001b[0m \u001b[0;32mNone\u001b[0m\u001b[0;34m,\u001b[0m\u001b[0;34m\u001b[0m\n",
       "\u001b[0;34m\u001b[0m    \u001b[0muse_auth_token\u001b[0m\u001b[0;34m=\u001b[0m\u001b[0;34m'deprecated'\u001b[0m\u001b[0;34m,\u001b[0m\u001b[0;34m\u001b[0m\n",
       "\u001b[0;34m\u001b[0m    \u001b[0mstorage_options\u001b[0m\u001b[0;34m:\u001b[0m \u001b[0mOptional\u001b[0m\u001b[0;34m[\u001b[0m\u001b[0mDict\u001b[0m\u001b[0;34m]\u001b[0m \u001b[0;34m=\u001b[0m \u001b[0;32mNone\u001b[0m\u001b[0;34m,\u001b[0m\u001b[0;34m\u001b[0m\n",
       "\u001b[0;34m\u001b[0m    \u001b[0;34m**\u001b[0m\u001b[0mconfig_kwargs\u001b[0m\u001b[0;34m,\u001b[0m\u001b[0;34m\u001b[0m\n",
       "\u001b[0;34m\u001b[0m\u001b[0;34m)\u001b[0m \u001b[0;34m->\u001b[0m \u001b[0mdatasets\u001b[0m\u001b[0;34m.\u001b[0m\u001b[0mbuilder\u001b[0m\u001b[0;34m.\u001b[0m\u001b[0mDatasetBuilder\u001b[0m\u001b[0;34m\u001b[0m\u001b[0;34m\u001b[0m\u001b[0m\n",
       "\u001b[0;31mDocstring:\u001b[0m\n",
       "Load a dataset builder from the Hugging Face Hub, or a local dataset. A dataset builder can be used to inspect general information that is required to build a dataset (cache directory, config, dataset info, etc.)\n",
       "without downloading the dataset itself.\n",
       "\n",
       "You can find the list of datasets on the [Hub](https://huggingface.co/datasets) or with [`huggingface_hub.list_datasets`].\n",
       "\n",
       "A dataset is a directory that contains:\n",
       "\n",
       "- some data files in generic formats (JSON, CSV, Parquet, text, etc.)\n",
       "- and optionally a dataset script, if it requires some code to read the data files. This is used to load any kind of formats or structures.\n",
       "\n",
       "Note that dataset scripts can also download and read data files from anywhere - in case your data files already exist online.\n",
       "\n",
       "Args:\n",
       "\n",
       "    path (`str`):\n",
       "        Path or name of the dataset.\n",
       "        Depending on `path`, the dataset builder that is used comes from a generic dataset script (JSON, CSV, Parquet, text etc.) or from the dataset script (a python file) inside the dataset directory.\n",
       "\n",
       "        For local datasets:\n",
       "\n",
       "        - if `path` is a local directory (containing data files only)\n",
       "          -> load a generic dataset builder (csv, json, text etc.) based on the content of the directory\n",
       "          e.g. `'./path/to/directory/with/my/csv/data'`.\n",
       "        - if `path` is a local dataset script or a directory containing a local dataset script (if the script has the same name as the directory)\n",
       "          -> load the dataset builder from the dataset script\n",
       "          e.g. `'./dataset/squad'` or `'./dataset/squad/squad.py'`.\n",
       "\n",
       "        For datasets on the Hugging Face Hub (list all available datasets with [`huggingface_hub.list_datasets`])\n",
       "\n",
       "        - if `path` is a dataset repository on the HF hub (containing data files only)\n",
       "          -> load a generic dataset builder (csv, text etc.) based on the content of the repository\n",
       "          e.g. `'username/dataset_name'`, a dataset repository on the HF hub containing your data files.\n",
       "        - if `path` is a dataset repository on the HF hub with a dataset script (if the script has the same name as the directory)\n",
       "          -> load the dataset builder from the dataset script in the dataset repository\n",
       "          e.g. `glue`, `squad`, `'username/dataset_name'`, a dataset repository on the HF hub containing a dataset script `'dataset_name.py'`.\n",
       "\n",
       "    name (`str`, *optional*):\n",
       "        Defining the name of the dataset configuration.\n",
       "    data_dir (`str`, *optional*):\n",
       "        Defining the `data_dir` of the dataset configuration. If specified for the generic builders (csv, text etc.) or the Hub datasets and `data_files` is `None`,\n",
       "        the behavior is equal to passing `os.path.join(data_dir, **)` as `data_files` to reference all the files in a directory.\n",
       "    data_files (`str` or `Sequence` or `Mapping`, *optional*):\n",
       "        Path(s) to source data file(s).\n",
       "    cache_dir (`str`, *optional*):\n",
       "        Directory to read/write data. Defaults to `\"~/.cache/huggingface/datasets\"`.\n",
       "    features ([`Features`], *optional*):\n",
       "        Set the features type to use for this dataset.\n",
       "    download_config ([`DownloadConfig`], *optional*):\n",
       "        Specific download configuration parameters.\n",
       "    download_mode ([`DownloadMode`] or `str`, defaults to `REUSE_DATASET_IF_EXISTS`):\n",
       "        Download/generate mode.\n",
       "    revision ([`Version`] or `str`, *optional*):\n",
       "        Version of the dataset script to load.\n",
       "        As datasets have their own git repository on the Datasets Hub, the default version \"main\" corresponds to their \"main\" branch.\n",
       "        You can specify a different version than the default \"main\" by using a commit SHA or a git tag of the dataset repository.\n",
       "    token (`str` or `bool`, *optional*):\n",
       "        Optional string or boolean to use as Bearer token for remote files on the Datasets Hub.\n",
       "        If `True`, or not specified, will get token from `\"~/.huggingface\"`.\n",
       "    use_auth_token (`str` or `bool`, *optional*):\n",
       "        Optional string or boolean to use as Bearer token for remote files on the Datasets Hub.\n",
       "        If `True`, or not specified, will get token from `\"~/.huggingface\"`.\n",
       "\n",
       "        <Deprecated version=\"2.14.0\">\n",
       "\n",
       "        `use_auth_token` was deprecated in favor of `token` in version 2.14.0 and will be removed in 3.0.0.\n",
       "\n",
       "        </Deprecated>\n",
       "    storage_options (`dict`, *optional*, defaults to `None`):\n",
       "        **Experimental**. Key/value pairs to be passed on to the dataset file-system backend, if any.\n",
       "\n",
       "        <Added version=\"2.11.0\"/>\n",
       "    **config_kwargs (additional keyword arguments):\n",
       "        Keyword arguments to be passed to the [`BuilderConfig`]\n",
       "        and used in the [`DatasetBuilder`].\n",
       "\n",
       "Returns:\n",
       "    [`DatasetBuilder`]\n",
       "\n",
       "Example:\n",
       "\n",
       "```py\n",
       ">>> from datasets import load_dataset_builder\n",
       ">>> ds_builder = load_dataset_builder('rotten_tomatoes')\n",
       ">>> ds_builder.info.features\n",
       "{'label': ClassLabel(num_classes=2, names=['neg', 'pos'], id=None),\n",
       " 'text': Value(dtype='string', id=None)}\n",
       "```\n",
       "\u001b[0;31mFile:\u001b[0m      ~/miniforge3/envs/fastai/lib/python3.11/site-packages/datasets/load.py\n",
       "\u001b[0;31mType:\u001b[0m      function"
      ]
     },
     "metadata": {},
     "output_type": "display_data"
    }
   ],
   "source": [
    "load_dataset_builder?"
   ]
  },
  {
   "cell_type": "code",
   "execution_count": null,
   "id": "18f3b301-65a1-43b2-95ca-3958b518a4d3",
   "metadata": {},
   "outputs": [
    {
     "data": {
      "text/plain": [
       "<datasets_modules.datasets.fashion_mnist.0a671f063342996f19779d38c0ab4abef9c64f757b35af8134b331c294d7ba48.fashion_mnist.FashionMnist>"
      ]
     },
     "execution_count": null,
     "metadata": {},
     "output_type": "execute_result"
    }
   ],
   "source": [
    "name = \"fashion_mnist\"\n",
    "ds_builder = load_dataset_builder(name)\n",
    "ds_builder"
   ]
  },
  {
   "cell_type": "code",
   "execution_count": null,
   "id": "b237a11b-67d6-4d78-9b99-f20bba4843c2",
   "metadata": {},
   "outputs": [
    {
     "name": "stdout",
     "output_type": "stream",
     "text": [
      "Fashion-MNIST is a dataset of Zalando's article images—consisting of a training set of\n",
      "60,000 examples and a test set of 10,000 examples. Each example is a 28x28 grayscale image,\n",
      "associated with a label from 10 classes. We intend Fashion-MNIST to serve as a direct drop-in\n",
      "replacement for the original MNIST dataset for benchmarking machine learning algorithms.\n",
      "It shares the same image size and structure of training and testing splits.\n",
      "\n"
     ]
    }
   ],
   "source": [
    "print(ds_builder.info.description)"
   ]
  },
  {
   "cell_type": "code",
   "execution_count": null,
   "id": "29c180c0-c510-4422-9ea7-2b218baf94ab",
   "metadata": {},
   "outputs": [
    {
     "data": {
      "text/plain": [
       "{'image': Image(decode=True, id=None),\n",
       " 'label': ClassLabel(names=['T - shirt / top', 'Trouser', 'Pullover', 'Dress', 'Coat', 'Sandal', 'Shirt', 'Sneaker', 'Bag', 'Ankle boot'], id=None)}"
      ]
     },
     "execution_count": null,
     "metadata": {},
     "output_type": "execute_result"
    }
   ],
   "source": [
    "ds_builder.info.features"
   ]
  },
  {
   "cell_type": "code",
   "execution_count": null,
   "id": "7693d07c-7545-44cc-a84c-6e03f9329cd4",
   "metadata": {},
   "outputs": [
    {
     "data": {
      "text/plain": [
       "{'train': SplitInfo(name='train', num_bytes=31296607, num_examples=60000, shard_lengths=None, dataset_name='fashion_mnist'),\n",
       " 'test': SplitInfo(name='test', num_bytes=5233810, num_examples=10000, shard_lengths=None, dataset_name='fashion_mnist')}"
      ]
     },
     "execution_count": null,
     "metadata": {},
     "output_type": "execute_result"
    }
   ],
   "source": [
    "ds_builder.info.splits"
   ]
  },
  {
   "cell_type": "code",
   "execution_count": null,
   "id": "e9ff4132-c2e9-4362-b4d5-2e17a58ce16b",
   "metadata": {},
   "outputs": [],
   "source": [
    "ds = load_dataset(name)"
   ]
  },
  {
   "cell_type": "code",
   "execution_count": null,
   "id": "205e4b28-3450-40f8-9dd7-db0bb8a6a976",
   "metadata": {},
   "outputs": [
    {
     "data": {
      "text/plain": [
       "DatasetDict({\n",
       "    train: Dataset({\n",
       "        features: ['image', 'label'],\n",
       "        num_rows: 60000\n",
       "    })\n",
       "    test: Dataset({\n",
       "        features: ['image', 'label'],\n",
       "        num_rows: 10000\n",
       "    })\n",
       "})"
      ]
     },
     "execution_count": null,
     "metadata": {},
     "output_type": "execute_result"
    }
   ],
   "source": [
    "ds"
   ]
  },
  {
   "cell_type": "code",
   "execution_count": null,
   "id": "e3fe0bec-74f2-46e8-a818-25503becf631",
   "metadata": {},
   "outputs": [
    {
     "data": {
      "text/plain": [
       "{'image': <PIL.PngImagePlugin.PngImageFile image mode=L size=28x28>,\n",
       " 'label': 9}"
      ]
     },
     "execution_count": null,
     "metadata": {},
     "output_type": "execute_result"
    }
   ],
   "source": [
    "ds[\"train\"][0]"
   ]
  },
  {
   "cell_type": "code",
   "execution_count": null,
   "id": "e88f84c3-0ebb-4c9c-98a5-b9cee0a368eb",
   "metadata": {},
   "outputs": [],
   "source": [
    "x, y = ds_builder.info.features"
   ]
  },
  {
   "cell_type": "code",
   "execution_count": null,
   "id": "f4ea9d3f-5fba-4ac7-8822-2e0917f651cf",
   "metadata": {},
   "outputs": [],
   "source": [
    "train, test = ds[\"train\"], ds[\"test\"]\n",
    "example = train[0]"
   ]
  },
  {
   "cell_type": "code",
   "execution_count": null,
   "id": "d23dc3bd-f4fa-4adb-8e03-2d9dea5fd8ef",
   "metadata": {},
   "outputs": [
    {
     "name": "stdout",
     "output_type": "stream",
     "text": [
      "9\n"
     ]
    },
    {
     "data": {
      "image/jpeg": "[encoded data removed]",
      "image/png": "[encoded data removed]",
      "text/plain": [
       "<PIL.PngImagePlugin.PngImageFile image mode=L size=28x28>"
      ]
     },
     "execution_count": null,
     "metadata": {},
     "output_type": "execute_result"
    }
   ],
   "source": [
    "print(example[y])\n",
    "example[x]"
   ]
  },
  {
   "cell_type": "code",
   "execution_count": null,
   "id": "8d6765e0-89fe-4503-be40-d28fb7691961",
   "metadata": {},
   "outputs": [],
   "source": [
    "xb = train[:5][x]\n",
    "yb = train[:5][y]"
   ]
  },
  {
   "cell_type": "code",
   "execution_count": null,
   "id": "64a8c38b-a14c-401f-93d1-4a243e2bbef7",
   "metadata": {},
   "outputs": [
    {
     "data": {
      "text/plain": [
       "'cast_storage dtype encode_example id int2str names names_file num_classes pa_type str2int'"
      ]
     },
     "execution_count": null,
     "metadata": {},
     "output_type": "execute_result"
    }
   ],
   "source": [
    "\" \".join(filter(lambda x: x[0] != \"_\", dir(train.features[y])))"
   ]
  },
  {
   "cell_type": "code",
   "execution_count": null,
   "id": "2a3c32e4-3b1d-43c5-921b-d21dafc964e8",
   "metadata": {},
   "outputs": [],
   "source": [
    "feature_y = train.features[y]"
   ]
  },
  {
   "cell_type": "code",
   "execution_count": null,
   "id": "e0a5c7b3-f361-41ef-8e2b-dd3f78296e0e",
   "metadata": {},
   "outputs": [
    {
     "data": {
      "text/plain": [
       "['Ankle boot',\n",
       " 'T - shirt / top',\n",
       " 'T - shirt / top',\n",
       " 'Dress',\n",
       " 'T - shirt / top']"
      ]
     },
     "execution_count": null,
     "metadata": {},
     "output_type": "execute_result"
    }
   ],
   "source": [
    "feature_y.int2str(yb)"
   ]
  },
  {
   "cell_type": "code",
   "execution_count": null,
   "id": "2cc5973a-d40e-45ff-b9a5-34915dbccd90",
   "metadata": {},
   "outputs": [
    {
     "data": {
      "text/plain": [
       "[9, 0, 0, 3, 0]"
      ]
     },
     "execution_count": null,
     "metadata": {},
     "output_type": "execute_result"
    }
   ],
   "source": [
    "yb"
   ]
  },
  {
   "cell_type": "code",
   "execution_count": null,
   "id": "61b45971-303d-431d-a8fa-7abd5ce26473",
   "metadata": {},
   "outputs": [
    {
     "data": {
      "text/plain": [
       "{'image': <PIL.PngImagePlugin.PngImageFile image mode=L size=28x28>,\n",
       " 'label': 9}"
      ]
     },
     "execution_count": null,
     "metadata": {},
     "output_type": "execute_result"
    }
   ],
   "source": [
    "train[0]"
   ]
  },
  {
   "cell_type": "code",
   "execution_count": null,
   "id": "a1ceb29b-92e7-40c3-8175-be4cb685e972",
   "metadata": {},
   "outputs": [],
   "source": [
    "def collate_fn(b):\n",
    "    return {\n",
    "        x: torch.stack([TF.to_tensor(i[x]) for i in b]),\n",
    "        y: torch.tensor([i[y] for i in b])\n",
    "    }"
   ]
  },
  {
   "cell_type": "code",
   "execution_count": null,
   "id": "3baba63d-9353-478f-99be-abbe5371210d",
   "metadata": {},
   "outputs": [
    {
     "data": {
      "text/plain": [
       "(torch.Size([3, 1, 28, 28]), torch.Size([3]))"
      ]
     },
     "execution_count": null,
     "metadata": {},
     "output_type": "execute_result"
    }
   ],
   "source": [
    "b = collate_fn([train[i] for i in range(3)])\n",
    "b[x].shape, b[y].shape"
   ]
  },
  {
   "cell_type": "code",
   "execution_count": null,
   "id": "1f5c4e22-a7cb-4f71-824f-21d7f7ec5583",
   "metadata": {},
   "outputs": [],
   "source": [
    "dl = DataLoader(train, batch_size=8, collate_fn=collate_fn)"
   ]
  },
  {
   "cell_type": "code",
   "execution_count": null,
   "id": "21ca8c8f-c824-4c47-ba38-0f036e0cfab3",
   "metadata": {},
   "outputs": [],
   "source": [
    "b = next(iter(dl))"
   ]
  },
  {
   "cell_type": "code",
   "execution_count": null,
   "id": "33af5133-c05b-4cd1-8141-1ddc21cabcb8",
   "metadata": {},
   "outputs": [],
   "source": [
    "def transforms(b):\n",
    "    b[x] = [TF.to_tensor(i) for i in b[x]]\n",
    "    return b"
   ]
  },
  {
   "cell_type": "code",
   "execution_count": null,
   "id": "7085790c-2a96-4f11-91d1-2f72c6501423",
   "metadata": {},
   "outputs": [
    {
     "data": {
      "text/plain": [
       "\u001b[0;31mSignature:\u001b[0m\n",
       "\u001b[0mtrain\u001b[0m\u001b[0;34m.\u001b[0m\u001b[0mwith_transform\u001b[0m\u001b[0;34m(\u001b[0m\u001b[0;34m\u001b[0m\n",
       "\u001b[0;34m\u001b[0m    \u001b[0mtransform\u001b[0m\u001b[0;34m:\u001b[0m \u001b[0mOptional\u001b[0m\u001b[0;34m[\u001b[0m\u001b[0mCallable\u001b[0m\u001b[0;34m]\u001b[0m\u001b[0;34m,\u001b[0m\u001b[0;34m\u001b[0m\n",
       "\u001b[0;34m\u001b[0m    \u001b[0mcolumns\u001b[0m\u001b[0;34m:\u001b[0m \u001b[0mOptional\u001b[0m\u001b[0;34m[\u001b[0m\u001b[0mList\u001b[0m\u001b[0;34m]\u001b[0m \u001b[0;34m=\u001b[0m \u001b[0;32mNone\u001b[0m\u001b[0;34m,\u001b[0m\u001b[0;34m\u001b[0m\n",
       "\u001b[0;34m\u001b[0m    \u001b[0moutput_all_columns\u001b[0m\u001b[0;34m:\u001b[0m \u001b[0mbool\u001b[0m \u001b[0;34m=\u001b[0m \u001b[0;32mFalse\u001b[0m\u001b[0;34m,\u001b[0m\u001b[0;34m\u001b[0m\n",
       "\u001b[0;34m\u001b[0m\u001b[0;34m)\u001b[0m\u001b[0;34m\u001b[0m\u001b[0;34m\u001b[0m\u001b[0m\n",
       "\u001b[0;31mDocstring:\u001b[0m\n",
       "Set `__getitem__` return format using this transform. The transform is applied on-the-fly on batches when `__getitem__` is called.\n",
       "\n",
       "As [`~datasets.Dataset.set_format`], this can be reset using [`~datasets.Dataset.reset_format`].\n",
       "\n",
       "Contrary to [`~datasets.Dataset.set_transform`], `with_transform` returns a new [`Dataset`] object.\n",
       "\n",
       "Args:\n",
       "    transform (`Callable`, `optional`):\n",
       "        User-defined formatting transform, replaces the format defined by [`~datasets.Dataset.set_format`].\n",
       "        A formatting function is a callable that takes a batch (as a `dict`) as input and returns a batch.\n",
       "        This function is applied right before returning the objects in `__getitem__`.\n",
       "    columns (`List[str]`, `optional`):\n",
       "        Columns to format in the output.\n",
       "        If specified, then the input batch of the transform only contains those columns.\n",
       "    output_all_columns (`bool`, defaults to `False`):\n",
       "        Keep un-formatted columns as well in the output (as python objects).\n",
       "        If set to `True`, then the other un-formatted columns are kept with the output of the transform.\n",
       "\n",
       "Example:\n",
       "\n",
       "```py\n",
       ">>> from datasets import load_dataset\n",
       ">>> from transformers import AutoTokenizer\n",
       ">>> ds = load_dataset(\"rotten_tomatoes\", split=\"validation\")\n",
       ">>> tokenizer = AutoTokenizer.from_pretrained(\"bert-base-cased\")\n",
       ">>> def encode(example):\n",
       "...     return tokenizer(example[\"text\"], padding=True, truncation=True, return_tensors='pt')\n",
       ">>> ds = ds.with_transform(encode)\n",
       ">>> ds[0]\n",
       "{'attention_mask': tensor([1, 1, 1, 1, 1, 1, 1, 1, 1, 1, 1, 1, 1, 1, 1, 1, 1, 1, 1, 1, 1, 1, 1, 1,\n",
       " 1, 1, 1, 1, 1]),\n",
       " 'input_ids': tensor([  101, 18027, 16310, 16001,  1103,  9321,   178, 11604,  7235,  6617,\n",
       "         1742,  2165,  2820,  1206,  6588, 22572, 12937,  1811,  2153,  1105,\n",
       "         1147, 12890, 19587,  6463,  1105, 15026,  1482,   119,   102]),\n",
       " 'token_type_ids': tensor([0, 0, 0, 0, 0, 0, 0, 0, 0, 0, 0, 0, 0, 0, 0, 0, 0, 0, 0, 0, 0, 0, 0, 0,\n",
       "         0, 0, 0, 0, 0])}\n",
       "```\n",
       "\u001b[0;31mFile:\u001b[0m      ~/miniforge3/envs/fastai/lib/python3.11/site-packages/datasets/arrow_dataset.py\n",
       "\u001b[0;31mType:\u001b[0m      method"
      ]
     },
     "metadata": {},
     "output_type": "display_data"
    }
   ],
   "source": [
    "train.with_transform?"
   ]
  },
  {
   "cell_type": "code",
   "execution_count": null,
   "id": "ff400616-7f39-46ea-bfd2-d27de059c358",
   "metadata": {},
   "outputs": [],
   "source": [
    "traint = train.with_transform(transforms)"
   ]
  },
  {
   "cell_type": "code",
   "execution_count": null,
   "id": "8f26bbd8-2d4b-4737-a7d8-599ff1f5d60a",
   "metadata": {},
   "outputs": [
    {
     "data": {
      "text/plain": [
       "torch.Size([8, 1, 28, 28])"
      ]
     },
     "execution_count": null,
     "metadata": {},
     "output_type": "execute_result"
    }
   ],
   "source": [
    "dl = DataLoader(traint, batch_size=8)\n",
    "b = next(iter(dl))\n",
    "b[x].shape"
   ]
  },
  {
   "cell_type": "code",
   "execution_count": null,
   "id": "32ab3655-e2df-4fb0-8a11-7433db819648",
   "metadata": {},
   "outputs": [],
   "source": [
    "def _transforms(b):\n",
    "    b[x] = [TF.to_tensor(i) for i in b[x]]"
   ]
  },
  {
   "cell_type": "code",
   "execution_count": null,
   "id": "423f55da-fc55-4ea4-965e-db02b59e8bf2",
   "metadata": {},
   "outputs": [],
   "source": [
    "#| export\n",
    "def inplace(f):\n",
    "    def _f(x):\n",
    "        f(x)\n",
    "        return x\n",
    "    return _f"
   ]
  },
  {
   "cell_type": "code",
   "execution_count": null,
   "id": "173589f5-535c-44cf-8c55-adc0f0ebf370",
   "metadata": {},
   "outputs": [],
   "source": [
    "transformi = inplace(_transforms)"
   ]
  },
  {
   "cell_type": "code",
   "execution_count": null,
   "id": "98d4cb75-97d2-400f-8b26-fcc35e9e3105",
   "metadata": {},
   "outputs": [
    {
     "data": {
      "text/plain": [
       "torch.Size([8, 1, 28, 28])"
      ]
     },
     "execution_count": null,
     "metadata": {},
     "output_type": "execute_result"
    }
   ],
   "source": [
    "traint = train.with_transform(transformi)\n",
    "dl = DataLoader(traint, batch_size=8)\n",
    "b = next(iter(dl))\n",
    "b[x].shape"
   ]
  },
  {
   "cell_type": "code",
   "execution_count": null,
   "id": "f962081c-1033-4008-97de-9ff49eb5f986",
   "metadata": {},
   "outputs": [],
   "source": [
    "@inplace\n",
    "def transformi(b):\n",
    "    b[x] = [TF.to_tensor(i) for i in b[x]]"
   ]
  },
  {
   "cell_type": "code",
   "execution_count": null,
   "id": "dd96a7a5-6475-4f53-83d6-85a1dc4b029a",
   "metadata": {},
   "outputs": [
    {
     "data": {
      "text/plain": [
       "torch.Size([8, 1, 28, 28])"
      ]
     },
     "execution_count": null,
     "metadata": {},
     "output_type": "execute_result"
    }
   ],
   "source": [
    "traint = train.with_transform(transformi)\n",
    "dl = DataLoader(traint, batch_size=8)\n",
    "b = next(iter(dl))\n",
    "b[x].shape"
   ]
  },
  {
   "cell_type": "code",
   "execution_count": null,
   "id": "4711fda7-fe4e-45a2-bc62-7ebfbc4556c4",
   "metadata": {},
   "outputs": [
    {
     "data": {
      "text/plain": [
       "\u001b[0;31mInit signature:\u001b[0m \u001b[0mitemgetter\u001b[0m\u001b[0;34m(\u001b[0m\u001b[0mself\u001b[0m\u001b[0;34m,\u001b[0m \u001b[0;34m/\u001b[0m\u001b[0;34m,\u001b[0m \u001b[0;34m*\u001b[0m\u001b[0margs\u001b[0m\u001b[0;34m,\u001b[0m \u001b[0;34m**\u001b[0m\u001b[0mkwargs\u001b[0m\u001b[0;34m)\u001b[0m\u001b[0;34m\u001b[0m\u001b[0;34m\u001b[0m\u001b[0m\n",
       "\u001b[0;31mDocstring:\u001b[0m     \n",
       "itemgetter(item, ...) --> itemgetter object\n",
       "\n",
       "Return a callable object that fetches the given item(s) from its operand.\n",
       "After f = itemgetter(2), the call f(r) returns r[2].\n",
       "After g = itemgetter(2, 5, 3), the call g(r) returns (r[2], r[5], r[3])\n",
       "\u001b[0;31mFile:\u001b[0m           ~/miniforge3/envs/fastai/lib/python3.11/operator.py\n",
       "\u001b[0;31mType:\u001b[0m           type\n",
       "\u001b[0;31mSubclasses:\u001b[0m     "
      ]
     },
     "metadata": {},
     "output_type": "display_data"
    }
   ],
   "source": [
    "itemgetter?"
   ]
  },
  {
   "cell_type": "code",
   "execution_count": null,
   "id": "a3549ed4-a5a6-43d8-a3f1-c37e79c28542",
   "metadata": {},
   "outputs": [],
   "source": [
    "class D:\n",
    "    def __getitem__(self, k):\n",
    "        if k == \"a\": return 1\n",
    "        elif k == \"b\": return 2\n",
    "        else: return self\n",
    "\n",
    "cd = D()\n",
    "dd = {\"a\":3, \"b\":4, 2:\"a\"}\n",
    "ig = itemgetter(\"a\", \"b\", 2)\n"
   ]
  },
  {
   "cell_type": "code",
   "execution_count": null,
   "id": "1fa41fab-5103-4636-97bf-cf59dc51240a",
   "metadata": {},
   "outputs": [
    {
     "data": {
      "text/plain": [
       "(1, 2, <__main__.D>)"
      ]
     },
     "execution_count": null,
     "metadata": {},
     "output_type": "execute_result"
    }
   ],
   "source": [
    "ig(cd)"
   ]
  },
  {
   "cell_type": "code",
   "execution_count": null,
   "id": "146b9d8d-7b33-41d5-83ef-a1995b265ff3",
   "metadata": {},
   "outputs": [
    {
     "data": {
      "text/plain": [
       "(3, 4, 'a')"
      ]
     },
     "execution_count": null,
     "metadata": {},
     "output_type": "execute_result"
    }
   ],
   "source": [
    "ig(dd)"
   ]
  },
  {
   "cell_type": "code",
   "execution_count": null,
   "id": "cf1874cd-3f71-40cd-a2ed-4381687e2e26",
   "metadata": {},
   "outputs": [
    {
     "name": "stdout",
     "output_type": "stream",
     "text": [
      "<class 'KeyError'> 'a'\n"
     ]
    }
   ],
   "source": [
    "try:\n",
    "    ig(dict())\n",
    "except Exception as e:\n",
    "    print(type(e), e)"
   ]
  },
  {
   "cell_type": "code",
   "execution_count": null,
   "id": "50f512f4-037e-454a-bbd4-c216ed91453c",
   "metadata": {},
   "outputs": [
    {
     "data": {
      "text/plain": [
       "{'a': tensor([1, 3]), 'b': tensor([2, 4])}"
      ]
     },
     "execution_count": null,
     "metadata": {},
     "output_type": "execute_result"
    }
   ],
   "source": [
    "default_collate([\n",
    "    {\"a\": 1, \"b\": 2},\n",
    "    {\"a\": 3, \"b\": 4},\n",
    "])"
   ]
  },
  {
   "cell_type": "code",
   "execution_count": null,
   "id": "3321e97e-a367-4b71-b19b-e771df433513",
   "metadata": {},
   "outputs": [
    {
     "data": {
      "text/plain": [
       "operator.itemgetter('image', 'label')"
      ]
     },
     "execution_count": null,
     "metadata": {},
     "output_type": "execute_result"
    }
   ],
   "source": [
    "ig = itemgetter(*train.features)\n",
    "ig"
   ]
  },
  {
   "cell_type": "code",
   "execution_count": null,
   "id": "7a625b9b-83ba-49fa-bea5-b8c42f8d2547",
   "metadata": {},
   "outputs": [
    {
     "data": {
      "text/plain": [
       "{'image': tensor([[[[0., 0., 0.,  ..., 0., 0., 0.],\n",
       "           [0., 0., 0.,  ..., 0., 0., 0.],\n",
       "           [0., 0., 0.,  ..., 0., 0., 0.],\n",
       "           ...,\n",
       "           [0., 0., 0.,  ..., 0., 0., 0.],\n",
       "           [0., 0., 0.,  ..., 0., 0., 0.],\n",
       "           [0., 0., 0.,  ..., 0., 0., 0.]]],\n",
       " \n",
       " \n",
       "         [[[0., 0., 0.,  ..., 0., 0., 0.],\n",
       "           [0., 0., 0.,  ..., 0., 0., 0.],\n",
       "           [0., 0., 0.,  ..., 0., 0., 0.],\n",
       "           ...,\n",
       "           [0., 0., 0.,  ..., 0., 0., 0.],\n",
       "           [0., 0., 0.,  ..., 0., 0., 0.],\n",
       "           [0., 0., 0.,  ..., 0., 0., 0.]]]]),\n",
       " 'label': tensor([9, 0])}"
      ]
     },
     "execution_count": null,
     "metadata": {},
     "output_type": "execute_result"
    }
   ],
   "source": [
    "cb = default_collate([traint[0], traint[1]])\n",
    "cb"
   ]
  },
  {
   "cell_type": "code",
   "execution_count": null,
   "id": "2838d32d-29ba-4f14-a5ef-e8ebab70833e",
   "metadata": {},
   "outputs": [
    {
     "data": {
      "text/plain": [
       "(tensor([[[[0., 0., 0.,  ..., 0., 0., 0.],\n",
       "           [0., 0., 0.,  ..., 0., 0., 0.],\n",
       "           [0., 0., 0.,  ..., 0., 0., 0.],\n",
       "           ...,\n",
       "           [0., 0., 0.,  ..., 0., 0., 0.],\n",
       "           [0., 0., 0.,  ..., 0., 0., 0.],\n",
       "           [0., 0., 0.,  ..., 0., 0., 0.]]],\n",
       " \n",
       " \n",
       "         [[[0., 0., 0.,  ..., 0., 0., 0.],\n",
       "           [0., 0., 0.,  ..., 0., 0., 0.],\n",
       "           [0., 0., 0.,  ..., 0., 0., 0.],\n",
       "           ...,\n",
       "           [0., 0., 0.,  ..., 0., 0., 0.],\n",
       "           [0., 0., 0.,  ..., 0., 0., 0.],\n",
       "           [0., 0., 0.,  ..., 0., 0., 0.]]]]),\n",
       " tensor([9, 0]))"
      ]
     },
     "execution_count": null,
     "metadata": {},
     "output_type": "execute_result"
    }
   ],
   "source": [
    "ig(cb)"
   ]
  },
  {
   "cell_type": "code",
   "execution_count": null,
   "id": "2d90503f-7221-42d6-b0ac-2d4ada8597bd",
   "metadata": {},
   "outputs": [],
   "source": [
    "#| export\n",
    "def collate_dict(ds):\n",
    "    ig = itemgetter(*ds.features)\n",
    "    def _f(x):\n",
    "        return ig(default_collate(x))\n",
    "    return _f"
   ]
  },
  {
   "cell_type": "code",
   "execution_count": null,
   "id": "5adf1889-94aa-4156-86e9-cab975ca00d6",
   "metadata": {},
   "outputs": [
    {
     "data": {
      "text/plain": [
       "(torch.Size([8, 1, 28, 28]), torch.Size([8]))"
      ]
     },
     "execution_count": null,
     "metadata": {},
     "output_type": "execute_result"
    }
   ],
   "source": [
    "dld = DataLoader(traint, batch_size=8, collate_fn=collate_dict(traint))\n",
    "xb, yb = next(iter(dld))\n",
    "xb.shape, yb.shape"
   ]
  },
  {
   "cell_type": "markdown",
   "id": "6320ce56-101f-4836-9bcf-9d8f72ef3759",
   "metadata": {},
   "source": [
    "# Plotting images"
   ]
  },
  {
   "cell_type": "code",
   "execution_count": null,
   "id": "96f8ca8c-24e3-4807-95cc-fc614ffffec5",
   "metadata": {},
   "outputs": [
    {
     "data": {
      "image/png": "[encoded data removed]",
      "text/plain": [
       "<Figure size 640x480 with 1 Axes>"
      ]
     },
     "metadata": {},
     "output_type": "display_data"
    }
   ],
   "source": [
    "# img = next(iter(dl))[x][0]\n",
    "img = xb[0]\n",
    "plt.imshow(img[0])\n",
    "plt.show()"
   ]
  },
  {
   "cell_type": "code",
   "execution_count": null,
   "id": "a502943c-dd9e-4ae0-9d8e-548669af81db",
   "metadata": {},
   "outputs": [
    {
     "data": {
      "text/plain": [
       "\u001b[0;31mSignature:\u001b[0m \u001b[0mfc\u001b[0m\u001b[0;34m.\u001b[0m\u001b[0mdelegates\u001b[0m\u001b[0;34m(\u001b[0m\u001b[0mto\u001b[0m\u001b[0;34m:\u001b[0m \u001b[0mfunction\u001b[0m \u001b[0;34m=\u001b[0m \u001b[0;32mNone\u001b[0m\u001b[0;34m,\u001b[0m \u001b[0mkeep\u001b[0m\u001b[0;34m=\u001b[0m\u001b[0;32mFalse\u001b[0m\u001b[0;34m,\u001b[0m \u001b[0mbut\u001b[0m\u001b[0;34m:\u001b[0m \u001b[0mlist\u001b[0m \u001b[0;34m=\u001b[0m \u001b[0;32mNone\u001b[0m\u001b[0;34m)\u001b[0m\u001b[0;34m\u001b[0m\u001b[0;34m\u001b[0m\u001b[0m\n",
       "\u001b[0;31mDocstring:\u001b[0m Decorator: replace `**kwargs` in signature with params from `to`\n",
       "\u001b[0;31mFile:\u001b[0m      ~/miniforge3/envs/fastai/lib/python3.11/site-packages/fastcore/meta.py\n",
       "\u001b[0;31mType:\u001b[0m      function"
      ]
     },
     "metadata": {},
     "output_type": "display_data"
    }
   ],
   "source": [
    "fc.delegates?"
   ]
  },
  {
   "cell_type": "code",
   "execution_count": null,
   "id": "99cb86cd-9a0a-49cc-b133-f35b341ce208",
   "metadata": {},
   "outputs": [
    {
     "data": {
      "text/plain": [
       "\u001b[0;31mSignature:\u001b[0m \u001b[0misinstance\u001b[0m\u001b[0;34m(\u001b[0m\u001b[0mobj\u001b[0m\u001b[0;34m,\u001b[0m \u001b[0mclass_or_tuple\u001b[0m\u001b[0;34m,\u001b[0m \u001b[0;34m/\u001b[0m\u001b[0;34m)\u001b[0m\u001b[0;34m\u001b[0m\u001b[0;34m\u001b[0m\u001b[0m\n",
       "\u001b[0;31mDocstring:\u001b[0m\n",
       "Return whether an object is an instance of a class or of a subclass thereof.\n",
       "\n",
       "A tuple, as in ``isinstance(x, (A, B, ...))``, may be given as the target to\n",
       "check against. This is equivalent to ``isinstance(x, A) or isinstance(x, B)\n",
       "or ...`` etc.\n",
       "\u001b[0;31mType:\u001b[0m      builtin_function_or_method"
      ]
     },
     "metadata": {},
     "output_type": "display_data"
    }
   ],
   "source": [
    "isinstance?"
   ]
  },
  {
   "cell_type": "code",
   "execution_count": null,
   "id": "fb9a5ebe-a3ca-4d30-bd7a-53d47502752d",
   "metadata": {},
   "outputs": [],
   "source": [
    "#| export\n",
    "\n",
    "@fc.delegates(plt.Axes.imshow)\n",
    "def show_image(im, ax=None, figsize=None, title=None, **kwargs):\n",
    "    if isinstance(im, torch.Tensor):\n",
    "        im = im.detach().cpu()\n",
    "        if len(im.shape) == 3:\n",
    "            im = im.permute(1, 2, 0)\n",
    "    elif not isinstance(im, np.ndarray):\n",
    "        im = np.array(im)\n",
    "    if im.shape[-1] == 1:\n",
    "        im = im[..., 0]\n",
    "    if ax is None:\n",
    "        _, ax = plt.subplots(figsize=figsize)\n",
    "\n",
    "    ax.imshow(im, **kwargs)\n",
    "    if title is not None:\n",
    "        ax.set_title(title)\n",
    "    ax.axis(\"off\")\n",
    "\n",
    "    return ax"
   ]
  },
  {
   "cell_type": "code",
   "execution_count": null,
   "id": "2bb6317f-16f4-4356-8a59-ec5daf246a07",
   "metadata": {},
   "outputs": [
    {
     "name": "stdout",
     "output_type": "stream",
     "text": [
      "Help on function show_image in module __main__:\n",
      "\n",
      "show_image(im, ax=None, figsize=None, title=None, *, cmap=None, norm=None, aspect=None, interpolation=None, alpha=None, vmin=None, vmax=None, origin=None, extent=None, interpolation_stage=None, filternorm=True, filterrad=4.0, resample=None, url=None, data=None)\n",
      "\n"
     ]
    }
   ],
   "source": [
    "help(show_image)"
   ]
  },
  {
   "cell_type": "code",
   "execution_count": null,
   "id": "8406cc85-c07b-4d2e-b233-aa8d889a5cd0",
   "metadata": {},
   "outputs": [
    {
     "data": {
      "image/png": "[encoded data removed]",
      "text/plain": [
       "<Figure size 640x480 with 1 Axes>"
      ]
     },
     "metadata": {},
     "output_type": "display_data"
    }
   ],
   "source": [
    "_ = show_image(img)"
   ]
  },
  {
   "cell_type": "code",
   "execution_count": null,
   "id": "121a5c5e-6955-4e0d-b107-5c4885b222d6",
   "metadata": {},
   "outputs": [
    {
     "data": {
      "image/png": "[encoded data removed]",
      "text/plain": [
       "<Figure size 640x480 with 2 Axes>"
      ]
     },
     "metadata": {},
     "output_type": "display_data"
    }
   ],
   "source": [
    "_, ax = plt.subplots(1, 2)\n",
    "show_image(xb[1], ax[0])\n",
    "_ = show_image(xb[2], ax[1])"
   ]
  },
  {
   "cell_type": "code",
   "execution_count": null,
   "id": "5534e4c1-5e0e-4f4d-a86f-c1562025daf2",
   "metadata": {},
   "outputs": [
    {
     "data": {
      "text/plain": [
       "<function matplotlib.pyplot.subplots(nrows: 'int' = 1, ncols: 'int' = 1, *, sharex: \"bool | Literal['none', 'all', 'row', 'col']\" = False, sharey: \"bool | Literal['none', 'all', 'row', 'col']\" = False, squeeze: 'bool' = True, width_ratios: 'Sequence[float] | None' = None, height_ratios: 'Sequence[float] | None' = None, subplot_kw: 'dict[str, Any] | None' = None, gridspec_kw: 'dict[str, Any] | None' = None, **fig_kw) -> 'tuple[Figure, Any]'>"
      ]
     },
     "execution_count": null,
     "metadata": {},
     "output_type": "execute_result"
    }
   ],
   "source": [
    "plt.subplots"
   ]
  },
  {
   "cell_type": "code",
   "execution_count": null,
   "id": "c568038f-47ad-4ff0-8d21-7f75363fd0b1",
   "metadata": {},
   "outputs": [],
   "source": [
    "#| export\n",
    "@fc.delegates(plt.subplots)\n",
    "def subplots(\n",
    "    nrows: int = 1,  # Number of rows to create\n",
    "    ncols: int = 1,  # Number of cols to create\n",
    "    figsize: tuple = None,  # Size of the whole figure (width, height)\n",
    "    imsize: int = 3,  # Size of eaxh image,\n",
    "    suptitle: str = None,  # Title to use for the figure\n",
    "    **kwargs\n",
    "):  # fig and axs\n",
    "    \"\"\"A figure and subplots to display `nrows`x`ncols` images of size `imsize`.\"\"\"\n",
    "    if figsize is None:\n",
    "        figsize = (ncols * imsize, nrows * imsize)\n",
    "    fig, ax = plt.subplots(nrows, ncols, figsize=figsize, **kwargs)\n",
    "    if suptitle is not None:\n",
    "        fig.suptitle(suptitle)\n",
    "    if nrows == ncols == 1:\n",
    "        ax = np.array([ax])\n",
    "    return fig, ax"
   ]
  },
  {
   "cell_type": "code",
   "execution_count": null,
   "id": "ad2a030c-e85f-43e7-8f87-42e8933a5279",
   "metadata": {},
   "outputs": [
    {
     "data": {
      "image/png": "[encoded data removed]",
      "text/plain": [
       "<Figure size 300x300 with 1 Axes>"
      ]
     },
     "metadata": {},
     "output_type": "display_data"
    }
   ],
   "source": [
    "fig, ax = subplots()\n",
    "_ = show_image(xb[3], ax[0])"
   ]
  },
  {
   "cell_type": "code",
   "execution_count": null,
   "id": "41f01add-6533-4daa-8291-982b6364c04a",
   "metadata": {},
   "outputs": [
    {
     "data": {
      "image/png": "[encoded data removed]",
      "text/plain": [
       "<Figure size 300x300 with 9 Axes>"
      ]
     },
     "metadata": {},
     "output_type": "display_data"
    }
   ],
   "source": [
    "fig, ax = subplots(3, 3, imsize=1)\n",
    "for i, a in zip(xb[:8], ax.flat):\n",
    "    show_image(i, a)"
   ]
  },
  {
   "cell_type": "code",
   "execution_count": null,
   "id": "abde6c56-3ad5-4e50-882a-d605e6f7126c",
   "metadata": {},
   "outputs": [],
   "source": [
    "#| export\n",
    "@fc.delegates(subplots)\n",
    "def get_grid(\n",
    "    n: int,  # Number of axes\n",
    "    nrows: int = None,  # Number of rows\n",
    "    ncols: int = None,  # Number of cols\n",
    "    title: str = None,  # Title of the figure\n",
    "    weight: str = \"bold\",  # Title font weight\n",
    "    size: int = 16,  # Title font size\n",
    "    **kwargs\n",
    "):  # fig and axs\n",
    "    \"\"\"Return a grid of at least `n` axes, `nrows`x`ncols`.\"\"\"\n",
    "    if nrows is None and ncols is None:\n",
    "        nrows = int(math.sqrt(n))\n",
    "    if nrows is None:\n",
    "        nrows = math.ceil(n / ncols)\n",
    "    if ncols is None:\n",
    "        ncols = math.ceil(n / nrows)\n",
    "\n",
    "    fig, ax = subplots(nrows, ncols, **kwargs)\n",
    "    n = nrows * ncols\n",
    "    for i in range(n):\n",
    "        ax.flat[i].set_axis_off()\n",
    "    if title is not None:\n",
    "        fig.title(title, weight=weight, size=size)\n",
    "    return fig, ax"
   ]
  },
  {
   "cell_type": "code",
   "execution_count": null,
   "id": "6c8b9052-d689-407a-b536-1caf55f27281",
   "metadata": {},
   "outputs": [
    {
     "data": {
      "image/png": "[encoded data removed]",
      "text/plain": [
       "<Figure size 300x300 with 9 Axes>"
      ]
     },
     "metadata": {},
     "output_type": "display_data"
    }
   ],
   "source": [
    "fig, ax = get_grid(9, 3, imsize=1)\n",
    "for i, a in zip(xb[:8], ax.flat):\n",
    "    show_image(i, a)"
   ]
  },
  {
   "cell_type": "code",
   "execution_count": null,
   "id": "6183ee6e-b9ec-4094-bf1e-9ac360797fc6",
   "metadata": {},
   "outputs": [],
   "source": [
    "#| export\n",
    "@fc.delegates(subplots)\n",
    "def show_images(\n",
    "    ims: list,  # Images to display\n",
    "    nrows: int = None,  # Number of rows to show\n",
    "    ncols: int = None,  # Number of cols to show\n",
    "    titles: list = None,  # Titles for each image\n",
    "    **kwargs\n",
    "):\n",
    "    \"\"\"Display `ims` in a grid `nrows`x`ncols` with `titles`.\"\"\"\n",
    "    _, ax = get_grid(len(ims), nrows, ncols, **kwargs)\n",
    "    for img, title, a in zip_longest(ims, titles or [], ax.flat):\n",
    "        show_image(img, ax=a, title=title)"
   ]
  },
  {
   "cell_type": "code",
   "execution_count": null,
   "id": "03aa16e6-21de-4649-b957-dbc45539ab64",
   "metadata": {},
   "outputs": [
    {
     "data": {
      "image/png": "[encoded data removed]",
      "text/plain": [
       "<Figure size 600x300 with 8 Axes>"
      ]
     },
     "metadata": {},
     "output_type": "display_data"
    }
   ],
   "source": [
    "show_images(xb, imsize=1.5, titles=list(map(lambda x: x.split()[-1].title(), feature_y.int2str(yb))))"
   ]
  },
  {
   "cell_type": "markdown",
   "id": "2eaf9d0d-19f0-4443-8f79-9a9929d84da3",
   "metadata": {},
   "source": [
    "# Export"
   ]
  },
  {
   "cell_type": "code",
   "execution_count": null,
   "id": "27fba63d-396c-44e7-8bdd-55ff8f1d7003",
   "metadata": {},
   "outputs": [],
   "source": [
    "import nbdev; nbdev.nbdev_export()"
   ]
  },
  {
   "cell_type": "code",
   "execution_count": null,
   "id": "b3d6b22b-0f2b-494f-b033-223f63480dfb",
   "metadata": {},
   "outputs": [],
   "source": []
  }
 ],
 "metadata": {
  "kernelspec": {
   "display_name": "python3",
   "language": "python",
   "name": "python3"
  }
 },
 "nbformat": 4,
 "nbformat_minor": 5
}
