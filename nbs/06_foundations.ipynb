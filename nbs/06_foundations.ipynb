{
 "cells": [
  {
   "cell_type": "code",
   "execution_count": null,
   "id": "31f5c8ff-0a97-4542-a414-3807b4304eac",
   "metadata": {},
   "outputs": [],
   "source": [
    "import torch\n",
    "import matplotlib.pyplot as plt\n",
    "import random"
   ]
  },
  {
   "cell_type": "markdown",
   "id": "b7cab7da-8326-45aa-8b27-627e4bede16a",
   "metadata": {},
   "source": [
    "# Callbacks"
   ]
  },
  {
   "cell_type": "markdown",
   "id": "3d402837-8af8-4bf9-aa7f-3fffae4eecc0",
   "metadata": {},
   "source": [
    "## Callbacks and GUI events"
   ]
  },
  {
   "cell_type": "code",
   "execution_count": null,
   "id": "f218d191-c427-4808-a8ba-e619edee863f",
   "metadata": {},
   "outputs": [],
   "source": [
    "from ipywidgets.widgets import Button"
   ]
  },
  {
   "cell_type": "code",
   "execution_count": null,
   "id": "b98afc5e-cd3a-4c2d-83a7-afe89691c863",
   "metadata": {},
   "outputs": [
    {
     "data": {
      "application/vnd.jupyter.widget-view+json": {
       "model_id": "74abec45a8a545cf996bfa38e0da1fac",
       "version_major": 2,
       "version_minor": 0
      },
      "text/plain": [
       "Button(description='Button', style=ButtonStyle())"
      ]
     },
     "execution_count": null,
     "metadata": {},
     "output_type": "execute_result"
    }
   ],
   "source": [
    "b = Button(description=\"Button\")\n",
    "b"
   ]
  },
  {
   "cell_type": "code",
   "execution_count": null,
   "id": "35b97331-8c89-4744-bc13-081d435bed0e",
   "metadata": {},
   "outputs": [],
   "source": [
    "def bon_click(b):\n",
    "    print(\"hi\")\n",
    "b.on_click(bon_click)"
   ]
  },
  {
   "cell_type": "markdown",
   "id": "86c51385-f811-4292-8783-d996acd606ef",
   "metadata": {},
   "source": [
    "## Creating your own callback"
   ]
  },
  {
   "cell_type": "code",
   "execution_count": null,
   "id": "a0f37701-2680-47fa-97e3-ac5e489478cc",
   "metadata": {},
   "outputs": [],
   "source": [
    "from time import sleep"
   ]
  },
  {
   "cell_type": "code",
   "execution_count": null,
   "id": "3e9eea7e-ae96-40c7-8720-ed9d2e2fed5a",
   "metadata": {},
   "outputs": [],
   "source": [
    "def slow_calculation():\n",
    "    res = 0\n",
    "    for i in range(5):\n",
    "        res += i \n",
    "        sleep(0.3)\n",
    "    return res"
   ]
  },
  {
   "cell_type": "code",
   "execution_count": null,
   "id": "7172e48d-b601-475d-8d76-ad372423c131",
   "metadata": {},
   "outputs": [
    {
     "data": {
      "text/plain": [
       "10"
      ]
     },
     "execution_count": null,
     "metadata": {},
     "output_type": "execute_result"
    }
   ],
   "source": [
    "slow_calculation()"
   ]
  },
  {
   "cell_type": "code",
   "execution_count": null,
   "id": "33b942ac-06e0-4f32-a0f8-dcff33dc81f2",
   "metadata": {},
   "outputs": [],
   "source": [
    "def slow_calculation(cb=None):\n",
    "    res = 0\n",
    "    for i in range(5):\n",
    "        res += i \n",
    "        sleep(0.3)\n",
    "        if cb: cb(i)\n",
    "    return res"
   ]
  },
  {
   "cell_type": "code",
   "execution_count": null,
   "id": "a6677dd9-8e20-4373-bf03-cca164f1ef7c",
   "metadata": {},
   "outputs": [],
   "source": [
    "def show_progress(epoch):\n",
    "    print(f\"Epoch {epoch} is complete...\")"
   ]
  },
  {
   "cell_type": "code",
   "execution_count": null,
   "id": "1586f03f-984d-43d3-99c5-7ef3ce73b4b9",
   "metadata": {},
   "outputs": [
    {
     "name": "stdout",
     "output_type": "stream",
     "text": [
      "Epoch 0 is complete...\n",
      "Epoch 1 is complete...\n",
      "Epoch 2 is complete...\n",
      "Epoch 3 is complete...\n",
      "Epoch 4 is complete...\n"
     ]
    },
    {
     "data": {
      "text/plain": [
       "10"
      ]
     },
     "execution_count": null,
     "metadata": {},
     "output_type": "execute_result"
    }
   ],
   "source": [
    "slow_calculation(show_progress)"
   ]
  },
  {
   "cell_type": "markdown",
   "id": "438093ea-d041-4ba0-adf6-bcc0e5d92d20",
   "metadata": {},
   "source": [
    "## Lambdas and partials"
   ]
  },
  {
   "cell_type": "code",
   "execution_count": null,
   "id": "92377d82-ba30-4a45-92a3-4cb5fe967c4b",
   "metadata": {},
   "outputs": [],
   "source": [
    "def show_progress(exclamation, epoch):\n",
    "    print(f\"{exclamation}! Epoch {epoch} is complete...\")"
   ]
  },
  {
   "cell_type": "code",
   "execution_count": null,
   "id": "0b3c407c-ac6a-4d15-adee-dde46773626e",
   "metadata": {},
   "outputs": [],
   "source": [
    "from functools import partial"
   ]
  },
  {
   "cell_type": "code",
   "execution_count": null,
   "id": "38347a0c-af72-40ec-8888-77e62f85409a",
   "metadata": {},
   "outputs": [
    {
     "name": "stdout",
     "output_type": "stream",
     "text": [
      "Wowie! Epoch 0 is complete...\n",
      "Wowie! Epoch 1 is complete...\n",
      "Wowie! Epoch 2 is complete...\n",
      "Wowie! Epoch 3 is complete...\n",
      "Wowie! Epoch 4 is complete...\n",
      "Hmmmmm! Epoch 0 is complete...\n",
      "Hmmmmm! Epoch 1 is complete...\n",
      "Hmmmmm! Epoch 2 is complete...\n",
      "Hmmmmm! Epoch 3 is complete...\n",
      "Hmmmmm! Epoch 4 is complete...\n"
     ]
    },
    {
     "data": {
      "text/plain": [
       "10"
      ]
     },
     "execution_count": null,
     "metadata": {},
     "output_type": "execute_result"
    }
   ],
   "source": [
    "slow_calculation(partial(show_progress, \"Wowie\"))\n",
    "slow_calculation(lambda x: show_progress(\"Hmmmmm\", x))"
   ]
  },
  {
   "cell_type": "code",
   "execution_count": null,
   "id": "83de2e18-ba05-4021-ad25-1d16eef3845f",
   "metadata": {},
   "outputs": [],
   "source": [
    "def make_show_progress(exclamation):\n",
    "    return partial(show_progress, exclamation)"
   ]
  },
  {
   "cell_type": "code",
   "execution_count": null,
   "id": "a77ccf84-2278-4ad6-95c8-e3004d88eb22",
   "metadata": {},
   "outputs": [
    {
     "name": "stdout",
     "output_type": "stream",
     "text": [
      "Interesting! Epoch 1 is complete...\n"
     ]
    }
   ],
   "source": [
    "make_show_progress(\"Interesting\")(1)"
   ]
  },
  {
   "cell_type": "markdown",
   "id": "45e8e5a8-95c4-43a8-b7f3-6267365b72cd",
   "metadata": {},
   "source": [
    "## Callbacks and callable classes"
   ]
  },
  {
   "cell_type": "code",
   "execution_count": null,
   "id": "09f96fdc-01dc-4550-a46b-d92482bcc7bf",
   "metadata": {},
   "outputs": [],
   "source": [
    "class ProgressShowingCallback:\n",
    "    def __init__(self, exclamation): self.exclamation = exclamation\n",
    "    def __call__(self, epoch): print(f\"{self.exclamation}! Epoch {epoch} is complete...\")"
   ]
  },
  {
   "cell_type": "code",
   "execution_count": null,
   "id": "23f14310-ea44-412c-b7a5-07e7a9e7fb4f",
   "metadata": {},
   "outputs": [
    {
     "name": "stdout",
     "output_type": "stream",
     "text": [
      "Wait! Epoch 0 is complete...\n",
      "Wait! Epoch 1 is complete...\n",
      "Wait! Epoch 2 is complete...\n",
      "Wait! Epoch 3 is complete...\n",
      "Wait! Epoch 4 is complete...\n"
     ]
    },
    {
     "data": {
      "text/plain": [
       "10"
      ]
     },
     "execution_count": null,
     "metadata": {},
     "output_type": "execute_result"
    }
   ],
   "source": [
    "slow_calculation(ProgressShowingCallback(\"Wait\"))"
   ]
  },
  {
   "cell_type": "markdown",
   "id": "ea7630eb-c64f-4eb2-91b7-3dd6186f42fe",
   "metadata": {},
   "source": [
    "## Multiple callback funcs; `*args`, and `**kwargs`"
   ]
  },
  {
   "cell_type": "code",
   "execution_count": null,
   "id": "5e8e42f8-52db-4ff4-9a5a-5cea9c6857ee",
   "metadata": {},
   "outputs": [],
   "source": [
    "def slow_calculation(cb=None):\n",
    "    res = 0\n",
    "    for i in range(3):\n",
    "        if cb: cb.before_calc(i)\n",
    "        res += (9 - i**2) \n",
    "        sleep(0.3)\n",
    "        if cb: cb.after_calc(i, res)\n",
    "    return res"
   ]
  },
  {
   "cell_type": "code",
   "execution_count": null,
   "id": "a2c16df7-e651-47b4-9b64-e1d7466f8d08",
   "metadata": {},
   "outputs": [],
   "source": [
    "class PrintStepCallback:\n",
    "    def before_calc(self, epoch):\n",
    "        print(f\"Starting epoch {epoch}...\")\n",
    "\n",
    "    def after_calc(self, epoch, res):\n",
    "        print(f\"Got {res} after epoch {epoch}.\")"
   ]
  },
  {
   "cell_type": "code",
   "execution_count": null,
   "id": "4cdb81a8-c368-4c81-9c34-eb73df2c3efc",
   "metadata": {},
   "outputs": [
    {
     "name": "stdout",
     "output_type": "stream",
     "text": [
      "Starting epoch 0...\n",
      "Got 9 after epoch 0.\n",
      "Starting epoch 1...\n",
      "Got 17 after epoch 1.\n",
      "Starting epoch 2...\n",
      "Got 22 after epoch 2.\n"
     ]
    },
    {
     "data": {
      "text/plain": [
       "22"
      ]
     },
     "execution_count": null,
     "metadata": {},
     "output_type": "execute_result"
    }
   ],
   "source": [
    "slow_calculation(PrintStepCallback())"
   ]
  },
  {
   "cell_type": "code",
   "execution_count": null,
   "id": "96f5098e-c5fc-4148-9a2a-d9938061f9b3",
   "metadata": {},
   "outputs": [],
   "source": [
    "class PrintStepCallback:\n",
    "    def before_calc(self, epoch, **kwargs):\n",
    "        print(f\"Starting epoch {epoch}...\")\n",
    "\n",
    "    def after_calc(self, epoch, res, **kwargs):\n",
    "        print(f\"Got {res} after epoch {epoch}.\")"
   ]
  },
  {
   "cell_type": "code",
   "execution_count": null,
   "id": "43c1ee30-2f6d-4281-b14a-aad208318e73",
   "metadata": {},
   "outputs": [
    {
     "name": "stdout",
     "output_type": "stream",
     "text": [
      "Starting epoch 0...\n",
      "Got 9 after epoch 0.\n",
      "Starting epoch 1...\n",
      "Got 17 after epoch 1.\n",
      "Starting epoch 2...\n",
      "Got 22 after epoch 2.\n"
     ]
    },
    {
     "data": {
      "text/plain": [
       "22"
      ]
     },
     "execution_count": null,
     "metadata": {},
     "output_type": "execute_result"
    }
   ],
   "source": [
    "slow_calculation(PrintStepCallback())"
   ]
  },
  {
   "cell_type": "markdown",
   "id": "dae79aba-f74a-4e1a-8755-c0890c270eec",
   "metadata": {},
   "source": [
    "### Modifying behaviour\n",
    "\n",
    "skipped"
   ]
  },
  {
   "cell_type": "markdown",
   "id": "f31145ec-9e2f-4195-8aff-08421a3e84a4",
   "metadata": {},
   "source": [
    "## `__dunder__` things"
   ]
  },
  {
   "cell_type": "code",
   "execution_count": null,
   "id": "7aa2783f-e102-4b36-afe6-54f1cb2db317",
   "metadata": {},
   "outputs": [],
   "source": [
    "class SloppyAdder:\n",
    "    def __init__(self, val):\n",
    "        self.val = val\n",
    "\n",
    "    def __repr__(self):\n",
    "        return str(self.val)\n",
    "\n",
    "    def __add__(self, other):\n",
    "        return self.val + other.val + 0.01"
   ]
  },
  {
   "cell_type": "code",
   "execution_count": null,
   "id": "0858be53-d933-4efa-92fc-e0fcd627a720",
   "metadata": {},
   "outputs": [
    {
     "data": {
      "text/plain": [
       "3.01"
      ]
     },
     "execution_count": null,
     "metadata": {},
     "output_type": "execute_result"
    }
   ],
   "source": [
    "a = SloppyAdder(1)\n",
    "b = SloppyAdder(2)\n",
    "a + b"
   ]
  },
  {
   "cell_type": "markdown",
   "id": "9c79a41a-a612-4d42-97b3-13a6b477b6d5",
   "metadata": {},
   "source": [
    "### `__getattr__` and `getattr`"
   ]
  },
  {
   "cell_type": "code",
   "execution_count": null,
   "id": "4dd5bc96-123a-44ed-92ac-86d7539f10b8",
   "metadata": {},
   "outputs": [],
   "source": [
    "class A:\n",
    "    p1 = 1\n",
    "    p2 = 2"
   ]
  },
  {
   "cell_type": "code",
   "execution_count": null,
   "id": "08c86b24-3527-458f-9a1b-962d4ad187e0",
   "metadata": {},
   "outputs": [
    {
     "data": {
      "text/plain": [
       "(1, 2)"
      ]
     },
     "execution_count": null,
     "metadata": {},
     "output_type": "execute_result"
    }
   ],
   "source": [
    "a = A()\n",
    "getattr(a, \"p1\"), getattr(a, \"p2\")"
   ]
  },
  {
   "cell_type": "code",
   "execution_count": null,
   "id": "90bae3fb-a185-4361-84c3-9a34e58359a0",
   "metadata": {},
   "outputs": [],
   "source": [
    "class B(A):\n",
    "    def __getattr__(self, k):\n",
    "        return \"but there was nothing\""
   ]
  },
  {
   "cell_type": "code",
   "execution_count": null,
   "id": "7d65a826-9053-4ad4-8d67-a90291858508",
   "metadata": {},
   "outputs": [
    {
     "data": {
      "text/plain": [
       "(1, 'but there was nothing')"
      ]
     },
     "execution_count": null,
     "metadata": {},
     "output_type": "execute_result"
    }
   ],
   "source": [
    "b = B()\n",
    "getattr(b, \"p1\"), getattr(b, \"p3\")"
   ]
  },
  {
   "cell_type": "code",
   "execution_count": null,
   "id": "f8b5027d-a78a-486b-a1cc-213da2f47357",
   "metadata": {},
   "outputs": [
    {
     "data": {
      "text/plain": [
       "'but there was nothing'"
      ]
     },
     "execution_count": null,
     "metadata": {},
     "output_type": "execute_result"
    }
   ],
   "source": [
    "b.a"
   ]
  },
  {
   "cell_type": "code",
   "execution_count": null,
   "id": "0a813450-aebe-4ba7-819a-f51e2d9769be",
   "metadata": {},
   "outputs": [],
   "source": []
  }
 ],
 "metadata": {
  "kernelspec": {
   "display_name": "python3",
   "language": "python",
   "name": "python3"
  }
 },
 "nbformat": 4,
 "nbformat_minor": 5
}
